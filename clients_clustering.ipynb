{
 "cells": [
  {
   "cell_type": "code",
   "execution_count": 1,
   "metadata": {},
   "outputs": [],
   "source": [
    "# Exploratory Data Analysis (EDA)\n",
    "import pandas as pd\n",
    "import plotly.express as px\n",
    "\n",
    "# Machine Learning\n",
    "from sklearn.cluster import KMeans\n",
    "from sklearn.metrics import silhouette_score, pairwise_distances\n",
    "from sklearn.preprocessing import StandardScaler, OneHotEncoder, OrdinalEncoder\n",
    "from sklearn.compose import ColumnTransformer\n",
    "\n",
    "# Hyperparameter Tuning\n",
    "import optuna\n",
    "\n",
    "# Set Pandas and Plotly display options\n",
    "pd.set_option(\"display.float_format\", lambda x: \"%.2f\" % x)\n",
    "# px.defaults.template = \"plotly_dark\""
   ]
  },
  {
   "cell_type": "code",
   "execution_count": 2,
   "metadata": {},
   "outputs": [
    {
     "data": {
      "text/html": [
       "<div>\n",
       "<style scoped>\n",
       "    .dataframe tbody tr th:only-of-type {\n",
       "        vertical-align: middle;\n",
       "    }\n",
       "\n",
       "    .dataframe tbody tr th {\n",
       "        vertical-align: top;\n",
       "    }\n",
       "\n",
       "    .dataframe thead th {\n",
       "        text-align: right;\n",
       "    }\n",
       "</style>\n",
       "<table border=\"1\" class=\"dataframe\">\n",
       "  <thead>\n",
       "    <tr style=\"text-align: right;\">\n",
       "      <th></th>\n",
       "      <th>atividade_economica</th>\n",
       "      <th>faturamento_mensal</th>\n",
       "      <th>numero_de_funcionarios</th>\n",
       "      <th>localizacao</th>\n",
       "      <th>idade</th>\n",
       "      <th>inovacao</th>\n",
       "    </tr>\n",
       "  </thead>\n",
       "  <tbody>\n",
       "    <tr>\n",
       "      <th>0</th>\n",
       "      <td>Comércio</td>\n",
       "      <td>713109.95</td>\n",
       "      <td>12</td>\n",
       "      <td>Rio de Janeiro</td>\n",
       "      <td>6</td>\n",
       "      <td>1</td>\n",
       "    </tr>\n",
       "    <tr>\n",
       "      <th>1</th>\n",
       "      <td>Comércio</td>\n",
       "      <td>790714.38</td>\n",
       "      <td>9</td>\n",
       "      <td>São Paulo</td>\n",
       "      <td>15</td>\n",
       "      <td>0</td>\n",
       "    </tr>\n",
       "    <tr>\n",
       "      <th>2</th>\n",
       "      <td>Comércio</td>\n",
       "      <td>1197239.33</td>\n",
       "      <td>17</td>\n",
       "      <td>São Paulo</td>\n",
       "      <td>4</td>\n",
       "      <td>9</td>\n",
       "    </tr>\n",
       "    <tr>\n",
       "      <th>3</th>\n",
       "      <td>Indústria</td>\n",
       "      <td>449185.78</td>\n",
       "      <td>15</td>\n",
       "      <td>São Paulo</td>\n",
       "      <td>6</td>\n",
       "      <td>0</td>\n",
       "    </tr>\n",
       "    <tr>\n",
       "      <th>4</th>\n",
       "      <td>Agronegócio</td>\n",
       "      <td>1006373.16</td>\n",
       "      <td>15</td>\n",
       "      <td>São Paulo</td>\n",
       "      <td>15</td>\n",
       "      <td>8</td>\n",
       "    </tr>\n",
       "    <tr>\n",
       "      <th>5</th>\n",
       "      <td>Serviços</td>\n",
       "      <td>1629562.41</td>\n",
       "      <td>16</td>\n",
       "      <td>Rio de Janeiro</td>\n",
       "      <td>11</td>\n",
       "      <td>4</td>\n",
       "    </tr>\n",
       "    <tr>\n",
       "      <th>6</th>\n",
       "      <td>Serviços</td>\n",
       "      <td>771179.95</td>\n",
       "      <td>13</td>\n",
       "      <td>Vitória</td>\n",
       "      <td>0</td>\n",
       "      <td>1</td>\n",
       "    </tr>\n",
       "    <tr>\n",
       "      <th>7</th>\n",
       "      <td>Serviços</td>\n",
       "      <td>707837.61</td>\n",
       "      <td>16</td>\n",
       "      <td>São Paulo</td>\n",
       "      <td>10</td>\n",
       "      <td>6</td>\n",
       "    </tr>\n",
       "    <tr>\n",
       "      <th>8</th>\n",
       "      <td>Comércio</td>\n",
       "      <td>888983.66</td>\n",
       "      <td>17</td>\n",
       "      <td>Belo Horizonte</td>\n",
       "      <td>10</td>\n",
       "      <td>1</td>\n",
       "    </tr>\n",
       "    <tr>\n",
       "      <th>9</th>\n",
       "      <td>Indústria</td>\n",
       "      <td>1098512.64</td>\n",
       "      <td>13</td>\n",
       "      <td>Rio de Janeiro</td>\n",
       "      <td>9</td>\n",
       "      <td>3</td>\n",
       "    </tr>\n",
       "  </tbody>\n",
       "</table>\n",
       "</div>"
      ],
      "text/plain": [
       "  atividade_economica  faturamento_mensal  numero_de_funcionarios  \\\n",
       "0            Comércio           713109.95                      12   \n",
       "1            Comércio           790714.38                       9   \n",
       "2            Comércio          1197239.33                      17   \n",
       "3           Indústria           449185.78                      15   \n",
       "4         Agronegócio          1006373.16                      15   \n",
       "5            Serviços          1629562.41                      16   \n",
       "6            Serviços           771179.95                      13   \n",
       "7            Serviços           707837.61                      16   \n",
       "8            Comércio           888983.66                      17   \n",
       "9           Indústria          1098512.64                      13   \n",
       "\n",
       "      localizacao  idade  inovacao  \n",
       "0  Rio de Janeiro      6         1  \n",
       "1       São Paulo     15         0  \n",
       "2       São Paulo      4         9  \n",
       "3       São Paulo      6         0  \n",
       "4       São Paulo     15         8  \n",
       "5  Rio de Janeiro     11         4  \n",
       "6         Vitória      0         1  \n",
       "7       São Paulo     10         6  \n",
       "8  Belo Horizonte     10         1  \n",
       "9  Rio de Janeiro      9         3  "
      ]
     },
     "execution_count": 2,
     "metadata": {},
     "output_type": "execute_result"
    }
   ],
   "source": [
    "df = pd.read_csv(\"./data/clients.csv\")\n",
    "df.head(10)"
   ]
  },
  {
   "cell_type": "markdown",
   "metadata": {},
   "source": [
    "## Exploratory Data Analysis\n"
   ]
  },
  {
   "cell_type": "code",
   "execution_count": 3,
   "metadata": {},
   "outputs": [
    {
     "name": "stdout",
     "output_type": "stream",
     "text": [
      "<class 'pandas.core.frame.DataFrame'>\n",
      "RangeIndex: 500 entries, 0 to 499\n",
      "Data columns (total 6 columns):\n",
      " #   Column                  Non-Null Count  Dtype  \n",
      "---  ------                  --------------  -----  \n",
      " 0   atividade_economica     500 non-null    object \n",
      " 1   faturamento_mensal      500 non-null    float64\n",
      " 2   numero_de_funcionarios  500 non-null    int64  \n",
      " 3   localizacao             500 non-null    object \n",
      " 4   idade                   500 non-null    int64  \n",
      " 5   inovacao                500 non-null    int64  \n",
      "dtypes: float64(1), int64(3), object(2)\n",
      "memory usage: 23.6+ KB\n"
     ]
    }
   ],
   "source": [
    "df.info()"
   ]
  },
  {
   "cell_type": "code",
   "execution_count": 4,
   "metadata": {},
   "outputs": [
    {
     "data": {
      "application/vnd.plotly.v1+json": {
       "config": {
        "plotlyServerURL": "https://plot.ly"
       },
       "data": [
        {
         "alignmentgroup": "True",
         "hovertemplate": "Inovação=%{x}<br>Percentual (%)=%{y}<br>color=%{marker.color}<extra></extra>",
         "legendgroup": "",
         "marker": {
          "color": [
           1,
           2,
           6,
           7,
           0,
           3,
           9,
           8,
           4,
           5
          ],
          "coloraxis": "coloraxis",
          "pattern": {
           "shape": ""
          }
         },
         "name": "",
         "offsetgroup": "",
         "orientation": "v",
         "showlegend": false,
         "textposition": "auto",
         "type": "bar",
         "x": [
          1,
          2,
          6,
          7,
          0,
          3,
          9,
          8,
          4,
          5
         ],
         "xaxis": "x",
         "y": [
          11.4,
          11.200000000000001,
          10.8,
          10.6,
          10.4,
          9.6,
          9.4,
          9.4,
          8.6,
          8.6
         ],
         "yaxis": "y"
        }
       ],
       "layout": {
        "barmode": "relative",
        "coloraxis": {
         "colorbar": {
          "title": {
           "text": "color"
          }
         },
         "colorscale": [
          [
           0,
           "#0d0887"
          ],
          [
           0.1111111111111111,
           "#46039f"
          ],
          [
           0.2222222222222222,
           "#7201a8"
          ],
          [
           0.3333333333333333,
           "#9c179e"
          ],
          [
           0.4444444444444444,
           "#bd3786"
          ],
          [
           0.5555555555555556,
           "#d8576b"
          ],
          [
           0.6666666666666666,
           "#ed7953"
          ],
          [
           0.7777777777777778,
           "#fb9f3a"
          ],
          [
           0.8888888888888888,
           "#fdca26"
          ],
          [
           1,
           "#f0f921"
          ]
         ]
        },
        "legend": {
         "tracegroupgap": 0
        },
        "template": {
         "data": {
          "bar": [
           {
            "error_x": {
             "color": "#2a3f5f"
            },
            "error_y": {
             "color": "#2a3f5f"
            },
            "marker": {
             "line": {
              "color": "#E5ECF6",
              "width": 0.5
             },
             "pattern": {
              "fillmode": "overlay",
              "size": 10,
              "solidity": 0.2
             }
            },
            "type": "bar"
           }
          ],
          "barpolar": [
           {
            "marker": {
             "line": {
              "color": "#E5ECF6",
              "width": 0.5
             },
             "pattern": {
              "fillmode": "overlay",
              "size": 10,
              "solidity": 0.2
             }
            },
            "type": "barpolar"
           }
          ],
          "carpet": [
           {
            "aaxis": {
             "endlinecolor": "#2a3f5f",
             "gridcolor": "white",
             "linecolor": "white",
             "minorgridcolor": "white",
             "startlinecolor": "#2a3f5f"
            },
            "baxis": {
             "endlinecolor": "#2a3f5f",
             "gridcolor": "white",
             "linecolor": "white",
             "minorgridcolor": "white",
             "startlinecolor": "#2a3f5f"
            },
            "type": "carpet"
           }
          ],
          "choropleth": [
           {
            "colorbar": {
             "outlinewidth": 0,
             "ticks": ""
            },
            "type": "choropleth"
           }
          ],
          "contour": [
           {
            "colorbar": {
             "outlinewidth": 0,
             "ticks": ""
            },
            "colorscale": [
             [
              0,
              "#0d0887"
             ],
             [
              0.1111111111111111,
              "#46039f"
             ],
             [
              0.2222222222222222,
              "#7201a8"
             ],
             [
              0.3333333333333333,
              "#9c179e"
             ],
             [
              0.4444444444444444,
              "#bd3786"
             ],
             [
              0.5555555555555556,
              "#d8576b"
             ],
             [
              0.6666666666666666,
              "#ed7953"
             ],
             [
              0.7777777777777778,
              "#fb9f3a"
             ],
             [
              0.8888888888888888,
              "#fdca26"
             ],
             [
              1,
              "#f0f921"
             ]
            ],
            "type": "contour"
           }
          ],
          "contourcarpet": [
           {
            "colorbar": {
             "outlinewidth": 0,
             "ticks": ""
            },
            "type": "contourcarpet"
           }
          ],
          "heatmap": [
           {
            "colorbar": {
             "outlinewidth": 0,
             "ticks": ""
            },
            "colorscale": [
             [
              0,
              "#0d0887"
             ],
             [
              0.1111111111111111,
              "#46039f"
             ],
             [
              0.2222222222222222,
              "#7201a8"
             ],
             [
              0.3333333333333333,
              "#9c179e"
             ],
             [
              0.4444444444444444,
              "#bd3786"
             ],
             [
              0.5555555555555556,
              "#d8576b"
             ],
             [
              0.6666666666666666,
              "#ed7953"
             ],
             [
              0.7777777777777778,
              "#fb9f3a"
             ],
             [
              0.8888888888888888,
              "#fdca26"
             ],
             [
              1,
              "#f0f921"
             ]
            ],
            "type": "heatmap"
           }
          ],
          "heatmapgl": [
           {
            "colorbar": {
             "outlinewidth": 0,
             "ticks": ""
            },
            "colorscale": [
             [
              0,
              "#0d0887"
             ],
             [
              0.1111111111111111,
              "#46039f"
             ],
             [
              0.2222222222222222,
              "#7201a8"
             ],
             [
              0.3333333333333333,
              "#9c179e"
             ],
             [
              0.4444444444444444,
              "#bd3786"
             ],
             [
              0.5555555555555556,
              "#d8576b"
             ],
             [
              0.6666666666666666,
              "#ed7953"
             ],
             [
              0.7777777777777778,
              "#fb9f3a"
             ],
             [
              0.8888888888888888,
              "#fdca26"
             ],
             [
              1,
              "#f0f921"
             ]
            ],
            "type": "heatmapgl"
           }
          ],
          "histogram": [
           {
            "marker": {
             "pattern": {
              "fillmode": "overlay",
              "size": 10,
              "solidity": 0.2
             }
            },
            "type": "histogram"
           }
          ],
          "histogram2d": [
           {
            "colorbar": {
             "outlinewidth": 0,
             "ticks": ""
            },
            "colorscale": [
             [
              0,
              "#0d0887"
             ],
             [
              0.1111111111111111,
              "#46039f"
             ],
             [
              0.2222222222222222,
              "#7201a8"
             ],
             [
              0.3333333333333333,
              "#9c179e"
             ],
             [
              0.4444444444444444,
              "#bd3786"
             ],
             [
              0.5555555555555556,
              "#d8576b"
             ],
             [
              0.6666666666666666,
              "#ed7953"
             ],
             [
              0.7777777777777778,
              "#fb9f3a"
             ],
             [
              0.8888888888888888,
              "#fdca26"
             ],
             [
              1,
              "#f0f921"
             ]
            ],
            "type": "histogram2d"
           }
          ],
          "histogram2dcontour": [
           {
            "colorbar": {
             "outlinewidth": 0,
             "ticks": ""
            },
            "colorscale": [
             [
              0,
              "#0d0887"
             ],
             [
              0.1111111111111111,
              "#46039f"
             ],
             [
              0.2222222222222222,
              "#7201a8"
             ],
             [
              0.3333333333333333,
              "#9c179e"
             ],
             [
              0.4444444444444444,
              "#bd3786"
             ],
             [
              0.5555555555555556,
              "#d8576b"
             ],
             [
              0.6666666666666666,
              "#ed7953"
             ],
             [
              0.7777777777777778,
              "#fb9f3a"
             ],
             [
              0.8888888888888888,
              "#fdca26"
             ],
             [
              1,
              "#f0f921"
             ]
            ],
            "type": "histogram2dcontour"
           }
          ],
          "mesh3d": [
           {
            "colorbar": {
             "outlinewidth": 0,
             "ticks": ""
            },
            "type": "mesh3d"
           }
          ],
          "parcoords": [
           {
            "line": {
             "colorbar": {
              "outlinewidth": 0,
              "ticks": ""
             }
            },
            "type": "parcoords"
           }
          ],
          "pie": [
           {
            "automargin": true,
            "type": "pie"
           }
          ],
          "scatter": [
           {
            "fillpattern": {
             "fillmode": "overlay",
             "size": 10,
             "solidity": 0.2
            },
            "type": "scatter"
           }
          ],
          "scatter3d": [
           {
            "line": {
             "colorbar": {
              "outlinewidth": 0,
              "ticks": ""
             }
            },
            "marker": {
             "colorbar": {
              "outlinewidth": 0,
              "ticks": ""
             }
            },
            "type": "scatter3d"
           }
          ],
          "scattercarpet": [
           {
            "marker": {
             "colorbar": {
              "outlinewidth": 0,
              "ticks": ""
             }
            },
            "type": "scattercarpet"
           }
          ],
          "scattergeo": [
           {
            "marker": {
             "colorbar": {
              "outlinewidth": 0,
              "ticks": ""
             }
            },
            "type": "scattergeo"
           }
          ],
          "scattergl": [
           {
            "marker": {
             "colorbar": {
              "outlinewidth": 0,
              "ticks": ""
             }
            },
            "type": "scattergl"
           }
          ],
          "scattermapbox": [
           {
            "marker": {
             "colorbar": {
              "outlinewidth": 0,
              "ticks": ""
             }
            },
            "type": "scattermapbox"
           }
          ],
          "scatterpolar": [
           {
            "marker": {
             "colorbar": {
              "outlinewidth": 0,
              "ticks": ""
             }
            },
            "type": "scatterpolar"
           }
          ],
          "scatterpolargl": [
           {
            "marker": {
             "colorbar": {
              "outlinewidth": 0,
              "ticks": ""
             }
            },
            "type": "scatterpolargl"
           }
          ],
          "scatterternary": [
           {
            "marker": {
             "colorbar": {
              "outlinewidth": 0,
              "ticks": ""
             }
            },
            "type": "scatterternary"
           }
          ],
          "surface": [
           {
            "colorbar": {
             "outlinewidth": 0,
             "ticks": ""
            },
            "colorscale": [
             [
              0,
              "#0d0887"
             ],
             [
              0.1111111111111111,
              "#46039f"
             ],
             [
              0.2222222222222222,
              "#7201a8"
             ],
             [
              0.3333333333333333,
              "#9c179e"
             ],
             [
              0.4444444444444444,
              "#bd3786"
             ],
             [
              0.5555555555555556,
              "#d8576b"
             ],
             [
              0.6666666666666666,
              "#ed7953"
             ],
             [
              0.7777777777777778,
              "#fb9f3a"
             ],
             [
              0.8888888888888888,
              "#fdca26"
             ],
             [
              1,
              "#f0f921"
             ]
            ],
            "type": "surface"
           }
          ],
          "table": [
           {
            "cells": {
             "fill": {
              "color": "#EBF0F8"
             },
             "line": {
              "color": "white"
             }
            },
            "header": {
             "fill": {
              "color": "#C8D4E3"
             },
             "line": {
              "color": "white"
             }
            },
            "type": "table"
           }
          ]
         },
         "layout": {
          "annotationdefaults": {
           "arrowcolor": "#2a3f5f",
           "arrowhead": 0,
           "arrowwidth": 1
          },
          "autotypenumbers": "strict",
          "coloraxis": {
           "colorbar": {
            "outlinewidth": 0,
            "ticks": ""
           }
          },
          "colorscale": {
           "diverging": [
            [
             0,
             "#8e0152"
            ],
            [
             0.1,
             "#c51b7d"
            ],
            [
             0.2,
             "#de77ae"
            ],
            [
             0.3,
             "#f1b6da"
            ],
            [
             0.4,
             "#fde0ef"
            ],
            [
             0.5,
             "#f7f7f7"
            ],
            [
             0.6,
             "#e6f5d0"
            ],
            [
             0.7,
             "#b8e186"
            ],
            [
             0.8,
             "#7fbc41"
            ],
            [
             0.9,
             "#4d9221"
            ],
            [
             1,
             "#276419"
            ]
           ],
           "sequential": [
            [
             0,
             "#0d0887"
            ],
            [
             0.1111111111111111,
             "#46039f"
            ],
            [
             0.2222222222222222,
             "#7201a8"
            ],
            [
             0.3333333333333333,
             "#9c179e"
            ],
            [
             0.4444444444444444,
             "#bd3786"
            ],
            [
             0.5555555555555556,
             "#d8576b"
            ],
            [
             0.6666666666666666,
             "#ed7953"
            ],
            [
             0.7777777777777778,
             "#fb9f3a"
            ],
            [
             0.8888888888888888,
             "#fdca26"
            ],
            [
             1,
             "#f0f921"
            ]
           ],
           "sequentialminus": [
            [
             0,
             "#0d0887"
            ],
            [
             0.1111111111111111,
             "#46039f"
            ],
            [
             0.2222222222222222,
             "#7201a8"
            ],
            [
             0.3333333333333333,
             "#9c179e"
            ],
            [
             0.4444444444444444,
             "#bd3786"
            ],
            [
             0.5555555555555556,
             "#d8576b"
            ],
            [
             0.6666666666666666,
             "#ed7953"
            ],
            [
             0.7777777777777778,
             "#fb9f3a"
            ],
            [
             0.8888888888888888,
             "#fdca26"
            ],
            [
             1,
             "#f0f921"
            ]
           ]
          },
          "colorway": [
           "#636efa",
           "#EF553B",
           "#00cc96",
           "#ab63fa",
           "#FFA15A",
           "#19d3f3",
           "#FF6692",
           "#B6E880",
           "#FF97FF",
           "#FECB52"
          ],
          "font": {
           "color": "#2a3f5f"
          },
          "geo": {
           "bgcolor": "white",
           "lakecolor": "white",
           "landcolor": "#E5ECF6",
           "showlakes": true,
           "showland": true,
           "subunitcolor": "white"
          },
          "hoverlabel": {
           "align": "left"
          },
          "hovermode": "closest",
          "mapbox": {
           "style": "light"
          },
          "paper_bgcolor": "white",
          "plot_bgcolor": "#E5ECF6",
          "polar": {
           "angularaxis": {
            "gridcolor": "white",
            "linecolor": "white",
            "ticks": ""
           },
           "bgcolor": "#E5ECF6",
           "radialaxis": {
            "gridcolor": "white",
            "linecolor": "white",
            "ticks": ""
           }
          },
          "scene": {
           "xaxis": {
            "backgroundcolor": "#E5ECF6",
            "gridcolor": "white",
            "gridwidth": 2,
            "linecolor": "white",
            "showbackground": true,
            "ticks": "",
            "zerolinecolor": "white"
           },
           "yaxis": {
            "backgroundcolor": "#E5ECF6",
            "gridcolor": "white",
            "gridwidth": 2,
            "linecolor": "white",
            "showbackground": true,
            "ticks": "",
            "zerolinecolor": "white"
           },
           "zaxis": {
            "backgroundcolor": "#E5ECF6",
            "gridcolor": "white",
            "gridwidth": 2,
            "linecolor": "white",
            "showbackground": true,
            "ticks": "",
            "zerolinecolor": "white"
           }
          },
          "shapedefaults": {
           "line": {
            "color": "#2a3f5f"
           }
          },
          "ternary": {
           "aaxis": {
            "gridcolor": "white",
            "linecolor": "white",
            "ticks": ""
           },
           "baxis": {
            "gridcolor": "white",
            "linecolor": "white",
            "ticks": ""
           },
           "bgcolor": "#E5ECF6",
           "caxis": {
            "gridcolor": "white",
            "linecolor": "white",
            "ticks": ""
           }
          },
          "title": {
           "x": 0.05
          },
          "xaxis": {
           "automargin": true,
           "gridcolor": "white",
           "linecolor": "white",
           "ticks": "",
           "title": {
            "standoff": 15
           },
           "zerolinecolor": "white",
           "zerolinewidth": 2
          },
          "yaxis": {
           "automargin": true,
           "gridcolor": "white",
           "linecolor": "white",
           "ticks": "",
           "title": {
            "standoff": 15
           },
           "zerolinecolor": "white",
           "zerolinewidth": 2
          }
         }
        },
        "title": {
         "text": "Distribuição de Inovação"
        },
        "xaxis": {
         "anchor": "y",
         "domain": [
          0,
          1
         ],
         "title": {
          "text": "Inovação"
         }
        },
        "yaxis": {
         "anchor": "x",
         "domain": [
          0,
          1
         ],
         "title": {
          "text": "Percentual (%)"
         }
        }
       }
      }
     },
     "metadata": {},
     "output_type": "display_data"
    }
   ],
   "source": [
    "# Distribuição de inovação\n",
    "inovacao_perc = df[\"inovacao\"].value_counts(normalize=True) * 100\n",
    "px.bar(\n",
    "    x=inovacao_perc.index,\n",
    "    y=inovacao_perc.values,\n",
    "    color=inovacao_perc.index,\n",
    "    labels={\"x\": \"Inovação\", \"y\": \"Percentual (%)\"},\n",
    "    title=\"Distribuição de Inovação\",\n",
    ")"
   ]
  },
  {
   "cell_type": "markdown",
   "metadata": {},
   "source": [
    "Aplica um **teste de ANOVA** (Análise de Variância) para verificar se há variações significativas na média de **faturamento mensal** para diferentes níveis de inovação.\n",
    "\n",
    "**Pressupostos:**\n",
    "\n",
    "- As amostras são independentes.\n",
    "- As populações têm distribuições normais.\n",
    "- As variâncias das populações são iguais (homocedasticidade).\n",
    "- As amostras são de tamanhos iguais.\n"
   ]
  },
  {
   "cell_type": "code",
   "execution_count": 5,
   "metadata": {},
   "outputs": [
    {
     "name": "stdout",
     "output_type": "stream",
     "text": [
      "Teste de Bartlett: 0.2825\n",
      "As variâncias são iguais.\n"
     ]
    }
   ],
   "source": [
    "# Verifica se os dados são homogêneos usando um teste de Bartlett. O teste de Bartlett é um teste de\n",
    "# hipótese que verifica se as variâncias dos grupos são iguais. Se o valor-p for menor que 0,05, as\n",
    "# variâncias são consideradas diferentes (os dados não são homogêneos).\n",
    "# - H0: As variâncias são iguais.\n",
    "# - H1: As variâncias são diferentes.\n",
    "from scipy.stats import bartlett\n",
    "\n",
    "# Agrupar os dados de faturamento mensal por nível de inovação\n",
    "grouped_incomes = df.groupby(\"inovacao\")[\"faturamento_mensal\"].apply(list)\n",
    "\n",
    "# Teste de Bartlett\n",
    "bartlett_test_statistic, bartlett_p_value = bartlett(*grouped_incomes)\n",
    "print(f\"Teste de Bartlett: {bartlett_p_value:.4f}\")\n",
    "print(\n",
    "    \"As variâncias são iguais.\"\n",
    "    if bartlett_p_value > 0.05\n",
    "    else \"As variâncias são diferentes.\"\n",
    ")"
   ]
  },
  {
   "cell_type": "code",
   "execution_count": 6,
   "metadata": {},
   "outputs": [
    {
     "name": "stdout",
     "output_type": "stream",
     "text": [
      "Teste de Shapiro-Wilk: 0.2351\n",
      "Os dados seguem uma distribuição normal.\n"
     ]
    }
   ],
   "source": [
    "# Aplica um teste de normalidade de Shapiro-Wilk para verificar se os dados seguem uma distribuição\n",
    "# normal. Se o valor-p for menor que 0,05, os dados não seguem uma distribuição normal.\n",
    "# - H0: Os dados seguem uma distribuição normal.\n",
    "# - H1: Os dados não seguem uma distribuição normal.\n",
    "from scipy.stats import shapiro\n",
    "\n",
    "# Teste de Shapiro-Wilk\n",
    "shapiro_test_statistic, shapiro_p_value = shapiro(df[\"faturamento_mensal\"])\n",
    "print(f\"Teste de Shapiro-Wilk: {shapiro_p_value:.4f}\")\n",
    "print(\n",
    "    \"Os dados seguem uma distribuição normal.\"\n",
    "    if shapiro_p_value > 0.05\n",
    "    else \"Os dados não seguem uma distribuição normal.\"\n",
    ")"
   ]
  },
  {
   "cell_type": "code",
   "execution_count": 7,
   "metadata": {},
   "outputs": [
    {
     "name": "stdout",
     "output_type": "stream",
     "text": [
      "Teste de Welch: 0.3453\n",
      "As médias são iguais.\n"
     ]
    }
   ],
   "source": [
    "# Aplica o teste de Welsh, pois as amostras são de tamanhos diferentes. O teste de Welch é um teste\n",
    "# de hipótese que verifica se as médias dos grupos são iguais. Se o valor-p for menor que 0,05, as\n",
    "# médias são consideradas diferentes.\n",
    "# - H0: As médias são iguais.\n",
    "# - H1: As médias são diferentes.\n",
    "from pingouin import welch_anova\n",
    "\n",
    "aov = welch_anova(data=df, dv=\"faturamento_mensal\", between=\"inovacao\")\n",
    "aov_p_value = aov[\"p-unc\"][0]\n",
    "\n",
    "print(f\"Teste de Welch: {aov_p_value:.4f}\")\n",
    "print(\"As médias são iguais.\" if aov_p_value > 0.05 else \"As médias são diferentes.\")"
   ]
  },
  {
   "cell_type": "markdown",
   "metadata": {},
   "source": [
    "## Training the model\n"
   ]
  },
  {
   "cell_type": "code",
   "execution_count": 8,
   "metadata": {},
   "outputs": [],
   "source": [
    "# Use all columns as X because we don't have a target variable\n",
    "X = df.copy()\n",
    "\n",
    "# Separate variables into numerical, nominal, and ordinal\n",
    "numeric_features = [\"faturamento_mensal\", \"numero_de_funcionarios\", \"idade\"]\n",
    "nominal_features = [\"localizacao\", \"atividade_economica\"]\n",
    "ordinal_features = [\"inovacao\"]\n",
    "\n",
    "# Apply transformations to the data\n",
    "numeric_transformer = StandardScaler()\n",
    "nominal_transformer = OneHotEncoder(drop=\"first\")\n",
    "ordinal_transformer = OrdinalEncoder()\n",
    "\n",
    "preprocessor = ColumnTransformer(\n",
    "    transformers=[\n",
    "        (\"num\", numeric_transformer, numeric_features),\n",
    "        (\"nom\", nominal_transformer, nominal_features),\n",
    "        (\"ord\", ordinal_transformer, ordinal_features),\n",
    "    ]\n",
    ")\n",
    "\n",
    "# Fit and transform the data\n",
    "X_transformed = preprocessor.fit_transform(X)"
   ]
  },
  {
   "cell_type": "code",
   "execution_count": 9,
   "metadata": {},
   "outputs": [
    {
     "name": "stderr",
     "output_type": "stream",
     "text": [
      "[I 2024-09-23 07:49:06,383] A new study created in memory with name: no-name-13fff6f8-a218-42ac-b573-e3375b17f615\n",
      "[I 2024-09-23 07:49:06,454] Trial 0 finished with value: 0.29204704866266173 and parameters: {'n_clusters': 5, 'distance_metric': 'minkowski', 'random_state': 74}. Best is trial 0 with value: 0.29204704866266173.\n",
      "[I 2024-09-23 07:49:06,462] Trial 1 finished with value: 0.19285206996141482 and parameters: {'n_clusters': 6, 'distance_metric': 'euclidean', 'random_state': 27}. Best is trial 0 with value: 0.29204704866266173.\n",
      "[I 2024-09-23 07:49:06,484] Trial 2 finished with value: 0.12093488762486038 and parameters: {'n_clusters': 10, 'distance_metric': 'minkowski', 'random_state': 58}. Best is trial 0 with value: 0.29204704866266173.\n",
      "[I 2024-09-23 07:49:06,507] Trial 3 finished with value: 0.35723896991912035 and parameters: {'n_clusters': 4, 'distance_metric': 'minkowski', 'random_state': 19}. Best is trial 3 with value: 0.35723896991912035.\n",
      "[I 2024-09-23 07:49:06,530] Trial 4 finished with value: 0.3355951773111698 and parameters: {'n_clusters': 4, 'distance_metric': 'minkowski', 'random_state': 75}. Best is trial 3 with value: 0.35723896991912035.\n",
      "[I 2024-09-23 07:49:06,537] Trial 5 finished with value: 0.18046265018511562 and parameters: {'n_clusters': 7, 'distance_metric': 'euclidean', 'random_state': 74}. Best is trial 3 with value: 0.35723896991912035.\n",
      "[I 2024-09-23 07:49:06,560] Trial 6 finished with value: 0.2943705018403171 and parameters: {'n_clusters': 5, 'distance_metric': 'minkowski', 'random_state': 6}. Best is trial 3 with value: 0.35723896991912035.\n",
      "[I 2024-09-23 07:49:06,569] Trial 7 finished with value: 0.12930689021073521 and parameters: {'n_clusters': 10, 'distance_metric': 'euclidean', 'random_state': 38}. Best is trial 3 with value: 0.35723896991912035.\n",
      "[I 2024-09-23 07:49:06,592] Trial 8 finished with value: 0.07821151072900896 and parameters: {'n_clusters': 9, 'distance_metric': 'minkowski', 'random_state': 27}. Best is trial 3 with value: 0.35723896991912035.\n",
      "[I 2024-09-23 07:49:06,600] Trial 9 finished with value: 0.4460089237295571 and parameters: {'n_clusters': 3, 'distance_metric': 'euclidean', 'random_state': 54}. Best is trial 9 with value: 0.4460089237295571.\n",
      "[I 2024-09-23 07:49:06,609] Trial 10 finished with value: 0.16939683761185056 and parameters: {'n_clusters': 8, 'distance_metric': 'euclidean', 'random_state': 80}. Best is trial 9 with value: 0.4460089237295571.\n",
      "[I 2024-09-23 07:49:06,618] Trial 11 finished with value: 0.13370581964857406 and parameters: {'n_clusters': 9, 'distance_metric': 'euclidean', 'random_state': 55}. Best is trial 9 with value: 0.4460089237295571.\n",
      "[I 2024-09-23 07:49:06,646] Trial 12 finished with value: 0.12485081714429819 and parameters: {'n_clusters': 10, 'distance_metric': 'minkowski', 'random_state': 95}. Best is trial 9 with value: 0.4460089237295571.\n",
      "[I 2024-09-23 07:49:06,655] Trial 13 finished with value: 0.4460089237295571 and parameters: {'n_clusters': 3, 'distance_metric': 'euclidean', 'random_state': 77}. Best is trial 9 with value: 0.4460089237295571.\n",
      "[I 2024-09-23 07:49:06,665] Trial 14 finished with value: 0.18586627598234295 and parameters: {'n_clusters': 6, 'distance_metric': 'euclidean', 'random_state': 4}. Best is trial 9 with value: 0.4460089237295571.\n",
      "[I 2024-09-23 07:49:06,676] Trial 15 finished with value: 0.39467782050227246 and parameters: {'n_clusters': 4, 'distance_metric': 'euclidean', 'random_state': 8}. Best is trial 9 with value: 0.4460089237295571.\n",
      "[I 2024-09-23 07:49:06,703] Trial 16 finished with value: 0.2742488529035365 and parameters: {'n_clusters': 5, 'distance_metric': 'minkowski', 'random_state': 51}. Best is trial 9 with value: 0.4460089237295571.\n",
      "[I 2024-09-23 07:49:06,714] Trial 17 finished with value: 0.3994298908543717 and parameters: {'n_clusters': 4, 'distance_metric': 'euclidean', 'random_state': 83}. Best is trial 9 with value: 0.4460089237295571.\n",
      "[I 2024-09-23 07:49:06,743] Trial 18 finished with value: 0.13362895873024516 and parameters: {'n_clusters': 9, 'distance_metric': 'minkowski', 'random_state': 29}. Best is trial 9 with value: 0.4460089237295571.\n",
      "[I 2024-09-23 07:49:06,751] Trial 19 finished with value: 0.4460089237295571 and parameters: {'n_clusters': 3, 'distance_metric': 'euclidean', 'random_state': 81}. Best is trial 9 with value: 0.4460089237295571.\n",
      "[I 2024-09-23 07:49:06,775] Trial 20 finished with value: 0.4460089237295571 and parameters: {'n_clusters': 3, 'distance_metric': 'minkowski', 'random_state': 2}. Best is trial 9 with value: 0.4460089237295571.\n",
      "[I 2024-09-23 07:49:06,785] Trial 21 finished with value: 0.4460089237295571 and parameters: {'n_clusters': 3, 'distance_metric': 'euclidean', 'random_state': 19}. Best is trial 9 with value: 0.4460089237295571.\n",
      "[I 2024-09-23 07:49:06,795] Trial 22 finished with value: 0.20313784045757943 and parameters: {'n_clusters': 6, 'distance_metric': 'euclidean', 'random_state': 94}. Best is trial 9 with value: 0.4460089237295571.\n",
      "[I 2024-09-23 07:49:06,820] Trial 23 finished with value: 0.22621245701054796 and parameters: {'n_clusters': 6, 'distance_metric': 'minkowski', 'random_state': 91}. Best is trial 9 with value: 0.4460089237295571.\n",
      "[I 2024-09-23 07:49:06,845] Trial 24 finished with value: 0.38967931998710137 and parameters: {'n_clusters': 4, 'distance_metric': 'minkowski', 'random_state': 61}. Best is trial 9 with value: 0.4460089237295571.\n",
      "[I 2024-09-23 07:49:06,856] Trial 25 finished with value: 0.12788621141537232 and parameters: {'n_clusters': 8, 'distance_metric': 'euclidean', 'random_state': 2}. Best is trial 9 with value: 0.4460089237295571.\n",
      "[I 2024-09-23 07:49:06,882] Trial 26 finished with value: 0.3130715553220691 and parameters: {'n_clusters': 5, 'distance_metric': 'minkowski', 'random_state': 63}. Best is trial 9 with value: 0.4460089237295571.\n",
      "[I 2024-09-23 07:49:06,893] Trial 27 finished with value: 0.3208019774511372 and parameters: {'n_clusters': 4, 'distance_metric': 'euclidean', 'random_state': 92}. Best is trial 9 with value: 0.4460089237295571.\n",
      "[I 2024-09-23 07:49:06,919] Trial 28 finished with value: 0.1102733292689185 and parameters: {'n_clusters': 10, 'distance_metric': 'minkowski', 'random_state': 98}. Best is trial 9 with value: 0.4460089237295571.\n",
      "[I 2024-09-23 07:49:06,946] Trial 29 finished with value: 0.16621159881917136 and parameters: {'n_clusters': 7, 'distance_metric': 'minkowski', 'random_state': 84}. Best is trial 9 with value: 0.4460089237295571.\n",
      "[I 2024-09-23 07:49:06,976] Trial 30 finished with value: 0.11018628822591982 and parameters: {'n_clusters': 9, 'distance_metric': 'minkowski', 'random_state': 19}. Best is trial 9 with value: 0.4460089237295571.\n",
      "[I 2024-09-23 07:49:06,987] Trial 31 finished with value: 0.22016826797826797 and parameters: {'n_clusters': 7, 'distance_metric': 'euclidean', 'random_state': 47}. Best is trial 9 with value: 0.4460089237295571.\n",
      "[I 2024-09-23 07:49:07,014] Trial 32 finished with value: 0.21128724705981672 and parameters: {'n_clusters': 6, 'distance_metric': 'minkowski', 'random_state': 1}. Best is trial 9 with value: 0.4460089237295571.\n",
      "[I 2024-09-23 07:49:07,040] Trial 33 finished with value: 0.33302801506818513 and parameters: {'n_clusters': 5, 'distance_metric': 'minkowski', 'random_state': 75}. Best is trial 9 with value: 0.4460089237295571.\n",
      "[I 2024-09-23 07:49:07,051] Trial 34 finished with value: 0.10596125545289779 and parameters: {'n_clusters': 9, 'distance_metric': 'euclidean', 'random_state': 33}. Best is trial 9 with value: 0.4460089237295571.\n",
      "[I 2024-09-23 07:49:07,063] Trial 35 finished with value: 0.2507904837605848 and parameters: {'n_clusters': 6, 'distance_metric': 'euclidean', 'random_state': 16}. Best is trial 9 with value: 0.4460089237295571.\n",
      "[I 2024-09-23 07:49:07,090] Trial 36 finished with value: 0.10933829089357734 and parameters: {'n_clusters': 10, 'distance_metric': 'minkowski', 'random_state': 87}. Best is trial 9 with value: 0.4460089237295571.\n",
      "[I 2024-09-23 07:49:07,117] Trial 37 finished with value: 0.16285254105986202 and parameters: {'n_clusters': 8, 'distance_metric': 'minkowski', 'random_state': 95}. Best is trial 9 with value: 0.4460089237295571.\n",
      "[I 2024-09-23 07:49:07,130] Trial 38 finished with value: 0.2715643774901261 and parameters: {'n_clusters': 6, 'distance_metric': 'euclidean', 'random_state': 62}. Best is trial 9 with value: 0.4460089237295571.\n",
      "[I 2024-09-23 07:49:07,142] Trial 39 finished with value: 0.39467782050227246 and parameters: {'n_clusters': 4, 'distance_metric': 'euclidean', 'random_state': 42}. Best is trial 9 with value: 0.4460089237295571.\n",
      "[I 2024-09-23 07:49:07,170] Trial 40 finished with value: 0.14723266896360274 and parameters: {'n_clusters': 10, 'distance_metric': 'minkowski', 'random_state': 65}. Best is trial 9 with value: 0.4460089237295571.\n",
      "[I 2024-09-23 07:49:07,199] Trial 41 finished with value: 0.2252387201792483 and parameters: {'n_clusters': 7, 'distance_metric': 'minkowski', 'random_state': 37}. Best is trial 9 with value: 0.4460089237295571.\n",
      "[I 2024-09-23 07:49:07,211] Trial 42 finished with value: 0.22203122192981095 and parameters: {'n_clusters': 7, 'distance_metric': 'euclidean', 'random_state': 43}. Best is trial 9 with value: 0.4460089237295571.\n",
      "[I 2024-09-23 07:49:07,238] Trial 43 finished with value: 0.09836601445967458 and parameters: {'n_clusters': 8, 'distance_metric': 'minkowski', 'random_state': 8}. Best is trial 9 with value: 0.4460089237295571.\n",
      "[I 2024-09-23 07:49:07,266] Trial 44 finished with value: 0.27009801505154407 and parameters: {'n_clusters': 6, 'distance_metric': 'minkowski', 'random_state': 83}. Best is trial 9 with value: 0.4460089237295571.\n",
      "[I 2024-09-23 07:49:07,279] Trial 45 finished with value: 0.12514358173251167 and parameters: {'n_clusters': 9, 'distance_metric': 'euclidean', 'random_state': 39}. Best is trial 9 with value: 0.4460089237295571.\n",
      "[I 2024-09-23 07:49:07,292] Trial 46 finished with value: 0.09477571405518054 and parameters: {'n_clusters': 10, 'distance_metric': 'euclidean', 'random_state': 13}. Best is trial 9 with value: 0.4460089237295571.\n",
      "[I 2024-09-23 07:49:07,321] Trial 47 finished with value: 0.11924884091076605 and parameters: {'n_clusters': 8, 'distance_metric': 'minkowski', 'random_state': 43}. Best is trial 9 with value: 0.4460089237295571.\n",
      "[I 2024-09-23 07:49:07,333] Trial 48 finished with value: 0.07375231510761797 and parameters: {'n_clusters': 10, 'distance_metric': 'euclidean', 'random_state': 41}. Best is trial 9 with value: 0.4460089237295571.\n",
      "[I 2024-09-23 07:49:07,361] Trial 49 finished with value: 0.17393426113406524 and parameters: {'n_clusters': 7, 'distance_metric': 'minkowski', 'random_state': 56}. Best is trial 9 with value: 0.4460089237295571.\n",
      "[I 2024-09-23 07:49:07,391] Trial 50 finished with value: 0.32273836134563666 and parameters: {'n_clusters': 5, 'distance_metric': 'minkowski', 'random_state': 19}. Best is trial 9 with value: 0.4460089237295571.\n",
      "[I 2024-09-23 07:49:07,404] Trial 51 finished with value: 0.15279023573380804 and parameters: {'n_clusters': 7, 'distance_metric': 'euclidean', 'random_state': 13}. Best is trial 9 with value: 0.4460089237295571.\n",
      "[I 2024-09-23 07:49:07,434] Trial 52 finished with value: 0.20970967830733422 and parameters: {'n_clusters': 7, 'distance_metric': 'minkowski', 'random_state': 75}. Best is trial 9 with value: 0.4460089237295571.\n",
      "[I 2024-09-23 07:49:07,447] Trial 53 finished with value: 0.4460089237295571 and parameters: {'n_clusters': 3, 'distance_metric': 'euclidean', 'random_state': 35}. Best is trial 9 with value: 0.4460089237295571.\n",
      "[I 2024-09-23 07:49:07,483] Trial 54 finished with value: 0.3333801304251879 and parameters: {'n_clusters': 5, 'distance_metric': 'minkowski', 'random_state': 15}. Best is trial 9 with value: 0.4460089237295571.\n",
      "[I 2024-09-23 07:49:07,497] Trial 55 finished with value: 0.12555247404675454 and parameters: {'n_clusters': 10, 'distance_metric': 'euclidean', 'random_state': 100}. Best is trial 9 with value: 0.4460089237295571.\n",
      "[I 2024-09-23 07:49:07,526] Trial 56 finished with value: 0.13462279859610127 and parameters: {'n_clusters': 8, 'distance_metric': 'minkowski', 'random_state': 33}. Best is trial 9 with value: 0.4460089237295571.\n",
      "[I 2024-09-23 07:49:07,541] Trial 57 finished with value: 0.21686985384153273 and parameters: {'n_clusters': 7, 'distance_metric': 'euclidean', 'random_state': 92}. Best is trial 9 with value: 0.4460089237295571.\n",
      "[I 2024-09-23 07:49:07,555] Trial 58 finished with value: 0.3994298908543717 and parameters: {'n_clusters': 4, 'distance_metric': 'euclidean', 'random_state': 53}. Best is trial 9 with value: 0.4460089237295571.\n",
      "[I 2024-09-23 07:49:07,586] Trial 59 finished with value: 0.1367610863127365 and parameters: {'n_clusters': 9, 'distance_metric': 'minkowski', 'random_state': 47}. Best is trial 9 with value: 0.4460089237295571.\n",
      "[I 2024-09-23 07:49:07,618] Trial 60 finished with value: 0.38967931998710137 and parameters: {'n_clusters': 4, 'distance_metric': 'minkowski', 'random_state': 25}. Best is trial 9 with value: 0.4460089237295571.\n",
      "[I 2024-09-23 07:49:07,647] Trial 61 finished with value: 0.12915606396594287 and parameters: {'n_clusters': 8, 'distance_metric': 'minkowski', 'random_state': 57}. Best is trial 9 with value: 0.4460089237295571.\n",
      "[I 2024-09-23 07:49:07,678] Trial 62 finished with value: 0.1950779051917722 and parameters: {'n_clusters': 7, 'distance_metric': 'minkowski', 'random_state': 95}. Best is trial 9 with value: 0.4460089237295571.\n",
      "[I 2024-09-23 07:49:07,721] Trial 63 finished with value: 0.113445945898069 and parameters: {'n_clusters': 10, 'distance_metric': 'minkowski', 'random_state': 66}. Best is trial 9 with value: 0.4460089237295571.\n",
      "[I 2024-09-23 07:49:07,752] Trial 64 finished with value: 0.44347702319898546 and parameters: {'n_clusters': 3, 'distance_metric': 'minkowski', 'random_state': 75}. Best is trial 9 with value: 0.4460089237295571.\n",
      "[I 2024-09-23 07:49:07,766] Trial 65 finished with value: 0.4460089237295571 and parameters: {'n_clusters': 3, 'distance_metric': 'euclidean', 'random_state': 6}. Best is trial 9 with value: 0.4460089237295571.\n",
      "[I 2024-09-23 07:49:07,797] Trial 66 finished with value: 0.14337751076759905 and parameters: {'n_clusters': 10, 'distance_metric': 'minkowski', 'random_state': 32}. Best is trial 9 with value: 0.4460089237295571.\n",
      "[I 2024-09-23 07:49:07,813] Trial 67 finished with value: 0.10785046094207529 and parameters: {'n_clusters': 10, 'distance_metric': 'euclidean', 'random_state': 94}. Best is trial 9 with value: 0.4460089237295571.\n",
      "[I 2024-09-23 07:49:07,845] Trial 68 finished with value: 0.133705819648574 and parameters: {'n_clusters': 9, 'distance_metric': 'minkowski', 'random_state': 55}. Best is trial 9 with value: 0.4460089237295571.\n",
      "[I 2024-09-23 07:49:07,862] Trial 69 finished with value: 0.11924884091076567 and parameters: {'n_clusters': 8, 'distance_metric': 'euclidean', 'random_state': 43}. Best is trial 9 with value: 0.4460089237295571.\n",
      "[I 2024-09-23 07:49:07,878] Trial 70 finished with value: 0.1295963389956906 and parameters: {'n_clusters': 9, 'distance_metric': 'euclidean', 'random_state': 43}. Best is trial 9 with value: 0.4460089237295571.\n",
      "[I 2024-09-23 07:49:07,894] Trial 71 finished with value: 0.2699989277361709 and parameters: {'n_clusters': 6, 'distance_metric': 'euclidean', 'random_state': 20}. Best is trial 9 with value: 0.4460089237295571.\n",
      "[I 2024-09-23 07:49:07,910] Trial 72 finished with value: 0.44347702319898546 and parameters: {'n_clusters': 3, 'distance_metric': 'euclidean', 'random_state': 20}. Best is trial 9 with value: 0.4460089237295571.\n",
      "[I 2024-09-23 07:49:07,941] Trial 73 finished with value: 0.22183891276531528 and parameters: {'n_clusters': 6, 'distance_metric': 'minkowski', 'random_state': 23}. Best is trial 9 with value: 0.4460089237295571.\n",
      "[I 2024-09-23 07:49:07,957] Trial 74 finished with value: 0.4460089237295571 and parameters: {'n_clusters': 3, 'distance_metric': 'euclidean', 'random_state': 55}. Best is trial 9 with value: 0.4460089237295571.\n",
      "[I 2024-09-23 07:49:07,974] Trial 75 finished with value: 0.09323329152138714 and parameters: {'n_clusters': 10, 'distance_metric': 'euclidean', 'random_state': 45}. Best is trial 9 with value: 0.4460089237295571.\n",
      "[I 2024-09-23 07:49:08,007] Trial 76 finished with value: 0.1295858740595211 and parameters: {'n_clusters': 8, 'distance_metric': 'minkowski', 'random_state': 92}. Best is trial 9 with value: 0.4460089237295571.\n",
      "[I 2024-09-23 07:49:08,023] Trial 77 finished with value: 0.28196735887226143 and parameters: {'n_clusters': 5, 'distance_metric': 'euclidean', 'random_state': 100}. Best is trial 9 with value: 0.4460089237295571.\n",
      "[I 2024-09-23 07:49:08,042] Trial 78 finished with value: 0.11853106583281577 and parameters: {'n_clusters': 9, 'distance_metric': 'euclidean', 'random_state': 71}. Best is trial 9 with value: 0.4460089237295571.\n",
      "[I 2024-09-23 07:49:08,059] Trial 79 finished with value: 0.44347702319898546 and parameters: {'n_clusters': 3, 'distance_metric': 'euclidean', 'random_state': 10}. Best is trial 9 with value: 0.4460089237295571.\n",
      "[I 2024-09-23 07:49:08,092] Trial 80 finished with value: 0.16482162501427547 and parameters: {'n_clusters': 7, 'distance_metric': 'minkowski', 'random_state': 31}. Best is trial 9 with value: 0.4460089237295571.\n",
      "[I 2024-09-23 07:49:08,123] Trial 81 finished with value: 0.23238833974278914 and parameters: {'n_clusters': 6, 'distance_metric': 'minkowski', 'random_state': 79}. Best is trial 9 with value: 0.4460089237295571.\n",
      "[I 2024-09-23 07:49:08,155] Trial 82 finished with value: 0.44347702319898546 and parameters: {'n_clusters': 3, 'distance_metric': 'minkowski', 'random_state': 39}. Best is trial 9 with value: 0.4460089237295571.\n",
      "[I 2024-09-23 07:49:08,187] Trial 83 finished with value: 0.3003979802381789 and parameters: {'n_clusters': 5, 'distance_metric': 'minkowski', 'random_state': 14}. Best is trial 9 with value: 0.4460089237295571.\n",
      "[I 2024-09-23 07:49:08,205] Trial 84 finished with value: 0.19050438508672848 and parameters: {'n_clusters': 7, 'distance_metric': 'euclidean', 'random_state': 76}. Best is trial 9 with value: 0.4460089237295571.\n",
      "[I 2024-09-23 07:49:08,238] Trial 85 finished with value: 0.2029944151227924 and parameters: {'n_clusters': 6, 'distance_metric': 'minkowski', 'random_state': 30}. Best is trial 9 with value: 0.4460089237295571.\n",
      "[I 2024-09-23 07:49:08,256] Trial 86 finished with value: 0.3064043338473463 and parameters: {'n_clusters': 5, 'distance_metric': 'euclidean', 'random_state': 60}. Best is trial 9 with value: 0.4460089237295571.\n",
      "[I 2024-09-23 07:49:08,274] Trial 87 finished with value: 0.1381649255913482 and parameters: {'n_clusters': 8, 'distance_metric': 'euclidean', 'random_state': 36}. Best is trial 9 with value: 0.4460089237295571.\n",
      "[I 2024-09-23 07:49:08,292] Trial 88 finished with value: 0.07584483612435514 and parameters: {'n_clusters': 10, 'distance_metric': 'euclidean', 'random_state': 82}. Best is trial 9 with value: 0.4460089237295571.\n",
      "[I 2024-09-23 07:49:08,310] Trial 89 finished with value: 0.44347702319898546 and parameters: {'n_clusters': 3, 'distance_metric': 'euclidean', 'random_state': 67}. Best is trial 9 with value: 0.4460089237295571.\n",
      "[I 2024-09-23 07:49:08,343] Trial 90 finished with value: 0.1544746593131588 and parameters: {'n_clusters': 7, 'distance_metric': 'minkowski', 'random_state': 39}. Best is trial 9 with value: 0.4460089237295571.\n",
      "[I 2024-09-23 07:49:08,375] Trial 91 finished with value: 0.2548322784740157 and parameters: {'n_clusters': 6, 'distance_metric': 'minkowski', 'random_state': 80}. Best is trial 9 with value: 0.4460089237295571.\n",
      "[I 2024-09-23 07:49:08,408] Trial 92 finished with value: 0.192852069961415 and parameters: {'n_clusters': 6, 'distance_metric': 'minkowski', 'random_state': 27}. Best is trial 9 with value: 0.4460089237295571.\n",
      "[I 2024-09-23 07:49:08,428] Trial 93 finished with value: 0.13928092117484522 and parameters: {'n_clusters': 8, 'distance_metric': 'euclidean', 'random_state': 7}. Best is trial 9 with value: 0.4460089237295571.\n",
      "[I 2024-09-23 07:49:08,463] Trial 94 finished with value: 0.1255524740467549 and parameters: {'n_clusters': 10, 'distance_metric': 'minkowski', 'random_state': 100}. Best is trial 9 with value: 0.4460089237295571.\n",
      "[I 2024-09-23 07:49:08,498] Trial 95 finished with value: 0.25079963691445517 and parameters: {'n_clusters': 6, 'distance_metric': 'minkowski', 'random_state': 88}. Best is trial 9 with value: 0.4460089237295571.\n",
      "[I 2024-09-23 07:49:08,532] Trial 96 finished with value: 0.1333252134543911 and parameters: {'n_clusters': 8, 'distance_metric': 'minkowski', 'random_state': 90}. Best is trial 9 with value: 0.4460089237295571.\n",
      "[I 2024-09-23 07:49:08,553] Trial 97 finished with value: 0.2837137830763251 and parameters: {'n_clusters': 5, 'distance_metric': 'euclidean', 'random_state': 28}. Best is trial 9 with value: 0.4460089237295571.\n",
      "[I 2024-09-23 07:49:08,588] Trial 98 finished with value: 0.44347702319898546 and parameters: {'n_clusters': 3, 'distance_metric': 'minkowski', 'random_state': 15}. Best is trial 9 with value: 0.4460089237295571.\n",
      "[I 2024-09-23 07:49:08,608] Trial 99 finished with value: 0.18007881063566128 and parameters: {'n_clusters': 7, 'distance_metric': 'euclidean', 'random_state': 9}. Best is trial 9 with value: 0.4460089237295571.\n",
      "[I 2024-09-23 07:49:08,648] Trial 100 finished with value: 0.0870077099885271 and parameters: {'n_clusters': 9, 'distance_metric': 'minkowski', 'random_state': 49}. Best is trial 9 with value: 0.4460089237295571.\n",
      "[I 2024-09-23 07:49:08,686] Trial 101 finished with value: 0.10027508505066314 and parameters: {'n_clusters': 10, 'distance_metric': 'minkowski', 'random_state': 5}. Best is trial 9 with value: 0.4460089237295571.\n",
      "[I 2024-09-23 07:49:08,707] Trial 102 finished with value: 0.2742124603325919 and parameters: {'n_clusters': 5, 'distance_metric': 'euclidean', 'random_state': 54}. Best is trial 9 with value: 0.4460089237295571.\n",
      "[I 2024-09-23 07:49:08,733] Trial 103 finished with value: 0.08510873190203933 and parameters: {'n_clusters': 10, 'distance_metric': 'euclidean', 'random_state': 77}. Best is trial 9 with value: 0.4460089237295571.\n",
      "[I 2024-09-23 07:49:08,771] Trial 104 finished with value: 0.33017025966026187 and parameters: {'n_clusters': 4, 'distance_metric': 'minkowski', 'random_state': 93}. Best is trial 9 with value: 0.4460089237295571.\n",
      "[I 2024-09-23 07:49:08,814] Trial 105 finished with value: 0.16086247527781428 and parameters: {'n_clusters': 8, 'distance_metric': 'minkowski', 'random_state': 4}. Best is trial 9 with value: 0.4460089237295571.\n",
      "[I 2024-09-23 07:49:08,837] Trial 106 finished with value: 0.3808229165318647 and parameters: {'n_clusters': 4, 'distance_metric': 'euclidean', 'random_state': 14}. Best is trial 9 with value: 0.4460089237295571.\n",
      "[I 2024-09-23 07:49:08,884] Trial 107 finished with value: 0.09971562284844812 and parameters: {'n_clusters': 9, 'distance_metric': 'minkowski', 'random_state': 42}. Best is trial 9 with value: 0.4460089237295571.\n",
      "[I 2024-09-23 07:49:08,905] Trial 108 finished with value: 0.33559517731116983 and parameters: {'n_clusters': 4, 'distance_metric': 'euclidean', 'random_state': 76}. Best is trial 9 with value: 0.4460089237295571.\n",
      "[I 2024-09-23 07:49:08,927] Trial 109 finished with value: 0.13289205442580873 and parameters: {'n_clusters': 8, 'distance_metric': 'euclidean', 'random_state': 54}. Best is trial 9 with value: 0.4460089237295571.\n",
      "[I 2024-09-23 07:49:08,948] Trial 110 finished with value: 0.18472559486092868 and parameters: {'n_clusters': 7, 'distance_metric': 'euclidean', 'random_state': 15}. Best is trial 9 with value: 0.4460089237295571.\n",
      "[I 2024-09-23 07:49:08,987] Trial 111 finished with value: 0.10785046094207565 and parameters: {'n_clusters': 10, 'distance_metric': 'minkowski', 'random_state': 94}. Best is trial 9 with value: 0.4460089237295571.\n",
      "[I 2024-09-23 07:49:09,009] Trial 112 finished with value: 0.14565188263894463 and parameters: {'n_clusters': 8, 'distance_metric': 'euclidean', 'random_state': 17}. Best is trial 9 with value: 0.4460089237295571.\n",
      "[I 2024-09-23 07:49:09,060] Trial 113 finished with value: 0.1668948629174957 and parameters: {'n_clusters': 7, 'distance_metric': 'minkowski', 'random_state': 61}. Best is trial 9 with value: 0.4460089237295571.\n",
      "[I 2024-09-23 07:49:09,081] Trial 114 finished with value: 0.13044979179913974 and parameters: {'n_clusters': 9, 'distance_metric': 'euclidean', 'random_state': 21}. Best is trial 9 with value: 0.4460089237295571.\n",
      "[I 2024-09-23 07:49:09,102] Trial 115 finished with value: 0.12476360751178758 and parameters: {'n_clusters': 10, 'distance_metric': 'euclidean', 'random_state': 53}. Best is trial 9 with value: 0.4460089237295571.\n",
      "[I 2024-09-23 07:49:09,127] Trial 116 finished with value: 0.21611150651272815 and parameters: {'n_clusters': 6, 'distance_metric': 'euclidean', 'random_state': 65}. Best is trial 9 with value: 0.4460089237295571.\n",
      "[I 2024-09-23 07:49:09,164] Trial 117 finished with value: 0.31633127309665066 and parameters: {'n_clusters': 6, 'distance_metric': 'minkowski', 'random_state': 71}. Best is trial 9 with value: 0.4460089237295571.\n",
      "[I 2024-09-23 07:49:09,186] Trial 118 finished with value: 0.324295441325385 and parameters: {'n_clusters': 5, 'distance_metric': 'euclidean', 'random_state': 20}. Best is trial 9 with value: 0.4460089237295571.\n",
      "[I 2024-09-23 07:49:09,225] Trial 119 finished with value: 0.17139101635543735 and parameters: {'n_clusters': 7, 'distance_metric': 'minkowski', 'random_state': 70}. Best is trial 9 with value: 0.4460089237295571.\n",
      "[I 2024-09-23 07:49:09,263] Trial 120 finished with value: 0.13058398226789267 and parameters: {'n_clusters': 9, 'distance_metric': 'minkowski', 'random_state': 20}. Best is trial 9 with value: 0.4460089237295571.\n",
      "[I 2024-09-23 07:49:09,300] Trial 121 finished with value: 0.1381080985756658 and parameters: {'n_clusters': 8, 'distance_metric': 'minkowski', 'random_state': 10}. Best is trial 9 with value: 0.4460089237295571.\n",
      "[I 2024-09-23 07:49:09,322] Trial 122 finished with value: 0.1127662137008752 and parameters: {'n_clusters': 10, 'distance_metric': 'euclidean', 'random_state': 44}. Best is trial 9 with value: 0.4460089237295571.\n",
      "[I 2024-09-23 07:49:09,345] Trial 123 finished with value: 0.30127666221398863 and parameters: {'n_clusters': 5, 'distance_metric': 'euclidean', 'random_state': 50}. Best is trial 9 with value: 0.4460089237295571.\n",
      "[I 2024-09-23 07:49:09,367] Trial 124 finished with value: 0.44347702319898546 and parameters: {'n_clusters': 3, 'distance_metric': 'euclidean', 'random_state': 83}. Best is trial 9 with value: 0.4460089237295571.\n",
      "[I 2024-09-23 07:49:09,391] Trial 125 finished with value: 0.1743958299386091 and parameters: {'n_clusters': 8, 'distance_metric': 'euclidean', 'random_state': 88}. Best is trial 9 with value: 0.4460089237295571.\n",
      "[I 2024-09-23 07:49:09,414] Trial 126 finished with value: 0.12533683686456024 and parameters: {'n_clusters': 8, 'distance_metric': 'euclidean', 'random_state': 21}. Best is trial 9 with value: 0.4460089237295571.\n",
      "[I 2024-09-23 07:49:09,452] Trial 127 finished with value: 0.38967931998710137 and parameters: {'n_clusters': 4, 'distance_metric': 'minkowski', 'random_state': 13}. Best is trial 9 with value: 0.4460089237295571.\n",
      "[I 2024-09-23 07:49:09,490] Trial 128 finished with value: 0.30841983906396253 and parameters: {'n_clusters': 4, 'distance_metric': 'minkowski', 'random_state': 39}. Best is trial 9 with value: 0.4460089237295571.\n",
      "[I 2024-09-23 07:49:09,514] Trial 129 finished with value: 0.14903827819552376 and parameters: {'n_clusters': 8, 'distance_metric': 'euclidean', 'random_state': 25}. Best is trial 9 with value: 0.4460089237295571.\n",
      "[I 2024-09-23 07:49:09,537] Trial 130 finished with value: 0.3372747636614242 and parameters: {'n_clusters': 5, 'distance_metric': 'euclidean', 'random_state': 24}. Best is trial 9 with value: 0.4460089237295571.\n",
      "[I 2024-09-23 07:49:09,561] Trial 131 finished with value: 0.1999883989730987 and parameters: {'n_clusters': 6, 'distance_metric': 'euclidean', 'random_state': 55}. Best is trial 9 with value: 0.4460089237295571.\n",
      "[I 2024-09-23 07:49:09,584] Trial 132 finished with value: 0.25483227847401574 and parameters: {'n_clusters': 6, 'distance_metric': 'euclidean', 'random_state': 80}. Best is trial 9 with value: 0.4460089237295571.\n",
      "[I 2024-09-23 07:49:09,623] Trial 133 finished with value: 0.1603026717765585 and parameters: {'n_clusters': 7, 'distance_metric': 'minkowski', 'random_state': 66}. Best is trial 9 with value: 0.4460089237295571.\n",
      "[I 2024-09-23 07:49:09,648] Trial 134 finished with value: 0.12839124852786427 and parameters: {'n_clusters': 8, 'distance_metric': 'euclidean', 'random_state': 64}. Best is trial 9 with value: 0.4460089237295571.\n",
      "[I 2024-09-23 07:49:09,688] Trial 135 finished with value: 0.2433118404500172 and parameters: {'n_clusters': 6, 'distance_metric': 'minkowski', 'random_state': 84}. Best is trial 9 with value: 0.4460089237295571.\n",
      "[I 2024-09-23 07:49:09,727] Trial 136 finished with value: 0.333526690939855 and parameters: {'n_clusters': 4, 'distance_metric': 'minkowski', 'random_state': 36}. Best is trial 9 with value: 0.4460089237295571.\n",
      "[I 2024-09-23 07:49:09,752] Trial 137 finished with value: 0.0906964534081898 and parameters: {'n_clusters': 10, 'distance_metric': 'euclidean', 'random_state': 85}. Best is trial 9 with value: 0.4460089237295571.\n",
      "[I 2024-09-23 07:49:09,791] Trial 138 finished with value: 0.12514358173251172 and parameters: {'n_clusters': 9, 'distance_metric': 'minkowski', 'random_state': 39}. Best is trial 9 with value: 0.4460089237295571.\n",
      "[I 2024-09-23 07:49:09,831] Trial 139 finished with value: 0.15107829610481588 and parameters: {'n_clusters': 7, 'distance_metric': 'minkowski', 'random_state': 40}. Best is trial 9 with value: 0.4460089237295571.\n",
      "[I 2024-09-23 07:49:09,869] Trial 140 finished with value: 0.13823730077077925 and parameters: {'n_clusters': 8, 'distance_metric': 'minkowski', 'random_state': 55}. Best is trial 9 with value: 0.4460089237295571.\n",
      "[I 2024-09-23 07:49:09,908] Trial 141 finished with value: 0.3962777088955517 and parameters: {'n_clusters': 4, 'distance_metric': 'minkowski', 'random_state': 49}. Best is trial 9 with value: 0.4460089237295571.\n",
      "[I 2024-09-23 07:49:09,933] Trial 142 finished with value: 0.1315437742130301 and parameters: {'n_clusters': 8, 'distance_metric': 'euclidean', 'random_state': 83}. Best is trial 9 with value: 0.4460089237295571.\n",
      "[I 2024-09-23 07:49:09,973] Trial 143 finished with value: 0.2108221626091565 and parameters: {'n_clusters': 7, 'distance_metric': 'minkowski', 'random_state': 29}. Best is trial 9 with value: 0.4460089237295571.\n",
      "[I 2024-09-23 07:49:09,997] Trial 144 finished with value: 0.34980674682870144 and parameters: {'n_clusters': 4, 'distance_metric': 'euclidean', 'random_state': 62}. Best is trial 9 with value: 0.4460089237295571.\n",
      "[I 2024-09-23 07:49:10,038] Trial 145 finished with value: 0.14572279926820028 and parameters: {'n_clusters': 10, 'distance_metric': 'minkowski', 'random_state': 88}. Best is trial 9 with value: 0.4460089237295571.\n",
      "[I 2024-09-23 07:49:10,078] Trial 146 finished with value: 0.27865107367833153 and parameters: {'n_clusters': 4, 'distance_metric': 'minkowski', 'random_state': 70}. Best is trial 9 with value: 0.4460089237295571.\n",
      "[I 2024-09-23 07:49:10,118] Trial 147 finished with value: 0.3687225354731271 and parameters: {'n_clusters': 4, 'distance_metric': 'minkowski', 'random_state': 15}. Best is trial 9 with value: 0.4460089237295571.\n",
      "[I 2024-09-23 07:49:10,143] Trial 148 finished with value: 0.16235743973206448 and parameters: {'n_clusters': 7, 'distance_metric': 'euclidean', 'random_state': 53}. Best is trial 9 with value: 0.4460089237295571.\n",
      "[I 2024-09-23 07:49:10,183] Trial 149 finished with value: 0.38967931998710137 and parameters: {'n_clusters': 4, 'distance_metric': 'minkowski', 'random_state': 71}. Best is trial 9 with value: 0.4460089237295571.\n",
      "[I 2024-09-23 07:49:10,211] Trial 150 finished with value: 0.2750110069136987 and parameters: {'n_clusters': 5, 'distance_metric': 'euclidean', 'random_state': 55}. Best is trial 9 with value: 0.4460089237295571.\n",
      "[I 2024-09-23 07:49:10,237] Trial 151 finished with value: 0.2919436250327966 and parameters: {'n_clusters': 6, 'distance_metric': 'euclidean', 'random_state': 18}. Best is trial 9 with value: 0.4460089237295571.\n",
      "[I 2024-09-23 07:49:10,277] Trial 152 finished with value: 0.14780471531578565 and parameters: {'n_clusters': 9, 'distance_metric': 'minkowski', 'random_state': 81}. Best is trial 9 with value: 0.4460089237295571.\n",
      "[I 2024-09-23 07:49:10,303] Trial 153 finished with value: 0.11521907064766725 and parameters: {'n_clusters': 8, 'distance_metric': 'euclidean', 'random_state': 27}. Best is trial 9 with value: 0.4460089237295571.\n",
      "[I 2024-09-23 07:49:10,345] Trial 154 finished with value: 0.23884200146792034 and parameters: {'n_clusters': 6, 'distance_metric': 'minkowski', 'random_state': 9}. Best is trial 9 with value: 0.4460089237295571.\n",
      "[I 2024-09-23 07:49:10,388] Trial 155 finished with value: 0.12886546035601426 and parameters: {'n_clusters': 9, 'distance_metric': 'minkowski', 'random_state': 2}. Best is trial 9 with value: 0.4460089237295571.\n",
      "[I 2024-09-23 07:49:10,414] Trial 156 finished with value: 0.44949191452737364 and parameters: {'n_clusters': 3, 'distance_metric': 'euclidean', 'random_state': 32}. Best is trial 156 with value: 0.44949191452737364.\n",
      "[I 2024-09-23 07:49:10,441] Trial 157 finished with value: 0.10021240638835803 and parameters: {'n_clusters': 10, 'distance_metric': 'euclidean', 'random_state': 34}. Best is trial 156 with value: 0.44949191452737364.\n",
      "[I 2024-09-23 07:49:10,468] Trial 158 finished with value: 0.10223454979376526 and parameters: {'n_clusters': 9, 'distance_metric': 'euclidean', 'random_state': 56}. Best is trial 156 with value: 0.44949191452737364.\n",
      "[I 2024-09-23 07:49:10,512] Trial 159 finished with value: 0.1280437414338999 and parameters: {'n_clusters': 8, 'distance_metric': 'minkowski', 'random_state': 39}. Best is trial 156 with value: 0.44949191452737364.\n",
      "[I 2024-09-23 07:49:10,553] Trial 160 finished with value: 0.08707826327942407 and parameters: {'n_clusters': 9, 'distance_metric': 'minkowski', 'random_state': 92}. Best is trial 156 with value: 0.44949191452737364.\n",
      "[I 2024-09-23 07:49:10,595] Trial 161 finished with value: 0.4460089237295571 and parameters: {'n_clusters': 3, 'distance_metric': 'minkowski', 'random_state': 54}. Best is trial 156 with value: 0.44949191452737364.\n",
      "[I 2024-09-23 07:49:10,621] Trial 162 finished with value: 0.39627770889555175 and parameters: {'n_clusters': 4, 'distance_metric': 'euclidean', 'random_state': 49}. Best is trial 156 with value: 0.44949191452737364.\n",
      "[I 2024-09-23 07:49:10,655] Trial 163 finished with value: 0.27385831516071263 and parameters: {'n_clusters': 5, 'distance_metric': 'euclidean', 'random_state': 72}. Best is trial 156 with value: 0.44949191452737364.\n",
      "[I 2024-09-23 07:49:10,699] Trial 164 finished with value: 0.08700770998852715 and parameters: {'n_clusters': 9, 'distance_metric': 'euclidean', 'random_state': 49}. Best is trial 156 with value: 0.44949191452737364.\n",
      "[I 2024-09-23 07:49:10,729] Trial 165 finished with value: 0.14686757997204342 and parameters: {'n_clusters': 8, 'distance_metric': 'euclidean', 'random_state': 68}. Best is trial 156 with value: 0.44949191452737364.\n",
      "[I 2024-09-23 07:49:10,757] Trial 166 finished with value: 0.2913919778646632 and parameters: {'n_clusters': 5, 'distance_metric': 'euclidean', 'random_state': 99}. Best is trial 156 with value: 0.44949191452737364.\n",
      "[I 2024-09-23 07:49:10,801] Trial 167 finished with value: 0.10492664825706541 and parameters: {'n_clusters': 9, 'distance_metric': 'minkowski', 'random_state': 11}. Best is trial 156 with value: 0.44949191452737364.\n",
      "[I 2024-09-23 07:49:10,843] Trial 168 finished with value: 0.28371378307632533 and parameters: {'n_clusters': 5, 'distance_metric': 'minkowski', 'random_state': 28}. Best is trial 156 with value: 0.44949191452737364.\n",
      "[I 2024-09-23 07:49:10,886] Trial 169 finished with value: 0.11315446531365059 and parameters: {'n_clusters': 9, 'distance_metric': 'minkowski', 'random_state': 68}. Best is trial 156 with value: 0.44949191452737364.\n",
      "[I 2024-09-23 07:49:10,929] Trial 170 finished with value: 0.0980020987222402 and parameters: {'n_clusters': 10, 'distance_metric': 'minkowski', 'random_state': 40}. Best is trial 156 with value: 0.44949191452737364.\n",
      "[I 2024-09-23 07:49:10,958] Trial 171 finished with value: 0.19720440718262125 and parameters: {'n_clusters': 6, 'distance_metric': 'euclidean', 'random_state': 100}. Best is trial 156 with value: 0.44949191452737364.\n",
      "[I 2024-09-23 07:49:11,001] Trial 172 finished with value: 0.3241126046752198 and parameters: {'n_clusters': 5, 'distance_metric': 'minkowski', 'random_state': 53}. Best is trial 156 with value: 0.44949191452737364.\n",
      "[I 2024-09-23 07:49:11,029] Trial 173 finished with value: 0.44347702319898546 and parameters: {'n_clusters': 3, 'distance_metric': 'euclidean', 'random_state': 90}. Best is trial 156 with value: 0.44949191452737364.\n",
      "[I 2024-09-23 07:49:11,072] Trial 174 finished with value: 0.21067498867035148 and parameters: {'n_clusters': 6, 'distance_metric': 'minkowski', 'random_state': 89}. Best is trial 156 with value: 0.44949191452737364.\n",
      "[I 2024-09-23 07:49:11,100] Trial 175 finished with value: 0.25230326015373294 and parameters: {'n_clusters': 6, 'distance_metric': 'euclidean', 'random_state': 61}. Best is trial 156 with value: 0.44949191452737364.\n",
      "[I 2024-09-23 07:49:11,144] Trial 176 finished with value: 0.19310793903608253 and parameters: {'n_clusters': 6, 'distance_metric': 'minkowski', 'random_state': 70}. Best is trial 156 with value: 0.44949191452737364.\n",
      "[I 2024-09-23 07:49:11,173] Trial 177 finished with value: 0.3869373299058147 and parameters: {'n_clusters': 4, 'distance_metric': 'euclidean', 'random_state': 78}. Best is trial 156 with value: 0.44949191452737364.\n",
      "[I 2024-09-23 07:49:11,216] Trial 178 finished with value: 0.29194887369893796 and parameters: {'n_clusters': 5, 'distance_metric': 'minkowski', 'random_state': 80}. Best is trial 156 with value: 0.44949191452737364.\n",
      "[I 2024-09-23 07:49:11,260] Trial 179 finished with value: 0.0993977098715251 and parameters: {'n_clusters': 10, 'distance_metric': 'minkowski', 'random_state': 12}. Best is trial 156 with value: 0.44949191452737364.\n",
      "[I 2024-09-23 07:49:11,303] Trial 180 finished with value: 0.31507311711735886 and parameters: {'n_clusters': 5, 'distance_metric': 'minkowski', 'random_state': 16}. Best is trial 156 with value: 0.44949191452737364.\n",
      "[I 2024-09-23 07:49:11,348] Trial 181 finished with value: 0.1171583660399086 and parameters: {'n_clusters': 9, 'distance_metric': 'minkowski', 'random_state': 12}. Best is trial 156 with value: 0.44949191452737364.\n",
      "[I 2024-09-23 07:49:11,392] Trial 182 finished with value: 0.16271541574165999 and parameters: {'n_clusters': 7, 'distance_metric': 'minkowski', 'random_state': 78}. Best is trial 156 with value: 0.44949191452737364.\n",
      "[I 2024-09-23 07:49:11,437] Trial 183 finished with value: 0.21067498867035148 and parameters: {'n_clusters': 6, 'distance_metric': 'minkowski', 'random_state': 34}. Best is trial 156 with value: 0.44949191452737364.\n",
      "[I 2024-09-23 07:49:11,465] Trial 184 finished with value: 0.4460089237295571 and parameters: {'n_clusters': 3, 'distance_metric': 'euclidean', 'random_state': 86}. Best is trial 156 with value: 0.44949191452737364.\n",
      "[I 2024-09-23 07:49:11,494] Trial 185 finished with value: 0.29988715714810826 and parameters: {'n_clusters': 5, 'distance_metric': 'euclidean', 'random_state': 34}. Best is trial 156 with value: 0.44949191452737364.\n",
      "[I 2024-09-23 07:49:11,540] Trial 186 finished with value: 0.12497605675248226 and parameters: {'n_clusters': 8, 'distance_metric': 'minkowski', 'random_state': 78}. Best is trial 156 with value: 0.44949191452737364.\n",
      "[I 2024-09-23 07:49:11,570] Trial 187 finished with value: 0.09237964731115036 and parameters: {'n_clusters': 10, 'distance_metric': 'euclidean', 'random_state': 61}. Best is trial 156 with value: 0.44949191452737364.\n",
      "[I 2024-09-23 07:49:11,601] Trial 188 finished with value: 0.27712721159311693 and parameters: {'n_clusters': 5, 'distance_metric': 'euclidean', 'random_state': 41}. Best is trial 156 with value: 0.44949191452737364.\n",
      "[I 2024-09-23 07:49:11,631] Trial 189 finished with value: 0.15563301883936162 and parameters: {'n_clusters': 9, 'distance_metric': 'euclidean', 'random_state': 87}. Best is trial 156 with value: 0.44949191452737364.\n",
      "[I 2024-09-23 07:49:11,665] Trial 190 finished with value: 0.11721563001312137 and parameters: {'n_clusters': 10, 'distance_metric': 'euclidean', 'random_state': 63}. Best is trial 156 with value: 0.44949191452737364.\n",
      "[I 2024-09-23 07:49:11,696] Trial 191 finished with value: 0.32740481706628816 and parameters: {'n_clusters': 5, 'distance_metric': 'euclidean', 'random_state': 5}. Best is trial 156 with value: 0.44949191452737364.\n",
      "[I 2024-09-23 07:49:11,741] Trial 192 finished with value: 0.1540501670071308 and parameters: {'n_clusters': 8, 'distance_metric': 'minkowski', 'random_state': 1}. Best is trial 156 with value: 0.44949191452737364.\n",
      "[I 2024-09-23 07:49:11,772] Trial 193 finished with value: 0.16665708143638355 and parameters: {'n_clusters': 8, 'distance_metric': 'euclidean', 'random_state': 81}. Best is trial 156 with value: 0.44949191452737364.\n",
      "[I 2024-09-23 07:49:11,817] Trial 194 finished with value: 0.36919699265851214 and parameters: {'n_clusters': 4, 'distance_metric': 'minkowski', 'random_state': 66}. Best is trial 156 with value: 0.44949191452737364.\n",
      "[I 2024-09-23 07:49:11,847] Trial 195 finished with value: 0.37950677124645577 and parameters: {'n_clusters': 4, 'distance_metric': 'euclidean', 'random_state': 72}. Best is trial 156 with value: 0.44949191452737364.\n",
      "[I 2024-09-23 07:49:11,877] Trial 196 finished with value: 0.13209099289788168 and parameters: {'n_clusters': 8, 'distance_metric': 'euclidean', 'random_state': 66}. Best is trial 156 with value: 0.44949191452737364.\n",
      "[I 2024-09-23 07:49:11,908] Trial 197 finished with value: 0.14301327654795984 and parameters: {'n_clusters': 10, 'distance_metric': 'euclidean', 'random_state': 23}. Best is trial 156 with value: 0.44949191452737364.\n",
      "[I 2024-09-23 07:49:11,939] Trial 198 finished with value: 0.21773694574666336 and parameters: {'n_clusters': 7, 'distance_metric': 'euclidean', 'random_state': 3}. Best is trial 156 with value: 0.44949191452737364.\n",
      "[I 2024-09-23 07:49:11,971] Trial 199 finished with value: 0.2967204365430104 and parameters: {'n_clusters': 5, 'distance_metric': 'euclidean', 'random_state': 30}. Best is trial 156 with value: 0.44949191452737364.\n",
      "[I 2024-09-23 07:49:12,002] Trial 200 finished with value: 0.29864873818585097 and parameters: {'n_clusters': 5, 'distance_metric': 'euclidean', 'random_state': 69}. Best is trial 156 with value: 0.44949191452737364.\n",
      "[I 2024-09-23 07:49:12,033] Trial 201 finished with value: 0.44347702319898546 and parameters: {'n_clusters': 3, 'distance_metric': 'euclidean', 'random_state': 15}. Best is trial 156 with value: 0.44949191452737364.\n",
      "[I 2024-09-23 07:49:12,079] Trial 202 finished with value: 0.4460089237295571 and parameters: {'n_clusters': 3, 'distance_metric': 'minkowski', 'random_state': 40}. Best is trial 156 with value: 0.44949191452737364.\n",
      "[I 2024-09-23 07:49:12,126] Trial 203 finished with value: 0.13259926008253933 and parameters: {'n_clusters': 9, 'distance_metric': 'minkowski', 'random_state': 99}. Best is trial 156 with value: 0.44949191452737364.\n",
      "[I 2024-09-23 07:49:12,164] Trial 204 finished with value: 0.23304829909442015 and parameters: {'n_clusters': 6, 'distance_metric': 'euclidean', 'random_state': 48}. Best is trial 156 with value: 0.44949191452737364.\n",
      "[I 2024-09-23 07:49:12,197] Trial 205 finished with value: 0.22455912363246244 and parameters: {'n_clusters': 6, 'distance_metric': 'euclidean', 'random_state': 43}. Best is trial 156 with value: 0.44949191452737364.\n",
      "[I 2024-09-23 07:49:12,244] Trial 206 finished with value: 0.1611978056286646 and parameters: {'n_clusters': 10, 'distance_metric': 'minkowski', 'random_state': 16}. Best is trial 156 with value: 0.44949191452737364.\n",
      "[I 2024-09-23 07:49:12,276] Trial 207 finished with value: 0.3136855891458572 and parameters: {'n_clusters': 4, 'distance_metric': 'euclidean', 'random_state': 60}. Best is trial 156 with value: 0.44949191452737364.\n",
      "[I 2024-09-23 07:49:12,323] Trial 208 finished with value: 0.14686757997204344 and parameters: {'n_clusters': 8, 'distance_metric': 'minkowski', 'random_state': 68}. Best is trial 156 with value: 0.44949191452737364.\n",
      "[I 2024-09-23 07:49:12,370] Trial 209 finished with value: 0.2715643774901262 and parameters: {'n_clusters': 6, 'distance_metric': 'minkowski', 'random_state': 62}. Best is trial 156 with value: 0.44949191452737364.\n",
      "[I 2024-09-23 07:49:12,404] Trial 210 finished with value: 0.13572400050982214 and parameters: {'n_clusters': 8, 'distance_metric': 'euclidean', 'random_state': 73}. Best is trial 156 with value: 0.44949191452737364.\n",
      "[I 2024-09-23 07:49:12,453] Trial 211 finished with value: 0.15320203229109428 and parameters: {'n_clusters': 10, 'distance_metric': 'minkowski', 'random_state': 71}. Best is trial 156 with value: 0.44949191452737364.\n",
      "[I 2024-09-23 07:49:12,487] Trial 212 finished with value: 0.1264040069735333 and parameters: {'n_clusters': 9, 'distance_metric': 'euclidean', 'random_state': 73}. Best is trial 156 with value: 0.44949191452737364.\n",
      "[I 2024-09-23 07:49:12,538] Trial 213 finished with value: 0.2201146963705826 and parameters: {'n_clusters': 7, 'distance_metric': 'euclidean', 'random_state': 62}. Best is trial 156 with value: 0.44949191452737364.\n",
      "[I 2024-09-23 07:49:12,571] Trial 214 finished with value: 0.44347702319898546 and parameters: {'n_clusters': 3, 'distance_metric': 'euclidean', 'random_state': 18}. Best is trial 156 with value: 0.44949191452737364.\n",
      "[I 2024-09-23 07:49:12,605] Trial 215 finished with value: 0.1628805592702409 and parameters: {'n_clusters': 7, 'distance_metric': 'euclidean', 'random_state': 68}. Best is trial 156 with value: 0.44949191452737364.\n",
      "[I 2024-09-23 07:49:12,638] Trial 216 finished with value: 0.3371127701313169 and parameters: {'n_clusters': 4, 'distance_metric': 'euclidean', 'random_state': 23}. Best is trial 156 with value: 0.44949191452737364.\n",
      "[I 2024-09-23 07:49:12,687] Trial 217 finished with value: 0.19998839897309864 and parameters: {'n_clusters': 6, 'distance_metric': 'minkowski', 'random_state': 55}. Best is trial 156 with value: 0.44949191452737364.\n",
      "[I 2024-09-23 07:49:12,720] Trial 218 finished with value: 0.19456496223841263 and parameters: {'n_clusters': 7, 'distance_metric': 'euclidean', 'random_state': 88}. Best is trial 156 with value: 0.44949191452737364.\n",
      "[I 2024-09-23 07:49:12,754] Trial 219 finished with value: 0.1265461425972967 and parameters: {'n_clusters': 9, 'distance_metric': 'euclidean', 'random_state': 88}. Best is trial 156 with value: 0.44949191452737364.\n",
      "[I 2024-09-23 07:49:12,803] Trial 220 finished with value: 0.4460089237295571 and parameters: {'n_clusters': 3, 'distance_metric': 'minkowski', 'random_state': 19}. Best is trial 156 with value: 0.44949191452737364.\n",
      "[I 2024-09-23 07:49:12,839] Trial 221 finished with value: 0.330170259660262 and parameters: {'n_clusters': 4, 'distance_metric': 'euclidean', 'random_state': 93}. Best is trial 156 with value: 0.44949191452737364.\n",
      "[I 2024-09-23 07:49:12,873] Trial 222 finished with value: 0.44347702319898546 and parameters: {'n_clusters': 3, 'distance_metric': 'euclidean', 'random_state': 5}. Best is trial 156 with value: 0.44949191452737364.\n",
      "[I 2024-09-23 07:49:12,922] Trial 223 finished with value: 0.12642670461481725 and parameters: {'n_clusters': 10, 'distance_metric': 'minkowski', 'random_state': 10}. Best is trial 156 with value: 0.44949191452737364.\n",
      "[I 2024-09-23 07:49:12,973] Trial 224 finished with value: 0.3795067712464558 and parameters: {'n_clusters': 4, 'distance_metric': 'minkowski', 'random_state': 72}. Best is trial 156 with value: 0.44949191452737364.\n",
      "[I 2024-09-23 07:49:13,008] Trial 225 finished with value: 0.1205724971688324 and parameters: {'n_clusters': 10, 'distance_metric': 'euclidean', 'random_state': 14}. Best is trial 156 with value: 0.44949191452737364.\n",
      "[I 2024-09-23 07:49:13,043] Trial 226 finished with value: 0.29362000576821357 and parameters: {'n_clusters': 5, 'distance_metric': 'euclidean', 'random_state': 61}. Best is trial 156 with value: 0.44949191452737364.\n",
      "[I 2024-09-23 07:49:13,093] Trial 227 finished with value: 0.15228524406644411 and parameters: {'n_clusters': 7, 'distance_metric': 'minkowski', 'random_state': 25}. Best is trial 156 with value: 0.44949191452737364.\n",
      "[I 2024-09-23 07:49:13,142] Trial 228 finished with value: 0.3946778205022724 and parameters: {'n_clusters': 4, 'distance_metric': 'minkowski', 'random_state': 24}. Best is trial 156 with value: 0.44949191452737364.\n",
      "[I 2024-09-23 07:49:13,192] Trial 229 finished with value: 0.4460089237295571 and parameters: {'n_clusters': 3, 'distance_metric': 'minkowski', 'random_state': 21}. Best is trial 156 with value: 0.44949191452737364.\n",
      "[I 2024-09-23 07:49:13,228] Trial 230 finished with value: 0.16854772520528763 and parameters: {'n_clusters': 8, 'distance_metric': 'euclidean', 'random_state': 20}. Best is trial 156 with value: 0.44949191452737364.\n",
      "[I 2024-09-23 07:49:13,264] Trial 231 finished with value: 0.4460089237295571 and parameters: {'n_clusters': 3, 'distance_metric': 'euclidean', 'random_state': 53}. Best is trial 156 with value: 0.44949191452737364.\n",
      "[I 2024-09-23 07:49:13,314] Trial 232 finished with value: 0.21964679431404802 and parameters: {'n_clusters': 6, 'distance_metric': 'minkowski', 'random_state': 6}. Best is trial 156 with value: 0.44949191452737364.\n",
      "[I 2024-09-23 07:49:13,350] Trial 233 finished with value: 0.15721973307377007 and parameters: {'n_clusters': 7, 'distance_metric': 'euclidean', 'random_state': 41}. Best is trial 156 with value: 0.44949191452737364.\n",
      "[I 2024-09-23 07:49:13,400] Trial 234 finished with value: 0.23696881456629973 and parameters: {'n_clusters': 5, 'distance_metric': 'minkowski', 'random_state': 33}. Best is trial 156 with value: 0.44949191452737364.\n",
      "[I 2024-09-23 07:49:13,449] Trial 235 finished with value: 0.32151981596417994 and parameters: {'n_clusters': 5, 'distance_metric': 'minkowski', 'random_state': 77}. Best is trial 156 with value: 0.44949191452737364.\n",
      "[I 2024-09-23 07:49:13,500] Trial 236 finished with value: 0.21686985384153284 and parameters: {'n_clusters': 7, 'distance_metric': 'minkowski', 'random_state': 92}. Best is trial 156 with value: 0.44949191452737364.\n",
      "[I 2024-09-23 07:49:13,551] Trial 237 finished with value: 0.4460089237295571 and parameters: {'n_clusters': 3, 'distance_metric': 'minkowski', 'random_state': 99}. Best is trial 156 with value: 0.44949191452737364.\n",
      "[I 2024-09-23 07:49:13,602] Trial 238 finished with value: 0.08594998256784202 and parameters: {'n_clusters': 10, 'distance_metric': 'minkowski', 'random_state': 18}. Best is trial 156 with value: 0.44949191452737364.\n",
      "[I 2024-09-23 07:49:13,658] Trial 239 finished with value: 0.12959006405356188 and parameters: {'n_clusters': 10, 'distance_metric': 'minkowski', 'random_state': 91}. Best is trial 156 with value: 0.44949191452737364.\n",
      "[I 2024-09-23 07:49:13,709] Trial 240 finished with value: 0.1466250221518083 and parameters: {'n_clusters': 7, 'distance_metric': 'minkowski', 'random_state': 72}. Best is trial 156 with value: 0.44949191452737364.\n",
      "[I 2024-09-23 07:49:13,744] Trial 241 finished with value: 0.16169744335805822 and parameters: {'n_clusters': 7, 'distance_metric': 'euclidean', 'random_state': 59}. Best is trial 156 with value: 0.44949191452737364.\n",
      "[I 2024-09-23 07:49:13,780] Trial 242 finished with value: 0.11956715822703273 and parameters: {'n_clusters': 10, 'distance_metric': 'euclidean', 'random_state': 47}. Best is trial 156 with value: 0.44949191452737364.\n",
      "[I 2024-09-23 07:49:13,832] Trial 243 finished with value: 0.23304829909442012 and parameters: {'n_clusters': 6, 'distance_metric': 'minkowski', 'random_state': 48}. Best is trial 156 with value: 0.44949191452737364.\n",
      "[I 2024-09-23 07:49:13,884] Trial 244 finished with value: 0.3391329276521928 and parameters: {'n_clusters': 4, 'distance_metric': 'minkowski', 'random_state': 97}. Best is trial 156 with value: 0.44949191452737364.\n",
      "[I 2024-09-23 07:49:13,920] Trial 245 finished with value: 0.3739956342297244 and parameters: {'n_clusters': 4, 'distance_metric': 'euclidean', 'random_state': 88}. Best is trial 156 with value: 0.44949191452737364.\n",
      "[I 2024-09-23 07:49:13,972] Trial 246 finished with value: 0.16745590975751296 and parameters: {'n_clusters': 8, 'distance_metric': 'minkowski', 'random_state': 98}. Best is trial 156 with value: 0.44949191452737364.\n",
      "[I 2024-09-23 07:49:14,010] Trial 247 finished with value: 0.10596374955999274 and parameters: {'n_clusters': 9, 'distance_metric': 'euclidean', 'random_state': 93}. Best is trial 156 with value: 0.44949191452737364.\n",
      "[I 2024-09-23 07:49:14,061] Trial 248 finished with value: 0.3795587758144503 and parameters: {'n_clusters': 4, 'distance_metric': 'minkowski', 'random_state': 17}. Best is trial 156 with value: 0.44949191452737364.\n",
      "[I 2024-09-23 07:49:14,113] Trial 249 finished with value: 0.1741380995731886 and parameters: {'n_clusters': 9, 'distance_metric': 'minkowski', 'random_state': 65}. Best is trial 156 with value: 0.44949191452737364.\n",
      "[I 2024-09-23 07:49:14,166] Trial 250 finished with value: 0.1419016470150237 and parameters: {'n_clusters': 10, 'distance_metric': 'minkowski', 'random_state': 39}. Best is trial 156 with value: 0.44949191452737364.\n",
      "[I 2024-09-23 07:49:14,218] Trial 251 finished with value: 0.2793446466805525 and parameters: {'n_clusters': 6, 'distance_metric': 'minkowski', 'random_state': 11}. Best is trial 156 with value: 0.44949191452737364.\n",
      "[I 2024-09-23 07:49:14,257] Trial 252 finished with value: 0.10169880875659211 and parameters: {'n_clusters': 9, 'distance_metric': 'euclidean', 'random_state': 79}. Best is trial 156 with value: 0.44949191452737364.\n",
      "[I 2024-09-23 07:49:14,311] Trial 253 finished with value: 0.130652372754162 and parameters: {'n_clusters': 10, 'distance_metric': 'minkowski', 'random_state': 21}. Best is trial 156 with value: 0.44949191452737364.\n",
      "[I 2024-09-23 07:49:14,363] Trial 254 finished with value: 0.38967931998710137 and parameters: {'n_clusters': 4, 'distance_metric': 'minkowski', 'random_state': 95}. Best is trial 156 with value: 0.44949191452737364.\n",
      "[I 2024-09-23 07:49:14,402] Trial 255 finished with value: 0.1536125642597163 and parameters: {'n_clusters': 7, 'distance_metric': 'euclidean', 'random_state': 83}. Best is trial 156 with value: 0.44949191452737364.\n",
      "[I 2024-09-23 07:49:14,439] Trial 256 finished with value: 0.38967931998710137 and parameters: {'n_clusters': 4, 'distance_metric': 'euclidean', 'random_state': 34}. Best is trial 156 with value: 0.44949191452737364.\n",
      "[I 2024-09-23 07:49:14,476] Trial 257 finished with value: 0.292271406292727 and parameters: {'n_clusters': 5, 'distance_metric': 'euclidean', 'random_state': 3}. Best is trial 156 with value: 0.44949191452737364.\n",
      "[I 2024-09-23 07:49:14,545] Trial 258 finished with value: 0.31456802508838794 and parameters: {'n_clusters': 5, 'distance_metric': 'minkowski', 'random_state': 2}. Best is trial 156 with value: 0.44949191452737364.\n",
      "[I 2024-09-23 07:49:14,598] Trial 259 finished with value: 0.3040481447772355 and parameters: {'n_clusters': 5, 'distance_metric': 'minkowski', 'random_state': 56}. Best is trial 156 with value: 0.44949191452737364.\n",
      "[I 2024-09-23 07:49:14,637] Trial 260 finished with value: 0.1711532816375673 and parameters: {'n_clusters': 7, 'distance_metric': 'euclidean', 'random_state': 26}. Best is trial 156 with value: 0.44949191452737364.\n",
      "[I 2024-09-23 07:49:14,675] Trial 261 finished with value: 0.12943261283025312 and parameters: {'n_clusters': 10, 'distance_metric': 'euclidean', 'random_state': 69}. Best is trial 156 with value: 0.44949191452737364.\n",
      "[I 2024-09-23 07:49:14,728] Trial 262 finished with value: 0.44347702319898546 and parameters: {'n_clusters': 3, 'distance_metric': 'minkowski', 'random_state': 97}. Best is trial 156 with value: 0.44949191452737364.\n",
      "[I 2024-09-23 07:49:14,766] Trial 263 finished with value: 0.37950677124645577 and parameters: {'n_clusters': 4, 'distance_metric': 'euclidean', 'random_state': 43}. Best is trial 156 with value: 0.44949191452737364.\n",
      "[I 2024-09-23 07:49:14,805] Trial 264 finished with value: 0.24998759573981955 and parameters: {'n_clusters': 8, 'distance_metric': 'euclidean', 'random_state': 75}. Best is trial 156 with value: 0.44949191452737364.\n",
      "[I 2024-09-23 07:49:14,845] Trial 265 finished with value: 0.1002750850506628 and parameters: {'n_clusters': 10, 'distance_metric': 'euclidean', 'random_state': 5}. Best is trial 156 with value: 0.44949191452737364.\n",
      "[I 2024-09-23 07:49:14,899] Trial 266 finished with value: 0.29227140629272697 and parameters: {'n_clusters': 5, 'distance_metric': 'minkowski', 'random_state': 3}. Best is trial 156 with value: 0.44949191452737364.\n",
      "[I 2024-09-23 07:49:14,937] Trial 267 finished with value: 0.38967931998710137 and parameters: {'n_clusters': 4, 'distance_metric': 'euclidean', 'random_state': 71}. Best is trial 156 with value: 0.44949191452737364.\n",
      "[I 2024-09-23 07:49:14,978] Trial 268 finished with value: 0.2990437348015364 and parameters: {'n_clusters': 5, 'distance_metric': 'euclidean', 'random_state': 79}. Best is trial 156 with value: 0.44949191452737364.\n",
      "[I 2024-09-23 07:49:15,023] Trial 269 finished with value: 0.12518124362646071 and parameters: {'n_clusters': 10, 'distance_metric': 'euclidean', 'random_state': 4}. Best is trial 156 with value: 0.44949191452737364.\n",
      "[I 2024-09-23 07:49:15,064] Trial 270 finished with value: 0.14263811961338085 and parameters: {'n_clusters': 9, 'distance_metric': 'euclidean', 'random_state': 94}. Best is trial 156 with value: 0.44949191452737364.\n",
      "[I 2024-09-23 07:49:15,118] Trial 271 finished with value: 0.14019095973116033 and parameters: {'n_clusters': 6, 'distance_metric': 'minkowski', 'random_state': 58}. Best is trial 156 with value: 0.44949191452737364.\n",
      "[I 2024-09-23 07:49:15,173] Trial 272 finished with value: 0.10667635333306172 and parameters: {'n_clusters': 10, 'distance_metric': 'minkowski', 'random_state': 24}. Best is trial 156 with value: 0.44949191452737364.\n",
      "[I 2024-09-23 07:49:15,213] Trial 273 finished with value: 0.44347702319898546 and parameters: {'n_clusters': 3, 'distance_metric': 'euclidean', 'random_state': 23}. Best is trial 156 with value: 0.44949191452737364.\n",
      "[I 2024-09-23 07:49:15,268] Trial 274 finished with value: 0.12513836037741324 and parameters: {'n_clusters': 8, 'distance_metric': 'minkowski', 'random_state': 58}. Best is trial 156 with value: 0.44949191452737364.\n",
      "[I 2024-09-23 07:49:15,307] Trial 275 finished with value: 0.4460089237295571 and parameters: {'n_clusters': 3, 'distance_metric': 'euclidean', 'random_state': 46}. Best is trial 156 with value: 0.44949191452737364.\n",
      "[I 2024-09-23 07:49:15,363] Trial 276 finished with value: 0.08864988299462828 and parameters: {'n_clusters': 10, 'distance_metric': 'minkowski', 'random_state': 42}. Best is trial 156 with value: 0.44949191452737364.\n",
      "[I 2024-09-23 07:49:15,404] Trial 277 finished with value: 0.15020360194451707 and parameters: {'n_clusters': 8, 'distance_metric': 'euclidean', 'random_state': 37}. Best is trial 156 with value: 0.44949191452737364.\n",
      "[I 2024-09-23 07:49:15,445] Trial 278 finished with value: 0.21658542147348855 and parameters: {'n_clusters': 7, 'distance_metric': 'euclidean', 'random_state': 82}. Best is trial 156 with value: 0.44949191452737364.\n",
      "[I 2024-09-23 07:49:15,500] Trial 279 finished with value: 0.16607243484813777 and parameters: {'n_clusters': 7, 'distance_metric': 'minkowski', 'random_state': 54}. Best is trial 156 with value: 0.44949191452737364.\n",
      "[I 2024-09-23 07:49:15,555] Trial 280 finished with value: 0.07930658910259808 and parameters: {'n_clusters': 10, 'distance_metric': 'minkowski', 'random_state': 33}. Best is trial 156 with value: 0.44949191452737364.\n",
      "[I 2024-09-23 07:49:15,596] Trial 281 finished with value: 0.1491887072670604 and parameters: {'n_clusters': 9, 'distance_metric': 'euclidean', 'random_state': 3}. Best is trial 156 with value: 0.44949191452737364.\n",
      "[I 2024-09-23 07:49:15,638] Trial 282 finished with value: 0.22476038881380817 and parameters: {'n_clusters': 6, 'distance_metric': 'euclidean', 'random_state': 54}. Best is trial 156 with value: 0.44949191452737364.\n",
      "[I 2024-09-23 07:49:15,693] Trial 283 finished with value: 0.17367074120591894 and parameters: {'n_clusters': 8, 'distance_metric': 'minkowski', 'random_state': 52}. Best is trial 156 with value: 0.44949191452737364.\n",
      "[I 2024-09-23 07:49:15,734] Trial 284 finished with value: 0.44347702319898546 and parameters: {'n_clusters': 3, 'distance_metric': 'euclidean', 'random_state': 28}. Best is trial 156 with value: 0.44949191452737364.\n",
      "[I 2024-09-23 07:49:15,791] Trial 285 finished with value: 0.24578566431999524 and parameters: {'n_clusters': 6, 'distance_metric': 'minkowski', 'random_state': 74}. Best is trial 156 with value: 0.44949191452737364.\n",
      "[I 2024-09-23 07:49:15,832] Trial 286 finished with value: 0.13676108631273684 and parameters: {'n_clusters': 9, 'distance_metric': 'euclidean', 'random_state': 47}. Best is trial 156 with value: 0.44949191452737364.\n",
      "[I 2024-09-23 07:49:15,893] Trial 287 finished with value: 0.44347702319898546 and parameters: {'n_clusters': 3, 'distance_metric': 'minkowski', 'random_state': 98}. Best is trial 156 with value: 0.44949191452737364.\n",
      "[I 2024-09-23 07:49:15,950] Trial 288 finished with value: 0.13619033234907735 and parameters: {'n_clusters': 9, 'distance_metric': 'minkowski', 'random_state': 51}. Best is trial 156 with value: 0.44949191452737364.\n",
      "[I 2024-09-23 07:49:16,007] Trial 289 finished with value: 0.2245591236324624 and parameters: {'n_clusters': 6, 'distance_metric': 'minkowski', 'random_state': 43}. Best is trial 156 with value: 0.44949191452737364.\n",
      "[I 2024-09-23 07:49:16,065] Trial 290 finished with value: 0.30870436256257 and parameters: {'n_clusters': 4, 'distance_metric': 'minkowski', 'random_state': 69}. Best is trial 156 with value: 0.44949191452737364.\n",
      "[I 2024-09-23 07:49:16,123] Trial 291 finished with value: 0.20872301692255207 and parameters: {'n_clusters': 6, 'distance_metric': 'minkowski', 'random_state': 81}. Best is trial 156 with value: 0.44949191452737364.\n",
      "[I 2024-09-23 07:49:16,181] Trial 292 finished with value: 0.25853849357191444 and parameters: {'n_clusters': 6, 'distance_metric': 'minkowski', 'random_state': 98}. Best is trial 156 with value: 0.44949191452737364.\n",
      "[I 2024-09-23 07:49:16,223] Trial 293 finished with value: 0.16041226771311723 and parameters: {'n_clusters': 8, 'distance_metric': 'euclidean', 'random_state': 31}. Best is trial 156 with value: 0.44949191452737364.\n",
      "[I 2024-09-23 07:49:16,281] Trial 294 finished with value: 0.1825255371096173 and parameters: {'n_clusters': 7, 'distance_metric': 'minkowski', 'random_state': 14}. Best is trial 156 with value: 0.44949191452737364.\n",
      "[I 2024-09-23 07:49:16,325] Trial 295 finished with value: 0.2793446466805525 and parameters: {'n_clusters': 6, 'distance_metric': 'euclidean', 'random_state': 11}. Best is trial 156 with value: 0.44949191452737364.\n",
      "[I 2024-09-23 07:49:16,367] Trial 296 finished with value: 0.44347702319898546 and parameters: {'n_clusters': 3, 'distance_metric': 'euclidean', 'random_state': 3}. Best is trial 156 with value: 0.44949191452737364.\n",
      "[I 2024-09-23 07:49:16,416] Trial 297 finished with value: 0.10243626057465752 and parameters: {'n_clusters': 10, 'distance_metric': 'euclidean', 'random_state': 96}. Best is trial 156 with value: 0.44949191452737364.\n",
      "[I 2024-09-23 07:49:16,460] Trial 298 finished with value: 0.23884200146792034 and parameters: {'n_clusters': 6, 'distance_metric': 'euclidean', 'random_state': 9}. Best is trial 156 with value: 0.44949191452737364.\n",
      "[I 2024-09-23 07:49:16,503] Trial 299 finished with value: 0.1265020236653295 and parameters: {'n_clusters': 10, 'distance_metric': 'euclidean', 'random_state': 17}. Best is trial 156 with value: 0.44949191452737364.\n",
      "[I 2024-09-23 07:49:16,565] Trial 300 finished with value: 0.30978966396373886 and parameters: {'n_clusters': 5, 'distance_metric': 'euclidean', 'random_state': 12}. Best is trial 156 with value: 0.44949191452737364.\n",
      "[I 2024-09-23 07:49:16,609] Trial 301 finished with value: 0.12806679421864026 and parameters: {'n_clusters': 8, 'distance_metric': 'euclidean', 'random_state': 14}. Best is trial 156 with value: 0.44949191452737364.\n",
      "[I 2024-09-23 07:49:16,653] Trial 302 finished with value: 0.20917338188445436 and parameters: {'n_clusters': 7, 'distance_metric': 'euclidean', 'random_state': 28}. Best is trial 156 with value: 0.44949191452737364.\n",
      "[I 2024-09-23 07:49:16,711] Trial 303 finished with value: 0.24585344260236028 and parameters: {'n_clusters': 6, 'distance_metric': 'minkowski', 'random_state': 95}. Best is trial 156 with value: 0.44949191452737364.\n",
      "[I 2024-09-23 07:49:16,755] Trial 304 finished with value: 0.11315446531365066 and parameters: {'n_clusters': 9, 'distance_metric': 'euclidean', 'random_state': 68}. Best is trial 156 with value: 0.44949191452737364.\n",
      "[I 2024-09-23 07:49:16,815] Trial 305 finished with value: 0.1634275694137745 and parameters: {'n_clusters': 8, 'distance_metric': 'minkowski', 'random_state': 47}. Best is trial 156 with value: 0.44949191452737364.\n",
      "[I 2024-09-23 07:49:16,858] Trial 306 finished with value: 0.1045431642928044 and parameters: {'n_clusters': 9, 'distance_metric': 'euclidean', 'random_state': 57}. Best is trial 156 with value: 0.44949191452737364.\n",
      "[I 2024-09-23 07:49:16,917] Trial 307 finished with value: 0.29178883176557063 and parameters: {'n_clusters': 5, 'distance_metric': 'minkowski', 'random_state': 93}. Best is trial 156 with value: 0.44949191452737364.\n",
      "[I 2024-09-23 07:49:16,960] Trial 308 finished with value: 0.44347702319898546 and parameters: {'n_clusters': 3, 'distance_metric': 'euclidean', 'random_state': 97}. Best is trial 156 with value: 0.44949191452737364.\n",
      "[I 2024-09-23 07:49:17,005] Trial 309 finished with value: 0.3345292811708493 and parameters: {'n_clusters': 4, 'distance_metric': 'euclidean', 'random_state': 79}. Best is trial 156 with value: 0.44949191452737364.\n",
      "[I 2024-09-23 07:49:17,049] Trial 310 finished with value: 0.39467782050227246 and parameters: {'n_clusters': 4, 'distance_metric': 'euclidean', 'random_state': 9}. Best is trial 156 with value: 0.44949191452737364.\n",
      "[I 2024-09-23 07:49:17,108] Trial 311 finished with value: 0.14745171393035592 and parameters: {'n_clusters': 8, 'distance_metric': 'minkowski', 'random_state': 70}. Best is trial 156 with value: 0.44949191452737364.\n",
      "[I 2024-09-23 07:49:17,167] Trial 312 finished with value: 0.4460089237295571 and parameters: {'n_clusters': 3, 'distance_metric': 'minkowski', 'random_state': 29}. Best is trial 156 with value: 0.44949191452737364.\n",
      "[I 2024-09-23 07:49:17,227] Trial 313 finished with value: 0.2288535115789603 and parameters: {'n_clusters': 7, 'distance_metric': 'minkowski', 'random_state': 18}. Best is trial 156 with value: 0.44949191452737364.\n",
      "[I 2024-09-23 07:49:17,286] Trial 314 finished with value: 0.15399473763291513 and parameters: {'n_clusters': 8, 'distance_metric': 'minkowski', 'random_state': 60}. Best is trial 156 with value: 0.44949191452737364.\n",
      "[I 2024-09-23 07:49:17,331] Trial 315 finished with value: 0.11703120134476112 and parameters: {'n_clusters': 8, 'distance_metric': 'euclidean', 'random_state': 84}. Best is trial 156 with value: 0.44949191452737364.\n",
      "[I 2024-09-23 07:49:17,375] Trial 316 finished with value: 0.4460089237295571 and parameters: {'n_clusters': 3, 'distance_metric': 'euclidean', 'random_state': 2}. Best is trial 156 with value: 0.44949191452737364.\n",
      "[I 2024-09-23 07:49:17,436] Trial 317 finished with value: 0.12766231146367193 and parameters: {'n_clusters': 10, 'distance_metric': 'minkowski', 'random_state': 67}. Best is trial 156 with value: 0.44949191452737364.\n",
      "[I 2024-09-23 07:49:17,483] Trial 318 finished with value: 0.1382373007707793 and parameters: {'n_clusters': 8, 'distance_metric': 'euclidean', 'random_state': 55}. Best is trial 156 with value: 0.44949191452737364.\n",
      "[I 2024-09-23 07:49:17,544] Trial 319 finished with value: 0.185937251194408 and parameters: {'n_clusters': 8, 'distance_metric': 'minkowski', 'random_state': 24}. Best is trial 156 with value: 0.44949191452737364.\n",
      "[I 2024-09-23 07:49:17,591] Trial 320 finished with value: 0.1377344815669576 and parameters: {'n_clusters': 10, 'distance_metric': 'euclidean', 'random_state': 29}. Best is trial 156 with value: 0.44949191452737364.\n",
      "[I 2024-09-23 07:49:17,637] Trial 321 finished with value: 0.4460089237295571 and parameters: {'n_clusters': 3, 'distance_metric': 'euclidean', 'random_state': 49}. Best is trial 156 with value: 0.44949191452737364.\n",
      "[I 2024-09-23 07:49:17,690] Trial 322 finished with value: 0.0876193111029536 and parameters: {'n_clusters': 9, 'distance_metric': 'euclidean', 'random_state': 45}. Best is trial 156 with value: 0.44949191452737364.\n",
      "[I 2024-09-23 07:49:17,739] Trial 323 finished with value: 0.18106329492989046 and parameters: {'n_clusters': 9, 'distance_metric': 'euclidean', 'random_state': 16}. Best is trial 156 with value: 0.44949191452737364.\n",
      "[I 2024-09-23 07:49:17,789] Trial 324 finished with value: 0.12093488762486033 and parameters: {'n_clusters': 10, 'distance_metric': 'euclidean', 'random_state': 58}. Best is trial 156 with value: 0.44949191452737364.\n",
      "[I 2024-09-23 07:49:17,850] Trial 325 finished with value: 0.44347702319898546 and parameters: {'n_clusters': 3, 'distance_metric': 'minkowski', 'random_state': 65}. Best is trial 156 with value: 0.44949191452737364.\n",
      "[I 2024-09-23 07:49:17,899] Trial 326 finished with value: 0.11107038865231743 and parameters: {'n_clusters': 9, 'distance_metric': 'euclidean', 'random_state': 86}. Best is trial 156 with value: 0.44949191452737364.\n",
      "[I 2024-09-23 07:49:17,964] Trial 327 finished with value: 0.09948130431438065 and parameters: {'n_clusters': 10, 'distance_metric': 'minkowski', 'random_state': 25}. Best is trial 156 with value: 0.44949191452737364.\n",
      "[I 2024-09-23 07:49:18,013] Trial 328 finished with value: 0.16215374676601785 and parameters: {'n_clusters': 7, 'distance_metric': 'euclidean', 'random_state': 60}. Best is trial 156 with value: 0.44949191452737364.\n",
      "[I 2024-09-23 07:49:18,065] Trial 329 finished with value: 0.2860586046658126 and parameters: {'n_clusters': 5, 'distance_metric': 'euclidean', 'random_state': 32}. Best is trial 156 with value: 0.44949191452737364.\n",
      "[I 2024-09-23 07:49:18,130] Trial 330 finished with value: 0.18472559486092885 and parameters: {'n_clusters': 7, 'distance_metric': 'minkowski', 'random_state': 15}. Best is trial 156 with value: 0.44949191452737364.\n",
      "[I 2024-09-23 07:49:18,206] Trial 331 finished with value: 0.31507311711735886 and parameters: {'n_clusters': 5, 'distance_metric': 'euclidean', 'random_state': 16}. Best is trial 156 with value: 0.44949191452737364.\n",
      "[I 2024-09-23 07:49:18,262] Trial 332 finished with value: 0.12620608436188682 and parameters: {'n_clusters': 9, 'distance_metric': 'euclidean', 'random_state': 67}. Best is trial 156 with value: 0.44949191452737364.\n",
      "[I 2024-09-23 07:49:18,309] Trial 333 finished with value: 0.44347702319898546 and parameters: {'n_clusters': 3, 'distance_metric': 'euclidean', 'random_state': 56}. Best is trial 156 with value: 0.44949191452737364.\n",
      "[I 2024-09-23 07:49:18,357] Trial 334 finished with value: 0.09948130431438075 and parameters: {'n_clusters': 10, 'distance_metric': 'euclidean', 'random_state': 25}. Best is trial 156 with value: 0.44949191452737364.\n",
      "[I 2024-09-23 07:49:18,420] Trial 335 finished with value: 0.4460089237295571 and parameters: {'n_clusters': 3, 'distance_metric': 'minkowski', 'random_state': 9}. Best is trial 156 with value: 0.44949191452737364.\n",
      "[I 2024-09-23 07:49:18,484] Trial 336 finished with value: 0.37399563422972437 and parameters: {'n_clusters': 4, 'distance_metric': 'minkowski', 'random_state': 88}. Best is trial 156 with value: 0.44949191452737364.\n",
      "[I 2024-09-23 07:49:18,535] Trial 337 finished with value: 0.1348605421184038 and parameters: {'n_clusters': 8, 'distance_metric': 'euclidean', 'random_state': 30}. Best is trial 156 with value: 0.44949191452737364.\n",
      "[I 2024-09-23 07:49:18,583] Trial 338 finished with value: 0.291948873698938 and parameters: {'n_clusters': 5, 'distance_metric': 'euclidean', 'random_state': 80}. Best is trial 156 with value: 0.44949191452737364.\n",
      "[I 2024-09-23 07:49:18,649] Trial 339 finished with value: 0.11861898962139528 and parameters: {'n_clusters': 9, 'distance_metric': 'minkowski', 'random_state': 44}. Best is trial 156 with value: 0.44949191452737364.\n",
      "[I 2024-09-23 07:49:18,698] Trial 340 finished with value: 0.1870848958249585 and parameters: {'n_clusters': 5, 'distance_metric': 'euclidean', 'random_state': 25}. Best is trial 156 with value: 0.44949191452737364.\n",
      "[I 2024-09-23 07:49:18,748] Trial 341 finished with value: 0.20061306352154917 and parameters: {'n_clusters': 6, 'distance_metric': 'euclidean', 'random_state': 3}. Best is trial 156 with value: 0.44949191452737364.\n",
      "[I 2024-09-23 07:49:18,813] Trial 342 finished with value: 0.31711944506866757 and parameters: {'n_clusters': 4, 'distance_metric': 'minkowski', 'random_state': 45}. Best is trial 156 with value: 0.44949191452737364.\n",
      "[I 2024-09-23 07:49:18,863] Trial 343 finished with value: 0.3227383613456366 and parameters: {'n_clusters': 5, 'distance_metric': 'euclidean', 'random_state': 19}. Best is trial 156 with value: 0.44949191452737364.\n",
      "[I 2024-09-23 07:49:18,929] Trial 344 finished with value: 0.44347702319898546 and parameters: {'n_clusters': 3, 'distance_metric': 'minkowski', 'random_state': 92}. Best is trial 156 with value: 0.44949191452737364.\n",
      "[I 2024-09-23 07:49:18,993] Trial 345 finished with value: 0.44949191452737364 and parameters: {'n_clusters': 3, 'distance_metric': 'minkowski', 'random_state': 32}. Best is trial 156 with value: 0.44949191452737364.\n",
      "[I 2024-09-23 07:49:19,065] Trial 346 finished with value: 0.22656006469422862 and parameters: {'n_clusters': 6, 'distance_metric': 'minkowski', 'random_state': 17}. Best is trial 156 with value: 0.44949191452737364.\n",
      "[I 2024-09-23 07:49:19,117] Trial 347 finished with value: 0.2748362974408509 and parameters: {'n_clusters': 5, 'distance_metric': 'euclidean', 'random_state': 96}. Best is trial 156 with value: 0.44949191452737364.\n",
      "[I 2024-09-23 07:49:19,167] Trial 348 finished with value: 0.11121946558364741 and parameters: {'n_clusters': 8, 'distance_metric': 'euclidean', 'random_state': 49}. Best is trial 156 with value: 0.44949191452737364.\n",
      "[I 2024-09-23 07:49:19,218] Trial 349 finished with value: 0.12843794890798318 and parameters: {'n_clusters': 9, 'distance_metric': 'euclidean', 'random_state': 96}. Best is trial 156 with value: 0.44949191452737364.\n",
      "[I 2024-09-23 07:49:19,283] Trial 350 finished with value: 0.37527259235648913 and parameters: {'n_clusters': 4, 'distance_metric': 'minkowski', 'random_state': 37}. Best is trial 156 with value: 0.44949191452737364.\n",
      "[I 2024-09-23 07:49:19,334] Trial 351 finished with value: 0.12306088086273637 and parameters: {'n_clusters': 8, 'distance_metric': 'euclidean', 'random_state': 13}. Best is trial 156 with value: 0.44949191452737364.\n",
      "[I 2024-09-23 07:49:19,386] Trial 352 finished with value: 0.21067498867035153 and parameters: {'n_clusters': 6, 'distance_metric': 'euclidean', 'random_state': 34}. Best is trial 156 with value: 0.44949191452737364.\n",
      "[I 2024-09-23 07:49:19,452] Trial 353 finished with value: 0.16362621814496536 and parameters: {'n_clusters': 9, 'distance_metric': 'minkowski', 'random_state': 6}. Best is trial 156 with value: 0.44949191452737364.\n",
      "[I 2024-09-23 07:49:19,503] Trial 354 finished with value: 0.1306523727541619 and parameters: {'n_clusters': 10, 'distance_metric': 'euclidean', 'random_state': 21}. Best is trial 156 with value: 0.44949191452737364.\n",
      "[I 2024-09-23 07:49:19,569] Trial 355 finished with value: 0.19757615330643438 and parameters: {'n_clusters': 5, 'distance_metric': 'minkowski', 'random_state': 87}. Best is trial 156 with value: 0.44949191452737364.\n",
      "[I 2024-09-23 07:49:19,635] Trial 356 finished with value: 0.2471142313725301 and parameters: {'n_clusters': 6, 'distance_metric': 'minkowski', 'random_state': 96}. Best is trial 156 with value: 0.44949191452737364.\n",
      "[I 2024-09-23 07:49:19,701] Trial 357 finished with value: 0.12844574442733114 and parameters: {'n_clusters': 9, 'distance_metric': 'minkowski', 'random_state': 66}. Best is trial 156 with value: 0.44949191452737364.\n",
      "[I 2024-09-23 07:49:19,765] Trial 358 finished with value: 0.25079048376058477 and parameters: {'n_clusters': 6, 'distance_metric': 'minkowski', 'random_state': 16}. Best is trial 156 with value: 0.44949191452737364.\n",
      "[I 2024-09-23 07:49:19,815] Trial 359 finished with value: 0.14170101470955138 and parameters: {'n_clusters': 9, 'distance_metric': 'euclidean', 'random_state': 80}. Best is trial 156 with value: 0.44949191452737364.\n",
      "[I 2024-09-23 07:49:19,865] Trial 360 finished with value: 0.15693542869630125 and parameters: {'n_clusters': 8, 'distance_metric': 'euclidean', 'random_state': 59}. Best is trial 156 with value: 0.44949191452737364.\n",
      "[I 2024-09-23 07:49:19,934] Trial 361 finished with value: 0.274836297440851 and parameters: {'n_clusters': 5, 'distance_metric': 'minkowski', 'random_state': 96}. Best is trial 156 with value: 0.44949191452737364.\n",
      "[I 2024-09-23 07:49:19,986] Trial 362 finished with value: 0.2092676843545285 and parameters: {'n_clusters': 7, 'distance_metric': 'euclidean', 'random_state': 90}. Best is trial 156 with value: 0.44949191452737364.\n",
      "[I 2024-09-23 07:49:20,055] Trial 363 finished with value: 0.09656753192344775 and parameters: {'n_clusters': 9, 'distance_metric': 'minkowski', 'random_state': 64}. Best is trial 156 with value: 0.44949191452737364.\n",
      "[I 2024-09-23 07:49:20,124] Trial 364 finished with value: 0.10791127884010111 and parameters: {'n_clusters': 9, 'distance_metric': 'minkowski', 'random_state': 13}. Best is trial 156 with value: 0.44949191452737364.\n",
      "[I 2024-09-23 07:49:20,198] Trial 365 finished with value: 0.24279639928178853 and parameters: {'n_clusters': 6, 'distance_metric': 'euclidean', 'random_state': 82}. Best is trial 156 with value: 0.44949191452737364.\n",
      "[I 2024-09-23 07:49:20,265] Trial 366 finished with value: 0.255567725682911 and parameters: {'n_clusters': 6, 'distance_metric': 'minkowski', 'random_state': 28}. Best is trial 156 with value: 0.44949191452737364.\n",
      "[I 2024-09-23 07:49:20,318] Trial 367 finished with value: 0.22621245701054768 and parameters: {'n_clusters': 6, 'distance_metric': 'euclidean', 'random_state': 91}. Best is trial 156 with value: 0.44949191452737364.\n",
      "[I 2024-09-23 07:49:20,376] Trial 368 finished with value: 0.2252387201792483 and parameters: {'n_clusters': 7, 'distance_metric': 'euclidean', 'random_state': 37}. Best is trial 156 with value: 0.44949191452737364.\n",
      "[I 2024-09-23 07:49:20,430] Trial 369 finished with value: 0.32151981596418006 and parameters: {'n_clusters': 5, 'distance_metric': 'euclidean', 'random_state': 77}. Best is trial 156 with value: 0.44949191452737364.\n",
      "[I 2024-09-23 07:49:20,501] Trial 370 finished with value: 0.4460089237295571 and parameters: {'n_clusters': 3, 'distance_metric': 'minkowski', 'random_state': 6}. Best is trial 156 with value: 0.44949191452737364.\n",
      "[I 2024-09-23 07:49:20,556] Trial 371 finished with value: 0.38967931998710137 and parameters: {'n_clusters': 4, 'distance_metric': 'euclidean', 'random_state': 85}. Best is trial 156 with value: 0.44949191452737364.\n",
      "[I 2024-09-23 07:49:20,609] Trial 372 finished with value: 0.09550533450266545 and parameters: {'n_clusters': 10, 'distance_metric': 'euclidean', 'random_state': 27}. Best is trial 156 with value: 0.44949191452737364.\n",
      "[I 2024-09-23 07:49:20,676] Trial 373 finished with value: 0.2142947723405212 and parameters: {'n_clusters': 6, 'distance_metric': 'minkowski', 'random_state': 78}. Best is trial 156 with value: 0.44949191452737364.\n",
      "[I 2024-09-23 07:49:20,744] Trial 374 finished with value: 0.15461038350370035 and parameters: {'n_clusters': 8, 'distance_metric': 'minkowski', 'random_state': 97}. Best is trial 156 with value: 0.44949191452737364.\n",
      "[I 2024-09-23 07:49:20,812] Trial 375 finished with value: 0.1401265147113836 and parameters: {'n_clusters': 10, 'distance_metric': 'minkowski', 'random_state': 51}. Best is trial 156 with value: 0.44949191452737364.\n",
      "[I 2024-09-23 07:49:20,884] Trial 376 finished with value: 0.11968351018348283 and parameters: {'n_clusters': 9, 'distance_metric': 'minkowski', 'random_state': 54}. Best is trial 156 with value: 0.44949191452737364.\n",
      "[I 2024-09-23 07:49:20,939] Trial 377 finished with value: 0.2898108209446084 and parameters: {'n_clusters': 6, 'distance_metric': 'euclidean', 'random_state': 77}. Best is trial 156 with value: 0.44949191452737364.\n",
      "[I 2024-09-23 07:49:21,007] Trial 378 finished with value: 0.3994298908543716 and parameters: {'n_clusters': 4, 'distance_metric': 'minkowski', 'random_state': 83}. Best is trial 156 with value: 0.44949191452737364.\n",
      "[I 2024-09-23 07:49:21,060] Trial 379 finished with value: 0.15447465931315882 and parameters: {'n_clusters': 7, 'distance_metric': 'euclidean', 'random_state': 39}. Best is trial 156 with value: 0.44949191452737364.\n",
      "[I 2024-09-23 07:49:21,129] Trial 380 finished with value: 0.10860858151555292 and parameters: {'n_clusters': 9, 'distance_metric': 'minkowski', 'random_state': 83}. Best is trial 156 with value: 0.44949191452737364.\n",
      "[I 2024-09-23 07:49:21,199] Trial 381 finished with value: 0.27217426857350097 and parameters: {'n_clusters': 5, 'distance_metric': 'minkowski', 'random_state': 4}. Best is trial 156 with value: 0.44949191452737364.\n",
      "[I 2024-09-23 07:49:21,270] Trial 382 finished with value: 0.3303278476619792 and parameters: {'n_clusters': 4, 'distance_metric': 'minkowski', 'random_state': 1}. Best is trial 156 with value: 0.44949191452737364.\n",
      "[I 2024-09-23 07:49:21,340] Trial 383 finished with value: 0.11853106583281553 and parameters: {'n_clusters': 9, 'distance_metric': 'minkowski', 'random_state': 71}. Best is trial 156 with value: 0.44949191452737364.\n",
      "[I 2024-09-23 07:49:21,409] Trial 384 finished with value: 0.3345292811708493 and parameters: {'n_clusters': 4, 'distance_metric': 'minkowski', 'random_state': 64}. Best is trial 156 with value: 0.44949191452737364.\n",
      "[I 2024-09-23 07:49:21,463] Trial 385 finished with value: 0.13058398226789245 and parameters: {'n_clusters': 9, 'distance_metric': 'euclidean', 'random_state': 20}. Best is trial 156 with value: 0.44949191452737364.\n",
      "[I 2024-09-23 07:49:21,532] Trial 386 finished with value: 0.09069645340818976 and parameters: {'n_clusters': 10, 'distance_metric': 'minkowski', 'random_state': 85}. Best is trial 156 with value: 0.44949191452737364.\n",
      "[I 2024-09-23 07:49:21,603] Trial 387 finished with value: 0.44347702319898546 and parameters: {'n_clusters': 3, 'distance_metric': 'minkowski', 'random_state': 93}. Best is trial 156 with value: 0.44949191452737364.\n",
      "[I 2024-09-23 07:49:21,658] Trial 388 finished with value: 0.2536111648851819 and parameters: {'n_clusters': 6, 'distance_metric': 'euclidean', 'random_state': 10}. Best is trial 156 with value: 0.44949191452737364.\n",
      "[I 2024-09-23 07:49:21,732] Trial 389 finished with value: 0.19237867982140253 and parameters: {'n_clusters': 8, 'distance_metric': 'minkowski', 'random_state': 16}. Best is trial 156 with value: 0.44949191452737364.\n",
      "[I 2024-09-23 07:49:21,802] Trial 390 finished with value: 0.44347702319898546 and parameters: {'n_clusters': 3, 'distance_metric': 'minkowski', 'random_state': 82}. Best is trial 156 with value: 0.44949191452737364.\n",
      "[I 2024-09-23 07:49:21,855] Trial 391 finished with value: 0.44347702319898546 and parameters: {'n_clusters': 3, 'distance_metric': 'euclidean', 'random_state': 48}. Best is trial 156 with value: 0.44949191452737364.\n",
      "[I 2024-09-23 07:49:21,923] Trial 392 finished with value: 0.17539044977504972 and parameters: {'n_clusters': 6, 'distance_metric': 'minkowski', 'random_state': 87}. Best is trial 156 with value: 0.44949191452737364.\n",
      "[I 2024-09-23 07:49:21,979] Trial 393 finished with value: 0.12325603809494182 and parameters: {'n_clusters': 9, 'distance_metric': 'euclidean', 'random_state': 90}. Best is trial 156 with value: 0.44949191452737364.\n",
      "[I 2024-09-23 07:49:22,065] Trial 394 finished with value: 0.23381297151565714 and parameters: {'n_clusters': 6, 'distance_metric': 'minkowski', 'random_state': 92}. Best is trial 156 with value: 0.44949191452737364.\n",
      "[I 2024-09-23 07:49:22,121] Trial 395 finished with value: 0.3109465555551683 and parameters: {'n_clusters': 5, 'distance_metric': 'euclidean', 'random_state': 21}. Best is trial 156 with value: 0.44949191452737364.\n",
      "[I 2024-09-23 07:49:22,175] Trial 396 finished with value: 0.125138360377413 and parameters: {'n_clusters': 8, 'distance_metric': 'euclidean', 'random_state': 58}. Best is trial 156 with value: 0.44949191452737364.\n",
      "[I 2024-09-23 07:49:22,230] Trial 397 finished with value: 0.10435881490571955 and parameters: {'n_clusters': 9, 'distance_metric': 'euclidean', 'random_state': 58}. Best is trial 156 with value: 0.44949191452737364.\n",
      "[I 2024-09-23 07:49:22,300] Trial 398 finished with value: 0.1493067222750585 and parameters: {'n_clusters': 7, 'distance_metric': 'minkowski', 'random_state': 63}. Best is trial 156 with value: 0.44949191452737364.\n",
      "[I 2024-09-23 07:49:22,356] Trial 399 finished with value: 0.1950779051917721 and parameters: {'n_clusters': 7, 'distance_metric': 'euclidean', 'random_state': 95}. Best is trial 156 with value: 0.44949191452737364.\n",
      "[I 2024-09-23 07:49:22,412] Trial 400 finished with value: 0.22810230025987605 and parameters: {'n_clusters': 6, 'distance_metric': 'euclidean', 'random_state': 63}. Best is trial 156 with value: 0.44949191452737364.\n",
      "[I 2024-09-23 07:49:22,482] Trial 401 finished with value: 0.14965536658099146 and parameters: {'n_clusters': 9, 'distance_metric': 'minkowski', 'random_state': 38}. Best is trial 156 with value: 0.44949191452737364.\n",
      "[I 2024-09-23 07:49:22,552] Trial 402 finished with value: 0.44347702319898546 and parameters: {'n_clusters': 3, 'distance_metric': 'minkowski', 'random_state': 62}. Best is trial 156 with value: 0.44949191452737364.\n",
      "[I 2024-09-23 07:49:22,622] Trial 403 finished with value: 0.3118296692344589 and parameters: {'n_clusters': 5, 'distance_metric': 'minkowski', 'random_state': 48}. Best is trial 156 with value: 0.44949191452737364.\n",
      "[I 2024-09-23 07:49:22,683] Trial 404 finished with value: 0.38967931998710137 and parameters: {'n_clusters': 4, 'distance_metric': 'euclidean', 'random_state': 41}. Best is trial 156 with value: 0.44949191452737364.\n",
      "[I 2024-09-23 07:49:22,740] Trial 405 finished with value: 0.09971562284844779 and parameters: {'n_clusters': 9, 'distance_metric': 'euclidean', 'random_state': 42}. Best is trial 156 with value: 0.44949191452737364.\n",
      "[I 2024-09-23 07:49:22,812] Trial 406 finished with value: 0.13369460377803302 and parameters: {'n_clusters': 7, 'distance_metric': 'minkowski', 'random_state': 93}. Best is trial 156 with value: 0.44949191452737364.\n",
      "[I 2024-09-23 07:49:22,870] Trial 407 finished with value: 0.435967735309263 and parameters: {'n_clusters': 3, 'distance_metric': 'euclidean', 'random_state': 78}. Best is trial 156 with value: 0.44949191452737364.\n",
      "[I 2024-09-23 07:49:22,926] Trial 408 finished with value: 0.4460089237295571 and parameters: {'n_clusters': 3, 'distance_metric': 'euclidean', 'random_state': 40}. Best is trial 156 with value: 0.44949191452737364.\n",
      "[I 2024-09-23 07:49:22,988] Trial 409 finished with value: 0.12804374143389993 and parameters: {'n_clusters': 8, 'distance_metric': 'euclidean', 'random_state': 39}. Best is trial 156 with value: 0.44949191452737364.\n",
      "[I 2024-09-23 07:49:23,058] Trial 410 finished with value: 0.44347702319898546 and parameters: {'n_clusters': 3, 'distance_metric': 'minkowski', 'random_state': 30}. Best is trial 156 with value: 0.44949191452737364.\n",
      "[I 2024-09-23 07:49:23,129] Trial 411 finished with value: 0.20313784045757968 and parameters: {'n_clusters': 6, 'distance_metric': 'minkowski', 'random_state': 94}. Best is trial 156 with value: 0.44949191452737364.\n",
      "[I 2024-09-23 07:49:23,186] Trial 412 finished with value: 0.2218389127653153 and parameters: {'n_clusters': 6, 'distance_metric': 'euclidean', 'random_state': 23}. Best is trial 156 with value: 0.44949191452737364.\n",
      "[I 2024-09-23 07:49:23,259] Trial 413 finished with value: 0.3946778205022724 and parameters: {'n_clusters': 4, 'distance_metric': 'minkowski', 'random_state': 8}. Best is trial 156 with value: 0.44949191452737364.\n",
      "[I 2024-09-23 07:49:23,316] Trial 414 finished with value: 0.2990567469353157 and parameters: {'n_clusters': 5, 'distance_metric': 'euclidean', 'random_state': 52}. Best is trial 156 with value: 0.44949191452737364.\n",
      "[I 2024-09-23 07:49:23,389] Trial 415 finished with value: 0.27501100691369856 and parameters: {'n_clusters': 5, 'distance_metric': 'minkowski', 'random_state': 55}. Best is trial 156 with value: 0.44949191452737364.\n",
      "[I 2024-09-23 07:49:23,447] Trial 416 finished with value: 0.07980729050606052 and parameters: {'n_clusters': 10, 'distance_metric': 'euclidean', 'random_state': 93}. Best is trial 156 with value: 0.44949191452737364.\n",
      "[I 2024-09-23 07:49:23,505] Trial 417 finished with value: 0.15129643316891103 and parameters: {'n_clusters': 10, 'distance_metric': 'euclidean', 'random_state': 76}. Best is trial 156 with value: 0.44949191452737364.\n",
      "[I 2024-09-23 07:49:23,563] Trial 418 finished with value: 0.08594998256784164 and parameters: {'n_clusters': 10, 'distance_metric': 'euclidean', 'random_state': 18}. Best is trial 156 with value: 0.44949191452737364.\n",
      "[I 2024-09-23 07:49:23,635] Trial 419 finished with value: 0.12691345561591805 and parameters: {'n_clusters': 9, 'distance_metric': 'minkowski', 'random_state': 30}. Best is trial 156 with value: 0.44949191452737364.\n",
      "[I 2024-09-23 07:49:23,707] Trial 420 finished with value: 0.1946261902084878 and parameters: {'n_clusters': 7, 'distance_metric': 'minkowski', 'random_state': 11}. Best is trial 156 with value: 0.44949191452737364.\n",
      "[I 2024-09-23 07:49:23,780] Trial 421 finished with value: 0.1921201718368976 and parameters: {'n_clusters': 7, 'distance_metric': 'minkowski', 'random_state': 24}. Best is trial 156 with value: 0.44949191452737364.\n",
      "[I 2024-09-23 07:49:23,838] Trial 422 finished with value: 0.44347702319898546 and parameters: {'n_clusters': 3, 'distance_metric': 'euclidean', 'random_state': 59}. Best is trial 156 with value: 0.44949191452737364.\n",
      "[I 2024-09-23 07:49:23,896] Trial 423 finished with value: 0.19590703782340424 and parameters: {'n_clusters': 8, 'distance_metric': 'euclidean', 'random_state': 65}. Best is trial 156 with value: 0.44949191452737364.\n",
      "[I 2024-09-23 07:49:23,954] Trial 424 finished with value: 0.29292415372561176 and parameters: {'n_clusters': 5, 'distance_metric': 'euclidean', 'random_state': 42}. Best is trial 156 with value: 0.44949191452737364.\n",
      "[I 2024-09-23 07:49:24,012] Trial 425 finished with value: 0.16393178228660674 and parameters: {'n_clusters': 7, 'distance_metric': 'euclidean', 'random_state': 44}. Best is trial 156 with value: 0.44949191452737364.\n",
      "[I 2024-09-23 07:49:24,070] Trial 426 finished with value: 0.21228912444273693 and parameters: {'n_clusters': 6, 'distance_metric': 'euclidean', 'random_state': 31}. Best is trial 156 with value: 0.44949191452737364.\n",
      "[I 2024-09-23 07:49:24,143] Trial 427 finished with value: 0.31368558914585715 and parameters: {'n_clusters': 4, 'distance_metric': 'minkowski', 'random_state': 60}. Best is trial 156 with value: 0.44949191452737364.\n",
      "[I 2024-09-23 07:49:24,207] Trial 428 finished with value: 0.08952026794460001 and parameters: {'n_clusters': 10, 'distance_metric': 'euclidean', 'random_state': 49}. Best is trial 156 with value: 0.44949191452737364.\n",
      "[I 2024-09-23 07:49:24,316] Trial 429 finished with value: 0.07980729050606103 and parameters: {'n_clusters': 10, 'distance_metric': 'minkowski', 'random_state': 93}. Best is trial 156 with value: 0.44949191452737364.\n",
      "[I 2024-09-23 07:49:24,376] Trial 430 finished with value: 0.4460089237295571 and parameters: {'n_clusters': 3, 'distance_metric': 'euclidean', 'random_state': 57}. Best is trial 156 with value: 0.44949191452737364.\n",
      "[I 2024-09-23 07:49:24,456] Trial 431 finished with value: 0.44347702319898546 and parameters: {'n_clusters': 3, 'distance_metric': 'minkowski', 'random_state': 18}. Best is trial 156 with value: 0.44949191452737364.\n",
      "[I 2024-09-23 07:49:24,517] Trial 432 finished with value: 0.1836491298894827 and parameters: {'n_clusters': 7, 'distance_metric': 'euclidean', 'random_state': 12}. Best is trial 156 with value: 0.44949191452737364.\n",
      "[I 2024-09-23 07:49:24,577] Trial 433 finished with value: 0.1319680674605718 and parameters: {'n_clusters': 8, 'distance_metric': 'euclidean', 'random_state': 18}. Best is trial 156 with value: 0.44949191452737364.\n",
      "[I 2024-09-23 07:49:24,687] Trial 434 finished with value: 0.12518284295959525 and parameters: {'n_clusters': 8, 'distance_metric': 'euclidean', 'random_state': 69}. Best is trial 156 with value: 0.44949191452737364.\n",
      "[I 2024-09-23 07:49:24,774] Trial 435 finished with value: 0.29786285835212595 and parameters: {'n_clusters': 5, 'distance_metric': 'minkowski', 'random_state': 71}. Best is trial 156 with value: 0.44949191452737364.\n",
      "[I 2024-09-23 07:49:24,838] Trial 436 finished with value: 0.13614653374948807 and parameters: {'n_clusters': 8, 'distance_metric': 'euclidean', 'random_state': 28}. Best is trial 156 with value: 0.44949191452737364.\n",
      "[I 2024-09-23 07:49:24,914] Trial 437 finished with value: 0.2427963992817886 and parameters: {'n_clusters': 6, 'distance_metric': 'minkowski', 'random_state': 82}. Best is trial 156 with value: 0.44949191452737364.\n",
      "[I 2024-09-23 07:49:24,975] Trial 438 finished with value: 0.11450027498471764 and parameters: {'n_clusters': 8, 'distance_metric': 'euclidean', 'random_state': 12}. Best is trial 156 with value: 0.44949191452737364.\n",
      "[I 2024-09-23 07:49:25,052] Trial 439 finished with value: 0.1126551876536202 and parameters: {'n_clusters': 10, 'distance_metric': 'minkowski', 'random_state': 97}. Best is trial 156 with value: 0.44949191452737364.\n",
      "[I 2024-09-23 07:49:25,127] Trial 440 finished with value: 0.31288083099166464 and parameters: {'n_clusters': 5, 'distance_metric': 'minkowski', 'random_state': 37}. Best is trial 156 with value: 0.44949191452737364.\n",
      "[I 2024-09-23 07:49:25,202] Trial 441 finished with value: 0.29606490185757833 and parameters: {'n_clusters': 4, 'distance_metric': 'minkowski', 'random_state': 31}. Best is trial 156 with value: 0.44949191452737364.\n",
      "[I 2024-09-23 07:49:25,263] Trial 442 finished with value: 0.2297202370199151 and parameters: {'n_clusters': 7, 'distance_metric': 'euclidean', 'random_state': 36}. Best is trial 156 with value: 0.44949191452737364.\n",
      "[I 2024-09-23 07:49:25,323] Trial 443 finished with value: 0.44347702319898546 and parameters: {'n_clusters': 3, 'distance_metric': 'euclidean', 'random_state': 30}. Best is trial 156 with value: 0.44949191452737364.\n",
      "[I 2024-09-23 07:49:25,384] Trial 444 finished with value: 0.29786285835212606 and parameters: {'n_clusters': 5, 'distance_metric': 'euclidean', 'random_state': 71}. Best is trial 156 with value: 0.44949191452737364.\n",
      "[I 2024-09-23 07:49:25,444] Trial 445 finished with value: 0.44347702319898546 and parameters: {'n_clusters': 3, 'distance_metric': 'euclidean', 'random_state': 36}. Best is trial 156 with value: 0.44949191452737364.\n",
      "[I 2024-09-23 07:49:25,531] Trial 446 finished with value: 0.2532771012602499 and parameters: {'n_clusters': 6, 'distance_metric': 'minkowski', 'random_state': 38}. Best is trial 156 with value: 0.44949191452737364.\n",
      "[I 2024-09-23 07:49:25,593] Trial 447 finished with value: 0.19057690618949477 and parameters: {'n_clusters': 7, 'distance_metric': 'euclidean', 'random_state': 23}. Best is trial 156 with value: 0.44949191452737364.\n",
      "[I 2024-09-23 07:49:25,673] Trial 448 finished with value: 0.2077228544250966 and parameters: {'n_clusters': 7, 'distance_metric': 'minkowski', 'random_state': 87}. Best is trial 156 with value: 0.44949191452737364.\n",
      "[I 2024-09-23 07:49:25,734] Trial 449 finished with value: 0.36872253547312706 and parameters: {'n_clusters': 4, 'distance_metric': 'euclidean', 'random_state': 15}. Best is trial 156 with value: 0.44949191452737364.\n",
      "[I 2024-09-23 07:49:25,810] Trial 450 finished with value: 0.14507514229787857 and parameters: {'n_clusters': 9, 'distance_metric': 'minkowski', 'random_state': 48}. Best is trial 156 with value: 0.44949191452737364.\n",
      "[I 2024-09-23 07:49:25,887] Trial 451 finished with value: 0.3962777088955517 and parameters: {'n_clusters': 4, 'distance_metric': 'minkowski', 'random_state': 81}. Best is trial 156 with value: 0.44949191452737364.\n",
      "[I 2024-09-23 07:49:25,949] Trial 452 finished with value: 0.13247290008189122 and parameters: {'n_clusters': 9, 'distance_metric': 'euclidean', 'random_state': 52}. Best is trial 156 with value: 0.44949191452737364.\n",
      "[I 2024-09-23 07:49:26,025] Trial 453 finished with value: 0.12714956689772525 and parameters: {'n_clusters': 10, 'distance_metric': 'minkowski', 'random_state': 43}. Best is trial 156 with value: 0.44949191452737364.\n",
      "[I 2024-09-23 07:49:26,088] Trial 454 finished with value: 0.23075355338845682 and parameters: {'n_clusters': 7, 'distance_metric': 'euclidean', 'random_state': 21}. Best is trial 156 with value: 0.44949191452737364.\n",
      "[I 2024-09-23 07:49:26,157] Trial 455 finished with value: 0.38967931998710137 and parameters: {'n_clusters': 4, 'distance_metric': 'euclidean', 'random_state': 25}. Best is trial 156 with value: 0.44949191452737364.\n",
      "[I 2024-09-23 07:49:26,223] Trial 456 finished with value: 0.27109868597640474 and parameters: {'n_clusters': 4, 'distance_metric': 'euclidean', 'random_state': 99}. Best is trial 156 with value: 0.44949191452737364.\n",
      "[I 2024-09-23 07:49:26,304] Trial 457 finished with value: 0.3607017969975037 and parameters: {'n_clusters': 4, 'distance_metric': 'minkowski', 'random_state': 82}. Best is trial 156 with value: 0.44949191452737364.\n",
      "[I 2024-09-23 07:49:26,386] Trial 458 finished with value: 0.15020360194451685 and parameters: {'n_clusters': 8, 'distance_metric': 'minkowski', 'random_state': 37}. Best is trial 156 with value: 0.44949191452737364.\n",
      "[I 2024-09-23 07:49:26,481] Trial 459 finished with value: 0.08979092938055618 and parameters: {'n_clusters': 10, 'distance_metric': 'minkowski', 'random_state': 68}. Best is trial 156 with value: 0.44949191452737364.\n",
      "[I 2024-09-23 07:49:26,560] Trial 460 finished with value: 0.38967931998710137 and parameters: {'n_clusters': 4, 'distance_metric': 'minkowski', 'random_state': 41}. Best is trial 156 with value: 0.44949191452737364.\n",
      "[I 2024-09-23 07:49:26,637] Trial 461 finished with value: 0.12982267763555588 and parameters: {'n_clusters': 7, 'distance_metric': 'minkowski', 'random_state': 96}. Best is trial 156 with value: 0.44949191452737364.\n",
      "[I 2024-09-23 07:49:26,716] Trial 462 finished with value: 0.3946778205022724 and parameters: {'n_clusters': 4, 'distance_metric': 'minkowski', 'random_state': 67}. Best is trial 156 with value: 0.44949191452737364.\n",
      "[I 2024-09-23 07:49:26,795] Trial 463 finished with value: 0.3236109224445662 and parameters: {'n_clusters': 5, 'distance_metric': 'minkowski', 'random_state': 18}. Best is trial 156 with value: 0.44949191452737364.\n",
      "[I 2024-09-23 07:49:26,880] Trial 464 finished with value: 0.36399049339854306 and parameters: {'n_clusters': 4, 'distance_metric': 'minkowski', 'random_state': 35}. Best is trial 156 with value: 0.44949191452737364.\n",
      "[I 2024-09-23 07:49:26,943] Trial 465 finished with value: 0.18173417228744476 and parameters: {'n_clusters': 7, 'distance_metric': 'euclidean', 'random_state': 33}. Best is trial 156 with value: 0.44949191452737364.\n",
      "[I 2024-09-23 07:49:27,022] Trial 466 finished with value: 0.12126198508286783 and parameters: {'n_clusters': 8, 'distance_metric': 'minkowski', 'random_state': 40}. Best is trial 156 with value: 0.44949191452737364.\n",
      "[I 2024-09-23 07:49:27,086] Trial 467 finished with value: 0.1308790221013573 and parameters: {'n_clusters': 8, 'distance_metric': 'euclidean', 'random_state': 50}. Best is trial 156 with value: 0.44949191452737364.\n",
      "[I 2024-09-23 07:49:27,166] Trial 468 finished with value: 0.13332453984905793 and parameters: {'n_clusters': 8, 'distance_metric': 'minkowski', 'random_state': 82}. Best is trial 156 with value: 0.44949191452737364.\n",
      "[I 2024-09-23 07:49:27,230] Trial 469 finished with value: 0.16621159881917133 and parameters: {'n_clusters': 7, 'distance_metric': 'euclidean', 'random_state': 84}. Best is trial 156 with value: 0.44949191452737364.\n",
      "[I 2024-09-23 07:49:27,293] Trial 470 finished with value: 0.1333245398490577 and parameters: {'n_clusters': 8, 'distance_metric': 'euclidean', 'random_state': 82}. Best is trial 156 with value: 0.44949191452737364.\n",
      "[I 2024-09-23 07:49:27,358] Trial 471 finished with value: 0.1126551876536199 and parameters: {'n_clusters': 10, 'distance_metric': 'euclidean', 'random_state': 97}. Best is trial 156 with value: 0.44949191452737364.\n",
      "[I 2024-09-23 07:49:27,437] Trial 472 finished with value: 0.1308790221013573 and parameters: {'n_clusters': 8, 'distance_metric': 'minkowski', 'random_state': 50}. Best is trial 156 with value: 0.44949191452737364.\n",
      "[I 2024-09-23 07:49:27,516] Trial 473 finished with value: 0.44347702319898546 and parameters: {'n_clusters': 3, 'distance_metric': 'minkowski', 'random_state': 84}. Best is trial 156 with value: 0.44949191452737364.\n",
      "[I 2024-09-23 07:49:27,596] Trial 474 finished with value: 0.2945860629390223 and parameters: {'n_clusters': 5, 'distance_metric': 'minkowski', 'random_state': 92}. Best is trial 156 with value: 0.44949191452737364.\n",
      "[I 2024-09-23 07:49:27,676] Trial 475 finished with value: 0.23681436162014444 and parameters: {'n_clusters': 6, 'distance_metric': 'minkowski', 'random_state': 29}. Best is trial 156 with value: 0.44949191452737364.\n",
      "[I 2024-09-23 07:49:27,758] Trial 476 finished with value: 0.2913919778646632 and parameters: {'n_clusters': 5, 'distance_metric': 'minkowski', 'random_state': 39}. Best is trial 156 with value: 0.44949191452737364.\n",
      "[I 2024-09-23 07:49:27,838] Trial 477 finished with value: 0.14615977893484022 and parameters: {'n_clusters': 10, 'distance_metric': 'minkowski', 'random_state': 81}. Best is trial 156 with value: 0.44949191452737364.\n",
      "[I 2024-09-23 07:49:27,901] Trial 478 finished with value: 0.12485081714429838 and parameters: {'n_clusters': 10, 'distance_metric': 'euclidean', 'random_state': 95}. Best is trial 156 with value: 0.44949191452737364.\n",
      "[I 2024-09-23 07:49:27,971] Trial 479 finished with value: 0.16614550588115276 and parameters: {'n_clusters': 7, 'distance_metric': 'euclidean', 'random_state': 35}. Best is trial 156 with value: 0.44949191452737364.\n",
      "[I 2024-09-23 07:49:28,054] Trial 480 finished with value: 0.10596374955999317 and parameters: {'n_clusters': 9, 'distance_metric': 'minkowski', 'random_state': 93}. Best is trial 156 with value: 0.44949191452737364.\n",
      "[I 2024-09-23 07:49:28,125] Trial 481 finished with value: 0.44347702319898546 and parameters: {'n_clusters': 3, 'distance_metric': 'euclidean', 'random_state': 62}. Best is trial 156 with value: 0.44949191452737364.\n",
      "[I 2024-09-23 07:49:28,190] Trial 482 finished with value: 0.165202184281658 and parameters: {'n_clusters': 7, 'distance_metric': 'euclidean', 'random_state': 32}. Best is trial 156 with value: 0.44949191452737364.\n",
      "[I 2024-09-23 07:49:28,271] Trial 483 finished with value: 0.1253943309242653 and parameters: {'n_clusters': 10, 'distance_metric': 'minkowski', 'random_state': 22}. Best is trial 156 with value: 0.44949191452737364.\n",
      "[I 2024-09-23 07:49:28,337] Trial 484 finished with value: 0.1284457444273314 and parameters: {'n_clusters': 9, 'distance_metric': 'euclidean', 'random_state': 66}. Best is trial 156 with value: 0.44949191452737364.\n",
      "[I 2024-09-23 07:49:28,403] Trial 485 finished with value: 0.44347702319898546 and parameters: {'n_clusters': 3, 'distance_metric': 'euclidean', 'random_state': 93}. Best is trial 156 with value: 0.44949191452737364.\n",
      "[I 2024-09-23 07:49:28,484] Trial 486 finished with value: 0.20895804331850037 and parameters: {'n_clusters': 7, 'distance_metric': 'minkowski', 'random_state': 50}. Best is trial 156 with value: 0.44949191452737364.\n",
      "[I 2024-09-23 07:49:28,565] Trial 487 finished with value: 0.11314265357902291 and parameters: {'n_clusters': 9, 'distance_metric': 'minkowski', 'random_state': 18}. Best is trial 156 with value: 0.44949191452737364.\n",
      "[I 2024-09-23 07:49:28,648] Trial 488 finished with value: 0.44347702319898546 and parameters: {'n_clusters': 3, 'distance_metric': 'minkowski', 'random_state': 42}. Best is trial 156 with value: 0.44949191452737364.\n",
      "[I 2024-09-23 07:49:28,716] Trial 489 finished with value: 0.44347702319898546 and parameters: {'n_clusters': 3, 'distance_metric': 'euclidean', 'random_state': 41}. Best is trial 156 with value: 0.44949191452737364.\n",
      "[I 2024-09-23 07:49:28,798] Trial 490 finished with value: 0.2840981688609882 and parameters: {'n_clusters': 6, 'distance_metric': 'minkowski', 'random_state': 2}. Best is trial 156 with value: 0.44949191452737364.\n",
      "[I 2024-09-23 07:49:28,865] Trial 491 finished with value: 0.44347702319898546 and parameters: {'n_clusters': 3, 'distance_metric': 'euclidean', 'random_state': 76}. Best is trial 156 with value: 0.44949191452737364.\n",
      "[I 2024-09-23 07:49:28,933] Trial 492 finished with value: 0.14745171393035583 and parameters: {'n_clusters': 8, 'distance_metric': 'euclidean', 'random_state': 70}. Best is trial 156 with value: 0.44949191452737364.\n",
      "[I 2024-09-23 07:49:29,015] Trial 493 finished with value: 0.1666570814363834 and parameters: {'n_clusters': 8, 'distance_metric': 'minkowski', 'random_state': 81}. Best is trial 156 with value: 0.44949191452737364.\n",
      "[I 2024-09-23 07:49:29,117] Trial 494 finished with value: 0.44347702319898546 and parameters: {'n_clusters': 3, 'distance_metric': 'minkowski', 'random_state': 67}. Best is trial 156 with value: 0.44949191452737364.\n",
      "[I 2024-09-23 07:49:29,200] Trial 495 finished with value: 0.3636885952760407 and parameters: {'n_clusters': 4, 'distance_metric': 'minkowski', 'random_state': 28}. Best is trial 156 with value: 0.44949191452737364.\n",
      "[I 2024-09-23 07:49:29,283] Trial 496 finished with value: 0.4460089237295571 and parameters: {'n_clusters': 3, 'distance_metric': 'minkowski', 'random_state': 14}. Best is trial 156 with value: 0.44949191452737364.\n",
      "[I 2024-09-23 07:49:29,378] Trial 497 finished with value: 0.44347702319898546 and parameters: {'n_clusters': 3, 'distance_metric': 'minkowski', 'random_state': 24}. Best is trial 156 with value: 0.44949191452737364.\n",
      "[I 2024-09-23 07:49:29,459] Trial 498 finished with value: 0.3118296692344588 and parameters: {'n_clusters': 5, 'distance_metric': 'euclidean', 'random_state': 48}. Best is trial 156 with value: 0.44949191452737364.\n",
      "[I 2024-09-23 07:49:29,528] Trial 499 finished with value: 0.1251894928575282 and parameters: {'n_clusters': 10, 'distance_metric': 'euclidean', 'random_state': 60}. Best is trial 156 with value: 0.44949191452737364.\n",
      "[I 2024-09-23 07:49:29,597] Trial 500 finished with value: 0.2144146260121248 and parameters: {'n_clusters': 7, 'distance_metric': 'euclidean', 'random_state': 57}. Best is trial 156 with value: 0.44949191452737364.\n",
      "[I 2024-09-23 07:49:29,680] Trial 501 finished with value: 0.3215003322098769 and parameters: {'n_clusters': 5, 'distance_metric': 'minkowski', 'random_state': 82}. Best is trial 156 with value: 0.44949191452737364.\n",
      "[I 2024-09-23 07:49:29,765] Trial 502 finished with value: 0.12011552725678891 and parameters: {'n_clusters': 8, 'distance_metric': 'minkowski', 'random_state': 86}. Best is trial 156 with value: 0.44949191452737364.\n",
      "[I 2024-09-23 07:49:29,849] Trial 503 finished with value: 0.29672043654301045 and parameters: {'n_clusters': 5, 'distance_metric': 'minkowski', 'random_state': 30}. Best is trial 156 with value: 0.44949191452737364.\n",
      "[I 2024-09-23 07:49:29,920] Trial 504 finished with value: 0.16030267177655821 and parameters: {'n_clusters': 7, 'distance_metric': 'euclidean', 'random_state': 66}. Best is trial 156 with value: 0.44949191452737364.\n",
      "[I 2024-09-23 07:49:29,989] Trial 505 finished with value: 0.12022877226076756 and parameters: {'n_clusters': 10, 'distance_metric': 'euclidean', 'random_state': 52}. Best is trial 156 with value: 0.44949191452737364.\n",
      "[I 2024-09-23 07:49:30,079] Trial 506 finished with value: 0.06616017753102099 and parameters: {'n_clusters': 10, 'distance_metric': 'minkowski', 'random_state': 36}. Best is trial 156 with value: 0.44949191452737364.\n",
      "[I 2024-09-23 07:49:30,150] Trial 507 finished with value: 0.38967931998710137 and parameters: {'n_clusters': 4, 'distance_metric': 'euclidean', 'random_state': 87}. Best is trial 156 with value: 0.44949191452737364.\n",
      "[I 2024-09-23 07:49:30,220] Trial 508 finished with value: 0.12799994441463244 and parameters: {'n_clusters': 9, 'distance_metric': 'euclidean', 'random_state': 10}. Best is trial 156 with value: 0.44949191452737364.\n",
      "[I 2024-09-23 07:49:30,289] Trial 509 finished with value: 0.17568667253557976 and parameters: {'n_clusters': 7, 'distance_metric': 'euclidean', 'random_state': 80}. Best is trial 156 with value: 0.44949191452737364.\n",
      "[I 2024-09-23 07:49:30,357] Trial 510 finished with value: 0.39467782050227246 and parameters: {'n_clusters': 4, 'distance_metric': 'euclidean', 'random_state': 57}. Best is trial 156 with value: 0.44949191452737364.\n",
      "[I 2024-09-23 07:49:30,435] Trial 511 finished with value: 0.12126198508286756 and parameters: {'n_clusters': 8, 'distance_metric': 'euclidean', 'random_state': 40}. Best is trial 156 with value: 0.44949191452737364.\n",
      "[I 2024-09-23 07:49:30,505] Trial 512 finished with value: 0.18951289512994512 and parameters: {'n_clusters': 6, 'distance_metric': 'euclidean', 'random_state': 13}. Best is trial 156 with value: 0.44949191452737364.\n",
      "[I 2024-09-23 07:49:30,579] Trial 513 finished with value: 0.4460089237295571 and parameters: {'n_clusters': 3, 'distance_metric': 'euclidean', 'random_state': 9}. Best is trial 156 with value: 0.44949191452737364.\n",
      "[I 2024-09-23 07:49:30,666] Trial 514 finished with value: 0.15518448970971935 and parameters: {'n_clusters': 9, 'distance_metric': 'minkowski', 'random_state': 1}. Best is trial 156 with value: 0.44949191452737364.\n",
      "[I 2024-09-23 07:49:30,738] Trial 515 finished with value: 0.10528516957223844 and parameters: {'n_clusters': 8, 'distance_metric': 'euclidean', 'random_state': 77}. Best is trial 156 with value: 0.44949191452737364.\n",
      "[I 2024-09-23 07:49:30,823] Trial 516 finished with value: 0.18708489582495844 and parameters: {'n_clusters': 5, 'distance_metric': 'minkowski', 'random_state': 25}. Best is trial 156 with value: 0.44949191452737364.\n",
      "[I 2024-09-23 07:49:30,909] Trial 517 finished with value: 0.44347702319898546 and parameters: {'n_clusters': 3, 'distance_metric': 'minkowski', 'random_state': 41}. Best is trial 156 with value: 0.44949191452737364.\n",
      "[I 2024-09-23 07:49:30,981] Trial 518 finished with value: 0.10801130898475955 and parameters: {'n_clusters': 9, 'distance_metric': 'euclidean', 'random_state': 89}. Best is trial 156 with value: 0.44949191452737364.\n",
      "[I 2024-09-23 07:49:31,068] Trial 519 finished with value: 0.2142636569686085 and parameters: {'n_clusters': 6, 'distance_metric': 'minkowski', 'random_state': 40}. Best is trial 156 with value: 0.44949191452737364.\n",
      "[I 2024-09-23 07:49:31,171] Trial 520 finished with value: 0.24060441812049987 and parameters: {'n_clusters': 6, 'distance_metric': 'minkowski', 'random_state': 69}. Best is trial 156 with value: 0.44949191452737364.\n",
      "[I 2024-09-23 07:49:31,243] Trial 521 finished with value: 0.1106069823905369 and parameters: {'n_clusters': 10, 'distance_metric': 'euclidean', 'random_state': 86}. Best is trial 156 with value: 0.44949191452737364.\n",
      "[I 2024-09-23 07:49:31,314] Trial 522 finished with value: 0.18655118176497273 and parameters: {'n_clusters': 7, 'distance_metric': 'euclidean', 'random_state': 46}. Best is trial 156 with value: 0.44949191452737364.\n",
      "[I 2024-09-23 07:49:31,385] Trial 523 finished with value: 0.20714401304086924 and parameters: {'n_clusters': 9, 'distance_metric': 'euclidean', 'random_state': 75}. Best is trial 156 with value: 0.44949191452737364.\n",
      "[I 2024-09-23 07:49:31,457] Trial 524 finished with value: 0.19325212767898542 and parameters: {'n_clusters': 7, 'distance_metric': 'euclidean', 'random_state': 65}. Best is trial 156 with value: 0.44949191452737364.\n",
      "[I 2024-09-23 07:49:31,541] Trial 525 finished with value: 0.12224783232230078 and parameters: {'n_clusters': 9, 'distance_metric': 'minkowski', 'random_state': 31}. Best is trial 156 with value: 0.44949191452737364.\n",
      "[I 2024-09-23 07:49:31,612] Trial 526 finished with value: 0.3804770925826096 and parameters: {'n_clusters': 4, 'distance_metric': 'euclidean', 'random_state': 96}. Best is trial 156 with value: 0.44949191452737364.\n",
      "[I 2024-09-23 07:49:31,682] Trial 527 finished with value: 0.1101862882259194 and parameters: {'n_clusters': 9, 'distance_metric': 'euclidean', 'random_state': 19}. Best is trial 156 with value: 0.44949191452737364.\n",
      "[I 2024-09-23 07:49:31,759] Trial 528 finished with value: 0.09939770987152526 and parameters: {'n_clusters': 10, 'distance_metric': 'euclidean', 'random_state': 12}. Best is trial 156 with value: 0.44949191452737364.\n",
      "[I 2024-09-23 07:49:31,844] Trial 529 finished with value: 0.44347702319898546 and parameters: {'n_clusters': 3, 'distance_metric': 'minkowski', 'random_state': 76}. Best is trial 156 with value: 0.44949191452737364.\n",
      "[I 2024-09-23 07:49:31,916] Trial 530 finished with value: 0.282187463884409 and parameters: {'n_clusters': 5, 'distance_metric': 'euclidean', 'random_state': 44}. Best is trial 156 with value: 0.44949191452737364.\n",
      "[I 2024-09-23 07:49:31,988] Trial 531 finished with value: 0.23246195920286686 and parameters: {'n_clusters': 7, 'distance_metric': 'euclidean', 'random_state': 2}. Best is trial 156 with value: 0.44949191452737364.\n",
      "[I 2024-09-23 07:49:32,074] Trial 532 finished with value: 0.134085161613359 and parameters: {'n_clusters': 9, 'distance_metric': 'minkowski', 'random_state': 100}. Best is trial 156 with value: 0.44949191452737364.\n",
      "[I 2024-09-23 07:49:32,160] Trial 533 finished with value: 0.16439414345722844 and parameters: {'n_clusters': 7, 'distance_metric': 'minkowski', 'random_state': 1}. Best is trial 156 with value: 0.44949191452737364.\n",
      "[I 2024-09-23 07:49:32,247] Trial 534 finished with value: 0.34980674682870144 and parameters: {'n_clusters': 4, 'distance_metric': 'minkowski', 'random_state': 62}. Best is trial 156 with value: 0.44949191452737364.\n",
      "[I 2024-09-23 07:49:32,320] Trial 535 finished with value: 0.16271541574166 and parameters: {'n_clusters': 7, 'distance_metric': 'euclidean', 'random_state': 78}. Best is trial 156 with value: 0.44949191452737364.\n",
      "[I 2024-09-23 07:49:32,417] Trial 536 finished with value: 0.12900524455584303 and parameters: {'n_clusters': 9, 'distance_metric': 'minkowski', 'random_state': 72}. Best is trial 156 with value: 0.44949191452737364.\n",
      "[I 2024-09-23 07:49:32,504] Trial 537 finished with value: 0.0939885669766417 and parameters: {'n_clusters': 10, 'distance_metric': 'minkowski', 'random_state': 20}. Best is trial 156 with value: 0.44949191452737364.\n",
      "[I 2024-09-23 07:49:32,590] Trial 538 finished with value: 0.4460089237295571 and parameters: {'n_clusters': 3, 'distance_metric': 'minkowski', 'random_state': 11}. Best is trial 156 with value: 0.44949191452737364.\n",
      "[I 2024-09-23 07:49:32,678] Trial 539 finished with value: 0.290433611231107 and parameters: {'n_clusters': 5, 'distance_metric': 'minkowski', 'random_state': 40}. Best is trial 156 with value: 0.44949191452737364.\n",
      "[I 2024-09-23 07:49:32,751] Trial 540 finished with value: 0.14662502215180842 and parameters: {'n_clusters': 7, 'distance_metric': 'euclidean', 'random_state': 72}. Best is trial 156 with value: 0.44949191452737364.\n",
      "[I 2024-09-23 07:49:32,838] Trial 541 finished with value: 0.15350072825607122 and parameters: {'n_clusters': 8, 'distance_metric': 'minkowski', 'random_state': 22}. Best is trial 156 with value: 0.44949191452737364.\n",
      "[I 2024-09-23 07:49:32,914] Trial 542 finished with value: 0.16745590975751284 and parameters: {'n_clusters': 8, 'distance_metric': 'euclidean', 'random_state': 98}. Best is trial 156 with value: 0.44949191452737364.\n",
      "[I 2024-09-23 07:49:32,992] Trial 543 finished with value: 0.16342756941377456 and parameters: {'n_clusters': 8, 'distance_metric': 'euclidean', 'random_state': 47}. Best is trial 156 with value: 0.44949191452737364.\n",
      "[I 2024-09-23 07:49:33,080] Trial 544 finished with value: 0.3946778205022724 and parameters: {'n_clusters': 4, 'distance_metric': 'minkowski', 'random_state': 98}. Best is trial 156 with value: 0.44949191452737364.\n",
      "[I 2024-09-23 07:49:33,155] Trial 545 finished with value: 0.15986767012746742 and parameters: {'n_clusters': 8, 'distance_metric': 'euclidean', 'random_state': 71}. Best is trial 156 with value: 0.44949191452737364.\n",
      "[I 2024-09-23 07:49:33,243] Trial 546 finished with value: 0.10801130898475961 and parameters: {'n_clusters': 9, 'distance_metric': 'minkowski', 'random_state': 89}. Best is trial 156 with value: 0.44949191452737364.\n",
      "[I 2024-09-23 07:49:33,317] Trial 547 finished with value: 0.12416814841899475 and parameters: {'n_clusters': 7, 'distance_metric': 'euclidean', 'random_state': 27}. Best is trial 156 with value: 0.44949191452737364.\n",
      "[I 2024-09-23 07:49:33,407] Trial 548 finished with value: 0.19456496223841305 and parameters: {'n_clusters': 7, 'distance_metric': 'minkowski', 'random_state': 88}. Best is trial 156 with value: 0.44949191452737364.\n",
      "[I 2024-09-23 07:49:33,481] Trial 549 finished with value: 0.15075012306970484 and parameters: {'n_clusters': 9, 'distance_metric': 'euclidean', 'random_state': 22}. Best is trial 156 with value: 0.44949191452737364.\n",
      "[I 2024-09-23 07:49:33,569] Trial 550 finished with value: 0.16746585991625812 and parameters: {'n_clusters': 7, 'distance_metric': 'minkowski', 'random_state': 38}. Best is trial 156 with value: 0.44949191452737364.\n",
      "[I 2024-09-23 07:49:33,657] Trial 551 finished with value: 0.2945860629390223 and parameters: {'n_clusters': 5, 'distance_metric': 'minkowski', 'random_state': 11}. Best is trial 156 with value: 0.44949191452737364.\n",
      "[I 2024-09-23 07:49:33,733] Trial 552 finished with value: 0.17141725951916414 and parameters: {'n_clusters': 8, 'distance_metric': 'euclidean', 'random_state': 94}. Best is trial 156 with value: 0.44949191452737364.\n",
      "[I 2024-09-23 07:49:33,820] Trial 553 finished with value: 0.30841983906396253 and parameters: {'n_clusters': 4, 'distance_metric': 'minkowski', 'random_state': 59}. Best is trial 156 with value: 0.44949191452737364.\n",
      "[I 2024-09-23 07:49:33,910] Trial 554 finished with value: 0.12650202366532923 and parameters: {'n_clusters': 10, 'distance_metric': 'minkowski', 'random_state': 17}. Best is trial 156 with value: 0.44949191452737364.\n",
      "[I 2024-09-23 07:49:33,999] Trial 555 finished with value: 0.38583686071927786 and parameters: {'n_clusters': 4, 'distance_metric': 'minkowski', 'random_state': 38}. Best is trial 156 with value: 0.44949191452737364.\n",
      "[I 2024-09-23 07:49:34,106] Trial 556 finished with value: 0.07375231510761826 and parameters: {'n_clusters': 10, 'distance_metric': 'minkowski', 'random_state': 41}. Best is trial 156 with value: 0.44949191452737364.\n",
      "[I 2024-09-23 07:49:34,179] Trial 557 finished with value: 0.38967931998710137 and parameters: {'n_clusters': 4, 'distance_metric': 'euclidean', 'random_state': 95}. Best is trial 156 with value: 0.44949191452737364.\n",
      "[I 2024-09-23 07:49:34,259] Trial 558 finished with value: 0.20970967830733395 and parameters: {'n_clusters': 7, 'distance_metric': 'euclidean', 'random_state': 75}. Best is trial 156 with value: 0.44949191452737364.\n",
      "[I 2024-09-23 07:49:34,350] Trial 559 finished with value: 0.14363009587892725 and parameters: {'n_clusters': 9, 'distance_metric': 'minkowski', 'random_state': 4}. Best is trial 156 with value: 0.44949191452737364.\n",
      "[I 2024-09-23 07:49:34,442] Trial 560 finished with value: 0.21658542147348853 and parameters: {'n_clusters': 7, 'distance_metric': 'minkowski', 'random_state': 82}. Best is trial 156 with value: 0.44949191452737364.\n",
      "[I 2024-09-23 07:49:34,517] Trial 561 finished with value: 0.44347702319898546 and parameters: {'n_clusters': 3, 'distance_metric': 'euclidean', 'random_state': 50}. Best is trial 156 with value: 0.44949191452737364.\n",
      "[I 2024-09-23 07:49:34,594] Trial 562 finished with value: 0.1306587850779041 and parameters: {'n_clusters': 8, 'distance_metric': 'euclidean', 'random_state': 79}. Best is trial 156 with value: 0.44949191452737364.\n",
      "[I 2024-09-23 07:49:34,686] Trial 563 finished with value: 0.2603531308464851 and parameters: {'n_clusters': 6, 'distance_metric': 'minkowski', 'random_state': 26}. Best is trial 156 with value: 0.44949191452737364.\n",
      "[I 2024-09-23 07:49:34,776] Trial 564 finished with value: 0.37304166286595364 and parameters: {'n_clusters': 4, 'distance_metric': 'minkowski', 'random_state': 56}. Best is trial 156 with value: 0.44949191452737364.\n",
      "[I 2024-09-23 07:49:34,867] Trial 565 finished with value: 0.07692448266234099 and parameters: {'n_clusters': 10, 'distance_metric': 'minkowski', 'random_state': 56}. Best is trial 156 with value: 0.44949191452737364.\n",
      "[I 2024-09-23 07:49:34,941] Trial 566 finished with value: 0.4460089237295571 and parameters: {'n_clusters': 3, 'distance_metric': 'euclidean', 'random_state': 45}. Best is trial 156 with value: 0.44949191452737364.\n",
      "[I 2024-09-23 07:49:35,032] Trial 567 finished with value: 0.1256180607827483 and parameters: {'n_clusters': 8, 'distance_metric': 'minkowski', 'random_state': 19}. Best is trial 156 with value: 0.44949191452737364.\n",
      "[I 2024-09-23 07:49:35,108] Trial 568 finished with value: 0.29227755205053707 and parameters: {'n_clusters': 5, 'distance_metric': 'euclidean', 'random_state': 46}. Best is trial 156 with value: 0.44949191452737364.\n",
      "[I 2024-09-23 07:49:35,199] Trial 569 finished with value: 0.44347702319898546 and parameters: {'n_clusters': 3, 'distance_metric': 'minkowski', 'random_state': 100}. Best is trial 156 with value: 0.44949191452737364.\n",
      "[I 2024-09-23 07:49:35,275] Trial 570 finished with value: 0.21128724705981652 and parameters: {'n_clusters': 6, 'distance_metric': 'euclidean', 'random_state': 1}. Best is trial 156 with value: 0.44949191452737364.\n",
      "[I 2024-09-23 07:49:35,369] Trial 571 finished with value: 0.18364912988948284 and parameters: {'n_clusters': 7, 'distance_metric': 'minkowski', 'random_state': 12}. Best is trial 156 with value: 0.44949191452737364.\n",
      "[I 2024-09-23 07:49:35,450] Trial 572 finished with value: 0.17683063901391097 and parameters: {'n_clusters': 5, 'distance_metric': 'euclidean', 'random_state': 70}. Best is trial 156 with value: 0.44949191452737364.\n",
      "[I 2024-09-23 07:49:35,526] Trial 573 finished with value: 0.1518560994792789 and parameters: {'n_clusters': 8, 'distance_metric': 'euclidean', 'random_state': 76}. Best is trial 156 with value: 0.44949191452737364.\n",
      "[I 2024-09-23 07:49:35,602] Trial 574 finished with value: 0.2642184149961812 and parameters: {'n_clusters': 6, 'distance_metric': 'euclidean', 'random_state': 14}. Best is trial 156 with value: 0.44949191452737364.\n",
      "[I 2024-09-23 07:49:35,696] Trial 575 finished with value: 0.1324729000818915 and parameters: {'n_clusters': 9, 'distance_metric': 'minkowski', 'random_state': 52}. Best is trial 156 with value: 0.44949191452737364.\n",
      "[I 2024-09-23 07:49:35,775] Trial 576 finished with value: 0.30220564791829324 and parameters: {'n_clusters': 5, 'distance_metric': 'euclidean', 'random_state': 84}. Best is trial 156 with value: 0.44949191452737364.\n",
      "[I 2024-09-23 07:49:35,866] Trial 577 finished with value: 0.29114026422444905 and parameters: {'n_clusters': 6, 'distance_metric': 'minkowski', 'random_state': 15}. Best is trial 156 with value: 0.44949191452737364.\n",
      "[I 2024-09-23 07:49:35,941] Trial 578 finished with value: 0.12652001365465648 and parameters: {'n_clusters': 8, 'distance_metric': 'euclidean', 'random_state': 41}. Best is trial 156 with value: 0.44949191452737364.\n",
      "[I 2024-09-23 07:49:36,017] Trial 579 finished with value: 0.2110642409193291 and parameters: {'n_clusters': 7, 'distance_metric': 'euclidean', 'random_state': 7}. Best is trial 156 with value: 0.44949191452737364.\n",
      "[I 2024-09-23 07:49:36,095] Trial 580 finished with value: 0.20941585371469346 and parameters: {'n_clusters': 6, 'distance_metric': 'euclidean', 'random_state': 39}. Best is trial 156 with value: 0.44949191452737364.\n",
      "[I 2024-09-23 07:49:36,173] Trial 581 finished with value: 0.17529241462411382 and parameters: {'n_clusters': 7, 'distance_metric': 'euclidean', 'random_state': 67}. Best is trial 156 with value: 0.44949191452737364.\n",
      "[I 2024-09-23 07:49:36,250] Trial 582 finished with value: 0.20871517859640573 and parameters: {'n_clusters': 6, 'distance_metric': 'euclidean', 'random_state': 64}. Best is trial 156 with value: 0.44949191452737364.\n",
      "[I 2024-09-23 07:49:36,342] Trial 583 finished with value: 0.18173417228744448 and parameters: {'n_clusters': 7, 'distance_metric': 'minkowski', 'random_state': 33}. Best is trial 156 with value: 0.44949191452737364.\n",
      "[I 2024-09-23 07:49:36,421] Trial 584 finished with value: 0.24083420653716844 and parameters: {'n_clusters': 6, 'distance_metric': 'euclidean', 'random_state': 21}. Best is trial 156 with value: 0.44949191452737364.\n",
      "[I 2024-09-23 07:49:36,517] Trial 585 finished with value: 0.15721973307376994 and parameters: {'n_clusters': 7, 'distance_metric': 'minkowski', 'random_state': 41}. Best is trial 156 with value: 0.44949191452737364.\n",
      "[I 2024-09-23 07:49:36,615] Trial 586 finished with value: 0.176830639013911 and parameters: {'n_clusters': 5, 'distance_metric': 'minkowski', 'random_state': 70}. Best is trial 156 with value: 0.44949191452737364.\n",
      "[I 2024-09-23 07:49:36,693] Trial 587 finished with value: 0.4460089237295571 and parameters: {'n_clusters': 3, 'distance_metric': 'euclidean', 'random_state': 71}. Best is trial 156 with value: 0.44949191452737364.\n",
      "[I 2024-09-23 07:49:36,771] Trial 588 finished with value: 0.15405016700713103 and parameters: {'n_clusters': 8, 'distance_metric': 'euclidean', 'random_state': 1}. Best is trial 156 with value: 0.44949191452737364.\n",
      "[I 2024-09-23 07:49:36,849] Trial 589 finished with value: 0.4460089237295571 and parameters: {'n_clusters': 3, 'distance_metric': 'euclidean', 'random_state': 11}. Best is trial 156 with value: 0.44949191452737364.\n",
      "[I 2024-09-23 07:49:36,964] Trial 590 finished with value: 0.44347702319898546 and parameters: {'n_clusters': 3, 'distance_metric': 'minkowski', 'random_state': 64}. Best is trial 156 with value: 0.44949191452737364.\n",
      "[I 2024-09-23 07:49:37,049] Trial 591 finished with value: 0.20837916259991432 and parameters: {'n_clusters': 8, 'distance_metric': 'euclidean', 'random_state': 6}. Best is trial 156 with value: 0.44949191452737364.\n",
      "[I 2024-09-23 07:49:37,146] Trial 592 finished with value: 0.44347702319898546 and parameters: {'n_clusters': 3, 'distance_metric': 'minkowski', 'random_state': 47}. Best is trial 156 with value: 0.44949191452737364.\n",
      "[I 2024-09-23 07:49:37,245] Trial 593 finished with value: 0.24998759573981935 and parameters: {'n_clusters': 8, 'distance_metric': 'minkowski', 'random_state': 75}. Best is trial 156 with value: 0.44949191452737364.\n",
      "[I 2024-09-23 07:49:37,338] Trial 594 finished with value: 0.12485311149218863 and parameters: {'n_clusters': 9, 'distance_metric': 'minkowski', 'random_state': 85}. Best is trial 156 with value: 0.44949191452737364.\n",
      "[I 2024-09-23 07:49:37,416] Trial 595 finished with value: 0.44347702319898546 and parameters: {'n_clusters': 3, 'distance_metric': 'euclidean', 'random_state': 65}. Best is trial 156 with value: 0.44949191452737364.\n",
      "[I 2024-09-23 07:49:37,509] Trial 596 finished with value: 0.20061306352154934 and parameters: {'n_clusters': 6, 'distance_metric': 'minkowski', 'random_state': 3}. Best is trial 156 with value: 0.44949191452737364.\n",
      "[I 2024-09-23 07:49:37,604] Trial 597 finished with value: 0.10756016555688705 and parameters: {'n_clusters': 10, 'distance_metric': 'minkowski', 'random_state': 19}. Best is trial 156 with value: 0.44949191452737364.\n",
      "[I 2024-09-23 07:49:37,683] Trial 598 finished with value: 0.19420524965598446 and parameters: {'n_clusters': 7, 'distance_metric': 'euclidean', 'random_state': 17}. Best is trial 156 with value: 0.44949191452737364.\n",
      "[I 2024-09-23 07:49:37,780] Trial 599 finished with value: 0.21969231767275388 and parameters: {'n_clusters': 7, 'distance_metric': 'minkowski', 'random_state': 10}. Best is trial 156 with value: 0.44949191452737364.\n",
      "[I 2024-09-23 07:49:37,881] Trial 600 finished with value: 0.3742156351316823 and parameters: {'n_clusters': 4, 'distance_metric': 'minkowski', 'random_state': 84}. Best is trial 156 with value: 0.44949191452737364.\n",
      "[I 2024-09-23 07:49:37,961] Trial 601 finished with value: 0.2943705018403168 and parameters: {'n_clusters': 5, 'distance_metric': 'euclidean', 'random_state': 6}. Best is trial 156 with value: 0.44949191452737364.\n",
      "[I 2024-09-23 07:49:38,042] Trial 602 finished with value: 0.23681436162014471 and parameters: {'n_clusters': 6, 'distance_metric': 'euclidean', 'random_state': 29}. Best is trial 156 with value: 0.44949191452737364.\n",
      "[I 2024-09-23 07:49:38,120] Trial 603 finished with value: 0.2077228544250966 and parameters: {'n_clusters': 7, 'distance_metric': 'euclidean', 'random_state': 87}. Best is trial 156 with value: 0.44949191452737364.\n",
      "[I 2024-09-23 07:49:38,214] Trial 604 finished with value: 0.3804770925826096 and parameters: {'n_clusters': 4, 'distance_metric': 'minkowski', 'random_state': 54}. Best is trial 156 with value: 0.44949191452737364.\n",
      "[I 2024-09-23 07:49:38,308] Trial 605 finished with value: 0.1328920544258089 and parameters: {'n_clusters': 8, 'distance_metric': 'minkowski', 'random_state': 54}. Best is trial 156 with value: 0.44949191452737364.\n",
      "[I 2024-09-23 07:49:38,403] Trial 606 finished with value: 0.15075012306970476 and parameters: {'n_clusters': 9, 'distance_metric': 'minkowski', 'random_state': 22}. Best is trial 156 with value: 0.44949191452737364.\n",
      "[I 2024-09-23 07:49:38,482] Trial 607 finished with value: 0.12424626465181657 and parameters: {'n_clusters': 8, 'distance_metric': 'euclidean', 'random_state': 29}. Best is trial 156 with value: 0.44949191452737364.\n",
      "[I 2024-09-23 07:49:38,576] Trial 608 finished with value: 0.10021240638835789 and parameters: {'n_clusters': 10, 'distance_metric': 'minkowski', 'random_state': 34}. Best is trial 156 with value: 0.44949191452737364.\n",
      "[I 2024-09-23 07:49:38,657] Trial 609 finished with value: 0.18223511612123378 and parameters: {'n_clusters': 7, 'distance_metric': 'euclidean', 'random_state': 19}. Best is trial 156 with value: 0.44949191452737364.\n",
      "[I 2024-09-23 07:49:38,753] Trial 610 finished with value: 0.16288055927024084 and parameters: {'n_clusters': 7, 'distance_metric': 'minkowski', 'random_state': 68}. Best is trial 156 with value: 0.44949191452737364.\n",
      "[I 2024-09-23 07:49:38,848] Trial 611 finished with value: 0.19050438508672873 and parameters: {'n_clusters': 7, 'distance_metric': 'minkowski', 'random_state': 76}. Best is trial 156 with value: 0.44949191452737364.\n",
      "[I 2024-09-23 07:49:38,931] Trial 612 finished with value: 0.11324645400650594 and parameters: {'n_clusters': 10, 'distance_metric': 'euclidean', 'random_state': 62}. Best is trial 156 with value: 0.44949191452737364.\n",
      "[I 2024-09-23 07:49:39,017] Trial 613 finished with value: 0.1457386619830134 and parameters: {'n_clusters': 8, 'distance_metric': 'euclidean', 'random_state': 91}. Best is trial 156 with value: 0.44949191452737364.\n",
      "[I 2024-09-23 07:49:39,113] Trial 614 finished with value: 0.38967931998710137 and parameters: {'n_clusters': 4, 'distance_metric': 'minkowski', 'random_state': 100}. Best is trial 156 with value: 0.44949191452737364.\n",
      "[I 2024-09-23 07:49:39,209] Trial 615 finished with value: 0.1711532816375674 and parameters: {'n_clusters': 7, 'distance_metric': 'minkowski', 'random_state': 26}. Best is trial 156 with value: 0.44949191452737364.\n",
      "[I 2024-09-23 07:49:39,290] Trial 616 finished with value: 0.17005954032896914 and parameters: {'n_clusters': 7, 'distance_metric': 'euclidean', 'random_state': 73}. Best is trial 156 with value: 0.44949191452737364.\n",
      "[I 2024-09-23 07:49:39,386] Trial 617 finished with value: 0.18897546551590205 and parameters: {'n_clusters': 7, 'distance_metric': 'minkowski', 'random_state': 100}. Best is trial 156 with value: 0.44949191452737364.\n",
      "[I 2024-09-23 07:49:39,467] Trial 618 finished with value: 0.37421563513168227 and parameters: {'n_clusters': 4, 'distance_metric': 'euclidean', 'random_state': 32}. Best is trial 156 with value: 0.44949191452737364.\n",
      "[I 2024-09-23 07:49:39,549] Trial 619 finished with value: 0.44347702319898546 and parameters: {'n_clusters': 3, 'distance_metric': 'euclidean', 'random_state': 16}. Best is trial 156 with value: 0.44949191452737364.\n",
      "[I 2024-09-23 07:49:39,631] Trial 620 finished with value: 0.15107829610481605 and parameters: {'n_clusters': 7, 'distance_metric': 'euclidean', 'random_state': 40}. Best is trial 156 with value: 0.44949191452737364.\n",
      "[I 2024-09-23 07:49:39,728] Trial 621 finished with value: 0.12518124362646005 and parameters: {'n_clusters': 10, 'distance_metric': 'minkowski', 'random_state': 4}. Best is trial 156 with value: 0.44949191452737364.\n",
      "[I 2024-09-23 07:49:39,810] Trial 622 finished with value: 0.20727337754759453 and parameters: {'n_clusters': 7, 'distance_metric': 'euclidean', 'random_state': 77}. Best is trial 156 with value: 0.44949191452737364.\n",
      "[I 2024-09-23 07:49:39,893] Trial 623 finished with value: 0.1281167832275594 and parameters: {'n_clusters': 9, 'distance_metric': 'euclidean', 'random_state': 50}. Best is trial 156 with value: 0.44949191452737364.\n",
      "[I 2024-09-23 07:49:39,989] Trial 624 finished with value: 0.1905769061894946 and parameters: {'n_clusters': 7, 'distance_metric': 'minkowski', 'random_state': 23}. Best is trial 156 with value: 0.44949191452737364.\n",
      "[I 2024-09-23 07:49:40,084] Trial 625 finished with value: 0.2728588256515288 and parameters: {'n_clusters': 5, 'distance_metric': 'minkowski', 'random_state': 90}. Best is trial 156 with value: 0.44949191452737364.\n",
      "[I 2024-09-23 07:49:40,220] Trial 626 finished with value: 0.35615726803052666 and parameters: {'n_clusters': 4, 'distance_metric': 'minkowski', 'random_state': 58}. Best is trial 156 with value: 0.44949191452737364.\n",
      "[I 2024-09-23 07:49:40,326] Trial 627 finished with value: 0.16277413304313115 and parameters: {'n_clusters': 8, 'distance_metric': 'minkowski', 'random_state': 42}. Best is trial 156 with value: 0.44949191452737364.\n",
      "[I 2024-09-23 07:49:40,410] Trial 628 finished with value: 0.27536867172107726 and parameters: {'n_clusters': 4, 'distance_metric': 'euclidean', 'random_state': 4}. Best is trial 156 with value: 0.44949191452737364.\n",
      "[I 2024-09-23 07:49:40,492] Trial 629 finished with value: 0.44347702319898546 and parameters: {'n_clusters': 3, 'distance_metric': 'euclidean', 'random_state': 61}. Best is trial 156 with value: 0.44949191452737364.\n",
      "[I 2024-09-23 07:49:40,576] Trial 630 finished with value: 0.1433418874765878 and parameters: {'n_clusters': 10, 'distance_metric': 'euclidean', 'random_state': 26}. Best is trial 156 with value: 0.44949191452737364.\n",
      "[I 2024-09-23 07:49:40,658] Trial 631 finished with value: 0.44347702319898546 and parameters: {'n_clusters': 3, 'distance_metric': 'euclidean', 'random_state': 79}. Best is trial 156 with value: 0.44949191452737364.\n",
      "[I 2024-09-23 07:49:40,741] Trial 632 finished with value: 0.23381297151565714 and parameters: {'n_clusters': 6, 'distance_metric': 'euclidean', 'random_state': 92}. Best is trial 156 with value: 0.44949191452737364.\n",
      "[I 2024-09-23 07:49:40,823] Trial 633 finished with value: 0.36919699265851225 and parameters: {'n_clusters': 4, 'distance_metric': 'euclidean', 'random_state': 66}. Best is trial 156 with value: 0.44949191452737364.\n",
      "[I 2024-09-23 07:49:40,920] Trial 634 finished with value: 0.30103374151219064 and parameters: {'n_clusters': 5, 'distance_metric': 'minkowski', 'random_state': 88}. Best is trial 156 with value: 0.44949191452737364.\n",
      "[I 2024-09-23 07:49:41,018] Trial 635 finished with value: 0.4460089237295571 and parameters: {'n_clusters': 3, 'distance_metric': 'minkowski', 'random_state': 85}. Best is trial 156 with value: 0.44949191452737364.\n",
      "[I 2024-09-23 07:49:41,117] Trial 636 finished with value: 0.2536111648851818 and parameters: {'n_clusters': 6, 'distance_metric': 'minkowski', 'random_state': 10}. Best is trial 156 with value: 0.44949191452737364.\n",
      "[I 2024-09-23 07:49:41,216] Trial 637 finished with value: 0.3795067712464558 and parameters: {'n_clusters': 4, 'distance_metric': 'minkowski', 'random_state': 43}. Best is trial 156 with value: 0.44949191452737364.\n",
      "[I 2024-09-23 07:49:41,301] Trial 638 finished with value: 0.21597091093952675 and parameters: {'n_clusters': 6, 'distance_metric': 'euclidean', 'random_state': 50}. Best is trial 156 with value: 0.44949191452737364.\n",
      "[I 2024-09-23 07:49:41,393] Trial 639 finished with value: 0.39467782050227246 and parameters: {'n_clusters': 4, 'distance_metric': 'euclidean', 'random_state': 86}. Best is trial 156 with value: 0.44949191452737364.\n",
      "[I 2024-09-23 07:49:41,492] Trial 640 finished with value: 0.1804626501851156 and parameters: {'n_clusters': 7, 'distance_metric': 'minkowski', 'random_state': 74}. Best is trial 156 with value: 0.44949191452737364.\n",
      "[I 2024-09-23 07:49:41,577] Trial 641 finished with value: 0.2052153379269731 and parameters: {'n_clusters': 6, 'distance_metric': 'euclidean', 'random_state': 72}. Best is trial 156 with value: 0.44949191452737364.\n",
      "[I 2024-09-23 07:49:41,661] Trial 642 finished with value: 0.39467782050227246 and parameters: {'n_clusters': 4, 'distance_metric': 'euclidean', 'random_state': 18}. Best is trial 156 with value: 0.44949191452737364.\n",
      "[I 2024-09-23 07:49:41,760] Trial 643 finished with value: 0.22628722952520766 and parameters: {'n_clusters': 6, 'distance_metric': 'minkowski', 'random_state': 49}. Best is trial 156 with value: 0.44949191452737364.\n",
      "[I 2024-09-23 07:49:41,844] Trial 644 finished with value: 0.3241126046752198 and parameters: {'n_clusters': 5, 'distance_metric': 'euclidean', 'random_state': 53}. Best is trial 156 with value: 0.44949191452737364.\n",
      "[I 2024-09-23 07:49:41,929] Trial 645 finished with value: 0.09836601445967429 and parameters: {'n_clusters': 8, 'distance_metric': 'euclidean', 'random_state': 8}. Best is trial 156 with value: 0.44949191452737364.\n",
      "[I 2024-09-23 07:49:42,029] Trial 646 finished with value: 0.08380231491744393 and parameters: {'n_clusters': 10, 'distance_metric': 'minkowski', 'random_state': 89}. Best is trial 156 with value: 0.44949191452737364.\n",
      "[I 2024-09-23 07:49:42,114] Trial 647 finished with value: 0.2531442471672849 and parameters: {'n_clusters': 6, 'distance_metric': 'euclidean', 'random_state': 12}. Best is trial 156 with value: 0.44949191452737364.\n",
      "[I 2024-09-23 07:49:42,198] Trial 648 finished with value: 0.10438327463482602 and parameters: {'n_clusters': 10, 'distance_metric': 'euclidean', 'random_state': 72}. Best is trial 156 with value: 0.44949191452737364.\n",
      "[I 2024-09-23 07:49:42,284] Trial 649 finished with value: 0.24711423137253025 and parameters: {'n_clusters': 6, 'distance_metric': 'euclidean', 'random_state': 96}. Best is trial 156 with value: 0.44949191452737364.\n",
      "[I 2024-09-23 07:49:42,383] Trial 650 finished with value: 0.4460089237295571 and parameters: {'n_clusters': 3, 'distance_metric': 'minkowski', 'random_state': 72}. Best is trial 156 with value: 0.44949191452737364.\n",
      "[I 2024-09-23 07:49:42,469] Trial 651 finished with value: 0.19234903858300503 and parameters: {'n_clusters': 6, 'distance_metric': 'euclidean', 'random_state': 59}. Best is trial 156 with value: 0.44949191452737364.\n",
      "[I 2024-09-23 07:49:42,561] Trial 652 finished with value: 0.2882385996841197 and parameters: {'n_clusters': 5, 'distance_metric': 'euclidean', 'random_state': 64}. Best is trial 156 with value: 0.44949191452737364.\n",
      "[I 2024-09-23 07:49:42,647] Trial 653 finished with value: 0.2424677569394065 and parameters: {'n_clusters': 6, 'distance_metric': 'euclidean', 'random_state': 60}. Best is trial 156 with value: 0.44949191452737364.\n",
      "[I 2024-09-23 07:49:42,746] Trial 654 finished with value: 0.4460089237295571 and parameters: {'n_clusters': 3, 'distance_metric': 'minkowski', 'random_state': 45}. Best is trial 156 with value: 0.44949191452737364.\n",
      "[I 2024-09-23 07:49:42,846] Trial 655 finished with value: 0.21581924226955873 and parameters: {'n_clusters': 6, 'distance_metric': 'minkowski', 'random_state': 25}. Best is trial 156 with value: 0.44949191452737364.\n",
      "[I 2024-09-23 07:49:42,947] Trial 656 finished with value: 0.0770849180215142 and parameters: {'n_clusters': 9, 'distance_metric': 'minkowski', 'random_state': 82}. Best is trial 156 with value: 0.44949191452737364.\n",
      "[I 2024-09-23 07:49:43,048] Trial 657 finished with value: 0.11951814559542052 and parameters: {'n_clusters': 9, 'distance_metric': 'minkowski', 'random_state': 40}. Best is trial 156 with value: 0.44949191452737364.\n",
      "[I 2024-09-23 07:49:43,149] Trial 658 finished with value: 0.43516487008749927 and parameters: {'n_clusters': 3, 'distance_metric': 'minkowski', 'random_state': 43}. Best is trial 156 with value: 0.44949191452737364.\n",
      "[I 2024-09-23 07:49:43,236] Trial 659 finished with value: 0.10985767454420076 and parameters: {'n_clusters': 9, 'distance_metric': 'euclidean', 'random_state': 35}. Best is trial 156 with value: 0.44949191452737364.\n",
      "[I 2024-09-23 07:49:43,336] Trial 660 finished with value: 0.09639764895928214 and parameters: {'n_clusters': 10, 'distance_metric': 'minkowski', 'random_state': 28}. Best is trial 156 with value: 0.44949191452737364.\n",
      "[I 2024-09-23 07:49:43,422] Trial 661 finished with value: 0.4460089237295571 and parameters: {'n_clusters': 3, 'distance_metric': 'euclidean', 'random_state': 17}. Best is trial 156 with value: 0.44949191452737364.\n",
      "[I 2024-09-23 07:49:43,509] Trial 662 finished with value: 0.44347702319898546 and parameters: {'n_clusters': 3, 'distance_metric': 'euclidean', 'random_state': 52}. Best is trial 156 with value: 0.44949191452737364.\n",
      "[I 2024-09-23 07:49:43,611] Trial 663 finished with value: 0.16614550588115254 and parameters: {'n_clusters': 7, 'distance_metric': 'minkowski', 'random_state': 35}. Best is trial 156 with value: 0.44949191452737364.\n",
      "[I 2024-09-23 07:49:43,718] Trial 664 finished with value: 0.1325063859870128 and parameters: {'n_clusters': 8, 'distance_metric': 'minkowski', 'random_state': 87}. Best is trial 156 with value: 0.44949191452737364.\n",
      "[I 2024-09-23 07:49:43,806] Trial 665 finished with value: 0.12886546035601415 and parameters: {'n_clusters': 9, 'distance_metric': 'euclidean', 'random_state': 2}. Best is trial 156 with value: 0.44949191452737364.\n",
      "[I 2024-09-23 07:49:43,908] Trial 666 finished with value: 0.20807476203594882 and parameters: {'n_clusters': 7, 'distance_metric': 'minkowski', 'random_state': 81}. Best is trial 156 with value: 0.44949191452737364.\n",
      "[I 2024-09-23 07:49:43,993] Trial 667 finished with value: 0.25206914574059824 and parameters: {'n_clusters': 6, 'distance_metric': 'euclidean', 'random_state': 52}. Best is trial 156 with value: 0.44949191452737364.\n",
      "[I 2024-09-23 07:49:44,098] Trial 668 finished with value: 0.27288825518247634 and parameters: {'n_clusters': 5, 'distance_metric': 'minkowski', 'random_state': 45}. Best is trial 156 with value: 0.44949191452737364.\n",
      "[I 2024-09-23 07:49:44,199] Trial 669 finished with value: 0.14030056911733668 and parameters: {'n_clusters': 10, 'distance_metric': 'minkowski', 'random_state': 80}. Best is trial 156 with value: 0.44949191452737364.\n",
      "[I 2024-09-23 07:49:44,302] Trial 670 finished with value: 0.12646523543761715 and parameters: {'n_clusters': 9, 'distance_metric': 'minkowski', 'random_state': 62}. Best is trial 156 with value: 0.44949191452737364.\n",
      "[I 2024-09-23 07:49:44,404] Trial 671 finished with value: 0.37406905666784895 and parameters: {'n_clusters': 4, 'distance_metric': 'minkowski', 'random_state': 90}. Best is trial 156 with value: 0.44949191452737364.\n",
      "[I 2024-09-23 07:49:44,505] Trial 672 finished with value: 0.44347702319898546 and parameters: {'n_clusters': 3, 'distance_metric': 'minkowski', 'random_state': 48}. Best is trial 156 with value: 0.44949191452737364.\n",
      "[I 2024-09-23 07:49:44,593] Trial 673 finished with value: 0.44347702319898546 and parameters: {'n_clusters': 3, 'distance_metric': 'euclidean', 'random_state': 98}. Best is trial 156 with value: 0.44949191452737364.\n",
      "[I 2024-09-23 07:49:44,696] Trial 674 finished with value: 0.20797443435730487 and parameters: {'n_clusters': 6, 'distance_metric': 'minkowski', 'random_state': 86}. Best is trial 156 with value: 0.44949191452737364.\n",
      "[I 2024-09-23 07:49:44,801] Trial 675 finished with value: 0.15452316579694844 and parameters: {'n_clusters': 8, 'distance_metric': 'minkowski', 'random_state': 99}. Best is trial 156 with value: 0.44949191452737364.\n",
      "[I 2024-09-23 07:49:44,900] Trial 676 finished with value: 0.3391329276521928 and parameters: {'n_clusters': 4, 'distance_metric': 'euclidean', 'random_state': 97}. Best is trial 156 with value: 0.44949191452737364.\n",
      "[I 2024-09-23 07:49:44,992] Trial 677 finished with value: 0.11177227400329777 and parameters: {'n_clusters': 10, 'distance_metric': 'euclidean', 'random_state': 9}. Best is trial 156 with value: 0.44949191452737364.\n",
      "[I 2024-09-23 07:49:45,108] Trial 678 finished with value: 0.37421563513168227 and parameters: {'n_clusters': 4, 'distance_metric': 'euclidean', 'random_state': 84}. Best is trial 156 with value: 0.44949191452737364.\n",
      "[I 2024-09-23 07:49:45,216] Trial 679 finished with value: 0.15127117295380457 and parameters: {'n_clusters': 9, 'distance_metric': 'minkowski', 'random_state': 9}. Best is trial 156 with value: 0.44949191452737364.\n",
      "[I 2024-09-23 07:49:45,321] Trial 680 finished with value: 0.11234188763738072 and parameters: {'n_clusters': 10, 'distance_metric': 'minkowski', 'random_state': 55}. Best is trial 156 with value: 0.44949191452737364.\n",
      "[I 2024-09-23 07:49:45,411] Trial 681 finished with value: 0.11384664763236328 and parameters: {'n_clusters': 9, 'distance_metric': 'euclidean', 'random_state': 14}. Best is trial 156 with value: 0.44949191452737364.\n",
      "[I 2024-09-23 07:49:45,515] Trial 682 finished with value: 0.4460089237295571 and parameters: {'n_clusters': 3, 'distance_metric': 'minkowski', 'random_state': 26}. Best is trial 156 with value: 0.44949191452737364.\n",
      "[I 2024-09-23 07:49:45,619] Trial 683 finished with value: 0.36484771907545255 and parameters: {'n_clusters': 4, 'distance_metric': 'minkowski', 'random_state': 44}. Best is trial 156 with value: 0.44949191452737364.\n",
      "[I 2024-09-23 07:49:45,708] Trial 684 finished with value: 0.1086085815155526 and parameters: {'n_clusters': 9, 'distance_metric': 'euclidean', 'random_state': 83}. Best is trial 156 with value: 0.44949191452737364.\n",
      "[I 2024-09-23 07:49:45,797] Trial 685 finished with value: 0.16671320784362087 and parameters: {'n_clusters': 8, 'distance_metric': 'euclidean', 'random_state': 34}. Best is trial 156 with value: 0.44949191452737364.\n",
      "[I 2024-09-23 07:49:45,887] Trial 686 finished with value: 0.10492664825706517 and parameters: {'n_clusters': 9, 'distance_metric': 'euclidean', 'random_state': 11}. Best is trial 156 with value: 0.44949191452737364.\n",
      "[I 2024-09-23 07:49:45,992] Trial 687 finished with value: 0.32260138949066797 and parameters: {'n_clusters': 5, 'distance_metric': 'minkowski', 'random_state': 98}. Best is trial 156 with value: 0.44949191452737364.\n",
      "[I 2024-09-23 07:49:46,086] Trial 688 finished with value: 0.44347702319898546 and parameters: {'n_clusters': 3, 'distance_metric': 'euclidean', 'random_state': 82}. Best is trial 156 with value: 0.44949191452737364.\n",
      "[I 2024-09-23 07:49:46,192] Trial 689 finished with value: 0.2424677569394065 and parameters: {'n_clusters': 6, 'distance_metric': 'minkowski', 'random_state': 60}. Best is trial 156 with value: 0.44949191452737364.\n",
      "[I 2024-09-23 07:49:46,282] Trial 690 finished with value: 0.25853849357191433 and parameters: {'n_clusters': 6, 'distance_metric': 'euclidean', 'random_state': 98}. Best is trial 156 with value: 0.44949191452737364.\n",
      "[I 2024-09-23 07:49:46,373] Trial 691 finished with value: 0.3251949755858197 and parameters: {'n_clusters': 5, 'distance_metric': 'euclidean', 'random_state': 68}. Best is trial 156 with value: 0.44949191452737364.\n",
      "[I 2024-09-23 07:49:46,463] Trial 692 finished with value: 0.13332521345439113 and parameters: {'n_clusters': 8, 'distance_metric': 'euclidean', 'random_state': 90}. Best is trial 156 with value: 0.44949191452737364.\n",
      "[I 2024-09-23 07:49:46,556] Trial 693 finished with value: 0.17539044977504972 and parameters: {'n_clusters': 6, 'distance_metric': 'euclidean', 'random_state': 87}. Best is trial 156 with value: 0.44949191452737364.\n",
      "[I 2024-09-23 07:49:46,663] Trial 694 finished with value: 0.30627575886236497 and parameters: {'n_clusters': 5, 'distance_metric': 'minkowski', 'random_state': 57}. Best is trial 156 with value: 0.44949191452737364.\n",
      "[I 2024-09-23 07:49:46,769] Trial 695 finished with value: 0.12479785799901526 and parameters: {'n_clusters': 8, 'distance_metric': 'minkowski', 'random_state': 93}. Best is trial 156 with value: 0.44949191452737364.\n",
      "[I 2024-09-23 07:49:46,863] Trial 696 finished with value: 0.38967931998710137 and parameters: {'n_clusters': 4, 'distance_metric': 'euclidean', 'random_state': 33}. Best is trial 156 with value: 0.44949191452737364.\n",
      "[I 2024-09-23 07:49:46,954] Trial 697 finished with value: 0.31247835099177357 and parameters: {'n_clusters': 5, 'distance_metric': 'euclidean', 'random_state': 66}. Best is trial 156 with value: 0.44949191452737364.\n",
      "[I 2024-09-23 07:49:47,060] Trial 698 finished with value: 0.08566556633676208 and parameters: {'n_clusters': 10, 'distance_metric': 'minkowski', 'random_state': 64}. Best is trial 156 with value: 0.44949191452737364.\n",
      "[I 2024-09-23 07:49:47,171] Trial 699 finished with value: 0.11521907064766768 and parameters: {'n_clusters': 8, 'distance_metric': 'minkowski', 'random_state': 27}. Best is trial 156 with value: 0.44949191452737364.\n",
      "[I 2024-09-23 07:49:47,263] Trial 700 finished with value: 0.4401575001479684 and parameters: {'n_clusters': 3, 'distance_metric': 'euclidean', 'random_state': 89}. Best is trial 156 with value: 0.44949191452737364.\n",
      "[I 2024-09-23 07:49:47,368] Trial 701 finished with value: 0.16495749649898056 and parameters: {'n_clusters': 8, 'distance_metric': 'minkowski', 'random_state': 56}. Best is trial 156 with value: 0.44949191452737364.\n",
      "[I 2024-09-23 07:49:47,474] Trial 702 finished with value: 0.2849603406994125 and parameters: {'n_clusters': 4, 'distance_metric': 'minkowski', 'random_state': 22}. Best is trial 156 with value: 0.44949191452737364.\n",
      "[I 2024-09-23 07:49:47,584] Trial 703 finished with value: 0.1284379489079832 and parameters: {'n_clusters': 9, 'distance_metric': 'minkowski', 'random_state': 96}. Best is trial 156 with value: 0.44949191452737364.\n",
      "[I 2024-09-23 07:49:47,674] Trial 704 finished with value: 0.12664239650874468 and parameters: {'n_clusters': 9, 'distance_metric': 'euclidean', 'random_state': 77}. Best is trial 156 with value: 0.44949191452737364.\n",
      "[I 2024-09-23 07:49:47,782] Trial 705 finished with value: 0.13538204368898693 and parameters: {'n_clusters': 9, 'distance_metric': 'minkowski', 'random_state': 63}. Best is trial 156 with value: 0.44949191452737364.\n",
      "[I 2024-09-23 07:49:47,876] Trial 706 finished with value: 0.12691345561591777 and parameters: {'n_clusters': 9, 'distance_metric': 'euclidean', 'random_state': 30}. Best is trial 156 with value: 0.44949191452737364.\n",
      "[I 2024-09-23 07:49:47,983] Trial 707 finished with value: 0.18655118176497296 and parameters: {'n_clusters': 7, 'distance_metric': 'minkowski', 'random_state': 46}. Best is trial 156 with value: 0.44949191452737364.\n",
      "[I 2024-09-23 07:49:48,091] Trial 708 finished with value: 0.4460089237295571 and parameters: {'n_clusters': 3, 'distance_metric': 'minkowski', 'random_state': 81}. Best is trial 156 with value: 0.44949191452737364.\n",
      "[I 2024-09-23 07:49:48,183] Trial 709 finished with value: 0.3030651190705622 and parameters: {'n_clusters': 5, 'distance_metric': 'euclidean', 'random_state': 95}. Best is trial 156 with value: 0.44949191452737364.\n",
      "[I 2024-09-23 07:49:48,279] Trial 710 finished with value: 0.33656673023542155 and parameters: {'n_clusters': 5, 'distance_metric': 'euclidean', 'random_state': 62}. Best is trial 156 with value: 0.44949191452737364.\n",
      "[I 2024-09-23 07:49:48,393] Trial 711 finished with value: 0.1320909928978814 and parameters: {'n_clusters': 8, 'distance_metric': 'minkowski', 'random_state': 66}. Best is trial 156 with value: 0.44949191452737364.\n",
      "[I 2024-09-23 07:49:48,488] Trial 712 finished with value: 0.10856996994590194 and parameters: {'n_clusters': 10, 'distance_metric': 'euclidean', 'random_state': 90}. Best is trial 156 with value: 0.44949191452737364.\n",
      "[I 2024-09-23 07:49:48,597] Trial 713 finished with value: 0.14903827819552412 and parameters: {'n_clusters': 8, 'distance_metric': 'minkowski', 'random_state': 25}. Best is trial 156 with value: 0.44949191452737364.\n",
      "[I 2024-09-23 07:49:48,705] Trial 714 finished with value: 0.12022877226076742 and parameters: {'n_clusters': 10, 'distance_metric': 'minkowski', 'random_state': 52}. Best is trial 156 with value: 0.44949191452737364.\n",
      "[I 2024-09-23 07:49:48,798] Trial 715 finished with value: 0.15255445955565697 and parameters: {'n_clusters': 7, 'distance_metric': 'euclidean', 'random_state': 6}. Best is trial 156 with value: 0.44949191452737364.\n",
      "[I 2024-09-23 07:49:48,908] Trial 716 finished with value: 0.0849765861125421 and parameters: {'n_clusters': 10, 'distance_metric': 'minkowski', 'random_state': 92}. Best is trial 156 with value: 0.44949191452737364.\n",
      "[I 2024-09-23 07:49:49,000] Trial 717 finished with value: 0.2419459588317544 and parameters: {'n_clusters': 6, 'distance_metric': 'euclidean', 'random_state': 57}. Best is trial 156 with value: 0.44949191452737364.\n",
      "[I 2024-09-23 07:49:49,093] Trial 718 finished with value: 0.15127117295380435 and parameters: {'n_clusters': 9, 'distance_metric': 'euclidean', 'random_state': 9}. Best is trial 156 with value: 0.44949191452737364.\n",
      "[I 2024-09-23 07:49:49,202] Trial 719 finished with value: 0.15242833571705944 and parameters: {'n_clusters': 7, 'distance_metric': 'minkowski', 'random_state': 45}. Best is trial 156 with value: 0.44949191452737364.\n",
      "[I 2024-09-23 07:49:49,297] Trial 720 finished with value: 0.29043361123110706 and parameters: {'n_clusters': 5, 'distance_metric': 'euclidean', 'random_state': 40}. Best is trial 156 with value: 0.44949191452737364.\n",
      "[I 2024-09-23 07:49:49,405] Trial 721 finished with value: 0.09940748353488868 and parameters: {'n_clusters': 10, 'distance_metric': 'minkowski', 'random_state': 37}. Best is trial 156 with value: 0.44949191452737364.\n",
      "[I 2024-09-23 07:49:49,520] Trial 722 finished with value: 0.4460089237295571 and parameters: {'n_clusters': 3, 'distance_metric': 'minkowski', 'random_state': 27}. Best is trial 156 with value: 0.44949191452737364.\n",
      "[I 2024-09-23 07:49:49,628] Trial 723 finished with value: 0.1810632949298903 and parameters: {'n_clusters': 9, 'distance_metric': 'minkowski', 'random_state': 16}. Best is trial 156 with value: 0.44949191452737364.\n",
      "[I 2024-09-23 07:49:49,725] Trial 724 finished with value: 0.39467782050227246 and parameters: {'n_clusters': 4, 'distance_metric': 'euclidean', 'random_state': 20}. Best is trial 156 with value: 0.44949191452737364.\n",
      "[I 2024-09-23 07:49:49,833] Trial 725 finished with value: 0.16671320784362134 and parameters: {'n_clusters': 8, 'distance_metric': 'minkowski', 'random_state': 34}. Best is trial 156 with value: 0.44949191452737364.\n",
      "[I 2024-09-23 07:49:49,943] Trial 726 finished with value: 0.12943261283025326 and parameters: {'n_clusters': 10, 'distance_metric': 'minkowski', 'random_state': 69}. Best is trial 156 with value: 0.44949191452737364.\n",
      "[I 2024-09-23 07:49:50,037] Trial 727 finished with value: 0.313904227196316 and parameters: {'n_clusters': 6, 'distance_metric': 'euclidean', 'random_state': 75}. Best is trial 156 with value: 0.44949191452737364.\n",
      "[I 2024-09-23 07:49:50,157] Trial 728 finished with value: 0.16607243484813744 and parameters: {'n_clusters': 7, 'distance_metric': 'euclidean', 'random_state': 54}. Best is trial 156 with value: 0.44949191452737364.\n",
      "[I 2024-09-23 07:49:50,255] Trial 729 finished with value: 0.38967931998710137 and parameters: {'n_clusters': 4, 'distance_metric': 'euclidean', 'random_state': 11}. Best is trial 156 with value: 0.44949191452737364.\n",
      "[I 2024-09-23 07:49:50,365] Trial 730 finished with value: 0.11324645400650597 and parameters: {'n_clusters': 10, 'distance_metric': 'minkowski', 'random_state': 62}. Best is trial 156 with value: 0.44949191452737364.\n",
      "[I 2024-09-23 07:49:50,476] Trial 731 finished with value: 0.17203514614320342 and parameters: {'n_clusters': 8, 'distance_metric': 'minkowski', 'random_state': 67}. Best is trial 156 with value: 0.44949191452737364.\n",
      "[I 2024-09-23 07:49:50,586] Trial 732 finished with value: 0.17946634735687672 and parameters: {'n_clusters': 7, 'distance_metric': 'minkowski', 'random_state': 91}. Best is trial 156 with value: 0.44949191452737364.\n",
      "[I 2024-09-23 07:49:50,698] Trial 733 finished with value: 0.15310822897014476 and parameters: {'n_clusters': 7, 'distance_metric': 'minkowski', 'random_state': 64}. Best is trial 156 with value: 0.44949191452737364.\n",
      "[I 2024-09-23 07:49:50,800] Trial 734 finished with value: 0.16086247527781433 and parameters: {'n_clusters': 8, 'distance_metric': 'euclidean', 'random_state': 4}. Best is trial 156 with value: 0.44949191452737364.\n",
      "[I 2024-09-23 07:49:50,911] Trial 735 finished with value: 0.09237964731115066 and parameters: {'n_clusters': 10, 'distance_metric': 'minkowski', 'random_state': 61}. Best is trial 156 with value: 0.44949191452737364.\n",
      "[I 2024-09-23 07:49:51,023] Trial 736 finished with value: 0.31390422719631594 and parameters: {'n_clusters': 6, 'distance_metric': 'minkowski', 'random_state': 76}. Best is trial 156 with value: 0.44949191452737364.\n",
      "[I 2024-09-23 07:49:51,136] Trial 737 finished with value: 0.10101190663696832 and parameters: {'n_clusters': 10, 'distance_metric': 'minkowski', 'random_state': 35}. Best is trial 156 with value: 0.44949191452737364.\n",
      "[I 2024-09-23 07:49:51,230] Trial 738 finished with value: 0.10063121081455777 and parameters: {'n_clusters': 10, 'distance_metric': 'euclidean', 'random_state': 30}. Best is trial 156 with value: 0.44949191452737364.\n",
      "[I 2024-09-23 07:49:51,342] Trial 739 finished with value: 0.292277552050537 and parameters: {'n_clusters': 5, 'distance_metric': 'minkowski', 'random_state': 1}. Best is trial 156 with value: 0.44949191452737364.\n",
      "[I 2024-09-23 07:49:51,454] Trial 740 finished with value: 0.29905674693531553 and parameters: {'n_clusters': 5, 'distance_metric': 'minkowski', 'random_state': 52}. Best is trial 156 with value: 0.44949191452737364.\n",
      "[I 2024-09-23 07:49:51,551] Trial 741 finished with value: 0.226234556650689 and parameters: {'n_clusters': 6, 'distance_metric': 'euclidean', 'random_state': 68}. Best is trial 156 with value: 0.44949191452737364.\n",
      "[I 2024-09-23 07:49:51,664] Trial 742 finished with value: 0.13442825835625505 and parameters: {'n_clusters': 10, 'distance_metric': 'minkowski', 'random_state': 83}. Best is trial 156 with value: 0.44949191452737364.\n",
      "[I 2024-09-23 07:49:51,761] Trial 743 finished with value: 0.23535516048287008 and parameters: {'n_clusters': 6, 'distance_metric': 'euclidean', 'random_state': 85}. Best is trial 156 with value: 0.44949191452737364.\n",
      "[I 2024-09-23 07:49:51,858] Trial 744 finished with value: 0.29227755205053707 and parameters: {'n_clusters': 5, 'distance_metric': 'euclidean', 'random_state': 1}. Best is trial 156 with value: 0.44949191452737364.\n",
      "[I 2024-09-23 07:49:51,959] Trial 745 finished with value: 0.4460089237295571 and parameters: {'n_clusters': 3, 'distance_metric': 'euclidean', 'random_state': 66}. Best is trial 156 with value: 0.44949191452737364.\n",
      "[I 2024-09-23 07:49:52,070] Trial 746 finished with value: 0.1753810018590551 and parameters: {'n_clusters': 8, 'distance_metric': 'minkowski', 'random_state': 35}. Best is trial 156 with value: 0.44949191452737364.\n",
      "[I 2024-09-23 07:49:52,183] Trial 747 finished with value: 0.31523453246697175 and parameters: {'n_clusters': 4, 'distance_metric': 'minkowski', 'random_state': 6}. Best is trial 156 with value: 0.44949191452737364.\n",
      "[I 2024-09-23 07:49:52,296] Trial 748 finished with value: 0.3869373299058148 and parameters: {'n_clusters': 4, 'distance_metric': 'minkowski', 'random_state': 78}. Best is trial 156 with value: 0.44949191452737364.\n",
      "[I 2024-09-23 07:49:52,395] Trial 749 finished with value: 0.3179351870968887 and parameters: {'n_clusters': 5, 'distance_metric': 'euclidean', 'random_state': 73}. Best is trial 156 with value: 0.44949191452737364.\n",
      "[I 2024-09-23 07:49:52,508] Trial 750 finished with value: 0.17141725951916414 and parameters: {'n_clusters': 8, 'distance_metric': 'minkowski', 'random_state': 94}. Best is trial 156 with value: 0.44949191452737364.\n",
      "[I 2024-09-23 07:49:52,621] Trial 751 finished with value: 0.39343753481153554 and parameters: {'n_clusters': 4, 'distance_metric': 'minkowski', 'random_state': 12}. Best is trial 156 with value: 0.44949191452737364.\n",
      "[I 2024-09-23 07:49:52,720] Trial 752 finished with value: 0.12871119795843625 and parameters: {'n_clusters': 9, 'distance_metric': 'euclidean', 'random_state': 78}. Best is trial 156 with value: 0.44949191452737364.\n",
      "[I 2024-09-23 07:49:52,822] Trial 753 finished with value: 0.2913919778646632 and parameters: {'n_clusters': 5, 'distance_metric': 'euclidean', 'random_state': 39}. Best is trial 156 with value: 0.44949191452737364.\n",
      "[I 2024-09-23 07:49:52,935] Trial 754 finished with value: 0.21597091093952675 and parameters: {'n_clusters': 6, 'distance_metric': 'minkowski', 'random_state': 50}. Best is trial 156 with value: 0.44949191452737364.\n",
      "[I 2024-09-23 07:49:53,048] Trial 755 finished with value: 0.15693777522872177 and parameters: {'n_clusters': 7, 'distance_metric': 'minkowski', 'random_state': 34}. Best is trial 156 with value: 0.44949191452737364.\n",
      "[I 2024-09-23 07:49:53,150] Trial 756 finished with value: 0.16277413304313126 and parameters: {'n_clusters': 8, 'distance_metric': 'euclidean', 'random_state': 42}. Best is trial 156 with value: 0.44949191452737364.\n",
      "[I 2024-09-23 07:49:53,249] Trial 757 finished with value: 0.2242341192197398 and parameters: {'n_clusters': 7, 'distance_metric': 'euclidean', 'random_state': 79}. Best is trial 156 with value: 0.44949191452737364.\n",
      "[I 2024-09-23 07:49:53,361] Trial 758 finished with value: 0.19720440718262128 and parameters: {'n_clusters': 6, 'distance_metric': 'minkowski', 'random_state': 100}. Best is trial 156 with value: 0.44949191452737364.\n",
      "[I 2024-09-23 07:49:53,476] Trial 759 finished with value: 0.105285169572239 and parameters: {'n_clusters': 8, 'distance_metric': 'minkowski', 'random_state': 77}. Best is trial 156 with value: 0.44949191452737364.\n",
      "[I 2024-09-23 07:49:53,589] Trial 760 finished with value: 0.09006709915861828 and parameters: {'n_clusters': 9, 'distance_metric': 'minkowski', 'random_state': 41}. Best is trial 156 with value: 0.44949191452737364.\n",
      "[I 2024-09-23 07:49:53,703] Trial 761 finished with value: 0.23045906161211285 and parameters: {'n_clusters': 6, 'distance_metric': 'minkowski', 'random_state': 51}. Best is trial 156 with value: 0.44949191452737364.\n",
      "[I 2024-09-23 07:49:53,817] Trial 762 finished with value: 0.1593070332384772 and parameters: {'n_clusters': 8, 'distance_metric': 'minkowski', 'random_state': 3}. Best is trial 156 with value: 0.44949191452737364.\n",
      "[I 2024-09-23 07:49:53,915] Trial 763 finished with value: 0.3946111564265179 and parameters: {'n_clusters': 4, 'distance_metric': 'euclidean', 'random_state': 89}. Best is trial 156 with value: 0.44949191452737364.\n",
      "[I 2024-09-23 07:49:54,030] Trial 764 finished with value: 0.44347702319898546 and parameters: {'n_clusters': 3, 'distance_metric': 'minkowski', 'random_state': 79}. Best is trial 156 with value: 0.44949191452737364.\n",
      "[I 2024-09-23 07:49:54,130] Trial 765 finished with value: 0.0770849180215136 and parameters: {'n_clusters': 9, 'distance_metric': 'euclidean', 'random_state': 82}. Best is trial 156 with value: 0.44949191452737364.\n",
      "[I 2024-09-23 07:49:54,243] Trial 766 finished with value: 0.4460089237295571 and parameters: {'n_clusters': 3, 'distance_metric': 'minkowski', 'random_state': 63}. Best is trial 156 with value: 0.44949191452737364.\n",
      "[I 2024-09-23 07:49:54,366] Trial 767 finished with value: 0.3179351870968887 and parameters: {'n_clusters': 5, 'distance_metric': 'minkowski', 'random_state': 73}. Best is trial 156 with value: 0.44949191452737364.\n",
      "[I 2024-09-23 07:49:54,482] Trial 768 finished with value: 0.3365667302354214 and parameters: {'n_clusters': 5, 'distance_metric': 'minkowski', 'random_state': 62}. Best is trial 156 with value: 0.44949191452737364.\n",
      "[I 2024-09-23 07:49:54,582] Trial 769 finished with value: 0.22656006469422862 and parameters: {'n_clusters': 6, 'distance_metric': 'euclidean', 'random_state': 17}. Best is trial 156 with value: 0.44949191452737364.\n",
      "[I 2024-09-23 07:49:54,682] Trial 770 finished with value: 0.3333801304251881 and parameters: {'n_clusters': 5, 'distance_metric': 'euclidean', 'random_state': 15}. Best is trial 156 with value: 0.44949191452737364.\n",
      "[I 2024-09-23 07:49:54,797] Trial 771 finished with value: 0.2945860629390223 and parameters: {'n_clusters': 5, 'distance_metric': 'minkowski', 'random_state': 59}. Best is trial 156 with value: 0.44949191452737364.\n",
      "[I 2024-09-23 07:49:54,913] Trial 772 finished with value: 0.12871119795843605 and parameters: {'n_clusters': 9, 'distance_metric': 'minkowski', 'random_state': 78}. Best is trial 156 with value: 0.44949191452737364.\n",
      "[I 2024-09-23 07:49:55,026] Trial 773 finished with value: 0.28345697034709066 and parameters: {'n_clusters': 5, 'distance_metric': 'minkowski', 'random_state': 65}. Best is trial 156 with value: 0.44949191452737364.\n",
      "[I 2024-09-23 07:49:55,129] Trial 774 finished with value: 0.14300120968044144 and parameters: {'n_clusters': 9, 'distance_metric': 'euclidean', 'random_state': 61}. Best is trial 156 with value: 0.44949191452737364.\n",
      "[I 2024-09-23 07:49:55,244] Trial 775 finished with value: 0.32249769893512353 and parameters: {'n_clusters': 5, 'distance_metric': 'minkowski', 'random_state': 27}. Best is trial 156 with value: 0.44949191452737364.\n",
      "[I 2024-09-23 07:49:55,345] Trial 776 finished with value: 0.1466634478269687 and parameters: {'n_clusters': 8, 'distance_metric': 'euclidean', 'random_state': 32}. Best is trial 156 with value: 0.44949191452737364.\n",
      "[I 2024-09-23 07:49:55,451] Trial 777 finished with value: 0.3040481447772355 and parameters: {'n_clusters': 5, 'distance_metric': 'euclidean', 'random_state': 56}. Best is trial 156 with value: 0.44949191452737364.\n",
      "[I 2024-09-23 07:49:55,559] Trial 778 finished with value: 0.4460089237295571 and parameters: {'n_clusters': 3, 'distance_metric': 'euclidean', 'random_state': 31}. Best is trial 156 with value: 0.44949191452737364.\n",
      "[I 2024-09-23 07:49:55,660] Trial 779 finished with value: 0.13538204368898693 and parameters: {'n_clusters': 9, 'distance_metric': 'euclidean', 'random_state': 63}. Best is trial 156 with value: 0.44949191452737364.\n",
      "[I 2024-09-23 07:49:55,778] Trial 780 finished with value: 0.17612986885415205 and parameters: {'n_clusters': 7, 'distance_metric': 'minkowski', 'random_state': 30}. Best is trial 156 with value: 0.44949191452737364.\n",
      "[I 2024-09-23 07:49:55,881] Trial 781 finished with value: 0.17593784178777427 and parameters: {'n_clusters': 5, 'distance_metric': 'euclidean', 'random_state': 31}. Best is trial 156 with value: 0.44949191452737364.\n",
      "[I 2024-09-23 07:49:56,001] Trial 782 finished with value: 0.35615726803052683 and parameters: {'n_clusters': 4, 'distance_metric': 'euclidean', 'random_state': 58}. Best is trial 156 with value: 0.44949191452737364.\n",
      "[I 2024-09-23 07:49:56,122] Trial 783 finished with value: 0.16854772520528774 and parameters: {'n_clusters': 8, 'distance_metric': 'minkowski', 'random_state': 20}. Best is trial 156 with value: 0.44949191452737364.\n",
      "[I 2024-09-23 07:49:56,228] Trial 784 finished with value: 0.20797443435730464 and parameters: {'n_clusters': 6, 'distance_metric': 'euclidean', 'random_state': 86}. Best is trial 156 with value: 0.44949191452737364.\n",
      "[I 2024-09-23 07:49:56,346] Trial 785 finished with value: 0.2990437348015363 and parameters: {'n_clusters': 5, 'distance_metric': 'minkowski', 'random_state': 79}. Best is trial 156 with value: 0.44949191452737364.\n",
      "[I 2024-09-23 07:49:56,466] Trial 786 finished with value: 0.3946111564265178 and parameters: {'n_clusters': 4, 'distance_metric': 'minkowski', 'random_state': 89}. Best is trial 156 with value: 0.44949191452737364.\n",
      "[I 2024-09-23 07:49:56,581] Trial 787 finished with value: 0.22762905656432075 and parameters: {'n_clusters': 6, 'distance_metric': 'minkowski', 'random_state': 66}. Best is trial 156 with value: 0.44949191452737364.\n",
      "[I 2024-09-23 07:49:56,690] Trial 788 finished with value: 0.12539433092426516 and parameters: {'n_clusters': 10, 'distance_metric': 'euclidean', 'random_state': 22}. Best is trial 156 with value: 0.44949191452737364.\n",
      "[I 2024-09-23 07:49:56,793] Trial 789 finished with value: 0.2834569703470909 and parameters: {'n_clusters': 5, 'distance_metric': 'euclidean', 'random_state': 65}. Best is trial 156 with value: 0.44949191452737364.\n",
      "[I 2024-09-23 07:49:56,896] Trial 790 finished with value: 0.14572279926820028 and parameters: {'n_clusters': 10, 'distance_metric': 'euclidean', 'random_state': 88}. Best is trial 156 with value: 0.44949191452737364.\n",
      "[I 2024-09-23 07:49:57,001] Trial 791 finished with value: 0.39627770889555175 and parameters: {'n_clusters': 4, 'distance_metric': 'euclidean', 'random_state': 2}. Best is trial 156 with value: 0.44949191452737364.\n",
      "[I 2024-09-23 07:49:57,102] Trial 792 finished with value: 0.4460089237295571 and parameters: {'n_clusters': 3, 'distance_metric': 'euclidean', 'random_state': 14}. Best is trial 156 with value: 0.44949191452737364.\n",
      "[I 2024-09-23 07:49:57,225] Trial 793 finished with value: 0.12959633899569084 and parameters: {'n_clusters': 9, 'distance_metric': 'minkowski', 'random_state': 43}. Best is trial 156 with value: 0.44949191452737364.\n",
      "[I 2024-09-23 07:49:57,342] Trial 794 finished with value: 0.38967931998710137 and parameters: {'n_clusters': 4, 'distance_metric': 'minkowski', 'random_state': 85}. Best is trial 156 with value: 0.44949191452737364.\n",
      "[I 2024-09-23 07:49:57,460] Trial 795 finished with value: 0.2882385996841197 and parameters: {'n_clusters': 5, 'distance_metric': 'minkowski', 'random_state': 64}. Best is trial 156 with value: 0.44949191452737364.\n",
      "[I 2024-09-23 07:49:57,576] Trial 796 finished with value: 0.29285144063888036 and parameters: {'n_clusters': 5, 'distance_metric': 'minkowski', 'random_state': 94}. Best is trial 156 with value: 0.44949191452737364.\n",
      "[I 2024-09-23 07:49:57,694] Trial 797 finished with value: 0.19325212767898528 and parameters: {'n_clusters': 7, 'distance_metric': 'minkowski', 'random_state': 65}. Best is trial 156 with value: 0.44949191452737364.\n",
      "[I 2024-09-23 07:49:57,818] Trial 798 finished with value: 0.12476360751178771 and parameters: {'n_clusters': 10, 'distance_metric': 'minkowski', 'random_state': 53}. Best is trial 156 with value: 0.44949191452737364.\n",
      "[I 2024-09-23 07:49:57,920] Trial 799 finished with value: 0.1720351461432039 and parameters: {'n_clusters': 8, 'distance_metric': 'euclidean', 'random_state': 67}. Best is trial 156 with value: 0.44949191452737364.\n",
      "[I 2024-09-23 07:49:58,040] Trial 800 finished with value: 0.11121946558364723 and parameters: {'n_clusters': 8, 'distance_metric': 'minkowski', 'random_state': 49}. Best is trial 156 with value: 0.44949191452737364.\n",
      "[I 2024-09-23 07:49:58,160] Trial 801 finished with value: 0.3946778205022724 and parameters: {'n_clusters': 4, 'distance_metric': 'minkowski', 'random_state': 86}. Best is trial 156 with value: 0.44949191452737364.\n",
      "[I 2024-09-23 07:49:58,267] Trial 802 finished with value: 0.11579673139565214 and parameters: {'n_clusters': 10, 'distance_metric': 'euclidean', 'random_state': 99}. Best is trial 156 with value: 0.44949191452737364.\n",
      "[I 2024-09-23 07:49:58,375] Trial 803 finished with value: 0.18593725119440804 and parameters: {'n_clusters': 8, 'distance_metric': 'euclidean', 'random_state': 24}. Best is trial 156 with value: 0.44949191452737364.\n",
      "[I 2024-09-23 07:49:58,481] Trial 804 finished with value: 0.07821151072900843 and parameters: {'n_clusters': 9, 'distance_metric': 'euclidean', 'random_state': 27}. Best is trial 156 with value: 0.44949191452737364.\n",
      "[I 2024-09-23 07:49:58,591] Trial 805 finished with value: 0.1298226776355559 and parameters: {'n_clusters': 7, 'distance_metric': 'euclidean', 'random_state': 96}. Best is trial 156 with value: 0.44949191452737364.\n",
      "[I 2024-09-23 07:49:58,713] Trial 806 finished with value: 0.11673405712338086 and parameters: {'n_clusters': 9, 'distance_metric': 'minkowski', 'random_state': 91}. Best is trial 156 with value: 0.44949191452737364.\n",
      "[I 2024-09-23 07:49:58,822] Trial 807 finished with value: 0.37304166286595364 and parameters: {'n_clusters': 4, 'distance_metric': 'euclidean', 'random_state': 56}. Best is trial 156 with value: 0.44949191452737364.\n",
      "[I 2024-09-23 07:49:58,954] Trial 808 finished with value: 0.16303607123701896 and parameters: {'n_clusters': 9, 'distance_metric': 'minkowski', 'random_state': 25}. Best is trial 156 with value: 0.44949191452737364.\n",
      "[I 2024-09-23 07:49:59,065] Trial 809 finished with value: 0.10968751125863983 and parameters: {'n_clusters': 10, 'distance_metric': 'euclidean', 'random_state': 59}. Best is trial 156 with value: 0.44949191452737364.\n",
      "[I 2024-09-23 07:49:59,184] Trial 810 finished with value: 0.435967735309263 and parameters: {'n_clusters': 3, 'distance_metric': 'minkowski', 'random_state': 78}. Best is trial 156 with value: 0.44949191452737364.\n",
      "[I 2024-09-23 07:49:59,287] Trial 811 finished with value: 0.12959006405356188 and parameters: {'n_clusters': 10, 'distance_metric': 'euclidean', 'random_state': 91}. Best is trial 156 with value: 0.44949191452737364.\n",
      "[I 2024-09-23 07:49:59,408] Trial 812 finished with value: 0.16275735231405009 and parameters: {'n_clusters': 8, 'distance_metric': 'minkowski', 'random_state': 26}. Best is trial 156 with value: 0.44949191452737364.\n",
      "[I 2024-09-23 07:49:59,527] Trial 813 finished with value: 0.08952026794459943 and parameters: {'n_clusters': 10, 'distance_metric': 'minkowski', 'random_state': 49}. Best is trial 156 with value: 0.44949191452737364.\n",
      "[I 2024-09-23 07:49:59,632] Trial 814 finished with value: 0.2727673403210263 and parameters: {'n_clusters': 6, 'distance_metric': 'euclidean', 'random_state': 67}. Best is trial 156 with value: 0.44949191452737364.\n",
      "[I 2024-09-23 07:49:59,753] Trial 815 finished with value: 0.1370266732814047 and parameters: {'n_clusters': 10, 'distance_metric': 'minkowski', 'random_state': 7}. Best is trial 156 with value: 0.44949191452737364.\n",
      "[I 2024-09-23 07:49:59,873] Trial 816 finished with value: 0.20672392619478921 and parameters: {'n_clusters': 6, 'distance_metric': 'minkowski', 'random_state': 37}. Best is trial 156 with value: 0.44949191452737364.\n",
      "[I 2024-09-23 07:49:59,979] Trial 817 finished with value: 0.27328515612497845 and parameters: {'n_clusters': 5, 'distance_metric': 'euclidean', 'random_state': 29}. Best is trial 156 with value: 0.44949191452737364.\n",
      "[I 2024-09-23 07:50:00,092] Trial 818 finished with value: 0.2288535115789602 and parameters: {'n_clusters': 7, 'distance_metric': 'euclidean', 'random_state': 18}. Best is trial 156 with value: 0.44949191452737364.\n",
      "[I 2024-09-23 07:50:00,209] Trial 819 finished with value: 0.29362000576821357 and parameters: {'n_clusters': 5, 'distance_metric': 'euclidean', 'random_state': 7}. Best is trial 156 with value: 0.44949191452737364.\n",
      "[I 2024-09-23 07:50:00,319] Trial 820 finished with value: 0.12714956689772516 and parameters: {'n_clusters': 10, 'distance_metric': 'euclidean', 'random_state': 43}. Best is trial 156 with value: 0.44949191452737364.\n",
      "[I 2024-09-23 07:50:00,431] Trial 821 finished with value: 0.44347702319898546 and parameters: {'n_clusters': 3, 'distance_metric': 'euclidean', 'random_state': 80}. Best is trial 156 with value: 0.44949191452737364.\n",
      "[I 2024-09-23 07:50:00,538] Trial 822 finished with value: 0.39627770889555175 and parameters: {'n_clusters': 4, 'distance_metric': 'euclidean', 'random_state': 91}. Best is trial 156 with value: 0.44949191452737364.\n",
      "[I 2024-09-23 07:50:00,647] Trial 823 finished with value: 0.13369460377803277 and parameters: {'n_clusters': 7, 'distance_metric': 'euclidean', 'random_state': 93}. Best is trial 156 with value: 0.44949191452737364.\n",
      "[I 2024-09-23 07:50:00,770] Trial 824 finished with value: 0.3962777088955517 and parameters: {'n_clusters': 4, 'distance_metric': 'minkowski', 'random_state': 5}. Best is trial 156 with value: 0.44949191452737364.\n",
      "[I 2024-09-23 07:50:00,888] Trial 825 finished with value: 0.30841983906396264 and parameters: {'n_clusters': 4, 'distance_metric': 'euclidean', 'random_state': 46}. Best is trial 156 with value: 0.44949191452737364.\n",
      "[I 2024-09-23 07:50:01,012] Trial 826 finished with value: 0.44347702319898546 and parameters: {'n_clusters': 3, 'distance_metric': 'minkowski', 'random_state': 80}. Best is trial 156 with value: 0.44949191452737364.\n",
      "[I 2024-09-23 07:50:01,125] Trial 827 finished with value: 0.24248008468322155 and parameters: {'n_clusters': 6, 'distance_metric': 'euclidean', 'random_state': 19}. Best is trial 156 with value: 0.44949191452737364.\n",
      "[I 2024-09-23 07:50:01,256] Trial 828 finished with value: 0.4499459087431637 and parameters: {'n_clusters': 3, 'distance_metric': 'minkowski', 'random_state': 25}. Best is trial 828 with value: 0.4499459087431637.\n",
      "[I 2024-09-23 07:50:01,380] Trial 829 finished with value: 0.12799994441463247 and parameters: {'n_clusters': 9, 'distance_metric': 'minkowski', 'random_state': 10}. Best is trial 828 with value: 0.4499459087431637.\n",
      "[I 2024-09-23 07:50:01,522] Trial 830 finished with value: 0.11509487410701388 and parameters: {'n_clusters': 8, 'distance_metric': 'minkowski', 'random_state': 45}. Best is trial 828 with value: 0.4499459087431637.\n",
      "[I 2024-09-23 07:50:01,644] Trial 831 finished with value: 0.3372747636614241 and parameters: {'n_clusters': 5, 'distance_metric': 'minkowski', 'random_state': 24}. Best is trial 828 with value: 0.4499459087431637.\n",
      "[I 2024-09-23 07:50:01,766] Trial 832 finished with value: 0.152554459555657 and parameters: {'n_clusters': 7, 'distance_metric': 'minkowski', 'random_state': 6}. Best is trial 828 with value: 0.4499459087431637.\n",
      "[I 2024-09-23 07:50:01,878] Trial 833 finished with value: 0.1832068271100316 and parameters: {'n_clusters': 7, 'distance_metric': 'euclidean', 'random_state': 58}. Best is trial 828 with value: 0.4499459087431637.\n",
      "[I 2024-09-23 07:50:01,986] Trial 834 finished with value: 0.3171194450686676 and parameters: {'n_clusters': 4, 'distance_metric': 'euclidean', 'random_state': 45}. Best is trial 828 with value: 0.4499459087431637.\n",
      "[I 2024-09-23 07:50:02,108] Trial 835 finished with value: 0.13816492559134852 and parameters: {'n_clusters': 8, 'distance_metric': 'minkowski', 'random_state': 36}. Best is trial 828 with value: 0.4499459087431637.\n",
      "[I 2024-09-23 07:50:02,232] Trial 836 finished with value: 0.25750232563973713 and parameters: {'n_clusters': 7, 'distance_metric': 'minkowski', 'random_state': 69}. Best is trial 828 with value: 0.4499459087431637.\n",
      "[I 2024-09-23 07:50:02,356] Trial 837 finished with value: 0.31917377637855243 and parameters: {'n_clusters': 5, 'distance_metric': 'minkowski', 'random_state': 26}. Best is trial 828 with value: 0.4499459087431637.\n",
      "[I 2024-09-23 07:50:02,469] Trial 838 finished with value: 0.14723266896360274 and parameters: {'n_clusters': 10, 'distance_metric': 'euclidean', 'random_state': 65}. Best is trial 828 with value: 0.4499459087431637.\n",
      "[I 2024-09-23 07:50:02,594] Trial 839 finished with value: 0.10063121081455825 and parameters: {'n_clusters': 10, 'distance_metric': 'minkowski', 'random_state': 30}. Best is trial 828 with value: 0.4499459087431637.\n",
      "[I 2024-09-23 07:50:02,718] Trial 840 finished with value: 0.11830523180627293 and parameters: {'n_clusters': 8, 'distance_metric': 'minkowski', 'random_state': 85}. Best is trial 828 with value: 0.4499459087431637.\n",
      "[I 2024-09-23 07:50:02,844] Trial 841 finished with value: 0.15986767012746736 and parameters: {'n_clusters': 8, 'distance_metric': 'minkowski', 'random_state': 71}. Best is trial 828 with value: 0.4499459087431637.\n",
      "[I 2024-09-23 07:50:02,970] Trial 842 finished with value: 0.09550533450266598 and parameters: {'n_clusters': 10, 'distance_metric': 'minkowski', 'random_state': 27}. Best is trial 828 with value: 0.4499459087431637.\n",
      "[I 2024-09-23 07:50:03,077] Trial 843 finished with value: 0.12479785799901491 and parameters: {'n_clusters': 8, 'distance_metric': 'euclidean', 'random_state': 93}. Best is trial 828 with value: 0.4499459087431637.\n",
      "[I 2024-09-23 07:50:03,206] Trial 844 finished with value: 0.222031221929811 and parameters: {'n_clusters': 7, 'distance_metric': 'minkowski', 'random_state': 43}. Best is trial 828 with value: 0.4499459087431637.\n",
      "[I 2024-09-23 07:50:03,318] Trial 845 finished with value: 0.33352669093985504 and parameters: {'n_clusters': 4, 'distance_metric': 'euclidean', 'random_state': 36}. Best is trial 828 with value: 0.4499459087431637.\n",
      "[I 2024-09-23 07:50:03,426] Trial 846 finished with value: 0.44347702319898546 and parameters: {'n_clusters': 3, 'distance_metric': 'euclidean', 'random_state': 84}. Best is trial 828 with value: 0.4499459087431637.\n",
      "[I 2024-09-23 07:50:03,554] Trial 847 finished with value: 0.27490818834164227 and parameters: {'n_clusters': 5, 'distance_metric': 'minkowski', 'random_state': 43}. Best is trial 828 with value: 0.4499459087431637.\n",
      "[I 2024-09-23 07:50:03,670] Trial 848 finished with value: 0.35986406987869984 and parameters: {'n_clusters': 4, 'distance_metric': 'euclidean', 'random_state': 55}. Best is trial 828 with value: 0.4499459087431637.\n",
      "[I 2024-09-23 07:50:03,797] Trial 849 finished with value: 0.21090434844631598 and parameters: {'n_clusters': 6, 'distance_metric': 'minkowski', 'random_state': 22}. Best is trial 828 with value: 0.4499459087431637.\n",
      "[I 2024-09-23 07:50:03,925] Trial 850 finished with value: 0.16215374676601776 and parameters: {'n_clusters': 7, 'distance_metric': 'minkowski', 'random_state': 60}. Best is trial 828 with value: 0.4499459087431637.\n",
      "[I 2024-09-23 07:50:04,037] Trial 851 finished with value: 0.09571421216120209 and parameters: {'n_clusters': 10, 'distance_metric': 'euclidean', 'random_state': 74}. Best is trial 828 with value: 0.4499459087431637.\n",
      "[I 2024-09-23 07:50:04,166] Trial 852 finished with value: 0.38967931998710137 and parameters: {'n_clusters': 4, 'distance_metric': 'minkowski', 'random_state': 34}. Best is trial 828 with value: 0.4499459087431637.\n",
      "[I 2024-09-23 07:50:04,275] Trial 853 finished with value: 0.3636885952760406 and parameters: {'n_clusters': 4, 'distance_metric': 'euclidean', 'random_state': 28}. Best is trial 828 with value: 0.4499459087431637.\n",
      "[I 2024-09-23 07:50:04,400] Trial 854 finished with value: 0.12057249716883268 and parameters: {'n_clusters': 10, 'distance_metric': 'minkowski', 'random_state': 14}. Best is trial 828 with value: 0.4499459087431637.\n",
      "[I 2024-09-23 07:50:04,524] Trial 855 finished with value: 0.24075333727710596 and parameters: {'n_clusters': 6, 'distance_metric': 'minkowski', 'random_state': 97}. Best is trial 828 with value: 0.4499459087431637.\n",
      "[I 2024-09-23 07:50:04,648] Trial 856 finished with value: 0.32080197745113725 and parameters: {'n_clusters': 4, 'distance_metric': 'minkowski', 'random_state': 92}. Best is trial 828 with value: 0.4499459087431637.\n",
      "[I 2024-09-23 07:50:04,760] Trial 857 finished with value: 0.1269674161216103 and parameters: {'n_clusters': 7, 'distance_metric': 'euclidean', 'random_state': 4}. Best is trial 828 with value: 0.4499459087431637.\n",
      "[I 2024-09-23 07:50:04,875] Trial 858 finished with value: 0.39627770889555175 and parameters: {'n_clusters': 4, 'distance_metric': 'euclidean', 'random_state': 51}. Best is trial 828 with value: 0.4499459087431637.\n",
      "[I 2024-09-23 07:50:04,989] Trial 859 finished with value: 0.2288979837226252 and parameters: {'n_clusters': 6, 'distance_metric': 'euclidean', 'random_state': 47}. Best is trial 828 with value: 0.4499459087431637.\n",
      "[I 2024-09-23 07:50:05,102] Trial 860 finished with value: 0.18252553710961736 and parameters: {'n_clusters': 7, 'distance_metric': 'euclidean', 'random_state': 14}. Best is trial 828 with value: 0.4499459087431637.\n",
      "[I 2024-09-23 07:50:05,230] Trial 861 finished with value: 0.17568667253558043 and parameters: {'n_clusters': 7, 'distance_metric': 'minkowski', 'random_state': 80}. Best is trial 828 with value: 0.4499459087431637.\n",
      "[I 2024-09-23 07:50:05,374] Trial 862 finished with value: 0.2819673588722614 and parameters: {'n_clusters': 5, 'distance_metric': 'minkowski', 'random_state': 100}. Best is trial 828 with value: 0.4499459087431637.\n",
      "[I 2024-09-23 07:50:05,503] Trial 863 finished with value: 0.12725679996042252 and parameters: {'n_clusters': 9, 'distance_metric': 'minkowski', 'random_state': 70}. Best is trial 828 with value: 0.4499459087431637.\n",
      "[I 2024-09-23 07:50:05,620] Trial 864 finished with value: 0.24585344260236053 and parameters: {'n_clusters': 6, 'distance_metric': 'euclidean', 'random_state': 95}. Best is trial 828 with value: 0.4499459087431637.\n",
      "[I 2024-09-23 07:50:05,753] Trial 865 finished with value: 0.44347702319898546 and parameters: {'n_clusters': 3, 'distance_metric': 'minkowski', 'random_state': 96}. Best is trial 828 with value: 0.4499459087431637.\n",
      "[I 2024-09-23 07:50:05,880] Trial 866 finished with value: 0.31184669477417537 and parameters: {'n_clusters': 5, 'distance_metric': 'minkowski', 'random_state': 35}. Best is trial 828 with value: 0.4499459087431637.\n",
      "[I 2024-09-23 07:50:06,007] Trial 867 finished with value: 0.23075355338845707 and parameters: {'n_clusters': 7, 'distance_metric': 'minkowski', 'random_state': 21}. Best is trial 828 with value: 0.4499459087431637.\n",
      "[I 2024-09-23 07:50:06,125] Trial 868 finished with value: 0.18611214406616997 and parameters: {'n_clusters': 7, 'distance_metric': 'euclidean', 'random_state': 97}. Best is trial 828 with value: 0.4499459087431637.\n",
      "[I 2024-09-23 07:50:06,236] Trial 869 finished with value: 0.21717573312834393 and parameters: {'n_clusters': 6, 'distance_metric': 'euclidean', 'random_state': 53}. Best is trial 828 with value: 0.4499459087431637.\n",
      "[I 2024-09-23 07:50:06,349] Trial 870 finished with value: 0.44347702319898546 and parameters: {'n_clusters': 3, 'distance_metric': 'euclidean', 'random_state': 96}. Best is trial 828 with value: 0.4499459087431637.\n",
      "[I 2024-09-23 07:50:06,459] Trial 871 finished with value: 0.13339714012065437 and parameters: {'n_clusters': 9, 'distance_metric': 'euclidean', 'random_state': 26}. Best is trial 828 with value: 0.4499459087431637.\n",
      "[I 2024-09-23 07:50:06,568] Trial 872 finished with value: 0.09619447764484175 and parameters: {'n_clusters': 8, 'distance_metric': 'euclidean', 'random_state': 72}. Best is trial 828 with value: 0.4499459087431637.\n",
      "[I 2024-09-23 07:50:06,681] Trial 873 finished with value: 0.4460089237295571 and parameters: {'n_clusters': 3, 'distance_metric': 'euclidean', 'random_state': 38}. Best is trial 828 with value: 0.4499459087431637.\n",
      "[I 2024-09-23 07:50:06,791] Trial 874 finished with value: 0.13688984487444622 and parameters: {'n_clusters': 7, 'distance_metric': 'euclidean', 'random_state': 86}. Best is trial 828 with value: 0.4499459087431637.\n",
      "[I 2024-09-23 07:50:06,902] Trial 875 finished with value: 0.3648477190754525 and parameters: {'n_clusters': 4, 'distance_metric': 'euclidean', 'random_state': 44}. Best is trial 828 with value: 0.4499459087431637.\n",
      "[I 2024-09-23 07:50:07,029] Trial 876 finished with value: 0.3962777088955517 and parameters: {'n_clusters': 4, 'distance_metric': 'minkowski', 'random_state': 47}. Best is trial 828 with value: 0.4499459087431637.\n",
      "[I 2024-09-23 07:50:07,150] Trial 877 finished with value: 0.30841983906396264 and parameters: {'n_clusters': 4, 'distance_metric': 'euclidean', 'random_state': 59}. Best is trial 828 with value: 0.4499459087431637.\n",
      "[I 2024-09-23 07:50:07,260] Trial 878 finished with value: 0.1452075062755876 and parameters: {'n_clusters': 8, 'distance_metric': 'euclidean', 'random_state': 53}. Best is trial 828 with value: 0.4499459087431637.\n",
      "[I 2024-09-23 07:50:07,389] Trial 879 finished with value: 0.2760436388693164 and parameters: {'n_clusters': 5, 'distance_metric': 'minkowski', 'random_state': 22}. Best is trial 828 with value: 0.4499459087431637.\n",
      "[I 2024-09-23 07:50:07,518] Trial 880 finished with value: 0.38967931998710137 and parameters: {'n_clusters': 4, 'distance_metric': 'minkowski', 'random_state': 87}. Best is trial 828 with value: 0.4499459087431637.\n",
      "[I 2024-09-23 07:50:07,632] Trial 881 finished with value: 0.12561806078274781 and parameters: {'n_clusters': 8, 'distance_metric': 'euclidean', 'random_state': 19}. Best is trial 828 with value: 0.4499459087431637.\n",
      "[I 2024-09-23 07:50:07,761] Trial 882 finished with value: 0.19234903858300495 and parameters: {'n_clusters': 6, 'distance_metric': 'minkowski', 'random_state': 59}. Best is trial 828 with value: 0.4499459087431637.\n",
      "[I 2024-09-23 07:50:07,891] Trial 883 finished with value: 0.14170101470955151 and parameters: {'n_clusters': 9, 'distance_metric': 'minkowski', 'random_state': 80}. Best is trial 828 with value: 0.4499459087431637.\n",
      "[I 2024-09-23 07:50:08,004] Trial 884 finished with value: 0.3128808309916648 and parameters: {'n_clusters': 5, 'distance_metric': 'euclidean', 'random_state': 37}. Best is trial 828 with value: 0.4499459087431637.\n",
      "[I 2024-09-23 07:50:08,133] Trial 885 finished with value: 0.12416814841899519 and parameters: {'n_clusters': 7, 'distance_metric': 'minkowski', 'random_state': 27}. Best is trial 828 with value: 0.4499459087431637.\n",
      "[I 2024-09-23 07:50:08,252] Trial 886 finished with value: 0.29178883176557063 and parameters: {'n_clusters': 5, 'distance_metric': 'euclidean', 'random_state': 23}. Best is trial 828 with value: 0.4499459087431637.\n",
      "[I 2024-09-23 07:50:08,380] Trial 887 finished with value: 0.11087387609052146 and parameters: {'n_clusters': 9, 'distance_metric': 'minkowski', 'random_state': 7}. Best is trial 828 with value: 0.4499459087431637.\n",
      "[I 2024-09-23 07:50:08,493] Trial 888 finished with value: 0.25444064957682666 and parameters: {'n_clusters': 6, 'distance_metric': 'euclidean', 'random_state': 46}. Best is trial 828 with value: 0.4499459087431637.\n",
      "[I 2024-09-23 07:50:08,624] Trial 889 finished with value: 0.17006577540068715 and parameters: {'n_clusters': 7, 'distance_metric': 'minkowski', 'random_state': 49}. Best is trial 828 with value: 0.4499459087431637.\n",
      "[I 2024-09-23 07:50:08,758] Trial 890 finished with value: 0.3182051828630657 and parameters: {'n_clusters': 4, 'distance_metric': 'euclidean', 'random_state': 21}. Best is trial 828 with value: 0.4499459087431637.\n",
      "[I 2024-09-23 07:50:08,870] Trial 891 finished with value: 0.12646523543761684 and parameters: {'n_clusters': 9, 'distance_metric': 'euclidean', 'random_state': 62}. Best is trial 828 with value: 0.4499459087431637.\n",
      "[I 2024-09-23 07:50:08,984] Trial 892 finished with value: 0.128342948749351 and parameters: {'n_clusters': 8, 'distance_metric': 'euclidean', 'random_state': 89}. Best is trial 828 with value: 0.4499459087431637.\n",
      "[I 2024-09-23 07:50:09,123] Trial 893 finished with value: 0.11579673139565222 and parameters: {'n_clusters': 10, 'distance_metric': 'minkowski', 'random_state': 99}. Best is trial 828 with value: 0.4499459087431637.\n",
      "[I 2024-09-23 07:50:09,252] Trial 894 finished with value: 0.3946778205022724 and parameters: {'n_clusters': 4, 'distance_metric': 'minkowski', 'random_state': 7}. Best is trial 828 with value: 0.4499459087431637.\n",
      "[I 2024-09-23 07:50:09,373] Trial 895 finished with value: 0.4460089237295571 and parameters: {'n_clusters': 3, 'distance_metric': 'euclidean', 'random_state': 63}. Best is trial 828 with value: 0.4499459087431637.\n",
      "[I 2024-09-23 07:50:09,504] Trial 896 finished with value: 0.14150703421144736 and parameters: {'n_clusters': 9, 'distance_metric': 'minkowski', 'random_state': 5}. Best is trial 828 with value: 0.4499459087431637.\n",
      "[I 2024-09-23 07:50:09,632] Trial 897 finished with value: 0.44347702319898546 and parameters: {'n_clusters': 3, 'distance_metric': 'minkowski', 'random_state': 12}. Best is trial 828 with value: 0.4499459087431637.\n",
      "[I 2024-09-23 07:50:09,748] Trial 898 finished with value: 0.33610687359438385 and parameters: {'n_clusters': 4, 'distance_metric': 'euclidean', 'random_state': 94}. Best is trial 828 with value: 0.4499459087431637.\n",
      "[I 2024-09-23 07:50:09,864] Trial 899 finished with value: 0.2876344859162762 and parameters: {'n_clusters': 5, 'distance_metric': 'euclidean', 'random_state': 36}. Best is trial 828 with value: 0.4499459087431637.\n",
      "[I 2024-09-23 07:50:09,980] Trial 900 finished with value: 0.3607017969975037 and parameters: {'n_clusters': 4, 'distance_metric': 'euclidean', 'random_state': 82}. Best is trial 828 with value: 0.4499459087431637.\n",
      "[I 2024-09-23 07:50:10,110] Trial 901 finished with value: 0.18611214406617005 and parameters: {'n_clusters': 7, 'distance_metric': 'minkowski', 'random_state': 97}. Best is trial 828 with value: 0.4499459087431637.\n",
      "[I 2024-09-23 07:50:10,224] Trial 902 finished with value: 0.21150253989341758 and parameters: {'n_clusters': 6, 'distance_metric': 'euclidean', 'random_state': 90}. Best is trial 828 with value: 0.4499459087431637.\n",
      "[I 2024-09-23 07:50:10,358] Trial 903 finished with value: 0.3022056479182932 and parameters: {'n_clusters': 5, 'distance_metric': 'minkowski', 'random_state': 84}. Best is trial 828 with value: 0.4499459087431637.\n",
      "[I 2024-09-23 07:50:10,478] Trial 904 finished with value: 0.15350072825607156 and parameters: {'n_clusters': 8, 'distance_metric': 'euclidean', 'random_state': 22}. Best is trial 828 with value: 0.4499459087431637.\n",
      "[I 2024-09-23 07:50:10,595] Trial 905 finished with value: 0.12725679996042205 and parameters: {'n_clusters': 9, 'distance_metric': 'euclidean', 'random_state': 70}. Best is trial 828 with value: 0.4499459087431637.\n",
      "[I 2024-09-23 07:50:10,710] Trial 906 finished with value: 0.20507332444754447 and parameters: {'n_clusters': 6, 'distance_metric': 'euclidean', 'random_state': 33}. Best is trial 828 with value: 0.4499459087431637.\n",
      "[I 2024-09-23 07:50:10,842] Trial 907 finished with value: 0.33610687359438385 and parameters: {'n_clusters': 4, 'distance_metric': 'minkowski', 'random_state': 94}. Best is trial 828 with value: 0.4499459087431637.\n",
      "[I 2024-09-23 07:50:10,974] Trial 908 finished with value: 0.16362104896819898 and parameters: {'n_clusters': 7, 'distance_metric': 'minkowski', 'random_state': 55}. Best is trial 828 with value: 0.4499459087431637.\n",
      "[I 2024-09-23 07:50:11,104] Trial 909 finished with value: 0.2685459543920062 and parameters: {'n_clusters': 6, 'distance_metric': 'minkowski', 'random_state': 36}. Best is trial 828 with value: 0.4499459087431637.\n",
      "[I 2024-09-23 07:50:11,233] Trial 910 finished with value: 0.3808229165318646 and parameters: {'n_clusters': 4, 'distance_metric': 'minkowski', 'random_state': 14}. Best is trial 828 with value: 0.4499459087431637.\n",
      "[I 2024-09-23 07:50:11,348] Trial 911 finished with value: 0.2700980150515443 and parameters: {'n_clusters': 6, 'distance_metric': 'euclidean', 'random_state': 83}. Best is trial 828 with value: 0.4499459087431637.\n",
      "[I 2024-09-23 07:50:11,481] Trial 912 finished with value: 0.15693542869630164 and parameters: {'n_clusters': 8, 'distance_metric': 'minkowski', 'random_state': 59}. Best is trial 828 with value: 0.4499459087431637.\n",
      "[I 2024-09-23 07:50:11,616] Trial 913 finished with value: 0.12654614259729685 and parameters: {'n_clusters': 9, 'distance_metric': 'minkowski', 'random_state': 88}. Best is trial 828 with value: 0.4499459087431637.\n",
      "[I 2024-09-23 07:50:11,733] Trial 914 finished with value: 0.24574963962311927 and parameters: {'n_clusters': 6, 'distance_metric': 'euclidean', 'random_state': 32}. Best is trial 828 with value: 0.4499459087431637.\n",
      "[I 2024-09-23 07:50:11,867] Trial 915 finished with value: 0.3804770925826096 and parameters: {'n_clusters': 4, 'distance_metric': 'minkowski', 'random_state': 96}. Best is trial 828 with value: 0.4499459087431637.\n",
      "[I 2024-09-23 07:50:11,984] Trial 916 finished with value: 0.31307155532206915 and parameters: {'n_clusters': 5, 'distance_metric': 'euclidean', 'random_state': 63}. Best is trial 828 with value: 0.4499459087431637.\n",
      "[I 2024-09-23 07:50:12,120] Trial 917 finished with value: 0.44347702319898546 and parameters: {'n_clusters': 3, 'distance_metric': 'minkowski', 'random_state': 94}. Best is trial 828 with value: 0.4499459087431637.\n",
      "[I 2024-09-23 07:50:12,239] Trial 918 finished with value: 0.44347702319898546 and parameters: {'n_clusters': 3, 'distance_metric': 'euclidean', 'random_state': 7}. Best is trial 828 with value: 0.4499459087431637.\n",
      "[I 2024-09-23 07:50:12,357] Trial 919 finished with value: 0.35754542716180576 and parameters: {'n_clusters': 5, 'distance_metric': 'euclidean', 'random_state': 67}. Best is trial 828 with value: 0.4499459087431637.\n",
      "[I 2024-09-23 07:50:12,478] Trial 920 finished with value: 0.1052248974902669 and parameters: {'n_clusters': 10, 'distance_metric': 'euclidean', 'random_state': 70}. Best is trial 828 with value: 0.4499459087431637.\n",
      "[I 2024-09-23 07:50:12,596] Trial 921 finished with value: 0.44347702319898546 and parameters: {'n_clusters': 3, 'distance_metric': 'euclidean', 'random_state': 39}. Best is trial 828 with value: 0.4499459087431637.\n",
      "[I 2024-09-23 07:50:12,734] Trial 922 finished with value: 0.3962777088955517 and parameters: {'n_clusters': 4, 'distance_metric': 'minkowski', 'random_state': 2}. Best is trial 828 with value: 0.4499459087431637.\n",
      "[I 2024-09-23 07:50:12,867] Trial 923 finished with value: 0.23535516048287003 and parameters: {'n_clusters': 6, 'distance_metric': 'minkowski', 'random_state': 85}. Best is trial 828 with value: 0.4499459087431637.\n",
      "[I 2024-09-23 07:50:12,999] Trial 924 finished with value: 0.09539233768311152 and parameters: {'n_clusters': 10, 'distance_metric': 'minkowski', 'random_state': 54}. Best is trial 828 with value: 0.4499459087431637.\n",
      "[I 2024-09-23 07:50:13,116] Trial 925 finished with value: 0.15947324896995088 and parameters: {'n_clusters': 8, 'distance_metric': 'euclidean', 'random_state': 46}. Best is trial 828 with value: 0.4499459087431637.\n",
      "[I 2024-09-23 07:50:13,240] Trial 926 finished with value: 0.3572389699191204 and parameters: {'n_clusters': 4, 'distance_metric': 'euclidean', 'random_state': 19}. Best is trial 828 with value: 0.4499459087431637.\n",
      "[I 2024-09-23 07:50:13,360] Trial 927 finished with value: 0.09541445759969264 and parameters: {'n_clusters': 10, 'distance_metric': 'euclidean', 'random_state': 84}. Best is trial 828 with value: 0.4499459087431637.\n",
      "[I 2024-09-23 07:50:13,480] Trial 928 finished with value: 0.15175208689360517 and parameters: {'n_clusters': 9, 'distance_metric': 'euclidean', 'random_state': 53}. Best is trial 828 with value: 0.4499459087431637.\n",
      "[I 2024-09-23 07:50:13,614] Trial 929 finished with value: 0.37412435528194177 and parameters: {'n_clusters': 4, 'distance_metric': 'minkowski', 'random_state': 80}. Best is trial 828 with value: 0.4499459087431637.\n",
      "[I 2024-09-23 07:50:13,734] Trial 930 finished with value: 0.13702667328140478 and parameters: {'n_clusters': 10, 'distance_metric': 'euclidean', 'random_state': 7}. Best is trial 828 with value: 0.4499459087431637.\n",
      "[I 2024-09-23 07:50:13,860] Trial 931 finished with value: 0.3152345324669715 and parameters: {'n_clusters': 4, 'distance_metric': 'euclidean', 'random_state': 6}. Best is trial 828 with value: 0.4499459087431637.\n",
      "[I 2024-09-23 07:50:13,995] Trial 932 finished with value: 0.27276734032102623 and parameters: {'n_clusters': 6, 'distance_metric': 'minkowski', 'random_state': 67}. Best is trial 828 with value: 0.4499459087431637.\n",
      "[I 2024-09-23 07:50:14,116] Trial 933 finished with value: 0.15779527271759888 and parameters: {'n_clusters': 7, 'distance_metric': 'euclidean', 'random_state': 85}. Best is trial 828 with value: 0.4499459087431637.\n",
      "[I 2024-09-23 07:50:14,251] Trial 934 finished with value: 0.09323329152138708 and parameters: {'n_clusters': 10, 'distance_metric': 'minkowski', 'random_state': 45}. Best is trial 828 with value: 0.4499459087431637.\n",
      "[I 2024-09-23 07:50:14,371] Trial 935 finished with value: 0.12224783232230065 and parameters: {'n_clusters': 9, 'distance_metric': 'euclidean', 'random_state': 31}. Best is trial 828 with value: 0.4499459087431637.\n",
      "[I 2024-09-23 07:50:14,489] Trial 936 finished with value: 0.10148524538053917 and parameters: {'n_clusters': 9, 'distance_metric': 'euclidean', 'random_state': 84}. Best is trial 828 with value: 0.4499459087431637.\n",
      "[I 2024-09-23 07:50:14,628] Trial 937 finished with value: 0.4460089237295571 and parameters: {'n_clusters': 3, 'distance_metric': 'euclidean', 'random_state': 21}. Best is trial 828 with value: 0.4499459087431637.\n",
      "[I 2024-09-23 07:50:14,762] Trial 938 finished with value: 0.4460089237295571 and parameters: {'n_clusters': 3, 'distance_metric': 'minkowski', 'random_state': 71}. Best is trial 828 with value: 0.4499459087431637.\n",
      "[I 2024-09-23 07:50:14,880] Trial 939 finished with value: 0.27490818834164227 and parameters: {'n_clusters': 5, 'distance_metric': 'euclidean', 'random_state': 43}. Best is trial 828 with value: 0.4499459087431637.\n",
      "[I 2024-09-23 07:50:15,007] Trial 940 finished with value: 0.4460089237295571 and parameters: {'n_clusters': 3, 'distance_metric': 'euclidean', 'random_state': 51}. Best is trial 828 with value: 0.4499459087431637.\n",
      "[I 2024-09-23 07:50:15,128] Trial 941 finished with value: 0.3728765219633796 and parameters: {'n_clusters': 4, 'distance_metric': 'euclidean', 'random_state': 63}. Best is trial 828 with value: 0.4499459087431637.\n",
      "[I 2024-09-23 07:50:15,265] Trial 942 finished with value: 0.3962777088955517 and parameters: {'n_clusters': 4, 'distance_metric': 'minkowski', 'random_state': 16}. Best is trial 828 with value: 0.4499459087431637.\n",
      "[I 2024-09-23 07:50:15,385] Trial 943 finished with value: 0.19452154302223892 and parameters: {'n_clusters': 7, 'distance_metric': 'euclidean', 'random_state': 42}. Best is trial 828 with value: 0.4499459087431637.\n",
      "[I 2024-09-23 07:50:15,518] Trial 944 finished with value: 0.44347702319898546 and parameters: {'n_clusters': 3, 'distance_metric': 'minkowski', 'random_state': 68}. Best is trial 828 with value: 0.4499459087431637.\n",
      "[I 2024-09-23 07:50:15,640] Trial 945 finished with value: 0.14337751076759883 and parameters: {'n_clusters': 10, 'distance_metric': 'euclidean', 'random_state': 32}. Best is trial 828 with value: 0.4499459087431637.\n",
      "[I 2024-09-23 07:50:15,776] Trial 946 finished with value: 0.12499004975337613 and parameters: {'n_clusters': 9, 'distance_metric': 'minkowski', 'random_state': 69}. Best is trial 828 with value: 0.4499459087431637.\n",
      "[I 2024-09-23 07:50:15,913] Trial 947 finished with value: 0.11107038865231748 and parameters: {'n_clusters': 9, 'distance_metric': 'minkowski', 'random_state': 86}. Best is trial 828 with value: 0.4499459087431637.\n",
      "[I 2024-09-23 07:50:16,048] Trial 948 finished with value: 0.1821573785516852 and parameters: {'n_clusters': 5, 'distance_metric': 'minkowski', 'random_state': 58}. Best is trial 828 with value: 0.4499459087431637.\n",
      "[I 2024-09-23 07:50:16,194] Trial 949 finished with value: 0.2520691457405984 and parameters: {'n_clusters': 6, 'distance_metric': 'minkowski', 'random_state': 52}. Best is trial 828 with value: 0.4499459087431637.\n",
      "[I 2024-09-23 07:50:16,331] Trial 950 finished with value: 0.44347702319898546 and parameters: {'n_clusters': 3, 'distance_metric': 'minkowski', 'random_state': 23}. Best is trial 828 with value: 0.4499459087431637.\n",
      "[I 2024-09-23 07:50:16,453] Trial 951 finished with value: 0.28409816886098826 and parameters: {'n_clusters': 6, 'distance_metric': 'euclidean', 'random_state': 2}. Best is trial 828 with value: 0.4499459087431637.\n",
      "[I 2024-09-23 07:50:16,576] Trial 952 finished with value: 0.10667635333306151 and parameters: {'n_clusters': 10, 'distance_metric': 'euclidean', 'random_state': 24}. Best is trial 828 with value: 0.4499459087431637.\n",
      "[I 2024-09-23 07:50:16,699] Trial 953 finished with value: 0.3739956342297244 and parameters: {'n_clusters': 4, 'distance_metric': 'euclidean', 'random_state': 73}. Best is trial 828 with value: 0.4499459087431637.\n",
      "[I 2024-09-23 07:50:16,824] Trial 954 finished with value: 0.11671386655081423 and parameters: {'n_clusters': 10, 'distance_metric': 'euclidean', 'random_state': 8}. Best is trial 828 with value: 0.4499459087431637.\n",
      "[I 2024-09-23 07:50:16,947] Trial 955 finished with value: 0.13871178065911788 and parameters: {'n_clusters': 9, 'distance_metric': 'euclidean', 'random_state': 59}. Best is trial 828 with value: 0.4499459087431637.\n",
      "[I 2024-09-23 07:50:17,085] Trial 956 finished with value: 0.292277552050537 and parameters: {'n_clusters': 5, 'distance_metric': 'minkowski', 'random_state': 46}. Best is trial 828 with value: 0.4499459087431637.\n",
      "[I 2024-09-23 07:50:17,209] Trial 957 finished with value: 0.29458606293902234 and parameters: {'n_clusters': 5, 'distance_metric': 'euclidean', 'random_state': 85}. Best is trial 828 with value: 0.4499459087431637.\n",
      "[I 2024-09-23 07:50:17,347] Trial 958 finished with value: 0.25444064957682666 and parameters: {'n_clusters': 6, 'distance_metric': 'minkowski', 'random_state': 46}. Best is trial 828 with value: 0.4499459087431637.\n",
      "[I 2024-09-23 07:50:17,490] Trial 959 finished with value: 0.1283429487493509 and parameters: {'n_clusters': 8, 'distance_metric': 'minkowski', 'random_state': 89}. Best is trial 828 with value: 0.4499459087431637.\n",
      "[I 2024-09-23 07:50:17,625] Trial 960 finished with value: 0.09541445759969293 and parameters: {'n_clusters': 10, 'distance_metric': 'minkowski', 'random_state': 84}. Best is trial 828 with value: 0.4499459087431637.\n",
      "[I 2024-09-23 07:50:17,764] Trial 961 finished with value: 0.3182051828630657 and parameters: {'n_clusters': 4, 'distance_metric': 'minkowski', 'random_state': 21}. Best is trial 828 with value: 0.4499459087431637.\n",
      "[I 2024-09-23 07:50:17,907] Trial 962 finished with value: 0.28605860466581245 and parameters: {'n_clusters': 5, 'distance_metric': 'minkowski', 'random_state': 32}. Best is trial 828 with value: 0.4499459087431637.\n",
      "[I 2024-09-23 07:50:18,053] Trial 963 finished with value: 0.17563073364616202 and parameters: {'n_clusters': 8, 'distance_metric': 'minkowski', 'random_state': 15}. Best is trial 828 with value: 0.4499459087431637.\n",
      "[I 2024-09-23 07:50:18,189] Trial 964 finished with value: 0.13688984487444672 and parameters: {'n_clusters': 7, 'distance_metric': 'minkowski', 'random_state': 86}. Best is trial 828 with value: 0.4499459087431637.\n",
      "[I 2024-09-23 07:50:18,315] Trial 965 finished with value: 0.12499004975337583 and parameters: {'n_clusters': 9, 'distance_metric': 'euclidean', 'random_state': 69}. Best is trial 828 with value: 0.4499459087431637.\n",
      "[I 2024-09-23 07:50:18,454] Trial 966 finished with value: 0.10169880875659261 and parameters: {'n_clusters': 9, 'distance_metric': 'minkowski', 'random_state': 79}. Best is trial 828 with value: 0.4499459087431637.\n",
      "[I 2024-09-23 07:50:18,582] Trial 967 finished with value: 0.08380231491744426 and parameters: {'n_clusters': 10, 'distance_metric': 'euclidean', 'random_state': 89}. Best is trial 828 with value: 0.4499459087431637.\n",
      "[I 2024-09-23 07:50:18,709] Trial 968 finished with value: 0.29458606293902234 and parameters: {'n_clusters': 5, 'distance_metric': 'euclidean', 'random_state': 11}. Best is trial 828 with value: 0.4499459087431637.\n",
      "[I 2024-09-23 07:50:18,831] Trial 969 finished with value: 0.22595547081741388 and parameters: {'n_clusters': 6, 'distance_metric': 'euclidean', 'random_state': 45}. Best is trial 828 with value: 0.4499459087431637.\n",
      "[I 2024-09-23 07:50:18,953] Trial 970 finished with value: 0.24882925726574553 and parameters: {'n_clusters': 6, 'distance_metric': 'euclidean', 'random_state': 7}. Best is trial 828 with value: 0.4499459087431637.\n",
      "[I 2024-09-23 07:50:19,075] Trial 971 finished with value: 0.3236109224445662 and parameters: {'n_clusters': 5, 'distance_metric': 'euclidean', 'random_state': 18}. Best is trial 828 with value: 0.4499459087431637.\n",
      "[I 2024-09-23 07:50:19,215] Trial 972 finished with value: 0.10522489749026676 and parameters: {'n_clusters': 10, 'distance_metric': 'minkowski', 'random_state': 70}. Best is trial 828 with value: 0.4499459087431637.\n",
      "[I 2024-09-23 07:50:19,354] Trial 973 finished with value: 0.33711277013131685 and parameters: {'n_clusters': 4, 'distance_metric': 'minkowski', 'random_state': 23}. Best is trial 828 with value: 0.4499459087431637.\n",
      "[I 2024-09-23 07:50:19,478] Trial 974 finished with value: 0.27285882565152886 and parameters: {'n_clusters': 5, 'distance_metric': 'euclidean', 'random_state': 90}. Best is trial 828 with value: 0.4499459087431637.\n",
      "[I 2024-09-23 07:50:19,602] Trial 975 finished with value: 0.23238833974278886 and parameters: {'n_clusters': 6, 'distance_metric': 'euclidean', 'random_state': 79}. Best is trial 828 with value: 0.4499459087431637.\n",
      "[I 2024-09-23 07:50:19,741] Trial 976 finished with value: 0.11384664763236337 and parameters: {'n_clusters': 9, 'distance_metric': 'minkowski', 'random_state': 14}. Best is trial 828 with value: 0.4499459087431637.\n",
      "[I 2024-09-23 07:50:19,878] Trial 977 finished with value: 0.33799887452176636 and parameters: {'n_clusters': 4, 'distance_metric': 'euclidean', 'random_state': 68}. Best is trial 828 with value: 0.4499459087431637.\n",
      "[I 2024-09-23 07:50:20,005] Trial 978 finished with value: 0.16974302032594601 and parameters: {'n_clusters': 7, 'distance_metric': 'euclidean', 'random_state': 22}. Best is trial 828 with value: 0.4499459087431637.\n",
      "[I 2024-09-23 07:50:20,128] Trial 979 finished with value: 0.31917377637855243 and parameters: {'n_clusters': 5, 'distance_metric': 'euclidean', 'random_state': 26}. Best is trial 828 with value: 0.4499459087431637.\n",
      "[I 2024-09-23 07:50:20,254] Trial 980 finished with value: 0.12364396823380734 and parameters: {'n_clusters': 9, 'distance_metric': 'euclidean', 'random_state': 17}. Best is trial 828 with value: 0.4499459087431637.\n",
      "[I 2024-09-23 07:50:20,378] Trial 981 finished with value: 0.44811699788065806 and parameters: {'n_clusters': 3, 'distance_metric': 'euclidean', 'random_state': 13}. Best is trial 828 with value: 0.4499459087431637.\n",
      "[I 2024-09-23 07:50:20,505] Trial 982 finished with value: 0.17334632282184548 and parameters: {'n_clusters': 8, 'distance_metric': 'euclidean', 'random_state': 23}. Best is trial 828 with value: 0.4499459087431637.\n",
      "[I 2024-09-23 07:50:20,643] Trial 983 finished with value: 0.10454316429280436 and parameters: {'n_clusters': 9, 'distance_metric': 'minkowski', 'random_state': 57}. Best is trial 828 with value: 0.4499459087431637.\n",
      "[I 2024-09-23 07:50:20,787] Trial 984 finished with value: 0.44347702319898546 and parameters: {'n_clusters': 3, 'distance_metric': 'euclidean', 'random_state': 69}. Best is trial 828 with value: 0.4499459087431637.\n",
      "[I 2024-09-23 07:50:20,916] Trial 985 finished with value: 0.44347702319898546 and parameters: {'n_clusters': 3, 'distance_metric': 'euclidean', 'random_state': 91}. Best is trial 828 with value: 0.4499459087431637.\n",
      "[I 2024-09-23 07:50:21,058] Trial 986 finished with value: 0.13833983663562105 and parameters: {'n_clusters': 9, 'distance_metric': 'minkowski', 'random_state': 98}. Best is trial 828 with value: 0.4499459087431637.\n",
      "[I 2024-09-23 07:50:21,200] Trial 987 finished with value: 0.1253368368645602 and parameters: {'n_clusters': 8, 'distance_metric': 'minkowski', 'random_state': 21}. Best is trial 828 with value: 0.4499459087431637.\n",
      "[I 2024-09-23 07:50:21,327] Trial 988 finished with value: 0.20872301692255232 and parameters: {'n_clusters': 6, 'distance_metric': 'euclidean', 'random_state': 81}. Best is trial 828 with value: 0.4499459087431637.\n",
      "[I 2024-09-23 07:50:21,466] Trial 989 finished with value: 0.4460089237295571 and parameters: {'n_clusters': 3, 'distance_metric': 'minkowski', 'random_state': 58}. Best is trial 828 with value: 0.4499459087431637.\n",
      "[I 2024-09-23 07:50:21,594] Trial 990 finished with value: 0.1104880539747658 and parameters: {'n_clusters': 10, 'distance_metric': 'euclidean', 'random_state': 46}. Best is trial 828 with value: 0.4499459087431637.\n",
      "[I 2024-09-23 07:50:21,736] Trial 991 finished with value: 0.1283912485278644 and parameters: {'n_clusters': 8, 'distance_metric': 'minkowski', 'random_state': 64}. Best is trial 828 with value: 0.4499459087431637.\n",
      "[I 2024-09-23 07:50:21,860] Trial 992 finished with value: 0.2217945563105791 and parameters: {'n_clusters': 6, 'distance_metric': 'euclidean', 'random_state': 73}. Best is trial 828 with value: 0.4499459087431637.\n",
      "[I 2024-09-23 07:50:21,988] Trial 993 finished with value: 0.29458606293902234 and parameters: {'n_clusters': 5, 'distance_metric': 'euclidean', 'random_state': 59}. Best is trial 828 with value: 0.4499459087431637.\n",
      "[I 2024-09-23 07:50:22,136] Trial 994 finished with value: 0.17984306975065545 and parameters: {'n_clusters': 8, 'distance_metric': 'minkowski', 'random_state': 63}. Best is trial 828 with value: 0.4499459087431637.\n",
      "[I 2024-09-23 07:50:22,265] Trial 995 finished with value: 0.1412353877585972 and parameters: {'n_clusters': 9, 'distance_metric': 'euclidean', 'random_state': 15}. Best is trial 828 with value: 0.4499459087431637.\n",
      "[I 2024-09-23 07:50:22,407] Trial 996 finished with value: 0.3728765219633796 and parameters: {'n_clusters': 4, 'distance_metric': 'minkowski', 'random_state': 63}. Best is trial 828 with value: 0.4499459087431637.\n",
      "[I 2024-09-23 07:50:22,533] Trial 997 finished with value: 0.2636468765087088 and parameters: {'n_clusters': 6, 'distance_metric': 'euclidean', 'random_state': 5}. Best is trial 828 with value: 0.4499459087431637.\n",
      "[I 2024-09-23 07:50:22,678] Trial 998 finished with value: 0.1516482382512475 and parameters: {'n_clusters': 9, 'distance_metric': 'minkowski', 'random_state': 34}. Best is trial 828 with value: 0.4499459087431637.\n",
      "[I 2024-09-23 07:50:22,826] Trial 999 finished with value: 0.22016826797826802 and parameters: {'n_clusters': 7, 'distance_metric': 'minkowski', 'random_state': 47}. Best is trial 828 with value: 0.4499459087431637.\n",
      "[I 2024-09-23 07:50:22,951] Trial 1000 finished with value: 0.19462619020848768 and parameters: {'n_clusters': 7, 'distance_metric': 'euclidean', 'random_state': 11}. Best is trial 828 with value: 0.4499459087431637.\n",
      "[I 2024-09-23 07:50:23,094] Trial 1001 finished with value: 0.07998506843043418 and parameters: {'n_clusters': 10, 'distance_metric': 'minkowski', 'random_state': 48}. Best is trial 828 with value: 0.4499459087431637.\n",
      "[I 2024-09-23 07:50:23,240] Trial 1002 finished with value: 0.1759378417877742 and parameters: {'n_clusters': 5, 'distance_metric': 'minkowski', 'random_state': 31}. Best is trial 828 with value: 0.4499459087431637.\n",
      "[I 2024-09-23 07:50:23,366] Trial 1003 finished with value: 0.4351648700874994 and parameters: {'n_clusters': 3, 'distance_metric': 'euclidean', 'random_state': 43}. Best is trial 828 with value: 0.4499459087431637.\n",
      "[I 2024-09-23 07:50:23,495] Trial 1004 finished with value: 0.322601389490668 and parameters: {'n_clusters': 5, 'distance_metric': 'euclidean', 'random_state': 9}. Best is trial 828 with value: 0.4499459087431637.\n",
      "[I 2024-09-23 07:50:23,624] Trial 1005 finished with value: 0.13462279859610082 and parameters: {'n_clusters': 8, 'distance_metric': 'euclidean', 'random_state': 33}. Best is trial 828 with value: 0.4499459087431637.\n",
      "[I 2024-09-23 07:50:23,767] Trial 1006 finished with value: 0.44347702319898546 and parameters: {'n_clusters': 3, 'distance_metric': 'minkowski', 'random_state': 88}. Best is trial 828 with value: 0.4499459087431637.\n",
      "[I 2024-09-23 07:50:23,909] Trial 1007 finished with value: 0.2959517099502599 and parameters: {'n_clusters': 5, 'distance_metric': 'minkowski', 'random_state': 97}. Best is trial 828 with value: 0.4499459087431637.\n",
      "[I 2024-09-23 07:50:24,036] Trial 1008 finished with value: 0.17946634735687644 and parameters: {'n_clusters': 7, 'distance_metric': 'euclidean', 'random_state': 91}. Best is trial 828 with value: 0.4499459087431637.\n",
      "[I 2024-09-23 07:50:24,164] Trial 1009 finished with value: 0.1546103835037002 and parameters: {'n_clusters': 8, 'distance_metric': 'euclidean', 'random_state': 97}. Best is trial 828 with value: 0.4499459087431637.\n",
      "[I 2024-09-23 07:50:24,298] Trial 1010 finished with value: 0.44347702319898546 and parameters: {'n_clusters': 3, 'distance_metric': 'euclidean', 'random_state': 75}. Best is trial 828 with value: 0.4499459087431637.\n",
      "[I 2024-09-23 07:50:24,425] Trial 1011 finished with value: 0.1923786798214029 and parameters: {'n_clusters': 8, 'distance_metric': 'euclidean', 'random_state': 16}. Best is trial 828 with value: 0.4499459087431637.\n",
      "[I 2024-09-23 07:50:24,553] Trial 1012 finished with value: 0.28284329877889763 and parameters: {'n_clusters': 5, 'distance_metric': 'euclidean', 'random_state': 86}. Best is trial 828 with value: 0.4499459087431637.\n",
      "[I 2024-09-23 07:50:24,699] Trial 1013 finished with value: 0.12930689021073483 and parameters: {'n_clusters': 10, 'distance_metric': 'minkowski', 'random_state': 38}. Best is trial 828 with value: 0.4499459087431637.\n",
      "[I 2024-09-23 07:50:24,846] Trial 1014 finished with value: 0.09484921118390688 and parameters: {'n_clusters': 8, 'distance_metric': 'minkowski', 'random_state': 11}. Best is trial 828 with value: 0.4499459087431637.\n",
      "[I 2024-09-23 07:50:24,988] Trial 1015 finished with value: 0.44347702319898546 and parameters: {'n_clusters': 3, 'distance_metric': 'minkowski', 'random_state': 59}. Best is trial 828 with value: 0.4499459087431637.\n",
      "[I 2024-09-23 07:50:25,120] Trial 1016 finished with value: 0.4460089237295571 and parameters: {'n_clusters': 3, 'distance_metric': 'euclidean', 'random_state': 72}. Best is trial 828 with value: 0.4499459087431637.\n",
      "[I 2024-09-23 07:50:25,250] Trial 1017 finished with value: 0.12633864815242102 and parameters: {'n_clusters': 8, 'distance_metric': 'euclidean', 'random_state': 62}. Best is trial 828 with value: 0.4499459087431637.\n",
      "[I 2024-09-23 07:50:25,378] Trial 1018 finished with value: 0.3741243552819417 and parameters: {'n_clusters': 4, 'distance_metric': 'euclidean', 'random_state': 80}. Best is trial 828 with value: 0.4499459087431637.\n",
      "[I 2024-09-23 07:50:25,527] Trial 1019 finished with value: 0.14573866198301322 and parameters: {'n_clusters': 8, 'distance_metric': 'minkowski', 'random_state': 91}. Best is trial 828 with value: 0.4499459087431637.\n",
      "[I 2024-09-23 07:50:25,658] Trial 1020 finished with value: 0.3679755637656554 and parameters: {'n_clusters': 4, 'distance_metric': 'euclidean', 'random_state': 10}. Best is trial 828 with value: 0.4499459087431637.\n",
      "[I 2024-09-23 07:50:25,803] Trial 1021 finished with value: 0.10826244355046213 and parameters: {'n_clusters': 10, 'distance_metric': 'minkowski', 'random_state': 3}. Best is trial 828 with value: 0.4499459087431637.\n",
      "[I 2024-09-23 07:50:25,933] Trial 1022 finished with value: 0.17241616680998934 and parameters: {'n_clusters': 7, 'distance_metric': 'euclidean', 'random_state': 94}. Best is trial 828 with value: 0.4499459087431637.\n",
      "[I 2024-09-23 07:50:26,061] Trial 1023 finished with value: 0.3795587758144503 and parameters: {'n_clusters': 4, 'distance_metric': 'euclidean', 'random_state': 17}. Best is trial 828 with value: 0.4499459087431637.\n",
      "[I 2024-09-23 07:50:26,193] Trial 1024 finished with value: 0.2928514406388803 and parameters: {'n_clusters': 5, 'distance_metric': 'euclidean', 'random_state': 94}. Best is trial 828 with value: 0.4499459087431637.\n",
      "[I 2024-09-23 07:50:26,324] Trial 1025 finished with value: 0.1186189896213948 and parameters: {'n_clusters': 9, 'distance_metric': 'euclidean', 'random_state': 44}. Best is trial 828 with value: 0.4499459087431637.\n",
      "[I 2024-09-23 07:50:26,456] Trial 1026 finished with value: 0.13078474966012693 and parameters: {'n_clusters': 10, 'distance_metric': 'euclidean', 'random_state': 73}. Best is trial 828 with value: 0.4499459087431637.\n",
      "[I 2024-09-23 07:50:26,607] Trial 1027 finished with value: 0.11146939230137488 and parameters: {'n_clusters': 10, 'distance_metric': 'minkowski', 'random_state': 2}. Best is trial 828 with value: 0.4499459087431637.\n",
      "[I 2024-09-23 07:50:26,763] Trial 1028 finished with value: 0.28716786279477935 and parameters: {'n_clusters': 6, 'distance_metric': 'minkowski', 'random_state': 24}. Best is trial 828 with value: 0.4499459087431637.\n",
      "[I 2024-09-23 07:50:26,894] Trial 1029 finished with value: 0.14278370857364797 and parameters: {'n_clusters': 9, 'distance_metric': 'euclidean', 'random_state': 23}. Best is trial 828 with value: 0.4499459087431637.\n",
      "[I 2024-09-23 07:50:27,060] Trial 1030 finished with value: 0.2083791625999142 and parameters: {'n_clusters': 8, 'distance_metric': 'minkowski', 'random_state': 6}. Best is trial 828 with value: 0.4499459087431637.\n",
      "[I 2024-09-23 07:50:27,192] Trial 1031 finished with value: 0.21969231767275385 and parameters: {'n_clusters': 7, 'distance_metric': 'euclidean', 'random_state': 10}. Best is trial 828 with value: 0.4499459087431637.\n",
      "[I 2024-09-23 07:50:27,326] Trial 1032 finished with value: 0.12170447036821849 and parameters: {'n_clusters': 9, 'distance_metric': 'euclidean', 'random_state': 37}. Best is trial 828 with value: 0.4499459087431637.\n",
      "[I 2024-09-23 07:50:27,472] Trial 1033 finished with value: 0.15129643316891048 and parameters: {'n_clusters': 10, 'distance_metric': 'minkowski', 'random_state': 76}. Best is trial 828 with value: 0.4499459087431637.\n",
      "[I 2024-09-23 07:50:27,602] Trial 1034 finished with value: 0.322601389490668 and parameters: {'n_clusters': 5, 'distance_metric': 'euclidean', 'random_state': 89}. Best is trial 828 with value: 0.4499459087431637.\n",
      "[I 2024-09-23 07:50:27,756] Trial 1035 finished with value: 0.12364396823380719 and parameters: {'n_clusters': 9, 'distance_metric': 'minkowski', 'random_state': 17}. Best is trial 828 with value: 0.4499459087431637.\n",
      "[I 2024-09-23 07:50:27,888] Trial 1036 finished with value: 0.2532771012602502 and parameters: {'n_clusters': 6, 'distance_metric': 'euclidean', 'random_state': 38}. Best is trial 828 with value: 0.4499459087431637.\n",
      "[I 2024-09-23 07:50:28,033] Trial 1037 finished with value: 0.216111506512728 and parameters: {'n_clusters': 6, 'distance_metric': 'minkowski', 'random_state': 65}. Best is trial 828 with value: 0.4499459087431637.\n",
      "[I 2024-09-23 07:50:28,180] Trial 1038 finished with value: 0.12224481026608285 and parameters: {'n_clusters': 10, 'distance_metric': 'minkowski', 'random_state': 15}. Best is trial 828 with value: 0.4499459087431637.\n",
      "[I 2024-09-23 07:50:28,328] Trial 1039 finished with value: 0.281401586311313 and parameters: {'n_clusters': 5, 'distance_metric': 'minkowski', 'random_state': 13}. Best is trial 828 with value: 0.4499459087431637.\n",
      "[I 2024-09-23 07:50:28,463] Trial 1040 finished with value: 0.44347702319898546 and parameters: {'n_clusters': 3, 'distance_metric': 'euclidean', 'random_state': 47}. Best is trial 828 with value: 0.4499459087431637.\n",
      "[I 2024-09-23 07:50:28,596] Trial 1041 finished with value: 0.07998506843043436 and parameters: {'n_clusters': 10, 'distance_metric': 'euclidean', 'random_state': 48}. Best is trial 828 with value: 0.4499459087431637.\n",
      "[I 2024-09-23 07:50:28,727] Trial 1042 finished with value: 0.09539233768311141 and parameters: {'n_clusters': 10, 'distance_metric': 'euclidean', 'random_state': 54}. Best is trial 828 with value: 0.4499459087431637.\n",
      "[I 2024-09-23 07:50:28,859] Trial 1043 finished with value: 0.14930672227505817 and parameters: {'n_clusters': 7, 'distance_metric': 'euclidean', 'random_state': 63}. Best is trial 828 with value: 0.4499459087431637.\n",
      "[I 2024-09-23 07:50:29,016] Trial 1044 finished with value: 0.1412353877585974 and parameters: {'n_clusters': 9, 'distance_metric': 'minkowski', 'random_state': 15}. Best is trial 828 with value: 0.4499459087431637.\n",
      "[I 2024-09-23 07:50:29,164] Trial 1045 finished with value: 0.3012766622139885 and parameters: {'n_clusters': 5, 'distance_metric': 'minkowski', 'random_state': 50}. Best is trial 828 with value: 0.4499459087431637.\n",
      "[I 2024-09-23 07:50:29,312] Trial 1046 finished with value: 0.2023709154410963 and parameters: {'n_clusters': 7, 'distance_metric': 'minkowski', 'random_state': 99}. Best is trial 828 with value: 0.4499459087431637.\n",
      "[I 2024-09-23 07:50:29,446] Trial 1047 finished with value: 0.15228524406644414 and parameters: {'n_clusters': 7, 'distance_metric': 'euclidean', 'random_state': 25}. Best is trial 828 with value: 0.4499459087431637.\n",
      "[I 2024-09-23 07:50:29,580] Trial 1048 finished with value: 0.2603531308464849 and parameters: {'n_clusters': 6, 'distance_metric': 'euclidean', 'random_state': 26}. Best is trial 828 with value: 0.4499459087431637.\n",
      "[I 2024-09-23 07:50:29,718] Trial 1049 finished with value: 0.17413809957318852 and parameters: {'n_clusters': 9, 'distance_metric': 'euclidean', 'random_state': 65}. Best is trial 828 with value: 0.4499459087431637.\n",
      "[I 2024-09-23 07:50:29,851] Trial 1050 finished with value: 0.23045906161211274 and parameters: {'n_clusters': 6, 'distance_metric': 'euclidean', 'random_state': 51}. Best is trial 828 with value: 0.4499459087431637.\n",
      "[I 2024-09-23 07:50:29,986] Trial 1051 finished with value: 0.17127006346770265 and parameters: {'n_clusters': 7, 'distance_metric': 'euclidean', 'random_state': 48}. Best is trial 828 with value: 0.4499459087431637.\n",
      "[I 2024-09-23 07:50:30,141] Trial 1052 finished with value: 0.32260138949066797 and parameters: {'n_clusters': 5, 'distance_metric': 'minkowski', 'random_state': 89}. Best is trial 828 with value: 0.4499459087431637.\n",
      "[I 2024-09-23 07:50:30,288] Trial 1053 finished with value: 0.29292415372561176 and parameters: {'n_clusters': 5, 'distance_metric': 'minkowski', 'random_state': 42}. Best is trial 828 with value: 0.4499459087431637.\n",
      "[I 2024-09-23 07:50:30,438] Trial 1054 finished with value: 0.20691510866400695 and parameters: {'n_clusters': 6, 'distance_metric': 'minkowski', 'random_state': 41}. Best is trial 828 with value: 0.4499459087431637.\n",
      "[I 2024-09-23 07:50:30,586] Trial 1055 finished with value: 0.1426381196133808 and parameters: {'n_clusters': 9, 'distance_metric': 'minkowski', 'random_state': 94}. Best is trial 828 with value: 0.4499459087431637.\n",
      "[I 2024-09-23 07:50:30,721] Trial 1056 finished with value: 0.1123418876373806 and parameters: {'n_clusters': 10, 'distance_metric': 'euclidean', 'random_state': 55}. Best is trial 828 with value: 0.4499459087431637.\n",
      "[I 2024-09-23 07:50:30,856] Trial 1057 finished with value: 0.30841983906396264 and parameters: {'n_clusters': 4, 'distance_metric': 'euclidean', 'random_state': 39}. Best is trial 828 with value: 0.4499459087431637.\n",
      "[I 2024-09-23 07:50:30,992] Trial 1058 finished with value: 0.14920653219846275 and parameters: {'n_clusters': 7, 'distance_metric': 'euclidean', 'random_state': 52}. Best is trial 828 with value: 0.4499459087431637.\n",
      "[I 2024-09-23 07:50:31,127] Trial 1059 finished with value: 0.1340851616133589 and parameters: {'n_clusters': 9, 'distance_metric': 'euclidean', 'random_state': 100}. Best is trial 828 with value: 0.4499459087431637.\n",
      "[I 2024-09-23 07:50:31,280] Trial 1060 finished with value: 0.1703640893655182 and parameters: {'n_clusters': 8, 'distance_metric': 'minkowski', 'random_state': 61}. Best is trial 828 with value: 0.4499459087431637.\n",
      "[I 2024-09-23 07:50:31,428] Trial 1061 finished with value: 0.4460089237295571 and parameters: {'n_clusters': 3, 'distance_metric': 'minkowski', 'random_state': 31}. Best is trial 828 with value: 0.4499459087431637.\n",
      "[I 2024-09-23 07:50:31,578] Trial 1062 finished with value: 0.3962777088955517 and parameters: {'n_clusters': 4, 'distance_metric': 'minkowski', 'random_state': 51}. Best is trial 828 with value: 0.4499459087431637.\n",
      "[I 2024-09-23 07:50:31,726] Trial 1063 finished with value: 0.3242954413253849 and parameters: {'n_clusters': 5, 'distance_metric': 'minkowski', 'random_state': 20}. Best is trial 828 with value: 0.4499459087431637.\n",
      "[I 2024-09-23 07:50:31,878] Trial 1064 finished with value: 0.18320682711003178 and parameters: {'n_clusters': 7, 'distance_metric': 'minkowski', 'random_state': 58}. Best is trial 828 with value: 0.4499459087431637.\n",
      "[I 2024-09-23 07:50:32,011] Trial 1065 finished with value: 0.24075333727710613 and parameters: {'n_clusters': 6, 'distance_metric': 'euclidean', 'random_state': 97}. Best is trial 828 with value: 0.4499459087431637.\n",
      "[I 2024-09-23 07:50:32,160] Trial 1066 finished with value: 0.21441462601212474 and parameters: {'n_clusters': 7, 'distance_metric': 'minkowski', 'random_state': 57}. Best is trial 828 with value: 0.4499459087431637.\n",
      "[I 2024-09-23 07:50:32,308] Trial 1067 finished with value: 0.20917338188445464 and parameters: {'n_clusters': 7, 'distance_metric': 'minkowski', 'random_state': 28}. Best is trial 828 with value: 0.4499459087431637.\n",
      "[I 2024-09-23 07:50:32,465] Trial 1068 finished with value: 0.12633864815242135 and parameters: {'n_clusters': 8, 'distance_metric': 'minkowski', 'random_state': 62}. Best is trial 828 with value: 0.4499459087431637.\n",
      "[I 2024-09-23 07:50:32,600] Trial 1069 finished with value: 0.4460089237295571 and parameters: {'n_clusters': 3, 'distance_metric': 'euclidean', 'random_state': 22}. Best is trial 828 with value: 0.4499459087431637.\n",
      "[I 2024-09-23 07:50:32,736] Trial 1070 finished with value: 0.12766231146367218 and parameters: {'n_clusters': 10, 'distance_metric': 'euclidean', 'random_state': 67}. Best is trial 828 with value: 0.4499459087431637.\n",
      "[I 2024-09-23 07:50:32,870] Trial 1071 finished with value: 0.21282811724473089 and parameters: {'n_clusters': 6, 'distance_metric': 'euclidean', 'random_state': 93}. Best is trial 828 with value: 0.4499459087431637.\n",
      "[I 2024-09-23 07:50:33,009] Trial 1072 finished with value: 0.27424885290353646 and parameters: {'n_clusters': 5, 'distance_metric': 'euclidean', 'random_state': 51}. Best is trial 828 with value: 0.4499459087431637.\n",
      "[I 2024-09-23 07:50:33,158] Trial 1073 finished with value: 0.21282811724473122 and parameters: {'n_clusters': 6, 'distance_metric': 'minkowski', 'random_state': 93}. Best is trial 828 with value: 0.4499459087431637.\n",
      "[I 2024-09-23 07:50:33,309] Trial 1074 finished with value: 0.30640433384734606 and parameters: {'n_clusters': 5, 'distance_metric': 'minkowski', 'random_state': 60}. Best is trial 828 with value: 0.4499459087431637.\n",
      "[I 2024-09-23 07:50:33,448] Trial 1075 finished with value: 0.12900524455584314 and parameters: {'n_clusters': 9, 'distance_metric': 'euclidean', 'random_state': 72}. Best is trial 828 with value: 0.4499459087431637.\n",
      "[I 2024-09-23 07:50:33,607] Trial 1076 finished with value: 0.09996096445229265 and parameters: {'n_clusters': 10, 'distance_metric': 'minkowski', 'random_state': 79}. Best is trial 828 with value: 0.4499459087431637.\n",
      "[I 2024-09-23 07:50:33,778] Trial 1077 finished with value: 0.1269674161216105 and parameters: {'n_clusters': 7, 'distance_metric': 'minkowski', 'random_state': 4}. Best is trial 828 with value: 0.4499459087431637.\n",
      "[I 2024-09-23 07:50:33,928] Trial 1078 finished with value: 0.18586627598234298 and parameters: {'n_clusters': 6, 'distance_metric': 'minkowski', 'random_state': 4}. Best is trial 828 with value: 0.4499459087431637.\n",
      "[I 2024-09-23 07:50:34,081] Trial 1079 finished with value: 0.4460089237295571 and parameters: {'n_clusters': 3, 'distance_metric': 'minkowski', 'random_state': 70}. Best is trial 828 with value: 0.4499459087431637.\n",
      "[I 2024-09-23 07:50:34,219] Trial 1080 finished with value: 0.14150703421144722 and parameters: {'n_clusters': 9, 'distance_metric': 'euclidean', 'random_state': 5}. Best is trial 828 with value: 0.4499459087431637.\n",
      "[I 2024-09-23 07:50:34,372] Trial 1081 finished with value: 0.11450027498471774 and parameters: {'n_clusters': 8, 'distance_metric': 'minkowski', 'random_state': 12}. Best is trial 828 with value: 0.4499459087431637.\n",
      "[I 2024-09-23 07:50:34,522] Trial 1082 finished with value: 0.2945860629390223 and parameters: {'n_clusters': 5, 'distance_metric': 'minkowski', 'random_state': 85}. Best is trial 828 with value: 0.4499459087431637.\n",
      "[I 2024-09-23 07:50:34,660] Trial 1083 finished with value: 0.14516115228536727 and parameters: {'n_clusters': 9, 'distance_metric': 'euclidean', 'random_state': 28}. Best is trial 828 with value: 0.4499459087431637.\n",
      "[I 2024-09-23 07:50:34,818] Trial 1084 finished with value: 0.37980442945627546 and parameters: {'n_clusters': 4, 'distance_metric': 'minkowski', 'random_state': 3}. Best is trial 828 with value: 0.4499459087431637.\n",
      "[I 2024-09-23 07:50:34,968] Trial 1085 finished with value: 0.4460089237295571 and parameters: {'n_clusters': 3, 'distance_metric': 'minkowski', 'random_state': 57}. Best is trial 828 with value: 0.4499459087431637.\n",
      "[I 2024-09-23 07:50:35,104] Trial 1086 finished with value: 0.13726788442447835 and parameters: {'n_clusters': 10, 'distance_metric': 'euclidean', 'random_state': 1}. Best is trial 828 with value: 0.4499459087431637.\n",
      "[I 2024-09-23 07:50:35,257] Trial 1087 finished with value: 0.31390422719631594 and parameters: {'n_clusters': 6, 'distance_metric': 'minkowski', 'random_state': 75}. Best is trial 828 with value: 0.4499459087431637.\n",
      "[I 2024-09-23 07:50:35,396] Trial 1088 finished with value: 0.12642670461481734 and parameters: {'n_clusters': 10, 'distance_metric': 'euclidean', 'random_state': 10}. Best is trial 828 with value: 0.4499459087431637.\n",
      "[I 2024-09-23 07:50:35,549] Trial 1089 finished with value: 0.10438327463482602 and parameters: {'n_clusters': 10, 'distance_metric': 'minkowski', 'random_state': 72}. Best is trial 828 with value: 0.4499459087431637.\n",
      "[I 2024-09-23 07:50:35,694] Trial 1090 finished with value: 0.21090434844631573 and parameters: {'n_clusters': 6, 'distance_metric': 'euclidean', 'random_state': 22}. Best is trial 828 with value: 0.4499459087431637.\n",
      "[I 2024-09-23 07:50:35,849] Trial 1091 finished with value: 0.13345695010086125 and parameters: {'n_clusters': 9, 'distance_metric': 'minkowski', 'random_state': 24}. Best is trial 828 with value: 0.4499459087431637.\n",
      "[I 2024-09-23 07:50:36,018] Trial 1092 finished with value: 0.19590703782340396 and parameters: {'n_clusters': 8, 'distance_metric': 'minkowski', 'random_state': 65}. Best is trial 828 with value: 0.4499459087431637.\n",
      "[I 2024-09-23 07:50:36,157] Trial 1093 finished with value: 0.16303607123701935 and parameters: {'n_clusters': 9, 'distance_metric': 'euclidean', 'random_state': 25}. Best is trial 828 with value: 0.4499459087431637.\n",
      "[I 2024-09-23 07:50:36,299] Trial 1094 finished with value: 0.38967931998710137 and parameters: {'n_clusters': 4, 'distance_metric': 'euclidean', 'random_state': 26}. Best is trial 828 with value: 0.4499459087431637.\n",
      "[I 2024-09-23 07:50:36,454] Trial 1095 finished with value: 0.30978966396373886 and parameters: {'n_clusters': 5, 'distance_metric': 'minkowski', 'random_state': 12}. Best is trial 828 with value: 0.4499459087431637.\n",
      "[I 2024-09-23 07:50:36,608] Trial 1096 finished with value: 0.32740481706628816 and parameters: {'n_clusters': 5, 'distance_metric': 'minkowski', 'random_state': 91}. Best is trial 828 with value: 0.4499459087431637.\n",
      "[I 2024-09-23 07:50:36,760] Trial 1097 finished with value: 0.4460089237295571 and parameters: {'n_clusters': 3, 'distance_metric': 'minkowski', 'random_state': 49}. Best is trial 828 with value: 0.4499459087431637.\n",
      "[I 2024-09-23 07:50:36,903] Trial 1098 finished with value: 0.14615977893484047 and parameters: {'n_clusters': 10, 'distance_metric': 'euclidean', 'random_state': 81}. Best is trial 828 with value: 0.4499459087431637.\n",
      "[I 2024-09-23 07:50:37,042] Trial 1099 finished with value: 0.1636262181449656 and parameters: {'n_clusters': 9, 'distance_metric': 'euclidean', 'random_state': 6}. Best is trial 828 with value: 0.4499459087431637.\n",
      "[I 2024-09-23 07:50:37,197] Trial 1100 finished with value: 0.07584483612435547 and parameters: {'n_clusters': 10, 'distance_metric': 'minkowski', 'random_state': 82}. Best is trial 828 with value: 0.4499459087431637.\n",
      "[I 2024-09-23 07:50:37,358] Trial 1101 finished with value: 0.13614653374948812 and parameters: {'n_clusters': 8, 'distance_metric': 'minkowski', 'random_state': 28}. Best is trial 828 with value: 0.4499459087431637.\n",
      "[I 2024-09-23 07:50:37,498] Trial 1102 finished with value: 0.21159219542106295 and parameters: {'n_clusters': 7, 'distance_metric': 'euclidean', 'random_state': 16}. Best is trial 828 with value: 0.4499459087431637.\n",
      "[I 2024-09-23 07:50:37,639] Trial 1103 finished with value: 0.33032784766197926 and parameters: {'n_clusters': 4, 'distance_metric': 'euclidean', 'random_state': 1}. Best is trial 828 with value: 0.4499459087431637.\n",
      "[I 2024-09-23 07:50:37,778] Trial 1104 finished with value: 0.08864988299462846 and parameters: {'n_clusters': 10, 'distance_metric': 'euclidean', 'random_state': 42}. Best is trial 828 with value: 0.4499459087431637.\n",
      "[I 2024-09-23 07:50:37,917] Trial 1105 finished with value: 0.24602195164591745 and parameters: {'n_clusters': 6, 'distance_metric': 'euclidean', 'random_state': 35}. Best is trial 828 with value: 0.4499459087431637.\n",
      "[I 2024-09-23 07:50:38,070] Trial 1106 finished with value: 0.1604122677131172 and parameters: {'n_clusters': 8, 'distance_metric': 'minkowski', 'random_state': 31}. Best is trial 828 with value: 0.4499459087431637.\n",
      "[I 2024-09-23 07:50:38,224] Trial 1107 finished with value: 0.4460089237295571 and parameters: {'n_clusters': 3, 'distance_metric': 'minkowski', 'random_state': 35}. Best is trial 828 with value: 0.4499459087431637.\n",
      "[I 2024-09-23 07:50:38,378] Trial 1108 finished with value: 0.4460089237295571 and parameters: {'n_clusters': 3, 'distance_metric': 'minkowski', 'random_state': 34}. Best is trial 828 with value: 0.4499459087431637.\n",
      "[I 2024-09-23 07:50:38,537] Trial 1109 finished with value: 0.12664239650874498 and parameters: {'n_clusters': 9, 'distance_metric': 'minkowski', 'random_state': 77}. Best is trial 828 with value: 0.4499459087431637.\n",
      "[I 2024-09-23 07:50:38,690] Trial 1110 finished with value: 0.3601520799416947 and parameters: {'n_clusters': 4, 'distance_metric': 'minkowski', 'random_state': 40}. Best is trial 828 with value: 0.4499459087431637.\n",
      "[I 2024-09-23 07:50:38,843] Trial 1111 finished with value: 0.15307859922107023 and parameters: {'n_clusters': 8, 'distance_metric': 'minkowski', 'random_state': 100}. Best is trial 828 with value: 0.4499459087431637.\n",
      "[I 2024-09-23 07:50:38,997] Trial 1112 finished with value: 0.13726788442447818 and parameters: {'n_clusters': 10, 'distance_metric': 'minkowski', 'random_state': 1}. Best is trial 828 with value: 0.4499459087431637.\n",
      "[I 2024-09-23 07:50:39,151] Trial 1113 finished with value: 0.16939683761185095 and parameters: {'n_clusters': 8, 'distance_metric': 'minkowski', 'random_state': 80}. Best is trial 828 with value: 0.4499459087431637.\n",
      "[I 2024-09-23 07:50:39,307] Trial 1114 finished with value: 0.24194595883175435 and parameters: {'n_clusters': 6, 'distance_metric': 'minkowski', 'random_state': 57}. Best is trial 828 with value: 0.4499459087431637.\n",
      "[I 2024-09-23 07:50:39,468] Trial 1115 finished with value: 0.09006709915861798 and parameters: {'n_clusters': 9, 'distance_metric': 'euclidean', 'random_state': 41}. Best is trial 828 with value: 0.4499459087431637.\n",
      "[I 2024-09-23 07:50:39,611] Trial 1116 finished with value: 0.39627770889555175 and parameters: {'n_clusters': 4, 'distance_metric': 'euclidean', 'random_state': 5}. Best is trial 828 with value: 0.4499459087431637.\n",
      "[I 2024-09-23 07:50:39,773] Trial 1117 finished with value: 0.44347702319898546 and parameters: {'n_clusters': 3, 'distance_metric': 'minkowski', 'random_state': 16}. Best is trial 828 with value: 0.4499459087431637.\n",
      "[I 2024-09-23 07:50:39,928] Trial 1118 finished with value: 0.2710986859764048 and parameters: {'n_clusters': 4, 'distance_metric': 'minkowski', 'random_state': 99}. Best is trial 828 with value: 0.4499459087431637.\n",
      "[I 2024-09-23 07:50:40,085] Trial 1119 finished with value: 0.29362000576821345 and parameters: {'n_clusters': 5, 'distance_metric': 'minkowski', 'random_state': 76}. Best is trial 828 with value: 0.4499459087431637.\n",
      "[I 2024-09-23 07:50:40,243] Trial 1120 finished with value: 0.137826685187015 and parameters: {'n_clusters': 10, 'distance_metric': 'minkowski', 'random_state': 6}. Best is trial 828 with value: 0.4499459087431637.\n",
      "[I 2024-09-23 07:50:40,382] Trial 1121 finished with value: 0.16689486291749575 and parameters: {'n_clusters': 7, 'distance_metric': 'euclidean', 'random_state': 61}. Best is trial 828 with value: 0.4499459087431637.\n",
      "[I 2024-09-23 07:50:40,537] Trial 1122 finished with value: 0.28243694423894955 and parameters: {'n_clusters': 5, 'distance_metric': 'minkowski', 'random_state': 47}. Best is trial 828 with value: 0.4499459087431637.\n",
      "[I 2024-09-23 07:50:40,680] Trial 1123 finished with value: 0.12011552725678883 and parameters: {'n_clusters': 8, 'distance_metric': 'euclidean', 'random_state': 86}. Best is trial 828 with value: 0.4499459087431637.\n",
      "[I 2024-09-23 07:50:40,836] Trial 1124 finished with value: 0.20507332444754447 and parameters: {'n_clusters': 6, 'distance_metric': 'minkowski', 'random_state': 33}. Best is trial 828 with value: 0.4499459087431637.\n",
      "[I 2024-09-23 07:50:40,995] Trial 1125 finished with value: 0.22889798372262526 and parameters: {'n_clusters': 6, 'distance_metric': 'minkowski', 'random_state': 47}. Best is trial 828 with value: 0.4499459087431637.\n",
      "[I 2024-09-23 07:50:41,146] Trial 1126 finished with value: 0.15830924756790102 and parameters: {'n_clusters': 7, 'distance_metric': 'euclidean', 'random_state': 98}. Best is trial 828 with value: 0.4499459087431637.\n",
      "[I 2024-09-23 07:50:41,290] Trial 1127 finished with value: 0.10826244355046222 and parameters: {'n_clusters': 10, 'distance_metric': 'euclidean', 'random_state': 3}. Best is trial 828 with value: 0.4499459087431637.\n",
      "[I 2024-09-23 07:50:41,430] Trial 1128 finished with value: 0.313904227196316 and parameters: {'n_clusters': 6, 'distance_metric': 'euclidean', 'random_state': 76}. Best is trial 828 with value: 0.4499459087431637.\n",
      "[I 2024-09-23 07:50:41,590] Trial 1129 finished with value: 0.3355951773111698 and parameters: {'n_clusters': 4, 'distance_metric': 'minkowski', 'random_state': 76}. Best is trial 828 with value: 0.4499459087431637.\n",
      "[I 2024-09-23 07:50:41,749] Trial 1130 finished with value: 0.17127006346770277 and parameters: {'n_clusters': 7, 'distance_metric': 'minkowski', 'random_state': 48}. Best is trial 828 with value: 0.4499459087431637.\n",
      "[I 2024-09-23 07:50:41,895] Trial 1131 finished with value: 0.176738793290221 and parameters: {'n_clusters': 7, 'distance_metric': 'euclidean', 'random_state': 5}. Best is trial 828 with value: 0.4499459087431637.\n",
      "[I 2024-09-23 07:50:42,037] Trial 1132 finished with value: 0.2810624926233476 and parameters: {'n_clusters': 7, 'distance_metric': 'euclidean', 'random_state': 20}. Best is trial 828 with value: 0.4499459087431637.\n",
      "[I 2024-09-23 07:50:42,203] Trial 1133 finished with value: 0.19262543007765662 and parameters: {'n_clusters': 8, 'distance_metric': 'minkowski', 'random_state': 9}. Best is trial 828 with value: 0.4499459087431637.\n",
      "[I 2024-09-23 07:50:42,348] Trial 1134 finished with value: 0.38967931998710137 and parameters: {'n_clusters': 4, 'distance_metric': 'euclidean', 'random_state': 74}. Best is trial 828 with value: 0.4499459087431637.\n",
      "[I 2024-09-23 07:50:42,492] Trial 1135 finished with value: 0.11673405712338118 and parameters: {'n_clusters': 9, 'distance_metric': 'euclidean', 'random_state': 91}. Best is trial 828 with value: 0.4499459087431637.\n",
      "[I 2024-09-23 07:50:42,653] Trial 1136 finished with value: 0.44347702319898546 and parameters: {'n_clusters': 3, 'distance_metric': 'minkowski', 'random_state': 28}. Best is trial 828 with value: 0.4499459087431637.\n",
      "[I 2024-09-23 07:50:42,797] Trial 1137 finished with value: 0.21082216260915657 and parameters: {'n_clusters': 7, 'distance_metric': 'euclidean', 'random_state': 29}. Best is trial 828 with value: 0.4499459087431637.\n",
      "[I 2024-09-23 07:50:42,954] Trial 1138 finished with value: 0.21150253989341752 and parameters: {'n_clusters': 6, 'distance_metric': 'minkowski', 'random_state': 90}. Best is trial 828 with value: 0.4499459087431637.\n",
      "[I 2024-09-23 07:50:43,112] Trial 1139 finished with value: 0.1315437742130303 and parameters: {'n_clusters': 8, 'distance_metric': 'minkowski', 'random_state': 83}. Best is trial 828 with value: 0.4499459087431637.\n",
      "[I 2024-09-23 07:50:43,263] Trial 1140 finished with value: 0.10756016555688658 and parameters: {'n_clusters': 10, 'distance_metric': 'euclidean', 'random_state': 19}. Best is trial 828 with value: 0.4499459087431637.\n",
      "[I 2024-09-23 07:50:43,405] Trial 1141 finished with value: 0.33511313925054603 and parameters: {'n_clusters': 5, 'distance_metric': 'euclidean', 'random_state': 83}. Best is trial 828 with value: 0.4499459087431637.\n",
      "[I 2024-09-23 07:50:43,562] Trial 1142 finished with value: 0.21773694574666325 and parameters: {'n_clusters': 7, 'distance_metric': 'minkowski', 'random_state': 3}. Best is trial 828 with value: 0.4499459087431637.\n",
      "[I 2024-09-23 07:50:43,723] Trial 1143 finished with value: 0.24083420653716897 and parameters: {'n_clusters': 6, 'distance_metric': 'minkowski', 'random_state': 21}. Best is trial 828 with value: 0.4499459087431637.\n",
      "[I 2024-09-23 07:50:43,884] Trial 1144 finished with value: 0.18223511612123408 and parameters: {'n_clusters': 7, 'distance_metric': 'minkowski', 'random_state': 19}. Best is trial 828 with value: 0.4499459087431637.\n",
      "[I 2024-09-23 07:50:44,029] Trial 1145 finished with value: 0.11502870467844963 and parameters: {'n_clusters': 9, 'distance_metric': 'euclidean', 'random_state': 36}. Best is trial 828 with value: 0.4499459087431637.\n",
      "[I 2024-09-23 07:50:44,175] Trial 1146 finished with value: 0.14190164701502345 and parameters: {'n_clusters': 10, 'distance_metric': 'euclidean', 'random_state': 39}. Best is trial 828 with value: 0.4499459087431637.\n",
      "[I 2024-09-23 07:50:44,318] Trial 1147 finished with value: 0.18897546551590183 and parameters: {'n_clusters': 7, 'distance_metric': 'euclidean', 'random_state': 100}. Best is trial 828 with value: 0.4499459087431637.\n",
      "[I 2024-09-23 07:50:44,485] Trial 1148 finished with value: 0.2913919778646632 and parameters: {'n_clusters': 5, 'distance_metric': 'minkowski', 'random_state': 99}. Best is trial 828 with value: 0.4499459087431637.\n",
      "[I 2024-09-23 07:50:44,643] Trial 1149 finished with value: 0.2642184149961812 and parameters: {'n_clusters': 6, 'distance_metric': 'minkowski', 'random_state': 14}. Best is trial 828 with value: 0.4499459087431637.\n",
      "[I 2024-09-23 07:50:44,788] Trial 1150 finished with value: 0.08707826327942393 and parameters: {'n_clusters': 9, 'distance_metric': 'euclidean', 'random_state': 92}. Best is trial 828 with value: 0.4499459087431637.\n",
      "[I 2024-09-23 07:50:44,931] Trial 1151 finished with value: 0.44347702319898546 and parameters: {'n_clusters': 3, 'distance_metric': 'euclidean', 'random_state': 1}. Best is trial 828 with value: 0.4499459087431637.\n",
      "[I 2024-09-23 07:50:45,107] Trial 1152 finished with value: 0.3946778205022724 and parameters: {'n_clusters': 4, 'distance_metric': 'minkowski', 'random_state': 27}. Best is trial 828 with value: 0.4499459087431637.\n",
      "[I 2024-09-23 07:50:45,268] Trial 1153 finished with value: 0.24574963962311933 and parameters: {'n_clusters': 6, 'distance_metric': 'minkowski', 'random_state': 32}. Best is trial 828 with value: 0.4499459087431637.\n",
      "[I 2024-09-23 07:50:45,432] Trial 1154 finished with value: 0.17529241462411374 and parameters: {'n_clusters': 7, 'distance_metric': 'minkowski', 'random_state': 67}. Best is trial 828 with value: 0.4499459087431637.\n",
      "[I 2024-09-23 07:50:45,599] Trial 1155 finished with value: 0.23975321730456997 and parameters: {'n_clusters': 7, 'distance_metric': 'minkowski', 'random_state': 71}. Best is trial 828 with value: 0.4499459087431637.\n",
      "[I 2024-09-23 07:50:45,747] Trial 1156 finished with value: 0.2555677256829107 and parameters: {'n_clusters': 6, 'distance_metric': 'euclidean', 'random_state': 28}. Best is trial 828 with value: 0.4499459087431637.\n",
      "[I 2024-09-23 07:50:45,899] Trial 1157 finished with value: 0.37980442945627546 and parameters: {'n_clusters': 4, 'distance_metric': 'euclidean', 'random_state': 3}. Best is trial 828 with value: 0.4499459087431637.\n",
      "[I 2024-09-23 07:50:46,049] Trial 1158 finished with value: 0.30039798023817893 and parameters: {'n_clusters': 5, 'distance_metric': 'euclidean', 'random_state': 14}. Best is trial 828 with value: 0.4499459087431637.\n",
      "[I 2024-09-23 07:50:46,215] Trial 1159 finished with value: 0.4460089237295571 and parameters: {'n_clusters': 3, 'distance_metric': 'minkowski', 'random_state': 53}. Best is trial 828 with value: 0.4499459087431637.\n",
      "[I 2024-09-23 07:50:46,362] Trial 1160 finished with value: 0.2824369442389495 and parameters: {'n_clusters': 5, 'distance_metric': 'euclidean', 'random_state': 47}. Best is trial 828 with value: 0.4499459087431637.\n",
      "[I 2024-09-23 07:50:46,524] Trial 1161 finished with value: 0.10235503287080805 and parameters: {'n_clusters': 10, 'distance_metric': 'minkowski', 'random_state': 78}. Best is trial 828 with value: 0.4499459087431637.\n",
      "[I 2024-09-23 07:50:46,694] Trial 1162 finished with value: 0.12424626465181687 and parameters: {'n_clusters': 8, 'distance_metric': 'minkowski', 'random_state': 29}. Best is trial 828 with value: 0.4499459087431637.\n",
      "[I 2024-09-23 07:50:46,859] Trial 1163 finished with value: 0.13979371334544766 and parameters: {'n_clusters': 9, 'distance_metric': 'minkowski', 'random_state': 46}. Best is trial 828 with value: 0.4499459087431637.\n",
      "[I 2024-09-23 07:50:47,028] Trial 1164 finished with value: 0.15279023573380823 and parameters: {'n_clusters': 7, 'distance_metric': 'minkowski', 'random_state': 13}. Best is trial 828 with value: 0.4499459087431637.\n",
      "[I 2024-09-23 07:50:47,189] Trial 1165 finished with value: 0.1483088668237563 and parameters: {'n_clusters': 8, 'distance_metric': 'minkowski', 'random_state': 48}. Best is trial 828 with value: 0.4499459087431637.\n",
      "[I 2024-09-23 07:50:47,344] Trial 1166 finished with value: 0.2276290565643207 and parameters: {'n_clusters': 6, 'distance_metric': 'euclidean', 'random_state': 66}. Best is trial 828 with value: 0.4499459087431637.\n",
      "[I 2024-09-23 07:50:47,496] Trial 1167 finished with value: 0.2870699323805605 and parameters: {'n_clusters': 5, 'distance_metric': 'euclidean', 'random_state': 49}. Best is trial 828 with value: 0.4499459087431637.\n",
      "[I 2024-09-23 07:50:47,647] Trial 1168 finished with value: 0.09940748353488832 and parameters: {'n_clusters': 10, 'distance_metric': 'euclidean', 'random_state': 37}. Best is trial 828 with value: 0.4499459087431637.\n",
      "[I 2024-09-23 07:50:47,806] Trial 1169 finished with value: 0.4460089237295571 and parameters: {'n_clusters': 3, 'distance_metric': 'euclidean', 'random_state': 27}. Best is trial 828 with value: 0.4499459087431637.\n",
      "[I 2024-09-23 07:50:47,969] Trial 1170 finished with value: 0.4460089237295571 and parameters: {'n_clusters': 3, 'distance_metric': 'minkowski', 'random_state': 37}. Best is trial 828 with value: 0.4499459087431637.\n",
      "[I 2024-09-23 07:50:48,134] Trial 1171 finished with value: 0.12811678322755962 and parameters: {'n_clusters': 9, 'distance_metric': 'minkowski', 'random_state': 50}. Best is trial 828 with value: 0.4499459087431637.\n",
      "[I 2024-09-23 07:50:48,283] Trial 1172 finished with value: 0.14780471531578587 and parameters: {'n_clusters': 9, 'distance_metric': 'euclidean', 'random_state': 81}. Best is trial 828 with value: 0.4499459087431637.\n",
      "[I 2024-09-23 07:50:48,444] Trial 1173 finished with value: 0.2297202370199152 and parameters: {'n_clusters': 7, 'distance_metric': 'minkowski', 'random_state': 36}. Best is trial 828 with value: 0.4499459087431637.\n",
      "[I 2024-09-23 07:50:48,603] Trial 1174 finished with value: 0.44347702319898546 and parameters: {'n_clusters': 3, 'distance_metric': 'euclidean', 'random_state': 4}. Best is trial 828 with value: 0.4499459087431637.\n",
      "[I 2024-09-23 07:50:48,753] Trial 1175 finished with value: 0.363990493398543 and parameters: {'n_clusters': 4, 'distance_metric': 'euclidean', 'random_state': 35}. Best is trial 828 with value: 0.4499459087431637.\n",
      "[I 2024-09-23 07:50:48,921] Trial 1176 finished with value: 0.4460089237295571 and parameters: {'n_clusters': 3, 'distance_metric': 'minkowski', 'random_state': 38}. Best is trial 828 with value: 0.4499459087431637.\n",
      "[I 2024-09-23 07:50:49,074] Trial 1177 finished with value: 0.22397043853666257 and parameters: {'n_clusters': 6, 'distance_metric': 'euclidean', 'random_state': 56}. Best is trial 828 with value: 0.4499459087431637.\n",
      "[I 2024-09-23 07:50:49,224] Trial 1178 finished with value: 0.29178883176557063 and parameters: {'n_clusters': 5, 'distance_metric': 'euclidean', 'random_state': 93}. Best is trial 828 with value: 0.4499459087431637.\n",
      "[I 2024-09-23 07:50:49,374] Trial 1179 finished with value: 0.1325992600825393 and parameters: {'n_clusters': 9, 'distance_metric': 'euclidean', 'random_state': 99}. Best is trial 828 with value: 0.4499459087431637.\n",
      "[I 2024-09-23 07:50:49,538] Trial 1180 finished with value: 0.28706993238056067 and parameters: {'n_clusters': 5, 'distance_metric': 'minkowski', 'random_state': 49}. Best is trial 828 with value: 0.4499459087431637.\n",
      "[I 2024-09-23 07:50:49,703] Trial 1181 finished with value: 0.12518284295959559 and parameters: {'n_clusters': 8, 'distance_metric': 'minkowski', 'random_state': 69}. Best is trial 828 with value: 0.4499459087431637.\n",
      "[I 2024-09-23 07:50:49,867] Trial 1182 finished with value: 0.13078474966012724 and parameters: {'n_clusters': 10, 'distance_metric': 'minkowski', 'random_state': 73}. Best is trial 828 with value: 0.4499459087431637.\n",
      "[I 2024-09-23 07:50:50,016] Trial 1183 finished with value: 0.19310793903608223 and parameters: {'n_clusters': 6, 'distance_metric': 'euclidean', 'random_state': 70}. Best is trial 828 with value: 0.4499459087431637.\n",
      "[I 2024-09-23 07:50:50,190] Trial 1184 finished with value: 0.17334632282184553 and parameters: {'n_clusters': 8, 'distance_metric': 'minkowski', 'random_state': 23}. Best is trial 828 with value: 0.4499459087431637.\n",
      "[I 2024-09-23 07:50:50,351] Trial 1185 finished with value: 0.3224976989351238 and parameters: {'n_clusters': 5, 'distance_metric': 'euclidean', 'random_state': 27}. Best is trial 828 with value: 0.4499459087431637.\n",
      "[I 2024-09-23 07:50:50,527] Trial 1186 finished with value: 0.21426365696860836 and parameters: {'n_clusters': 6, 'distance_metric': 'euclidean', 'random_state': 40}. Best is trial 828 with value: 0.4499459087431637.\n",
      "[I 2024-09-23 07:50:50,699] Trial 1187 finished with value: 0.13065878507790474 and parameters: {'n_clusters': 8, 'distance_metric': 'minkowski', 'random_state': 79}. Best is trial 828 with value: 0.4499459087431637.\n",
      "[I 2024-09-23 07:50:50,853] Trial 1188 finished with value: 0.14363009587892725 and parameters: {'n_clusters': 9, 'distance_metric': 'euclidean', 'random_state': 4}. Best is trial 828 with value: 0.4499459087431637.\n",
      "[I 2024-09-23 07:50:51,007] Trial 1189 finished with value: 0.1636210489681991 and parameters: {'n_clusters': 7, 'distance_metric': 'euclidean', 'random_state': 55}. Best is trial 828 with value: 0.4499459087431637.\n",
      "[I 2024-09-23 07:50:51,162] Trial 1190 finished with value: 0.44347702319898546 and parameters: {'n_clusters': 3, 'distance_metric': 'euclidean', 'random_state': 64}. Best is trial 828 with value: 0.4499459087431637.\n",
      "[I 2024-09-23 07:50:51,327] Trial 1191 finished with value: 0.3962777088955517 and parameters: {'n_clusters': 4, 'distance_metric': 'minkowski', 'random_state': 91}. Best is trial 828 with value: 0.4499459087431637.\n",
      "[I 2024-09-23 07:50:51,483] Trial 1192 finished with value: 0.32181616393514867 and parameters: {'n_clusters': 5, 'distance_metric': 'euclidean', 'random_state': 38}. Best is trial 828 with value: 0.4499459087431637.\n",
      "[I 2024-09-23 07:50:51,634] Trial 1193 finished with value: 0.13619033234907765 and parameters: {'n_clusters': 9, 'distance_metric': 'euclidean', 'random_state': 51}. Best is trial 828 with value: 0.4499459087431637.\n",
      "[I 2024-09-23 07:50:51,787] Trial 1194 finished with value: 0.38967931998710137 and parameters: {'n_clusters': 4, 'distance_metric': 'euclidean', 'random_state': 13}. Best is trial 828 with value: 0.4499459087431637.\n",
      "[I 2024-09-23 07:50:51,955] Trial 1195 finished with value: 0.09886747541988619 and parameters: {'n_clusters': 10, 'distance_metric': 'minkowski', 'random_state': 75}. Best is trial 828 with value: 0.4499459087431637.\n",
      "[I 2024-09-23 07:50:52,122] Trial 1196 finished with value: 0.1597989302058357 and parameters: {'n_clusters': 8, 'distance_metric': 'minkowski', 'random_state': 38}. Best is trial 828 with value: 0.4499459087431637.\n",
      "[I 2024-09-23 07:50:52,270] Trial 1197 finished with value: 0.12497605675248245 and parameters: {'n_clusters': 8, 'distance_metric': 'euclidean', 'random_state': 78}. Best is trial 828 with value: 0.4499459087431637.\n",
      "[I 2024-09-23 07:50:52,422] Trial 1198 finished with value: 0.39467782050227246 and parameters: {'n_clusters': 4, 'distance_metric': 'euclidean', 'random_state': 27}. Best is trial 828 with value: 0.4499459087431637.\n",
      "[I 2024-09-23 07:50:52,598] Trial 1199 finished with value: 0.32260138949066797 and parameters: {'n_clusters': 5, 'distance_metric': 'minkowski', 'random_state': 9}. Best is trial 828 with value: 0.4499459087431637.\n",
      "[I 2024-09-23 07:50:52,766] Trial 1200 finished with value: 0.0961944776448418 and parameters: {'n_clusters': 8, 'distance_metric': 'minkowski', 'random_state': 72}. Best is trial 828 with value: 0.4499459087431637.\n",
      "[I 2024-09-23 07:50:52,936] Trial 1201 finished with value: 0.20727337754759464 and parameters: {'n_clusters': 7, 'distance_metric': 'minkowski', 'random_state': 77}. Best is trial 828 with value: 0.4499459087431637.\n",
      "[I 2024-09-23 07:50:53,107] Trial 1202 finished with value: 0.44347702319898546 and parameters: {'n_clusters': 3, 'distance_metric': 'minkowski', 'random_state': 52}. Best is trial 828 with value: 0.4499459087431637.\n",
      "[I 2024-09-23 07:50:53,256] Trial 1203 finished with value: 0.12475449636033557 and parameters: {'n_clusters': 9, 'distance_metric': 'euclidean', 'random_state': 95}. Best is trial 828 with value: 0.4499459087431637.\n",
      "[I 2024-09-23 07:50:53,407] Trial 1204 finished with value: 0.38583686071927786 and parameters: {'n_clusters': 4, 'distance_metric': 'euclidean', 'random_state': 38}. Best is trial 828 with value: 0.4499459087431637.\n",
      "[I 2024-09-23 07:50:53,574] Trial 1205 finished with value: 0.2936638084811393 and parameters: {'n_clusters': 5, 'distance_metric': 'minkowski', 'random_state': 10}. Best is trial 828 with value: 0.4499459087431637.\n",
      "[I 2024-09-23 07:50:53,748] Trial 1206 finished with value: 0.12788621141537274 and parameters: {'n_clusters': 8, 'distance_metric': 'minkowski', 'random_state': 2}. Best is trial 828 with value: 0.4499459087431637.\n",
      "[I 2024-09-23 07:50:53,897] Trial 1207 finished with value: 0.4460089237295571 and parameters: {'n_clusters': 3, 'distance_metric': 'euclidean', 'random_state': 8}. Best is trial 828 with value: 0.4499459087431637.\n",
      "[I 2024-09-23 07:50:54,048] Trial 1208 finished with value: 0.15930703323847722 and parameters: {'n_clusters': 8, 'distance_metric': 'euclidean', 'random_state': 3}. Best is trial 828 with value: 0.4499459087431637.\n",
      "[I 2024-09-23 07:50:54,216] Trial 1209 finished with value: 0.4460089237295571 and parameters: {'n_clusters': 3, 'distance_metric': 'minkowski', 'random_state': 55}. Best is trial 828 with value: 0.4499459087431637.\n",
      "[I 2024-09-23 07:50:54,382] Trial 1210 finished with value: 0.3946111564265178 and parameters: {'n_clusters': 4, 'distance_metric': 'minkowski', 'random_state': 48}. Best is trial 828 with value: 0.4499459087431637.\n",
      "[I 2024-09-23 07:50:54,534] Trial 1211 finished with value: 0.1492421488441554 and parameters: {'n_clusters': 9, 'distance_metric': 'euclidean', 'random_state': 32}. Best is trial 828 with value: 0.4499459087431637.\n",
      "[I 2024-09-23 07:50:54,720] Trial 1212 finished with value: 0.3962777088955517 and parameters: {'n_clusters': 4, 'distance_metric': 'minkowski', 'random_state': 30}. Best is trial 828 with value: 0.4499459087431637.\n",
      "[I 2024-09-23 07:50:54,892] Trial 1213 finished with value: 0.14666344782696894 and parameters: {'n_clusters': 8, 'distance_metric': 'minkowski', 'random_state': 32}. Best is trial 828 with value: 0.4499459087431637.\n",
      "[I 2024-09-23 07:50:55,043] Trial 1214 finished with value: 0.2141191849496664 and parameters: {'n_clusters': 7, 'distance_metric': 'euclidean', 'random_state': 8}. Best is trial 828 with value: 0.4499459087431637.\n",
      "[I 2024-09-23 07:50:55,213] Trial 1215 finished with value: 0.12518949285752767 and parameters: {'n_clusters': 10, 'distance_metric': 'minkowski', 'random_state': 60}. Best is trial 828 with value: 0.4499459087431637.\n",
      "[I 2024-09-23 07:50:55,367] Trial 1216 finished with value: 0.1401909597311602 and parameters: {'n_clusters': 6, 'distance_metric': 'euclidean', 'random_state': 58}. Best is trial 828 with value: 0.4499459087431637.\n",
      "[I 2024-09-23 07:50:55,523] Trial 1217 finished with value: 0.3804770925826096 and parameters: {'n_clusters': 4, 'distance_metric': 'euclidean', 'random_state': 54}. Best is trial 828 with value: 0.4499459087431637.\n",
      "[I 2024-09-23 07:50:55,676] Trial 1218 finished with value: 0.26244068016989697 and parameters: {'n_clusters': 6, 'distance_metric': 'euclidean', 'random_state': 44}. Best is trial 828 with value: 0.4499459087431637.\n",
      "[I 2024-09-23 07:50:55,840] Trial 1219 finished with value: 0.21964679431404802 and parameters: {'n_clusters': 6, 'distance_metric': 'euclidean', 'random_state': 6}. Best is trial 828 with value: 0.4499459087431637.\n",
      "[I 2024-09-23 07:50:56,011] Trial 1220 finished with value: 0.14924214884415565 and parameters: {'n_clusters': 9, 'distance_metric': 'minkowski', 'random_state': 32}. Best is trial 828 with value: 0.4499459087431637.\n",
      "[I 2024-09-23 07:50:56,164] Trial 1221 finished with value: 0.10791127884010074 and parameters: {'n_clusters': 9, 'distance_metric': 'euclidean', 'random_state': 13}. Best is trial 828 with value: 0.4499459087431637.\n",
      "[I 2024-09-23 07:50:56,331] Trial 1222 finished with value: 0.22011469637058267 and parameters: {'n_clusters': 7, 'distance_metric': 'minkowski', 'random_state': 62}. Best is trial 828 with value: 0.4499459087431637.\n",
      "[I 2024-09-23 07:50:56,487] Trial 1223 finished with value: 0.29954082016952505 and parameters: {'n_clusters': 5, 'distance_metric': 'euclidean', 'random_state': 81}. Best is trial 828 with value: 0.4499459087431637.\n",
      "[I 2024-09-23 07:50:56,655] Trial 1224 finished with value: 0.15185609947927856 and parameters: {'n_clusters': 8, 'distance_metric': 'minkowski', 'random_state': 76}. Best is trial 828 with value: 0.4499459087431637.\n",
      "[I 2024-09-23 07:50:56,823] Trial 1225 finished with value: 0.09783290008032318 and parameters: {'n_clusters': 10, 'distance_metric': 'minkowski', 'random_state': 50}. Best is trial 828 with value: 0.4499459087431637.\n",
      "[I 2024-09-23 07:50:56,989] Trial 1226 finished with value: 0.299540820169525 and parameters: {'n_clusters': 5, 'distance_metric': 'minkowski', 'random_state': 81}. Best is trial 828 with value: 0.4499459087431637.\n",
      "[I 2024-09-23 07:50:57,146] Trial 1227 finished with value: 0.16439414345722822 and parameters: {'n_clusters': 7, 'distance_metric': 'euclidean', 'random_state': 1}. Best is trial 828 with value: 0.4499459087431637.\n",
      "[I 2024-09-23 07:50:57,305] Trial 1228 finished with value: 0.25750232563973713 and parameters: {'n_clusters': 7, 'distance_metric': 'euclidean', 'random_state': 69}. Best is trial 828 with value: 0.4499459087431637.\n",
      "[I 2024-09-23 07:50:57,467] Trial 1229 finished with value: 0.16260254075703204 and parameters: {'n_clusters': 8, 'distance_metric': 'euclidean', 'random_state': 5}. Best is trial 828 with value: 0.4499459087431637.\n",
      "[I 2024-09-23 07:50:57,626] Trial 1230 finished with value: 0.17538100185905522 and parameters: {'n_clusters': 8, 'distance_metric': 'euclidean', 'random_state': 35}. Best is trial 828 with value: 0.4499459087431637.\n",
      "[I 2024-09-23 07:50:57,797] Trial 1231 finished with value: 0.27463478990064993 and parameters: {'n_clusters': 5, 'distance_metric': 'minkowski', 'random_state': 17}. Best is trial 828 with value: 0.4499459087431637.\n",
      "[I 2024-09-23 07:50:57,966] Trial 1232 finished with value: 0.27536867172107715 and parameters: {'n_clusters': 4, 'distance_metric': 'minkowski', 'random_state': 4}. Best is trial 828 with value: 0.4499459087431637.\n",
      "[I 2024-09-23 07:50:58,138] Trial 1233 finished with value: 0.1536125642597164 and parameters: {'n_clusters': 7, 'distance_metric': 'minkowski', 'random_state': 83}. Best is trial 828 with value: 0.4499459087431637.\n",
      "[I 2024-09-23 07:50:58,296] Trial 1234 finished with value: 0.15660746520773047 and parameters: {'n_clusters': 8, 'distance_metric': 'euclidean', 'random_state': 51}. Best is trial 828 with value: 0.4499459087431637.\n",
      "[I 2024-09-23 07:50:58,473] Trial 1235 finished with value: 0.13339714012065473 and parameters: {'n_clusters': 9, 'distance_metric': 'minkowski', 'random_state': 26}. Best is trial 828 with value: 0.4499459087431637.\n",
      "[I 2024-09-23 07:50:58,644] Trial 1236 finished with value: 0.1392809211748455 and parameters: {'n_clusters': 8, 'distance_metric': 'minkowski', 'random_state': 7}. Best is trial 828 with value: 0.4499459087431637.\n",
      "[I 2024-09-23 07:50:58,814] Trial 1237 finished with value: 0.21228912444273682 and parameters: {'n_clusters': 6, 'distance_metric': 'minkowski', 'random_state': 31}. Best is trial 828 with value: 0.4499459087431637.\n",
      "[I 2024-09-23 07:50:58,985] Trial 1238 finished with value: 0.30841983906396253 and parameters: {'n_clusters': 4, 'distance_metric': 'minkowski', 'random_state': 46}. Best is trial 828 with value: 0.4499459087431637.\n",
      "[I 2024-09-23 07:50:59,140] Trial 1239 finished with value: 0.3345292811708493 and parameters: {'n_clusters': 4, 'distance_metric': 'euclidean', 'random_state': 64}. Best is trial 828 with value: 0.4499459087431637.\n",
      "[I 2024-09-23 07:50:59,297] Trial 1240 finished with value: 0.2067239261947892 and parameters: {'n_clusters': 6, 'distance_metric': 'euclidean', 'random_state': 37}. Best is trial 828 with value: 0.4499459087431637.\n",
      "[I 2024-09-23 07:50:59,454] Trial 1241 finished with value: 0.4460089237295571 and parameters: {'n_clusters': 3, 'distance_metric': 'euclidean', 'random_state': 60}. Best is trial 828 with value: 0.4499459087431637.\n",
      "[I 2024-09-23 07:50:59,632] Trial 1242 finished with value: 0.24248008468322155 and parameters: {'n_clusters': 6, 'distance_metric': 'minkowski', 'random_state': 19}. Best is trial 828 with value: 0.4499459087431637.\n",
      "[I 2024-09-23 07:50:59,802] Trial 1243 finished with value: 0.1247544963603354 and parameters: {'n_clusters': 9, 'distance_metric': 'minkowski', 'random_state': 95}. Best is trial 828 with value: 0.4499459087431637.\n",
      "[I 2024-09-23 07:50:59,972] Trial 1244 finished with value: 0.11276621370087551 and parameters: {'n_clusters': 10, 'distance_metric': 'minkowski', 'random_state': 44}. Best is trial 828 with value: 0.4499459087431637.\n",
      "[I 2024-09-23 07:51:00,131] Trial 1245 finished with value: 0.2089580433185003 and parameters: {'n_clusters': 7, 'distance_metric': 'euclidean', 'random_state': 50}. Best is trial 828 with value: 0.4499459087431637.\n",
      "[I 2024-09-23 07:51:00,300] Trial 1246 finished with value: 0.44347702319898546 and parameters: {'n_clusters': 3, 'distance_metric': 'minkowski', 'random_state': 56}. Best is trial 828 with value: 0.4499459087431637.\n",
      "[I 2024-09-23 07:51:00,471] Trial 1247 finished with value: 0.16169744335805802 and parameters: {'n_clusters': 7, 'distance_metric': 'minkowski', 'random_state': 59}. Best is trial 828 with value: 0.4499459087431637.\n",
      "[I 2024-09-23 07:51:00,645] Trial 1248 finished with value: 0.12170447036821863 and parameters: {'n_clusters': 9, 'distance_metric': 'minkowski', 'random_state': 37}. Best is trial 828 with value: 0.4499459087431637.\n",
      "[I 2024-09-23 07:51:00,839] Trial 1249 finished with value: 0.14516115228536738 and parameters: {'n_clusters': 9, 'distance_metric': 'minkowski', 'random_state': 28}. Best is trial 828 with value: 0.4499459087431637.\n",
      "[I 2024-09-23 07:51:01,000] Trial 1250 finished with value: 0.16746585991625804 and parameters: {'n_clusters': 7, 'distance_metric': 'euclidean', 'random_state': 38}. Best is trial 828 with value: 0.4499459087431637.\n",
      "[I 2024-09-23 07:51:01,159] Trial 1251 finished with value: 0.10933829089357743 and parameters: {'n_clusters': 10, 'distance_metric': 'euclidean', 'random_state': 87}. Best is trial 828 with value: 0.4499459087431637.\n",
      "[I 2024-09-23 07:51:01,332] Trial 1252 finished with value: 0.44811699788065806 and parameters: {'n_clusters': 3, 'distance_metric': 'minkowski', 'random_state': 74}. Best is trial 828 with value: 0.4499459087431637.\n",
      "[I 2024-09-23 07:51:01,506] Trial 1253 finished with value: 0.14037131230347347 and parameters: {'n_clusters': 9, 'distance_metric': 'minkowski', 'random_state': 76}. Best is trial 828 with value: 0.4499459087431637.\n",
      "[I 2024-09-23 07:51:01,679] Trial 1254 finished with value: 0.44347702319898546 and parameters: {'n_clusters': 3, 'distance_metric': 'minkowski', 'random_state': 20}. Best is trial 828 with value: 0.4499459087431637.\n",
      "[I 2024-09-23 07:51:01,851] Trial 1255 finished with value: 0.16393178228660676 and parameters: {'n_clusters': 7, 'distance_metric': 'minkowski', 'random_state': 44}. Best is trial 828 with value: 0.4499459087431637.\n",
      "[I 2024-09-23 07:51:02,025] Trial 1256 finished with value: 0.29362000576821345 and parameters: {'n_clusters': 5, 'distance_metric': 'minkowski', 'random_state': 7}. Best is trial 828 with value: 0.4499459087431637.\n",
      "[I 2024-09-23 07:51:02,181] Trial 1257 finished with value: 0.13250638598701286 and parameters: {'n_clusters': 8, 'distance_metric': 'euclidean', 'random_state': 87}. Best is trial 828 with value: 0.4499459087431637.\n",
      "[I 2024-09-23 07:51:02,361] Trial 1258 finished with value: 0.3946778205022724 and parameters: {'n_clusters': 4, 'distance_metric': 'minkowski', 'random_state': 42}. Best is trial 828 with value: 0.4499459087431637.\n",
      "[I 2024-09-23 07:51:02,521] Trial 1259 finished with value: 0.22628722952520752 and parameters: {'n_clusters': 6, 'distance_metric': 'euclidean', 'random_state': 49}. Best is trial 828 with value: 0.4499459087431637.\n",
      "[I 2024-09-23 07:51:02,692] Trial 1260 finished with value: 0.13196806746057213 and parameters: {'n_clusters': 8, 'distance_metric': 'minkowski', 'random_state': 18}. Best is trial 828 with value: 0.4499459087431637.\n",
      "[I 2024-09-23 07:51:02,865] Trial 1261 finished with value: 0.27328515612497833 and parameters: {'n_clusters': 5, 'distance_metric': 'minkowski', 'random_state': 29}. Best is trial 828 with value: 0.4499459087431637.\n",
      "[I 2024-09-23 07:51:03,040] Trial 1262 finished with value: 0.208715178596406 and parameters: {'n_clusters': 6, 'distance_metric': 'minkowski', 'random_state': 64}. Best is trial 828 with value: 0.4499459087431637.\n",
      "[I 2024-09-23 07:51:03,200] Trial 1263 finished with value: 0.15310822897014448 and parameters: {'n_clusters': 7, 'distance_metric': 'euclidean', 'random_state': 64}. Best is trial 828 with value: 0.4499459087431637.\n",
      "[I 2024-09-23 07:51:03,376] Trial 1264 finished with value: 0.16520218428165784 and parameters: {'n_clusters': 7, 'distance_metric': 'minkowski', 'random_state': 32}. Best is trial 828 with value: 0.4499459087431637.\n",
      "[I 2024-09-23 07:51:03,553] Trial 1265 finished with value: 0.2523032601537331 and parameters: {'n_clusters': 6, 'distance_metric': 'minkowski', 'random_state': 61}. Best is trial 828 with value: 0.4499459087431637.\n",
      "[I 2024-09-23 07:51:03,726] Trial 1266 finished with value: 0.1085699699459021 and parameters: {'n_clusters': 10, 'distance_metric': 'minkowski', 'random_state': 90}. Best is trial 828 with value: 0.4499459087431637.\n",
      "[I 2024-09-23 07:51:03,887] Trial 1267 finished with value: 0.1196835101834828 and parameters: {'n_clusters': 9, 'distance_metric': 'euclidean', 'random_state': 54}. Best is trial 828 with value: 0.4499459087431637.\n",
      "[I 2024-09-23 07:51:04,045] Trial 1268 finished with value: 0.11971667680403338 and parameters: {'n_clusters': 8, 'distance_metric': 'euclidean', 'random_state': 74}. Best is trial 828 with value: 0.4499459087431637.\n",
      "[I 2024-09-23 07:51:04,204] Trial 1269 finished with value: 0.1450751422978785 and parameters: {'n_clusters': 9, 'distance_metric': 'euclidean', 'random_state': 48}. Best is trial 828 with value: 0.4499459087431637.\n",
      "[I 2024-09-23 07:51:04,365] Trial 1270 finished with value: 0.14899006380444496 and parameters: {'n_clusters': 8, 'distance_metric': 'euclidean', 'random_state': 96}. Best is trial 828 with value: 0.4499459087431637.\n",
      "[I 2024-09-23 07:51:04,537] Trial 1271 finished with value: 0.44347702319898546 and parameters: {'n_clusters': 3, 'distance_metric': 'minkowski', 'random_state': 91}. Best is trial 828 with value: 0.4499459087431637.\n",
      "[I 2024-09-23 07:51:04,719] Trial 1272 finished with value: 0.1117722740032979 and parameters: {'n_clusters': 10, 'distance_metric': 'minkowski', 'random_state': 9}. Best is trial 828 with value: 0.4499459087431637.\n",
      "[I 2024-09-23 07:51:04,877] Trial 1273 finished with value: 0.23975321730456978 and parameters: {'n_clusters': 7, 'distance_metric': 'euclidean', 'random_state': 71}. Best is trial 828 with value: 0.4499459087431637.\n",
      "[I 2024-09-23 07:51:05,052] Trial 1274 finished with value: 0.44347702319898546 and parameters: {'n_clusters': 3, 'distance_metric': 'minkowski', 'random_state': 1}. Best is trial 828 with value: 0.4499459087431637.\n",
      "[I 2024-09-23 07:51:05,213] Trial 1275 finished with value: 0.32150033220987684 and parameters: {'n_clusters': 5, 'distance_metric': 'euclidean', 'random_state': 82}. Best is trial 828 with value: 0.4499459087431637.\n",
      "[I 2024-09-23 07:51:05,388] Trial 1276 finished with value: 0.38967931998710137 and parameters: {'n_clusters': 4, 'distance_metric': 'minkowski', 'random_state': 33}. Best is trial 828 with value: 0.4499459087431637.\n",
      "[I 2024-09-23 07:51:05,549] Trial 1277 finished with value: 0.07930658910259764 and parameters: {'n_clusters': 10, 'distance_metric': 'euclidean', 'random_state': 33}. Best is trial 828 with value: 0.4499459087431637.\n",
      "[I 2024-09-23 07:51:05,711] Trial 1278 finished with value: 0.1611978056286647 and parameters: {'n_clusters': 10, 'distance_metric': 'euclidean', 'random_state': 16}. Best is trial 828 with value: 0.4499459087431637.\n",
      "[I 2024-09-23 07:51:05,895] Trial 1279 finished with value: 0.44949191452737364 and parameters: {'n_clusters': 3, 'distance_metric': 'minkowski', 'random_state': 33}. Best is trial 828 with value: 0.4499459087431637.\n",
      "[I 2024-09-23 07:51:06,072] Trial 1280 finished with value: 0.33638816216855266 and parameters: {'n_clusters': 4, 'distance_metric': 'minkowski', 'random_state': 52}. Best is trial 828 with value: 0.4499459087431637.\n",
      "[I 2024-09-23 07:51:06,249] Trial 1281 finished with value: 0.22595547081741382 and parameters: {'n_clusters': 6, 'distance_metric': 'minkowski', 'random_state': 45}. Best is trial 828 with value: 0.4499459087431637.\n",
      "[I 2024-09-23 07:51:06,427] Trial 1282 finished with value: 0.32181616393514845 and parameters: {'n_clusters': 5, 'distance_metric': 'minkowski', 'random_state': 38}. Best is trial 828 with value: 0.4499459087431637.\n",
      "[I 2024-09-23 07:51:06,607] Trial 1283 finished with value: 0.18042087935425513 and parameters: {'n_clusters': 7, 'distance_metric': 'minkowski', 'random_state': 89}. Best is trial 828 with value: 0.4499459087431637.\n",
      "[I 2024-09-23 07:51:06,769] Trial 1284 finished with value: 0.17393426113406504 and parameters: {'n_clusters': 7, 'distance_metric': 'euclidean', 'random_state': 56}. Best is trial 828 with value: 0.4499459087431637.\n",
      "[I 2024-09-23 07:51:06,932] Trial 1285 finished with value: 0.11830523180627296 and parameters: {'n_clusters': 8, 'distance_metric': 'euclidean', 'random_state': 85}. Best is trial 828 with value: 0.4499459087431637.\n",
      "[I 2024-09-23 07:51:07,118] Trial 1286 finished with value: 0.3946111564265179 and parameters: {'n_clusters': 4, 'distance_metric': 'euclidean', 'random_state': 48}. Best is trial 828 with value: 0.4499459087431637.\n",
      "[I 2024-09-23 07:51:07,281] Trial 1287 finished with value: 0.38967931998710137 and parameters: {'n_clusters': 4, 'distance_metric': 'euclidean', 'random_state': 61}. Best is trial 828 with value: 0.4499459087431637.\n",
      "[I 2024-09-23 07:51:07,460] Trial 1288 finished with value: 0.2531442471672849 and parameters: {'n_clusters': 6, 'distance_metric': 'minkowski', 'random_state': 12}. Best is trial 828 with value: 0.4499459087431637.\n",
      "[I 2024-09-23 07:51:07,626] Trial 1289 finished with value: 0.14012651471138365 and parameters: {'n_clusters': 10, 'distance_metric': 'euclidean', 'random_state': 51}. Best is trial 828 with value: 0.4499459087431637.\n",
      "[I 2024-09-23 07:51:07,800] Trial 1290 finished with value: 0.2919436250327966 and parameters: {'n_clusters': 6, 'distance_metric': 'minkowski', 'random_state': 18}. Best is trial 828 with value: 0.4499459087431637.\n",
      "[I 2024-09-23 07:51:07,977] Trial 1291 finished with value: 0.4460089237295571 and parameters: {'n_clusters': 3, 'distance_metric': 'minkowski', 'random_state': 60}. Best is trial 828 with value: 0.4499459087431637.\n",
      "[I 2024-09-23 07:51:08,154] Trial 1292 finished with value: 0.3994298908543716 and parameters: {'n_clusters': 4, 'distance_metric': 'minkowski', 'random_state': 53}. Best is trial 828 with value: 0.4499459087431637.\n",
      "[I 2024-09-23 07:51:08,335] Trial 1293 finished with value: 0.17898971881382522 and parameters: {'n_clusters': 8, 'distance_metric': 'minkowski', 'random_state': 44}. Best is trial 828 with value: 0.4499459087431637.\n",
      "[I 2024-09-23 07:51:08,515] Trial 1294 finished with value: 0.28106249262334737 and parameters: {'n_clusters': 7, 'distance_metric': 'minkowski', 'random_state': 20}. Best is trial 828 with value: 0.4499459087431637.\n",
      "[I 2024-09-23 07:51:08,701] Trial 1295 finished with value: 0.21159219542106297 and parameters: {'n_clusters': 7, 'distance_metric': 'minkowski', 'random_state': 16}. Best is trial 828 with value: 0.4499459087431637.\n",
      "[I 2024-09-23 07:51:08,865] Trial 1296 finished with value: 0.13362895873024508 and parameters: {'n_clusters': 9, 'distance_metric': 'euclidean', 'random_state': 29}. Best is trial 828 with value: 0.4499459087431637.\n",
      "[I 2024-09-23 07:51:09,038] Trial 1297 finished with value: 0.11087387609052127 and parameters: {'n_clusters': 9, 'distance_metric': 'euclidean', 'random_state': 7}. Best is trial 828 with value: 0.4499459087431637.\n",
      "[I 2024-09-23 07:51:09,208] Trial 1298 finished with value: 0.39627770889555175 and parameters: {'n_clusters': 4, 'distance_metric': 'euclidean', 'random_state': 65}. Best is trial 828 with value: 0.4499459087431637.\n",
      "[I 2024-09-23 07:51:09,375] Trial 1299 finished with value: 0.39467782050227246 and parameters: {'n_clusters': 4, 'distance_metric': 'euclidean', 'random_state': 7}. Best is trial 828 with value: 0.4499459087431637.\n",
      "[I 2024-09-23 07:51:09,565] Trial 1300 finished with value: 0.2771272115931169 and parameters: {'n_clusters': 5, 'distance_metric': 'minkowski', 'random_state': 41}. Best is trial 828 with value: 0.4499459087431637.\n",
      "[I 2024-09-23 07:51:09,733] Trial 1301 finished with value: 0.11314265357902309 and parameters: {'n_clusters': 9, 'distance_metric': 'euclidean', 'random_state': 18}. Best is trial 828 with value: 0.4499459087431637.\n",
      "[I 2024-09-23 07:51:09,916] Trial 1302 finished with value: 0.1265200136546568 and parameters: {'n_clusters': 8, 'distance_metric': 'minkowski', 'random_state': 41}. Best is trial 828 with value: 0.4499459087431637.\n",
      "[I 2024-09-23 07:51:10,086] Trial 1303 finished with value: 0.2029944151227927 and parameters: {'n_clusters': 6, 'distance_metric': 'euclidean', 'random_state': 30}. Best is trial 828 with value: 0.4499459087431637.\n",
      "[I 2024-09-23 07:51:10,252] Trial 1304 finished with value: 0.2080747620359489 and parameters: {'n_clusters': 7, 'distance_metric': 'euclidean', 'random_state': 81}. Best is trial 828 with value: 0.4499459087431637.\n",
      "[I 2024-09-23 07:51:10,418] Trial 1305 finished with value: 0.20237091544109684 and parameters: {'n_clusters': 7, 'distance_metric': 'euclidean', 'random_state': 99}. Best is trial 828 with value: 0.4499459087431637.\n",
      "[I 2024-09-23 07:51:10,603] Trial 1306 finished with value: 0.12325603809494216 and parameters: {'n_clusters': 9, 'distance_metric': 'minkowski', 'random_state': 90}. Best is trial 828 with value: 0.4499459087431637.\n",
      "[I 2024-09-23 07:51:10,798] Trial 1307 finished with value: 0.13572400050982203 and parameters: {'n_clusters': 8, 'distance_metric': 'minkowski', 'random_state': 73}. Best is trial 828 with value: 0.4499459087431637.\n",
      "[I 2024-09-23 07:51:10,968] Trial 1308 finished with value: 0.44347702319898546 and parameters: {'n_clusters': 3, 'distance_metric': 'euclidean', 'random_state': 94}. Best is trial 828 with value: 0.4499459087431637.\n",
      "[I 2024-09-23 07:51:11,151] Trial 1309 finished with value: 0.44347702319898546 and parameters: {'n_clusters': 3, 'distance_metric': 'minkowski', 'random_state': 10}. Best is trial 828 with value: 0.4499459087431637.\n",
      "[I 2024-09-23 07:51:11,320] Trial 1310 finished with value: 0.15693777522872202 and parameters: {'n_clusters': 7, 'distance_metric': 'euclidean', 'random_state': 34}. Best is trial 828 with value: 0.4499459087431637.\n",
      "[I 2024-09-23 07:51:11,502] Trial 1311 finished with value: 0.24588406500126478 and parameters: {'n_clusters': 6, 'distance_metric': 'minkowski', 'random_state': 8}. Best is trial 828 with value: 0.4499459087431637.\n",
      "[I 2024-09-23 07:51:11,671] Trial 1312 finished with value: 0.4460089237295571 and parameters: {'n_clusters': 3, 'distance_metric': 'euclidean', 'random_state': 44}. Best is trial 828 with value: 0.4499459087431637.\n",
      "[I 2024-09-23 07:51:11,856] Trial 1313 finished with value: 0.44347702319898546 and parameters: {'n_clusters': 3, 'distance_metric': 'minkowski', 'random_state': 61}. Best is trial 828 with value: 0.4499459087431637.\n",
      "[I 2024-09-23 07:51:12,044] Trial 1314 finished with value: 0.14918870726706043 and parameters: {'n_clusters': 9, 'distance_metric': 'minkowski', 'random_state': 3}. Best is trial 828 with value: 0.4499459087431637.\n",
      "[I 2024-09-23 07:51:12,229] Trial 1315 finished with value: 0.33799887452176636 and parameters: {'n_clusters': 4, 'distance_metric': 'minkowski', 'random_state': 68}. Best is trial 828 with value: 0.4499459087431637.\n",
      "[I 2024-09-23 07:51:12,398] Trial 1316 finished with value: 0.10908780840841825 and parameters: {'n_clusters': 10, 'distance_metric': 'euclidean', 'random_state': 11}. Best is trial 828 with value: 0.4499459087431637.\n",
      "[I 2024-09-23 07:51:12,581] Trial 1317 finished with value: 0.1172156300131214 and parameters: {'n_clusters': 10, 'distance_metric': 'minkowski', 'random_state': 63}. Best is trial 828 with value: 0.4499459087431637.\n",
      "[I 2024-09-23 07:51:12,764] Trial 1318 finished with value: 0.14334188747658785 and parameters: {'n_clusters': 10, 'distance_metric': 'minkowski', 'random_state': 26}. Best is trial 828 with value: 0.4499459087431637.\n",
      "[I 2024-09-23 07:51:12,953] Trial 1319 finished with value: 0.11344594589806883 and parameters: {'n_clusters': 10, 'distance_metric': 'euclidean', 'random_state': 66}. Best is trial 828 with value: 0.4499459087431637.\n",
      "[I 2024-09-23 07:51:13,179] Trial 1320 finished with value: 0.4460089237295571 and parameters: {'n_clusters': 3, 'distance_metric': 'minkowski', 'random_state': 86}. Best is trial 828 with value: 0.4499459087431637.\n",
      "[I 2024-09-23 07:51:13,354] Trial 1321 finished with value: 0.1291560639659425 and parameters: {'n_clusters': 8, 'distance_metric': 'euclidean', 'random_state': 57}. Best is trial 828 with value: 0.4499459087431637.\n",
      "[I 2024-09-23 07:51:13,578] Trial 1322 finished with value: 0.14301327654795962 and parameters: {'n_clusters': 10, 'distance_metric': 'minkowski', 'random_state': 23}. Best is trial 828 with value: 0.4499459087431637.\n",
      "[I 2024-09-23 07:51:13,786] Trial 1323 finished with value: 0.4460089237295571 and parameters: {'n_clusters': 3, 'distance_metric': 'euclidean', 'random_state': 70}. Best is trial 828 with value: 0.4499459087431637.\n",
      "[I 2024-09-23 07:51:14,030] Trial 1324 finished with value: 0.17563073364616213 and parameters: {'n_clusters': 8, 'distance_metric': 'euclidean', 'random_state': 15}. Best is trial 828 with value: 0.4499459087431637.\n",
      "[I 2024-09-23 07:51:14,204] Trial 1325 finished with value: 0.13810809857566567 and parameters: {'n_clusters': 8, 'distance_metric': 'euclidean', 'random_state': 10}. Best is trial 828 with value: 0.4499459087431637.\n",
      "[I 2024-09-23 07:51:14,374] Trial 1326 finished with value: 0.20691510866400697 and parameters: {'n_clusters': 6, 'distance_metric': 'euclidean', 'random_state': 41}. Best is trial 828 with value: 0.4499459087431637.\n",
      "[I 2024-09-23 07:51:14,549] Trial 1327 finished with value: 0.2760436388693164 and parameters: {'n_clusters': 5, 'distance_metric': 'euclidean', 'random_state': 22}. Best is trial 828 with value: 0.4499459087431637.\n",
      "[I 2024-09-23 07:51:14,807] Trial 1328 finished with value: 0.15830924756790096 and parameters: {'n_clusters': 7, 'distance_metric': 'minkowski', 'random_state': 98}. Best is trial 828 with value: 0.4499459087431637.\n",
      "[I 2024-09-23 07:51:14,982] Trial 1329 finished with value: 0.39627770889555175 and parameters: {'n_clusters': 4, 'distance_metric': 'euclidean', 'random_state': 47}. Best is trial 828 with value: 0.4499459087431637.\n",
      "[I 2024-09-23 07:51:15,194] Trial 1330 finished with value: 0.12806679421864037 and parameters: {'n_clusters': 8, 'distance_metric': 'minkowski', 'random_state': 14}. Best is trial 828 with value: 0.4499459087431637.\n",
      "[I 2024-09-23 07:51:15,380] Trial 1331 finished with value: 0.27421246033259206 and parameters: {'n_clusters': 5, 'distance_metric': 'minkowski', 'random_state': 54}. Best is trial 828 with value: 0.4499459087431637.\n",
      "[I 2024-09-23 07:51:15,580] Trial 1332 finished with value: 0.20941585371469346 and parameters: {'n_clusters': 6, 'distance_metric': 'minkowski', 'random_state': 39}. Best is trial 828 with value: 0.4499459087431637.\n",
      "[I 2024-09-23 07:51:15,772] Trial 1333 finished with value: 0.44347702319898546 and parameters: {'n_clusters': 3, 'distance_metric': 'minkowski', 'random_state': 4}. Best is trial 828 with value: 0.4499459087431637.\n",
      "[I 2024-09-23 07:51:15,949] Trial 1334 finished with value: 0.19262543007765648 and parameters: {'n_clusters': 8, 'distance_metric': 'euclidean', 'random_state': 9}. Best is trial 828 with value: 0.4499459087431637.\n",
      "[I 2024-09-23 07:51:16,139] Trial 1335 finished with value: 0.10596125545289832 and parameters: {'n_clusters': 9, 'distance_metric': 'minkowski', 'random_state': 33}. Best is trial 828 with value: 0.4499459087431637.\n",
      "[I 2024-09-23 07:51:16,309] Trial 1336 finished with value: 0.37304166286595364 and parameters: {'n_clusters': 4, 'distance_metric': 'euclidean', 'random_state': 77}. Best is trial 828 with value: 0.4499459087431637.\n",
      "[I 2024-09-23 07:51:16,501] Trial 1337 finished with value: 0.44347702319898546 and parameters: {'n_clusters': 3, 'distance_metric': 'minkowski', 'random_state': 5}. Best is trial 828 with value: 0.4499459087431637.\n",
      "[I 2024-09-23 07:51:16,675] Trial 1338 finished with value: 0.3087043625625701 and parameters: {'n_clusters': 4, 'distance_metric': 'euclidean', 'random_state': 69}. Best is trial 828 with value: 0.4499459087431637.\n",
      "[I 2024-09-23 07:51:16,867] Trial 1339 finished with value: 0.17439582993860916 and parameters: {'n_clusters': 8, 'distance_metric': 'minkowski', 'random_state': 88}. Best is trial 828 with value: 0.4499459087431637.\n",
      "[I 2024-09-23 07:51:17,052] Trial 1340 finished with value: 0.09220988195444851 and parameters: {'n_clusters': 9, 'distance_metric': 'minkowski', 'random_state': 74}. Best is trial 828 with value: 0.4499459087431637.\n",
      "[I 2024-09-23 07:51:17,231] Trial 1341 finished with value: 0.39627770889555175 and parameters: {'n_clusters': 4, 'distance_metric': 'euclidean', 'random_state': 30}. Best is trial 828 with value: 0.4499459087431637.\n",
      "[I 2024-09-23 07:51:17,397] Trial 1342 finished with value: 0.374069056667849 and parameters: {'n_clusters': 4, 'distance_metric': 'euclidean', 'random_state': 90}. Best is trial 828 with value: 0.4499459087431637.\n",
      "[I 2024-09-23 07:51:17,567] Trial 1343 finished with value: 0.37527259235648913 and parameters: {'n_clusters': 4, 'distance_metric': 'euclidean', 'random_state': 37}. Best is trial 828 with value: 0.4499459087431637.\n",
      "[I 2024-09-23 07:51:17,762] Trial 1344 finished with value: 0.13871178065911818 and parameters: {'n_clusters': 9, 'distance_metric': 'minkowski', 'random_state': 59}. Best is trial 828 with value: 0.4499459087431637.\n",
      "[I 2024-09-23 07:51:17,955] Trial 1345 finished with value: 0.22423411921973996 and parameters: {'n_clusters': 7, 'distance_metric': 'minkowski', 'random_state': 79}. Best is trial 828 with value: 0.4499459087431637.\n",
      "[I 2024-09-23 07:51:18,150] Trial 1346 finished with value: 0.4460089237295571 and parameters: {'n_clusters': 3, 'distance_metric': 'minkowski', 'random_state': 95}. Best is trial 828 with value: 0.4499459087431637.\n",
      "[I 2024-09-23 07:51:18,324] Trial 1347 finished with value: 0.39467782050227246 and parameters: {'n_clusters': 4, 'distance_metric': 'euclidean', 'random_state': 98}. Best is trial 828 with value: 0.4499459087431637.\n",
      "[I 2024-09-23 07:51:18,497] Trial 1348 finished with value: 0.32740481706628816 and parameters: {'n_clusters': 5, 'distance_metric': 'euclidean', 'random_state': 91}. Best is trial 828 with value: 0.4499459087431637.\n",
      "[I 2024-09-23 07:51:18,668] Trial 1349 finished with value: 0.4460089237295571 and parameters: {'n_clusters': 3, 'distance_metric': 'euclidean', 'random_state': 37}. Best is trial 828 with value: 0.4499459087431637.\n",
      "[I 2024-09-23 07:51:18,839] Trial 1350 finished with value: 0.08979092938055615 and parameters: {'n_clusters': 10, 'distance_metric': 'euclidean', 'random_state': 68}. Best is trial 828 with value: 0.4499459087431637.\n",
      "[I 2024-09-23 07:51:19,010] Trial 1351 finished with value: 0.23696881456629976 and parameters: {'n_clusters': 5, 'distance_metric': 'euclidean', 'random_state': 33}. Best is trial 828 with value: 0.4499459087431637.\n",
      "[I 2024-09-23 07:51:19,182] Trial 1352 finished with value: 0.1397937133454474 and parameters: {'n_clusters': 9, 'distance_metric': 'euclidean', 'random_state': 46}. Best is trial 828 with value: 0.4499459087431637.\n",
      "[I 2024-09-23 07:51:19,358] Trial 1353 finished with value: 0.4460089237295571 and parameters: {'n_clusters': 3, 'distance_metric': 'euclidean', 'random_state': 34}. Best is trial 828 with value: 0.4499459087431637.\n",
      "[I 2024-09-23 07:51:19,541] Trial 1354 finished with value: 0.18951289512994526 and parameters: {'n_clusters': 6, 'distance_metric': 'minkowski', 'random_state': 13}. Best is trial 828 with value: 0.4499459087431637.\n",
      "[I 2024-09-23 07:51:19,726] Trial 1355 finished with value: 0.11956715822703277 and parameters: {'n_clusters': 10, 'distance_metric': 'minkowski', 'random_state': 47}. Best is trial 828 with value: 0.4499459087431637.\n",
      "[I 2024-09-23 07:51:19,909] Trial 1356 finished with value: 0.29864873818585086 and parameters: {'n_clusters': 5, 'distance_metric': 'minkowski', 'random_state': 69}. Best is trial 828 with value: 0.4499459087431637.\n",
      "[I 2024-09-23 07:51:20,110] Trial 1357 finished with value: 0.4460089237295571 and parameters: {'n_clusters': 3, 'distance_metric': 'minkowski', 'random_state': 66}. Best is trial 828 with value: 0.4499459087431637.\n",
      "[I 2024-09-23 07:51:20,281] Trial 1358 finished with value: 0.2643408396321933 and parameters: {'n_clusters': 6, 'distance_metric': 'euclidean', 'random_state': 42}. Best is trial 828 with value: 0.4499459087431637.\n",
      "[I 2024-09-23 07:51:20,473] Trial 1359 finished with value: 0.2828432987788977 and parameters: {'n_clusters': 5, 'distance_metric': 'minkowski', 'random_state': 86}. Best is trial 828 with value: 0.4499459087431637.\n",
      "[I 2024-09-23 07:51:20,643] Trial 1360 finished with value: 0.38967931998710137 and parameters: {'n_clusters': 4, 'distance_metric': 'euclidean', 'random_state': 100}. Best is trial 828 with value: 0.4499459087431637.\n",
      "[I 2024-09-23 07:51:20,812] Trial 1361 finished with value: 0.17612986885415227 and parameters: {'n_clusters': 7, 'distance_metric': 'euclidean', 'random_state': 30}. Best is trial 828 with value: 0.4499459087431637.\n",
      "[I 2024-09-23 07:51:20,996] Trial 1362 finished with value: 0.08510873190203976 and parameters: {'n_clusters': 10, 'distance_metric': 'minkowski', 'random_state': 77}. Best is trial 828 with value: 0.4499459087431637.\n",
      "[I 2024-09-23 07:51:21,178] Trial 1363 finished with value: 0.4460089237295571 and parameters: {'n_clusters': 3, 'distance_metric': 'minkowski', 'random_state': 77}. Best is trial 828 with value: 0.4499459087431637.\n",
      "[I 2024-09-23 07:51:21,351] Trial 1364 finished with value: 0.12400731673566665 and parameters: {'n_clusters': 10, 'distance_metric': 'euclidean', 'random_state': 31}. Best is trial 828 with value: 0.4499459087431637.\n",
      "[I 2024-09-23 07:51:21,534] Trial 1365 finished with value: 0.3946778205022724 and parameters: {'n_clusters': 4, 'distance_metric': 'minkowski', 'random_state': 20}. Best is trial 828 with value: 0.4499459087431637.\n",
      "[I 2024-09-23 07:51:21,713] Trial 1366 finished with value: 0.322601389490668 and parameters: {'n_clusters': 5, 'distance_metric': 'euclidean', 'random_state': 98}. Best is trial 828 with value: 0.4499459087431637.\n",
      "[I 2024-09-23 07:51:21,881] Trial 1367 finished with value: 0.44811699788065806 and parameters: {'n_clusters': 3, 'distance_metric': 'euclidean', 'random_state': 74}. Best is trial 828 with value: 0.4499459087431637.\n",
      "[I 2024-09-23 07:51:22,092] Trial 1368 finished with value: 0.4460089237295571 and parameters: {'n_clusters': 3, 'distance_metric': 'minkowski', 'random_state': 8}. Best is trial 828 with value: 0.4499459087431637.\n",
      "[I 2024-09-23 07:51:22,265] Trial 1369 finished with value: 0.14830886682375613 and parameters: {'n_clusters': 8, 'distance_metric': 'euclidean', 'random_state': 48}. Best is trial 828 with value: 0.4499459087431637.\n",
      "[I 2024-09-23 07:51:22,453] Trial 1370 finished with value: 0.3665959760351281 and parameters: {'n_clusters': 4, 'distance_metric': 'minkowski', 'random_state': 50}. Best is trial 828 with value: 0.4499459087431637.\n",
      "[I 2024-09-23 07:51:22,646] Trial 1371 finished with value: 0.20714401304086885 and parameters: {'n_clusters': 9, 'distance_metric': 'minkowski', 'random_state': 75}. Best is trial 828 with value: 0.4499459087431637.\n",
      "[I 2024-09-23 07:51:22,877] Trial 1372 finished with value: 0.1517520868936055 and parameters: {'n_clusters': 9, 'distance_metric': 'minkowski', 'random_state': 53}. Best is trial 828 with value: 0.4499459087431637.\n",
      "[I 2024-09-23 07:51:23,062] Trial 1373 finished with value: 0.17757537315818797 and parameters: {'n_clusters': 9, 'distance_metric': 'minkowski', 'random_state': 60}. Best is trial 828 with value: 0.4499459087431637.\n",
      "[I 2024-09-23 07:51:23,250] Trial 1374 finished with value: 0.4460089237295571 and parameters: {'n_clusters': 3, 'distance_metric': 'minkowski', 'random_state': 22}. Best is trial 828 with value: 0.4499459087431637.\n",
      "[I 2024-09-23 07:51:23,448] Trial 1375 finished with value: 0.09656753192344782 and parameters: {'n_clusters': 9, 'distance_metric': 'euclidean', 'random_state': 64}. Best is trial 828 with value: 0.4499459087431637.\n",
      "[I 2024-09-23 07:51:23,636] Trial 1376 finished with value: 0.1945215430222392 and parameters: {'n_clusters': 7, 'distance_metric': 'minkowski', 'random_state': 42}. Best is trial 828 with value: 0.4499459087431637.\n",
      "[I 2024-09-23 07:51:23,824] Trial 1377 finished with value: 0.08761931110295322 and parameters: {'n_clusters': 9, 'distance_metric': 'minkowski', 'random_state': 45}. Best is trial 828 with value: 0.4499459087431637.\n",
      "[I 2024-09-23 07:51:24,004] Trial 1378 finished with value: 0.13345695010086103 and parameters: {'n_clusters': 9, 'distance_metric': 'euclidean', 'random_state': 24}. Best is trial 828 with value: 0.4499459087431637.\n",
      "[I 2024-09-23 07:51:24,194] Trial 1379 finished with value: 0.22810230025987624 and parameters: {'n_clusters': 6, 'distance_metric': 'minkowski', 'random_state': 63}. Best is trial 828 with value: 0.4499459087431637.\n",
      "[I 2024-09-23 07:51:24,369] Trial 1380 finished with value: 0.281401586311313 and parameters: {'n_clusters': 5, 'distance_metric': 'euclidean', 'random_state': 13}. Best is trial 828 with value: 0.4499459087431637.\n",
      "[I 2024-09-23 07:51:24,554] Trial 1381 finished with value: 0.2876344859162763 and parameters: {'n_clusters': 5, 'distance_metric': 'minkowski', 'random_state': 36}. Best is trial 828 with value: 0.4499459087431637.\n",
      "[I 2024-09-23 07:51:24,739] Trial 1382 finished with value: 0.1043588149057197 and parameters: {'n_clusters': 9, 'distance_metric': 'minkowski', 'random_state': 58}. Best is trial 828 with value: 0.4499459087431637.\n",
      "[I 2024-09-23 07:51:24,925] Trial 1383 finished with value: 0.15563301883936145 and parameters: {'n_clusters': 9, 'distance_metric': 'minkowski', 'random_state': 87}. Best is trial 828 with value: 0.4499459087431637.\n",
      "[I 2024-09-23 07:51:25,096] Trial 1384 finished with value: 0.09639764895928177 and parameters: {'n_clusters': 10, 'distance_metric': 'euclidean', 'random_state': 28}. Best is trial 828 with value: 0.4499459087431637.\n",
      "[I 2024-09-23 07:51:25,274] Trial 1385 finished with value: 0.11146939230137445 and parameters: {'n_clusters': 10, 'distance_metric': 'euclidean', 'random_state': 2}. Best is trial 828 with value: 0.4499459087431637.\n",
      "[I 2024-09-23 07:51:25,462] Trial 1386 finished with value: 0.29178883176557063 and parameters: {'n_clusters': 5, 'distance_metric': 'minkowski', 'random_state': 23}. Best is trial 828 with value: 0.4499459087431637.\n",
      "[I 2024-09-23 07:51:25,652] Trial 1387 finished with value: 0.12400731673566665 and parameters: {'n_clusters': 10, 'distance_metric': 'minkowski', 'random_state': 31}. Best is trial 828 with value: 0.4499459087431637.\n",
      "[I 2024-09-23 07:51:25,826] Trial 1388 finished with value: 0.31184669477417526 and parameters: {'n_clusters': 5, 'distance_metric': 'euclidean', 'random_state': 35}. Best is trial 828 with value: 0.4499459087431637.\n",
      "[I 2024-09-23 07:51:26,015] Trial 1389 finished with value: 0.32260138949066797 and parameters: {'n_clusters': 5, 'distance_metric': 'minkowski', 'random_state': 8}. Best is trial 828 with value: 0.4499459087431637.\n",
      "[I 2024-09-23 07:51:26,217] Trial 1390 finished with value: 0.3345292811708493 and parameters: {'n_clusters': 4, 'distance_metric': 'minkowski', 'random_state': 79}. Best is trial 828 with value: 0.4499459087431637.\n",
      "[I 2024-09-23 07:51:26,389] Trial 1391 finished with value: 0.44347702319898546 and parameters: {'n_clusters': 3, 'distance_metric': 'euclidean', 'random_state': 68}. Best is trial 828 with value: 0.4499459087431637.\n",
      "[I 2024-09-23 07:51:26,569] Trial 1392 finished with value: 0.44994590874316365 and parameters: {'n_clusters': 3, 'distance_metric': 'euclidean', 'random_state': 25}. Best is trial 828 with value: 0.4499459087431637.\n",
      "[I 2024-09-23 07:51:26,764] Trial 1393 finished with value: 0.2746347899006498 and parameters: {'n_clusters': 5, 'distance_metric': 'euclidean', 'random_state': 17}. Best is trial 828 with value: 0.4499459087431637.\n",
      "[I 2024-09-23 07:51:26,951] Trial 1394 finished with value: 0.44811699788065806 and parameters: {'n_clusters': 3, 'distance_metric': 'minkowski', 'random_state': 13}. Best is trial 828 with value: 0.4499459087431637.\n",
      "[I 2024-09-23 07:51:27,127] Trial 1395 finished with value: 0.0661601775310206 and parameters: {'n_clusters': 10, 'distance_metric': 'euclidean', 'random_state': 36}. Best is trial 828 with value: 0.4499459087431637.\n",
      "[I 2024-09-23 07:51:27,317] Trial 1396 finished with value: 0.22476038881380828 and parameters: {'n_clusters': 6, 'distance_metric': 'minkowski', 'random_state': 54}. Best is trial 828 with value: 0.4499459087431637.\n",
      "[I 2024-09-23 07:51:27,504] Trial 1397 finished with value: 0.11971667680403354 and parameters: {'n_clusters': 8, 'distance_metric': 'minkowski', 'random_state': 74}. Best is trial 828 with value: 0.4499459087431637.\n",
      "[I 2024-09-23 07:51:27,687] Trial 1398 finished with value: 0.39343753481153565 and parameters: {'n_clusters': 4, 'distance_metric': 'euclidean', 'random_state': 12}. Best is trial 828 with value: 0.4499459087431637.\n",
      "[I 2024-09-23 07:51:27,863] Trial 1399 finished with value: 0.39467782050227246 and parameters: {'n_clusters': 4, 'distance_metric': 'euclidean', 'random_state': 67}. Best is trial 828 with value: 0.4499459087431637.\n",
      "[I 2024-09-23 07:51:28,051] Trial 1400 finished with value: 0.13773448156695772 and parameters: {'n_clusters': 10, 'distance_metric': 'minkowski', 'random_state': 29}. Best is trial 828 with value: 0.4499459087431637.\n",
      "[I 2024-09-23 07:51:28,225] Trial 1401 finished with value: 0.322601389490668 and parameters: {'n_clusters': 5, 'distance_metric': 'euclidean', 'random_state': 8}. Best is trial 828 with value: 0.4499459087431637.\n",
      "[I 2024-09-23 07:51:28,401] Trial 1402 finished with value: 0.3330280150681852 and parameters: {'n_clusters': 5, 'distance_metric': 'euclidean', 'random_state': 75}. Best is trial 828 with value: 0.4499459087431637.\n",
      "[I 2024-09-23 07:51:28,577] Trial 1403 finished with value: 0.44347702319898546 and parameters: {'n_clusters': 3, 'distance_metric': 'euclidean', 'random_state': 42}. Best is trial 828 with value: 0.4499459087431637.\n",
      "[I 2024-09-23 07:51:28,758] Trial 1404 finished with value: 0.1295858740595212 and parameters: {'n_clusters': 8, 'distance_metric': 'euclidean', 'random_state': 92}. Best is trial 828 with value: 0.4499459087431637.\n",
      "[I 2024-09-23 07:51:28,949] Trial 1405 finished with value: 0.1427837085736477 and parameters: {'n_clusters': 9, 'distance_metric': 'minkowski', 'random_state': 23}. Best is trial 828 with value: 0.4499459087431637.\n",
      "[I 2024-09-23 07:51:29,128] Trial 1406 finished with value: 0.16275735231405003 and parameters: {'n_clusters': 8, 'distance_metric': 'euclidean', 'random_state': 26}. Best is trial 828 with value: 0.4499459087431637.\n",
      "[I 2024-09-23 07:51:29,302] Trial 1407 finished with value: 0.30103374151219064 and parameters: {'n_clusters': 5, 'distance_metric': 'euclidean', 'random_state': 88}. Best is trial 828 with value: 0.4499459087431637.\n",
      "[I 2024-09-23 07:51:29,480] Trial 1408 finished with value: 0.17139101635543677 and parameters: {'n_clusters': 7, 'distance_metric': 'euclidean', 'random_state': 70}. Best is trial 828 with value: 0.4499459087431637.\n",
      "[I 2024-09-23 07:51:29,672] Trial 1409 finished with value: 0.15660746520773064 and parameters: {'n_clusters': 8, 'distance_metric': 'minkowski', 'random_state': 51}. Best is trial 828 with value: 0.4499459087431637.\n",
      "[I 2024-09-23 07:51:29,855] Trial 1410 finished with value: 0.28496034069941256 and parameters: {'n_clusters': 4, 'distance_metric': 'euclidean', 'random_state': 22}. Best is trial 828 with value: 0.4499459087431637.\n",
      "[I 2024-09-23 07:51:30,044] Trial 1411 finished with value: 0.10243626057465764 and parameters: {'n_clusters': 10, 'distance_metric': 'minkowski', 'random_state': 96}. Best is trial 828 with value: 0.4499459087431637.\n",
      "[I 2024-09-23 07:51:30,236] Trial 1412 finished with value: 0.1623574397320643 and parameters: {'n_clusters': 7, 'distance_metric': 'minkowski', 'random_state': 53}. Best is trial 828 with value: 0.4499459087431637.\n",
      "[I 2024-09-23 07:51:30,425] Trial 1413 finished with value: 0.3769201055565829 and parameters: {'n_clusters': 4, 'distance_metric': 'minkowski', 'random_state': 29}. Best is trial 828 with value: 0.4499459087431637.\n",
      "[I 2024-09-23 07:51:30,599] Trial 1414 finished with value: 0.09220988195444829 and parameters: {'n_clusters': 9, 'distance_metric': 'euclidean', 'random_state': 74}. Best is trial 828 with value: 0.4499459087431637.\n",
      "[I 2024-09-23 07:51:30,789] Trial 1415 finished with value: 0.2643408396321933 and parameters: {'n_clusters': 6, 'distance_metric': 'minkowski', 'random_state': 42}. Best is trial 828 with value: 0.4499459087431637.\n",
      "[I 2024-09-23 07:51:30,987] Trial 1416 finished with value: 0.4460089237295571 and parameters: {'n_clusters': 3, 'distance_metric': 'minkowski', 'random_state': 87}. Best is trial 828 with value: 0.4499459087431637.\n",
      "[I 2024-09-23 07:51:31,180] Trial 1417 finished with value: 0.3946778205022724 and parameters: {'n_clusters': 4, 'distance_metric': 'minkowski', 'random_state': 57}. Best is trial 828 with value: 0.4499459087431637.\n",
      "[I 2024-09-23 07:51:31,355] Trial 1418 finished with value: 0.4460089237295571 and parameters: {'n_clusters': 3, 'distance_metric': 'euclidean', 'random_state': 26}. Best is trial 828 with value: 0.4499459087431637.\n",
      "[I 2024-09-23 07:51:31,548] Trial 1419 finished with value: 0.2460219516459175 and parameters: {'n_clusters': 6, 'distance_metric': 'minkowski', 'random_state': 35}. Best is trial 828 with value: 0.4499459087431637.\n",
      "[I 2024-09-23 07:51:31,726] Trial 1420 finished with value: 0.36659597603512817 and parameters: {'n_clusters': 4, 'distance_metric': 'euclidean', 'random_state': 50}. Best is trial 828 with value: 0.4499459087431637.\n",
      "[I 2024-09-23 07:51:31,916] Trial 1421 finished with value: 0.38967931998710137 and parameters: {'n_clusters': 4, 'distance_metric': 'minkowski', 'random_state': 26}. Best is trial 828 with value: 0.4499459087431637.\n",
      "[I 2024-09-23 07:51:32,116] Trial 1422 finished with value: 0.2898108209446084 and parameters: {'n_clusters': 6, 'distance_metric': 'minkowski', 'random_state': 77}. Best is trial 828 with value: 0.4499459087431637.\n",
      "[I 2024-09-23 07:51:32,296] Trial 1423 finished with value: 0.13099971431137236 and parameters: {'n_clusters': 9, 'distance_metric': 'euclidean', 'random_state': 97}. Best is trial 828 with value: 0.4499459087431637.\n",
      "[I 2024-09-23 07:51:32,490] Trial 1424 finished with value: 0.4460089237295571 and parameters: {'n_clusters': 3, 'distance_metric': 'minkowski', 'random_state': 44}. Best is trial 828 with value: 0.4499459087431637.\n",
      "[I 2024-09-23 07:51:32,681] Trial 1425 finished with value: 0.44347702319898546 and parameters: {'n_clusters': 3, 'distance_metric': 'minkowski', 'random_state': 90}. Best is trial 828 with value: 0.4499459087431637.\n",
      "[I 2024-09-23 07:51:32,861] Trial 1426 finished with value: 0.1545231657969483 and parameters: {'n_clusters': 8, 'distance_metric': 'euclidean', 'random_state': 99}. Best is trial 828 with value: 0.4499459087431637.\n",
      "[I 2024-09-23 07:51:33,054] Trial 1427 finished with value: 0.3109465555551683 and parameters: {'n_clusters': 5, 'distance_metric': 'minkowski', 'random_state': 21}. Best is trial 828 with value: 0.4499459087431637.\n",
      "[I 2024-09-23 07:51:33,257] Trial 1428 finished with value: 0.3601520799416946 and parameters: {'n_clusters': 4, 'distance_metric': 'euclidean', 'random_state': 40}. Best is trial 828 with value: 0.4499459087431637.\n",
      "[I 2024-09-23 07:51:33,437] Trial 1429 finished with value: 0.09783290008032319 and parameters: {'n_clusters': 10, 'distance_metric': 'euclidean', 'random_state': 50}. Best is trial 828 with value: 0.4499459087431637.\n",
      "[I 2024-09-23 07:51:33,632] Trial 1430 finished with value: 0.1577952727175986 and parameters: {'n_clusters': 7, 'distance_metric': 'minkowski', 'random_state': 85}. Best is trial 828 with value: 0.4499459087431637.\n",
      "[I 2024-09-23 07:51:33,823] Trial 1431 finished with value: 0.32740481706628816 and parameters: {'n_clusters': 5, 'distance_metric': 'minkowski', 'random_state': 5}. Best is trial 828 with value: 0.4499459087431637.\n",
      "[I 2024-09-23 07:51:33,998] Trial 1432 finished with value: 0.28716786279477935 and parameters: {'n_clusters': 6, 'distance_metric': 'euclidean', 'random_state': 24}. Best is trial 828 with value: 0.4499459087431637.\n",
      "[I 2024-09-23 07:51:34,175] Trial 1433 finished with value: 0.39627770889555175 and parameters: {'n_clusters': 4, 'distance_metric': 'euclidean', 'random_state': 81}. Best is trial 828 with value: 0.4499459087431637.\n",
      "[I 2024-09-23 07:51:34,375] Trial 1434 finished with value: 0.17005954032896903 and parameters: {'n_clusters': 7, 'distance_metric': 'minkowski', 'random_state': 73}. Best is trial 828 with value: 0.4499459087431637.\n",
      "[I 2024-09-23 07:51:34,554] Trial 1435 finished with value: 0.18787451365585162 and parameters: {'n_clusters': 7, 'distance_metric': 'euclidean', 'random_state': 51}. Best is trial 828 with value: 0.4499459087431637.\n",
      "[I 2024-09-23 07:51:34,752] Trial 1436 finished with value: 0.10985767454420065 and parameters: {'n_clusters': 9, 'distance_metric': 'minkowski', 'random_state': 35}. Best is trial 828 with value: 0.4499459087431637.\n",
      "[I 2024-09-23 07:51:34,932] Trial 1437 finished with value: 0.11865652458026889 and parameters: {'n_clusters': 9, 'distance_metric': 'euclidean', 'random_state': 8}. Best is trial 828 with value: 0.4499459087431637.\n",
      "[I 2024-09-23 07:51:35,123] Trial 1438 finished with value: 0.2821874638844088 and parameters: {'n_clusters': 5, 'distance_metric': 'minkowski', 'random_state': 44}. Best is trial 828 with value: 0.4499459087431637.\n",
      "[I 2024-09-23 07:51:35,316] Trial 1439 finished with value: 0.1452075062755878 and parameters: {'n_clusters': 8, 'distance_metric': 'minkowski', 'random_state': 53}. Best is trial 828 with value: 0.4499459087431637.\n",
      "[I 2024-09-23 07:51:35,499] Trial 1440 finished with value: 0.2959517099502599 and parameters: {'n_clusters': 5, 'distance_metric': 'euclidean', 'random_state': 97}. Best is trial 828 with value: 0.4499459087431637.\n",
      "[I 2024-09-23 07:51:35,691] Trial 1441 finished with value: 0.1724161668099893 and parameters: {'n_clusters': 7, 'distance_metric': 'minkowski', 'random_state': 94}. Best is trial 828 with value: 0.4499459087431637.\n",
      "[I 2024-09-23 07:51:35,887] Trial 1442 finished with value: 0.18787451365585175 and parameters: {'n_clusters': 7, 'distance_metric': 'minkowski', 'random_state': 51}. Best is trial 828 with value: 0.4499459087431637.\n",
      "[I 2024-09-23 07:51:36,068] Trial 1443 finished with value: 0.4460089237295571 and parameters: {'n_clusters': 3, 'distance_metric': 'euclidean', 'random_state': 95}. Best is trial 828 with value: 0.4499459087431637.\n",
      "[I 2024-09-23 07:51:36,261] Trial 1444 finished with value: 0.1430012096804414 and parameters: {'n_clusters': 9, 'distance_metric': 'minkowski', 'random_state': 61}. Best is trial 828 with value: 0.4499459087431637.\n",
      "[I 2024-09-23 07:51:36,440] Trial 1445 finished with value: 0.14965536658099124 and parameters: {'n_clusters': 9, 'distance_metric': 'euclidean', 'random_state': 38}. Best is trial 828 with value: 0.4499459087431637.\n",
      "[I 2024-09-23 07:51:36,640] Trial 1446 finished with value: 0.1626025407570322 and parameters: {'n_clusters': 8, 'distance_metric': 'minkowski', 'random_state': 5}. Best is trial 828 with value: 0.4499459087431637.\n",
      "[I 2024-09-23 07:51:36,818] Trial 1447 finished with value: 0.1975761533064343 and parameters: {'n_clusters': 5, 'distance_metric': 'euclidean', 'random_state': 87}. Best is trial 828 with value: 0.4499459087431637.\n",
      "[I 2024-09-23 07:51:36,996] Trial 1448 finished with value: 0.18042087935425524 and parameters: {'n_clusters': 7, 'distance_metric': 'euclidean', 'random_state': 89}. Best is trial 828 with value: 0.4499459087431637.\n",
      "[I 2024-09-23 07:51:37,182] Trial 1449 finished with value: 0.1524283357170595 and parameters: {'n_clusters': 7, 'distance_metric': 'euclidean', 'random_state': 45}. Best is trial 828 with value: 0.4499459087431637.\n",
      "[I 2024-09-23 07:51:37,380] Trial 1450 finished with value: 0.18007881063566136 and parameters: {'n_clusters': 7, 'distance_metric': 'minkowski', 'random_state': 9}. Best is trial 828 with value: 0.4499459087431637.\n",
      "[I 2024-09-23 07:51:37,578] Trial 1451 finished with value: 0.148990063804445 and parameters: {'n_clusters': 8, 'distance_metric': 'minkowski', 'random_state': 96}. Best is trial 828 with value: 0.4499459087431637.\n",
      "[I 2024-09-23 07:51:37,776] Trial 1452 finished with value: 0.2584965682623637 and parameters: {'n_clusters': 6, 'distance_metric': 'minkowski', 'random_state': 99}. Best is trial 828 with value: 0.4499459087431637.\n",
      "[I 2024-09-23 07:51:37,958] Trial 1453 finished with value: 0.29362000576821357 and parameters: {'n_clusters': 5, 'distance_metric': 'euclidean', 'random_state': 76}. Best is trial 828 with value: 0.4499459087431637.\n",
      "[I 2024-09-23 07:51:38,155] Trial 1454 finished with value: 0.44347702319898546 and parameters: {'n_clusters': 3, 'distance_metric': 'minkowski', 'random_state': 7}. Best is trial 828 with value: 0.4499459087431637.\n",
      "[I 2024-09-23 07:51:38,350] Trial 1455 finished with value: 0.217175733128344 and parameters: {'n_clusters': 6, 'distance_metric': 'minkowski', 'random_state': 53}. Best is trial 828 with value: 0.4499459087431637.\n",
      "[I 2024-09-23 07:51:38,547] Trial 1456 finished with value: 0.21106424091932915 and parameters: {'n_clusters': 7, 'distance_metric': 'minkowski', 'random_state': 7}. Best is trial 828 with value: 0.4499459087431637.\n",
      "[I 2024-09-23 07:51:38,731] Trial 1457 finished with value: 0.44949191452737364 and parameters: {'n_clusters': 3, 'distance_metric': 'euclidean', 'random_state': 33}. Best is trial 828 with value: 0.4499459087431637.\n",
      "[I 2024-09-23 07:51:38,941] Trial 1458 finished with value: 0.26364687650870894 and parameters: {'n_clusters': 6, 'distance_metric': 'minkowski', 'random_state': 5}. Best is trial 828 with value: 0.4499459087431637.\n",
      "[I 2024-09-23 07:51:39,129] Trial 1459 finished with value: 0.2458840650012648 and parameters: {'n_clusters': 6, 'distance_metric': 'euclidean', 'random_state': 8}. Best is trial 828 with value: 0.4499459087431637.\n",
      "[I 2024-09-23 07:51:39,311] Trial 1460 finished with value: 0.15320203229109475 and parameters: {'n_clusters': 10, 'distance_metric': 'euclidean', 'random_state': 71}. Best is trial 828 with value: 0.4499459087431637.\n",
      "[I 2024-09-23 07:51:39,494] Trial 1461 finished with value: 0.44347702319898546 and parameters: {'n_clusters': 3, 'distance_metric': 'euclidean', 'random_state': 12}. Best is trial 828 with value: 0.4499459087431637.\n",
      "[I 2024-09-23 07:51:39,691] Trial 1462 finished with value: 0.44347702319898546 and parameters: {'n_clusters': 3, 'distance_metric': 'minkowski', 'random_state': 73}. Best is trial 828 with value: 0.4499459087431637.\n",
      "[I 2024-09-23 07:51:39,886] Trial 1463 finished with value: 0.32519497558581967 and parameters: {'n_clusters': 5, 'distance_metric': 'minkowski', 'random_state': 68}. Best is trial 828 with value: 0.4499459087431637.\n",
      "[I 2024-09-23 07:51:40,067] Trial 1464 finished with value: 0.4460089237295571 and parameters: {'n_clusters': 3, 'distance_metric': 'euclidean', 'random_state': 87}. Best is trial 828 with value: 0.4499459087431637.\n",
      "[I 2024-09-23 07:51:40,258] Trial 1465 finished with value: 0.09996096445229186 and parameters: {'n_clusters': 10, 'distance_metric': 'euclidean', 'random_state': 79}. Best is trial 828 with value: 0.4499459087431637.\n",
      "[I 2024-09-23 07:51:40,457] Trial 1466 finished with value: 0.29362000576821345 and parameters: {'n_clusters': 5, 'distance_metric': 'minkowski', 'random_state': 61}. Best is trial 828 with value: 0.4499459087431637.\n",
      "[I 2024-09-23 07:51:40,657] Trial 1467 finished with value: 0.11060698239053708 and parameters: {'n_clusters': 10, 'distance_metric': 'minkowski', 'random_state': 86}. Best is trial 828 with value: 0.4499459087431637.\n",
      "[I 2024-09-23 07:51:40,855] Trial 1468 finished with value: 0.33511313925054576 and parameters: {'n_clusters': 5, 'distance_metric': 'minkowski', 'random_state': 83}. Best is trial 828 with value: 0.4499459087431637.\n",
      "[I 2024-09-23 07:51:41,055] Trial 1469 finished with value: 0.31247835099177346 and parameters: {'n_clusters': 5, 'distance_metric': 'minkowski', 'random_state': 66}. Best is trial 828 with value: 0.4499459087431637.\n",
      "[I 2024-09-23 07:51:41,235] Trial 1470 finished with value: 0.13442825835625502 and parameters: {'n_clusters': 10, 'distance_metric': 'euclidean', 'random_state': 83}. Best is trial 828 with value: 0.4499459087431637.\n",
      "[I 2024-09-23 07:51:41,460] Trial 1471 finished with value: 0.1150287046784497 and parameters: {'n_clusters': 9, 'distance_metric': 'minkowski', 'random_state': 36}. Best is trial 828 with value: 0.4499459087431637.\n",
      "[I 2024-09-23 07:51:41,644] Trial 1472 finished with value: 0.17984306975065542 and parameters: {'n_clusters': 8, 'distance_metric': 'euclidean', 'random_state': 63}. Best is trial 828 with value: 0.4499459087431637.\n",
      "[I 2024-09-23 07:51:41,831] Trial 1473 finished with value: 0.2936638084811392 and parameters: {'n_clusters': 5, 'distance_metric': 'euclidean', 'random_state': 10}. Best is trial 828 with value: 0.4499459087431637.\n",
      "[I 2024-09-23 07:51:42,049] Trial 1474 finished with value: 0.221794556310579 and parameters: {'n_clusters': 6, 'distance_metric': 'minkowski', 'random_state': 73}. Best is trial 828 with value: 0.4499459087431637.\n",
      "[I 2024-09-23 07:51:42,231] Trial 1475 finished with value: 0.09800209872223974 and parameters: {'n_clusters': 10, 'distance_metric': 'euclidean', 'random_state': 40}. Best is trial 828 with value: 0.4499459087431637.\n",
      "[I 2024-09-23 07:51:42,413] Trial 1476 finished with value: 0.16285254105986194 and parameters: {'n_clusters': 8, 'distance_metric': 'euclidean', 'random_state': 95}. Best is trial 828 with value: 0.4499459087431637.\n",
      "[I 2024-09-23 07:51:42,600] Trial 1477 finished with value: 0.39467782050227246 and parameters: {'n_clusters': 4, 'distance_metric': 'euclidean', 'random_state': 24}. Best is trial 828 with value: 0.4499459087431637.\n",
      "[I 2024-09-23 07:51:42,786] Trial 1478 finished with value: 0.1010119066369686 and parameters: {'n_clusters': 10, 'distance_metric': 'euclidean', 'random_state': 35}. Best is trial 828 with value: 0.4499459087431637.\n",
      "[I 2024-09-23 07:51:42,986] Trial 1479 finished with value: 0.3742156351316823 and parameters: {'n_clusters': 4, 'distance_metric': 'minkowski', 'random_state': 32}. Best is trial 828 with value: 0.4499459087431637.\n",
      "[I 2024-09-23 07:51:43,173] Trial 1480 finished with value: 0.4460089237295571 and parameters: {'n_clusters': 3, 'distance_metric': 'euclidean', 'random_state': 99}. Best is trial 828 with value: 0.4499459087431637.\n",
      "[I 2024-09-23 07:51:43,360] Trial 1481 finished with value: 0.21429477234052124 and parameters: {'n_clusters': 6, 'distance_metric': 'euclidean', 'random_state': 78}. Best is trial 828 with value: 0.4499459087431637.\n",
      "[I 2024-09-23 07:51:43,546] Trial 1482 finished with value: 0.2960649018575783 and parameters: {'n_clusters': 4, 'distance_metric': 'euclidean', 'random_state': 31}. Best is trial 828 with value: 0.4499459087431637.\n",
      "[I 2024-09-23 07:51:43,739] Trial 1483 finished with value: 0.44347702319898546 and parameters: {'n_clusters': 3, 'distance_metric': 'euclidean', 'random_state': 24}. Best is trial 828 with value: 0.4499459087431637.\n",
      "[I 2024-09-23 07:51:43,941] Trial 1484 finished with value: 0.11865652458026908 and parameters: {'n_clusters': 9, 'distance_metric': 'minkowski', 'random_state': 8}. Best is trial 828 with value: 0.4499459087431637.\n",
      "[I 2024-09-23 07:51:44,142] Trial 1485 finished with value: 0.11671386655081424 and parameters: {'n_clusters': 10, 'distance_metric': 'minkowski', 'random_state': 8}. Best is trial 828 with value: 0.4499459087431637.\n",
      "[I 2024-09-23 07:51:44,326] Trial 1486 finished with value: 0.16495749649898062 and parameters: {'n_clusters': 8, 'distance_metric': 'euclidean', 'random_state': 56}. Best is trial 828 with value: 0.4499459087431637.\n",
      "[I 2024-09-23 07:51:44,514] Trial 1487 finished with value: 0.3163312730966507 and parameters: {'n_clusters': 6, 'distance_metric': 'euclidean', 'random_state': 71}. Best is trial 828 with value: 0.4499459087431637.\n",
      "[I 2024-09-23 07:51:44,701] Trial 1488 finished with value: 0.24331184045001716 and parameters: {'n_clusters': 6, 'distance_metric': 'euclidean', 'random_state': 84}. Best is trial 828 with value: 0.4499459087431637.\n",
      "[I 2024-09-23 07:51:44,890] Trial 1489 finished with value: 0.3145680250883879 and parameters: {'n_clusters': 5, 'distance_metric': 'euclidean', 'random_state': 2}. Best is trial 828 with value: 0.4499459087431637.\n",
      "[I 2024-09-23 07:51:45,090] Trial 1490 finished with value: 0.3946778205022724 and parameters: {'n_clusters': 4, 'distance_metric': 'minkowski', 'random_state': 18}. Best is trial 828 with value: 0.4499459087431637.\n",
      "[I 2024-09-23 07:51:45,276] Trial 1491 finished with value: 0.24060441812049993 and parameters: {'n_clusters': 6, 'distance_metric': 'euclidean', 'random_state': 69}. Best is trial 828 with value: 0.4499459087431637.\n",
      "[I 2024-09-23 07:51:45,479] Trial 1492 finished with value: 0.38967931998710137 and parameters: {'n_clusters': 4, 'distance_metric': 'minkowski', 'random_state': 74}. Best is trial 828 with value: 0.4499459087431637.\n",
      "[I 2024-09-23 07:51:45,667] Trial 1493 finished with value: 0.2507996369144551 and parameters: {'n_clusters': 6, 'distance_metric': 'euclidean', 'random_state': 88}. Best is trial 828 with value: 0.4499459087431637.\n",
      "[I 2024-09-23 07:51:45,875] Trial 1494 finished with value: 0.4460089237295571 and parameters: {'n_clusters': 3, 'distance_metric': 'minkowski', 'random_state': 17}. Best is trial 828 with value: 0.4499459087431637.\n",
      "[I 2024-09-23 07:51:46,085] Trial 1495 finished with value: 0.14565188263894444 and parameters: {'n_clusters': 8, 'distance_metric': 'minkowski', 'random_state': 17}. Best is trial 828 with value: 0.4499459087431637.\n",
      "[I 2024-09-23 07:51:46,272] Trial 1496 finished with value: 0.30627575886236513 and parameters: {'n_clusters': 5, 'distance_metric': 'euclidean', 'random_state': 57}. Best is trial 828 with value: 0.4499459087431637.\n",
      "[I 2024-09-23 07:51:46,471] Trial 1497 finished with value: 0.16974302032594613 and parameters: {'n_clusters': 7, 'distance_metric': 'minkowski', 'random_state': 22}. Best is trial 828 with value: 0.4499459087431637.\n",
      "[I 2024-09-23 07:51:46,669] Trial 1498 finished with value: 0.26999892773617085 and parameters: {'n_clusters': 6, 'distance_metric': 'minkowski', 'random_state': 20}. Best is trial 828 with value: 0.4499459087431637.\n",
      "[I 2024-09-23 07:51:46,872] Trial 1499 finished with value: 0.1264040069735331 and parameters: {'n_clusters': 9, 'distance_metric': 'minkowski', 'random_state': 73}. Best is trial 828 with value: 0.4499459087431637.\n",
      "[I 2024-09-23 07:51:47,059] Trial 1500 finished with value: 0.2786510736783315 and parameters: {'n_clusters': 4, 'distance_metric': 'euclidean', 'random_state': 70}. Best is trial 828 with value: 0.4499459087431637.\n",
      "[I 2024-09-23 07:51:47,268] Trial 1501 finished with value: 0.13486054211840418 and parameters: {'n_clusters': 8, 'distance_metric': 'minkowski', 'random_state': 30}. Best is trial 828 with value: 0.4499459087431637.\n",
      "[I 2024-09-23 07:51:47,453] Trial 1502 finished with value: 0.170364089365518 and parameters: {'n_clusters': 8, 'distance_metric': 'euclidean', 'random_state': 61}. Best is trial 828 with value: 0.4499459087431637.\n",
      "[I 2024-09-23 07:51:47,641] Trial 1503 finished with value: 0.2457856643199951 and parameters: {'n_clusters': 6, 'distance_metric': 'euclidean', 'random_state': 74}. Best is trial 828 with value: 0.4499459087431637.\n",
      "[I 2024-09-23 07:51:47,844] Trial 1504 finished with value: 0.3679755637656554 and parameters: {'n_clusters': 4, 'distance_metric': 'minkowski', 'random_state': 10}. Best is trial 828 with value: 0.4499459087431637.\n",
      "[I 2024-09-23 07:51:48,034] Trial 1505 finished with value: 0.09398856697664112 and parameters: {'n_clusters': 10, 'distance_metric': 'euclidean', 'random_state': 20}. Best is trial 828 with value: 0.4499459087431637.\n",
      "[I 2024-09-23 07:51:48,224] Trial 1506 finished with value: 0.08497658611254227 and parameters: {'n_clusters': 10, 'distance_metric': 'euclidean', 'random_state': 92}. Best is trial 828 with value: 0.4499459087431637.\n",
      "[I 2024-09-23 07:51:48,426] Trial 1507 finished with value: 0.3598640698786998 and parameters: {'n_clusters': 4, 'distance_metric': 'minkowski', 'random_state': 55}. Best is trial 828 with value: 0.4499459087431637.\n",
      "[I 2024-09-23 07:51:48,655] Trial 1508 finished with value: 0.1492065321984628 and parameters: {'n_clusters': 7, 'distance_metric': 'minkowski', 'random_state': 52}. Best is trial 828 with value: 0.4499459087431637.\n",
      "[I 2024-09-23 07:51:48,860] Trial 1509 finished with value: 0.22623455665068912 and parameters: {'n_clusters': 6, 'distance_metric': 'minkowski', 'random_state': 68}. Best is trial 828 with value: 0.4499459087431637.\n",
      "[I 2024-09-23 07:51:49,063] Trial 1510 finished with value: 0.17673879329022127 and parameters: {'n_clusters': 7, 'distance_metric': 'minkowski', 'random_state': 5}. Best is trial 828 with value: 0.4499459087431637.\n",
      "[I 2024-09-23 07:51:49,266] Trial 1511 finished with value: 0.44347702319898546 and parameters: {'n_clusters': 3, 'distance_metric': 'minkowski', 'random_state': 69}. Best is trial 828 with value: 0.4499459087431637.\n",
      "[I 2024-09-23 07:51:49,466] Trial 1512 finished with value: 0.37399563422972437 and parameters: {'n_clusters': 4, 'distance_metric': 'minkowski', 'random_state': 73}. Best is trial 828 with value: 0.4499459087431637.\n",
      "[I 2024-09-23 07:51:49,667] Trial 1513 finished with value: 0.22397043853666282 and parameters: {'n_clusters': 6, 'distance_metric': 'minkowski', 'random_state': 56}. Best is trial 828 with value: 0.4499459087431637.\n",
      "[I 2024-09-23 07:51:49,878] Trial 1514 finished with value: 0.10968751125864026 and parameters: {'n_clusters': 10, 'distance_metric': 'minkowski', 'random_state': 59}. Best is trial 828 with value: 0.4499459087431637.\n",
      "[I 2024-09-23 07:51:50,089] Trial 1515 finished with value: 0.2738583151607125 and parameters: {'n_clusters': 5, 'distance_metric': 'minkowski', 'random_state': 72}. Best is trial 828 with value: 0.4499459087431637.\n",
      "[I 2024-09-23 07:51:50,295] Trial 1516 finished with value: 0.3962777088955517 and parameters: {'n_clusters': 4, 'distance_metric': 'minkowski', 'random_state': 65}. Best is trial 828 with value: 0.4499459087431637.\n",
      "[I 2024-09-23 07:51:50,486] Trial 1517 finished with value: 0.09886747541988608 and parameters: {'n_clusters': 10, 'distance_metric': 'euclidean', 'random_state': 75}. Best is trial 828 with value: 0.4499459087431637.\n",
      "[I 2024-09-23 07:51:50,678] Trial 1518 finished with value: 0.2158192422695587 and parameters: {'n_clusters': 6, 'distance_metric': 'euclidean', 'random_state': 25}. Best is trial 828 with value: 0.4499459087431637.\n",
      "[I 2024-09-23 07:51:50,874] Trial 1519 finished with value: 0.27217426857350113 and parameters: {'n_clusters': 5, 'distance_metric': 'euclidean', 'random_state': 4}. Best is trial 828 with value: 0.4499459087431637.\n",
      "[I 2024-09-23 07:51:51,077] Trial 1520 finished with value: 0.4460089237295571 and parameters: {'n_clusters': 3, 'distance_metric': 'euclidean', 'random_state': 85}. Best is trial 828 with value: 0.4499459087431637.\n",
      "[I 2024-09-23 07:51:51,270] Trial 1521 finished with value: 0.15164823825124757 and parameters: {'n_clusters': 9, 'distance_metric': 'euclidean', 'random_state': 34}. Best is trial 828 with value: 0.4499459087431637.\n",
      "[I 2024-09-23 07:51:51,476] Trial 1522 finished with value: 0.3946778205022724 and parameters: {'n_clusters': 4, 'distance_metric': 'minkowski', 'random_state': 9}. Best is trial 828 with value: 0.4499459087431637.\n",
      "[I 2024-09-23 07:51:51,668] Trial 1523 finished with value: 0.11715836603990852 and parameters: {'n_clusters': 9, 'distance_metric': 'euclidean', 'random_state': 12}. Best is trial 828 with value: 0.4499459087431637.\n",
      "[I 2024-09-23 07:51:51,855] Trial 1524 finished with value: 0.2584965682623639 and parameters: {'n_clusters': 6, 'distance_metric': 'euclidean', 'random_state': 99}. Best is trial 828 with value: 0.4499459087431637.\n",
      "[I 2024-09-23 07:51:52,045] Trial 1525 finished with value: 0.44347702319898546 and parameters: {'n_clusters': 3, 'distance_metric': 'euclidean', 'random_state': 92}. Best is trial 828 with value: 0.4499459087431637.\n",
      "[I 2024-09-23 07:51:52,257] Trial 1526 finished with value: 0.2488292572657456 and parameters: {'n_clusters': 6, 'distance_metric': 'minkowski', 'random_state': 7}. Best is trial 828 with value: 0.4499459087431637.\n",
      "[I 2024-09-23 07:51:52,450] Trial 1527 finished with value: 0.1648216250142755 and parameters: {'n_clusters': 7, 'distance_metric': 'euclidean', 'random_state': 31}. Best is trial 828 with value: 0.4499459087431637.\n",
      "[I 2024-09-23 07:51:52,646] Trial 1528 finished with value: 0.14030056911733657 and parameters: {'n_clusters': 10, 'distance_metric': 'euclidean', 'random_state': 80}. Best is trial 828 with value: 0.4499459087431637.\n",
      "[I 2024-09-23 07:51:52,852] Trial 1529 finished with value: 0.2624406801698969 and parameters: {'n_clusters': 6, 'distance_metric': 'minkowski', 'random_state': 44}. Best is trial 828 with value: 0.4499459087431637.\n",
      "[I 2024-09-23 07:51:53,040] Trial 1530 finished with value: 0.29458606293902234 and parameters: {'n_clusters': 5, 'distance_metric': 'euclidean', 'random_state': 92}. Best is trial 828 with value: 0.4499459087431637.\n",
      "[I 2024-09-23 07:51:53,231] Trial 1531 finished with value: 0.4460089237295571 and parameters: {'n_clusters': 3, 'distance_metric': 'euclidean', 'random_state': 58}. Best is trial 828 with value: 0.4499459087431637.\n",
      "[I 2024-09-23 07:51:53,455] Trial 1532 finished with value: 0.15947324896995124 and parameters: {'n_clusters': 8, 'distance_metric': 'minkowski', 'random_state': 46}. Best is trial 828 with value: 0.4499459087431637.\n",
      "[I 2024-09-23 07:51:53,649] Trial 1533 finished with value: 0.18215737855168515 and parameters: {'n_clusters': 5, 'distance_metric': 'euclidean', 'random_state': 58}. Best is trial 828 with value: 0.4499459087431637.\n",
      "[I 2024-09-23 07:51:53,856] Trial 1534 finished with value: 0.4401575001479684 and parameters: {'n_clusters': 3, 'distance_metric': 'minkowski', 'random_state': 89}. Best is trial 828 with value: 0.4499459087431637.\n",
      "[I 2024-09-23 07:51:54,063] Trial 1535 finished with value: 0.08791438038389822 and parameters: {'n_clusters': 10, 'distance_metric': 'minkowski', 'random_state': 57}. Best is trial 828 with value: 0.4499459087431637.\n",
      "[I 2024-09-23 07:51:54,270] Trial 1536 finished with value: 0.12620608436188668 and parameters: {'n_clusters': 9, 'distance_metric': 'minkowski', 'random_state': 67}. Best is trial 828 with value: 0.4499459087431637.\n",
      "[I 2024-09-23 07:51:54,473] Trial 1537 finished with value: 0.3575454271618056 and parameters: {'n_clusters': 5, 'distance_metric': 'minkowski', 'random_state': 67}. Best is trial 828 with value: 0.4499459087431637.\n",
      "[I 2024-09-23 07:51:54,665] Trial 1538 finished with value: 0.21067498867035153 and parameters: {'n_clusters': 6, 'distance_metric': 'euclidean', 'random_state': 89}. Best is trial 828 with value: 0.4499459087431637.\n",
      "[I 2024-09-23 07:51:54,879] Trial 1539 finished with value: 0.2685459543920061 and parameters: {'n_clusters': 6, 'distance_metric': 'euclidean', 'random_state': 36}. Best is trial 828 with value: 0.4499459087431637.\n",
      "[I 2024-09-23 07:51:55,070] Trial 1540 finished with value: 0.29204704866266185 and parameters: {'n_clusters': 5, 'distance_metric': 'euclidean', 'random_state': 74}. Best is trial 828 with value: 0.4499459087431637.\n",
      "[I 2024-09-23 07:51:55,283] Trial 1541 finished with value: 0.08791438038389786 and parameters: {'n_clusters': 10, 'distance_metric': 'euclidean', 'random_state': 57}. Best is trial 828 with value: 0.4499459087431637.\n",
      "[I 2024-09-23 07:51:55,490] Trial 1542 finished with value: 0.09477571405518045 and parameters: {'n_clusters': 10, 'distance_metric': 'minkowski', 'random_state': 13}. Best is trial 828 with value: 0.4499459087431637.\n",
      "[I 2024-09-23 07:51:55,718] Trial 1543 finished with value: 0.282002968532484 and parameters: {'n_clusters': 5, 'distance_metric': 'minkowski', 'random_state': 78}. Best is trial 828 with value: 0.4499459087431637.\n",
      "[I 2024-09-23 07:51:55,927] Trial 1544 finished with value: 0.11048805397476595 and parameters: {'n_clusters': 10, 'distance_metric': 'minkowski', 'random_state': 46}. Best is trial 828 with value: 0.4499459087431637.\n",
      "[I 2024-09-23 07:51:56,122] Trial 1545 finished with value: 0.37692010555658284 and parameters: {'n_clusters': 4, 'distance_metric': 'euclidean', 'random_state': 29}. Best is trial 828 with value: 0.4499459087431637.\n",
      "[I 2024-09-23 07:51:56,333] Trial 1546 finished with value: 0.44347702319898546 and parameters: {'n_clusters': 3, 'distance_metric': 'minkowski', 'random_state': 3}. Best is trial 828 with value: 0.4499459087431637.\n",
      "[I 2024-09-23 07:51:56,529] Trial 1547 finished with value: 0.4460089237295571 and parameters: {'n_clusters': 3, 'distance_metric': 'euclidean', 'random_state': 29}. Best is trial 828 with value: 0.4499459087431637.\n",
      "[I 2024-09-23 07:51:56,742] Trial 1548 finished with value: 0.2141191849496667 and parameters: {'n_clusters': 7, 'distance_metric': 'minkowski', 'random_state': 8}. Best is trial 828 with value: 0.4499459087431637.\n",
      "[I 2024-09-23 07:51:56,966] Trial 1549 finished with value: 0.44347702319898546 and parameters: {'n_clusters': 3, 'distance_metric': 'minkowski', 'random_state': 83}. Best is trial 828 with value: 0.4499459087431637.\n",
      "[I 2024-09-23 07:51:57,175] Trial 1550 finished with value: 0.10148524538053925 and parameters: {'n_clusters': 9, 'distance_metric': 'minkowski', 'random_state': 84}. Best is trial 828 with value: 0.4499459087431637.\n",
      "[I 2024-09-23 07:51:57,374] Trial 1551 finished with value: 0.0948492111839068 and parameters: {'n_clusters': 8, 'distance_metric': 'euclidean', 'random_state': 11}. Best is trial 828 with value: 0.4499459087431637.\n",
      "[I 2024-09-23 07:51:57,570] Trial 1552 finished with value: 0.14037131230347374 and parameters: {'n_clusters': 9, 'distance_metric': 'euclidean', 'random_state': 76}. Best is trial 828 with value: 0.4499459087431637.\n",
      "[I 2024-09-23 07:51:57,769] Trial 1553 finished with value: 0.33638816216855266 and parameters: {'n_clusters': 4, 'distance_metric': 'euclidean', 'random_state': 52}. Best is trial 828 with value: 0.4499459087431637.\n",
      "[I 2024-09-23 07:51:57,965] Trial 1554 finished with value: 0.27288825518247645 and parameters: {'n_clusters': 5, 'distance_metric': 'euclidean', 'random_state': 45}. Best is trial 828 with value: 0.4499459087431637.\n",
      "[I 2024-09-23 07:51:58,162] Trial 1555 finished with value: 0.12224481026608285 and parameters: {'n_clusters': 10, 'distance_metric': 'euclidean', 'random_state': 15}. Best is trial 828 with value: 0.4499459087431637.\n",
      "[I 2024-09-23 07:51:58,357] Trial 1556 finished with value: 0.17898971881382478 and parameters: {'n_clusters': 8, 'distance_metric': 'euclidean', 'random_state': 44}. Best is trial 828 with value: 0.4499459087431637.\n",
      "[I 2024-09-23 07:51:58,563] Trial 1557 finished with value: 0.11509487410701413 and parameters: {'n_clusters': 8, 'distance_metric': 'euclidean', 'random_state': 45}. Best is trial 828 with value: 0.4499459087431637.\n",
      "[I 2024-09-23 07:51:58,760] Trial 1558 finished with value: 0.11951814559542034 and parameters: {'n_clusters': 9, 'distance_metric': 'euclidean', 'random_state': 40}. Best is trial 828 with value: 0.4499459087431637.\n",
      "[I 2024-09-23 07:51:58,957] Trial 1559 finished with value: 0.13833983663562105 and parameters: {'n_clusters': 9, 'distance_metric': 'euclidean', 'random_state': 98}. Best is trial 828 with value: 0.4499459087431637.\n",
      "[I 2024-09-23 07:51:59,167] Trial 1560 finished with value: 0.2092676843545284 and parameters: {'n_clusters': 7, 'distance_metric': 'minkowski', 'random_state': 90}. Best is trial 828 with value: 0.4499459087431637.\n",
      "[I 2024-09-23 07:51:59,381] Trial 1561 finished with value: 0.12306088086273652 and parameters: {'n_clusters': 8, 'distance_metric': 'minkowski', 'random_state': 13}. Best is trial 828 with value: 0.4499459087431637.\n",
      "[I 2024-09-23 07:51:59,573] Trial 1562 finished with value: 0.19212017183689767 and parameters: {'n_clusters': 7, 'distance_metric': 'euclidean', 'random_state': 24}. Best is trial 828 with value: 0.4499459087431637.\n",
      "[I 2024-09-23 07:51:59,790] Trial 1563 finished with value: 0.38967931998710137 and parameters: {'n_clusters': 4, 'distance_metric': 'minkowski', 'random_state': 11}. Best is trial 828 with value: 0.4499459087431637.\n",
      "[I 2024-09-23 07:52:00,000] Trial 1564 finished with value: 0.20521533792697294 and parameters: {'n_clusters': 6, 'distance_metric': 'minkowski', 'random_state': 72}. Best is trial 828 with value: 0.4499459087431637.\n",
      "[I 2024-09-23 07:52:00,200] Trial 1565 finished with value: 0.17757537315818814 and parameters: {'n_clusters': 9, 'distance_metric': 'euclidean', 'random_state': 60}. Best is trial 828 with value: 0.4499459087431637.\n",
      "[I 2024-09-23 07:52:00,398] Trial 1566 finished with value: 0.11027332926891845 and parameters: {'n_clusters': 10, 'distance_metric': 'euclidean', 'random_state': 98}. Best is trial 828 with value: 0.4499459087431637.\n",
      "[I 2024-09-23 07:52:00,608] Trial 1567 finished with value: 0.0957142121612025 and parameters: {'n_clusters': 10, 'distance_metric': 'minkowski', 'random_state': 74}. Best is trial 828 with value: 0.4499459087431637.\n",
      "[I 2024-09-23 07:52:00,821] Trial 1568 finished with value: 0.23246195920286686 and parameters: {'n_clusters': 7, 'distance_metric': 'minkowski', 'random_state': 2}. Best is trial 828 with value: 0.4499459087431637.\n",
      "[I 2024-09-23 07:52:01,016] Trial 1569 finished with value: 0.44347702319898546 and parameters: {'n_clusters': 3, 'distance_metric': 'euclidean', 'random_state': 100}. Best is trial 828 with value: 0.4499459087431637.\n",
      "[I 2024-09-23 07:52:01,228] Trial 1570 finished with value: 0.4460089237295571 and parameters: {'n_clusters': 3, 'distance_metric': 'minkowski', 'random_state': 51}. Best is trial 828 with value: 0.4499459087431637.\n",
      "[I 2024-09-23 07:52:01,428] Trial 1571 finished with value: 0.170065775400687 and parameters: {'n_clusters': 7, 'distance_metric': 'euclidean', 'random_state': 49}. Best is trial 828 with value: 0.4499459087431637.\n",
      "[I 2024-09-23 07:52:01,642] Trial 1572 finished with value: 0.10223454979376578 and parameters: {'n_clusters': 9, 'distance_metric': 'minkowski', 'random_state': 56}. Best is trial 828 with value: 0.4499459087431637.\n",
      "[I 2024-09-23 07:52:01,862] Trial 1573 finished with value: 0.07692448266234062 and parameters: {'n_clusters': 10, 'distance_metric': 'euclidean', 'random_state': 56}. Best is trial 828 with value: 0.4499459087431637.\n",
      "[I 2024-09-23 07:52:02,084] Trial 1574 finished with value: 0.37304166286595364 and parameters: {'n_clusters': 4, 'distance_metric': 'minkowski', 'random_state': 77}. Best is trial 828 with value: 0.4499459087431637.\n",
      "[I 2024-09-23 07:52:02,282] Trial 1575 finished with value: 0.39627770889555175 and parameters: {'n_clusters': 4, 'distance_metric': 'euclidean', 'random_state': 16}. Best is trial 828 with value: 0.4499459087431637.\n",
      "[I 2024-09-23 07:52:02,475] Trial 1576 finished with value: 0.10235503287080792 and parameters: {'n_clusters': 10, 'distance_metric': 'euclidean', 'random_state': 78}. Best is trial 828 with value: 0.4499459087431637.\n",
      "[I 2024-09-23 07:52:02,668] Trial 1577 finished with value: 0.44347702319898546 and parameters: {'n_clusters': 3, 'distance_metric': 'euclidean', 'random_state': 73}. Best is trial 828 with value: 0.4499459087431637.\n",
      "[I 2024-09-23 07:52:02,882] Trial 1578 finished with value: 0.4460089237295571 and parameters: {'n_clusters': 3, 'distance_metric': 'minkowski', 'random_state': 46}. Best is trial 828 with value: 0.4499459087431637.\n",
      "[I 2024-09-23 07:52:03,075] Trial 1579 finished with value: 0.15979893020583527 and parameters: {'n_clusters': 8, 'distance_metric': 'euclidean', 'random_state': 38}. Best is trial 828 with value: 0.4499459087431637.\n",
      "[I 2024-09-23 07:52:03,290] Trial 1580 finished with value: 0.44347702319898546 and parameters: {'n_clusters': 3, 'distance_metric': 'minkowski', 'random_state': 50}. Best is trial 828 with value: 0.4499459087431637.\n",
      "[I 2024-09-23 07:52:03,483] Trial 1581 finished with value: 0.33559517731116983 and parameters: {'n_clusters': 4, 'distance_metric': 'euclidean', 'random_state': 75}. Best is trial 828 with value: 0.4499459087431637.\n",
      "[I 2024-09-23 07:52:03,703] Trial 1582 finished with value: 0.44347702319898546 and parameters: {'n_clusters': 3, 'distance_metric': 'euclidean', 'random_state': 88}. Best is trial 828 with value: 0.4499459087431637.\n",
      "[I 2024-09-23 07:52:03,901] Trial 1583 finished with value: 0.17367074120591905 and parameters: {'n_clusters': 8, 'distance_metric': 'euclidean', 'random_state': 52}. Best is trial 828 with value: 0.4499459087431637.\n",
      "[I 2024-09-23 07:52:04,112] Trial 1584 finished with value: 0.10908780840841853 and parameters: {'n_clusters': 10, 'distance_metric': 'minkowski', 'random_state': 11}. Best is trial 828 with value: 0.4499459087431637.\n",
      "[I 2024-09-23 07:52:04,313] Trial 1585 finished with value: 0.1378266851870152 and parameters: {'n_clusters': 10, 'distance_metric': 'euclidean', 'random_state': 6}. Best is trial 828 with value: 0.4499459087431637.\n",
      "[I 2024-09-23 07:52:04,514] Trial 1586 finished with value: 0.29114026422444916 and parameters: {'n_clusters': 6, 'distance_metric': 'euclidean', 'random_state': 15}. Best is trial 828 with value: 0.4499459087431637.\n",
      "[I 2024-09-23 07:52:04,732] Trial 1587 finished with value: 0.13044979179913974 and parameters: {'n_clusters': 9, 'distance_metric': 'minkowski', 'random_state': 21}. Best is trial 828 with value: 0.4499459087431637.\n",
      "[I 2024-09-23 07:52:04,939] Trial 1588 finished with value: 0.15518448970971954 and parameters: {'n_clusters': 9, 'distance_metric': 'euclidean', 'random_state': 1}. Best is trial 828 with value: 0.4499459087431637.\n",
      "[I 2024-09-23 07:52:05,158] Trial 1589 finished with value: 0.13099971431137264 and parameters: {'n_clusters': 9, 'distance_metric': 'minkowski', 'random_state': 97}. Best is trial 828 with value: 0.4499459087431637.\n",
      "[I 2024-09-23 07:52:05,378] Trial 1590 finished with value: 0.30306511907056227 and parameters: {'n_clusters': 5, 'distance_metric': 'minkowski', 'random_state': 95}. Best is trial 828 with value: 0.4499459087431637.\n",
      "[I 2024-09-23 07:52:05,575] Trial 1591 finished with value: 0.1530785992210698 and parameters: {'n_clusters': 8, 'distance_metric': 'euclidean', 'random_state': 100}. Best is trial 828 with value: 0.4499459087431637.\n",
      "[I 2024-09-23 07:52:05,784] Trial 1592 finished with value: 0.2820029685324841 and parameters: {'n_clusters': 5, 'distance_metric': 'euclidean', 'random_state': 78}. Best is trial 828 with value: 0.4499459087431637.\n",
      "[I 2024-09-23 07:52:06,003] Trial 1593 finished with value: 0.29988715714810815 and parameters: {'n_clusters': 5, 'distance_metric': 'minkowski', 'random_state': 34}. Best is trial 828 with value: 0.4499459087431637.\n",
      "[I 2024-09-23 07:52:06,220] Trial 1594 finished with value: 0.11703120134476117 and parameters: {'n_clusters': 8, 'distance_metric': 'minkowski', 'random_state': 84}. Best is trial 828 with value: 0.4499459087431637.\n",
      "[I 2024-09-23 07:52:06,421] Trial 1595 finished with value: 0.08566556633676242 and parameters: {'n_clusters': 10, 'distance_metric': 'euclidean', 'random_state': 64}. Best is trial 828 with value: 0.4499459087431637.\n",
      "[I 2024-09-23 07:52:06,659] Trial 1596 finished with value: 0.44347702319898546 and parameters: {'n_clusters': 3, 'distance_metric': 'minkowski', 'random_state': 36}. Best is trial 828 with value: 0.4499459087431637.\n",
      "[I 2024-09-23 07:52:06,877] Trial 1597 finished with value: 0.19420524965598435 and parameters: {'n_clusters': 7, 'distance_metric': 'minkowski', 'random_state': 17}. Best is trial 828 with value: 0.4499459087431637.\n",
      "[I 2024-09-23 07:52:07,095] Trial 1598 finished with value: 0.15399473763291566 and parameters: {'n_clusters': 8, 'distance_metric': 'euclidean', 'random_state': 60}. Best is trial 828 with value: 0.4499459087431637.\n",
      "[I 2024-09-23 07:52:07,300] Trial 1599 finished with value: 0.12485311149218888 and parameters: {'n_clusters': 9, 'distance_metric': 'euclidean', 'random_state': 85}. Best is trial 828 with value: 0.4499459087431637.\n"
     ]
    },
    {
     "name": "stdout",
     "output_type": "stream",
     "text": [
      "Best hyperparameters: {'n_clusters': 3, 'distance_metric': 'minkowski', 'random_state': 25}\n",
      "Best silhouette score: 0.4499\n"
     ]
    }
   ],
   "source": [
    "# Optimize hyperparameters for KMeans using Optuna\n",
    "distance_metrics = [\"euclidean\", \"minkowski\"]\n",
    "\n",
    "\n",
    "def objective(trial: optuna.Trial):\n",
    "    n_clusters = trial.suggest_int(\"n_clusters\", 3, 10)\n",
    "    distance_metric = trial.suggest_categorical(\"distance_metric\", distance_metrics)\n",
    "    random_state = trial.suggest_int(\"random_state\", 1, 100)\n",
    "\n",
    "    kmeans = KMeans(n_clusters=n_clusters, random_state=random_state)\n",
    "    kmeans.fit(X_transformed)\n",
    "\n",
    "    distances = pairwise_distances(X_transformed, metric=distance_metric)\n",
    "    silhouette_avg = silhouette_score(distances, kmeans.labels_, metric=distance_metric)\n",
    "\n",
    "    return silhouette_avg\n",
    "\n",
    "\n",
    "search_space = {\n",
    "    \"n_clusters\": range(3, 11),\n",
    "    \"distance_metric\": distance_metrics,\n",
    "    \"random_state\": range(1, 101),\n",
    "}\n",
    "sampler = optuna.samplers.GridSampler(search_space)\n",
    "study = optuna.create_study(direction=\"maximize\", sampler=sampler)\n",
    "study.optimize(objective)\n",
    "\n",
    "# Get the best hyperparameters\n",
    "best_params = study.best_params\n",
    "best_score = study.best_value\n",
    "print(f\"Best hyperparameters: {best_params}\")\n",
    "print(f\"Best silhouette score: {best_score:.4f}\")"
   ]
  },
  {
   "cell_type": "code",
   "execution_count": 10,
   "metadata": {},
   "outputs": [
    {
     "name": "stdout",
     "output_type": "stream",
     "text": [
      "Number of clusters: 3\n",
      "Distance metric: minkowski\n",
      "Silhouette score: 0.4499\n"
     ]
    }
   ],
   "source": [
    "n_clusters = best_params[\"n_clusters\"]\n",
    "distance_metric = best_params[\"distance_metric\"]\n",
    "random_state = best_params[\"random_state\"]\n",
    "\n",
    "# Train the model with the best hyperparameters\n",
    "model = KMeans(n_clusters, random_state=random_state)\n",
    "model.fit(X_transformed)\n",
    "\n",
    "# Calculate the silhouette score\n",
    "distances = pairwise_distances(X_transformed, metric=distance_metric)\n",
    "silhouette = silhouette_score(distances, model.labels_, metric=distance_metric)\n",
    "\n",
    "print(f\"Number of clusters: {n_clusters}\")\n",
    "print(f\"Distance metric: {distance_metric}\")\n",
    "print(f\"Silhouette score: {silhouette:.4f}\")"
   ]
  },
  {
   "cell_type": "code",
   "execution_count": 11,
   "metadata": {},
   "outputs": [],
   "source": [
    "# Add cluster to the original dataframe\n",
    "df[\"cluster\"] = model.labels_"
   ]
  },
  {
   "cell_type": "code",
   "execution_count": 12,
   "metadata": {},
   "outputs": [
    {
     "data": {
      "text/html": [
       "<div>\n",
       "<style scoped>\n",
       "    .dataframe tbody tr th:only-of-type {\n",
       "        vertical-align: middle;\n",
       "    }\n",
       "\n",
       "    .dataframe tbody tr th {\n",
       "        vertical-align: top;\n",
       "    }\n",
       "\n",
       "    .dataframe thead th {\n",
       "        text-align: right;\n",
       "    }\n",
       "</style>\n",
       "<table border=\"1\" class=\"dataframe\">\n",
       "  <thead>\n",
       "    <tr style=\"text-align: right;\">\n",
       "      <th></th>\n",
       "      <th>atividade_economica</th>\n",
       "      <th>faturamento_mensal</th>\n",
       "      <th>numero_de_funcionarios</th>\n",
       "      <th>localizacao</th>\n",
       "      <th>idade</th>\n",
       "      <th>inovacao</th>\n",
       "      <th>cluster</th>\n",
       "    </tr>\n",
       "  </thead>\n",
       "  <tbody>\n",
       "    <tr>\n",
       "      <th>0</th>\n",
       "      <td>Comércio</td>\n",
       "      <td>713109.95</td>\n",
       "      <td>12</td>\n",
       "      <td>Rio de Janeiro</td>\n",
       "      <td>6</td>\n",
       "      <td>1</td>\n",
       "      <td>1</td>\n",
       "    </tr>\n",
       "    <tr>\n",
       "      <th>1</th>\n",
       "      <td>Comércio</td>\n",
       "      <td>790714.38</td>\n",
       "      <td>9</td>\n",
       "      <td>São Paulo</td>\n",
       "      <td>15</td>\n",
       "      <td>0</td>\n",
       "      <td>1</td>\n",
       "    </tr>\n",
       "    <tr>\n",
       "      <th>2</th>\n",
       "      <td>Comércio</td>\n",
       "      <td>1197239.33</td>\n",
       "      <td>17</td>\n",
       "      <td>São Paulo</td>\n",
       "      <td>4</td>\n",
       "      <td>9</td>\n",
       "      <td>2</td>\n",
       "    </tr>\n",
       "    <tr>\n",
       "      <th>3</th>\n",
       "      <td>Indústria</td>\n",
       "      <td>449185.78</td>\n",
       "      <td>15</td>\n",
       "      <td>São Paulo</td>\n",
       "      <td>6</td>\n",
       "      <td>0</td>\n",
       "      <td>1</td>\n",
       "    </tr>\n",
       "    <tr>\n",
       "      <th>4</th>\n",
       "      <td>Agronegócio</td>\n",
       "      <td>1006373.16</td>\n",
       "      <td>15</td>\n",
       "      <td>São Paulo</td>\n",
       "      <td>15</td>\n",
       "      <td>8</td>\n",
       "      <td>2</td>\n",
       "    </tr>\n",
       "    <tr>\n",
       "      <th>5</th>\n",
       "      <td>Serviços</td>\n",
       "      <td>1629562.41</td>\n",
       "      <td>16</td>\n",
       "      <td>Rio de Janeiro</td>\n",
       "      <td>11</td>\n",
       "      <td>4</td>\n",
       "      <td>0</td>\n",
       "    </tr>\n",
       "    <tr>\n",
       "      <th>6</th>\n",
       "      <td>Serviços</td>\n",
       "      <td>771179.95</td>\n",
       "      <td>13</td>\n",
       "      <td>Vitória</td>\n",
       "      <td>0</td>\n",
       "      <td>1</td>\n",
       "      <td>1</td>\n",
       "    </tr>\n",
       "    <tr>\n",
       "      <th>7</th>\n",
       "      <td>Serviços</td>\n",
       "      <td>707837.61</td>\n",
       "      <td>16</td>\n",
       "      <td>São Paulo</td>\n",
       "      <td>10</td>\n",
       "      <td>6</td>\n",
       "      <td>0</td>\n",
       "    </tr>\n",
       "    <tr>\n",
       "      <th>8</th>\n",
       "      <td>Comércio</td>\n",
       "      <td>888983.66</td>\n",
       "      <td>17</td>\n",
       "      <td>Belo Horizonte</td>\n",
       "      <td>10</td>\n",
       "      <td>1</td>\n",
       "      <td>1</td>\n",
       "    </tr>\n",
       "    <tr>\n",
       "      <th>9</th>\n",
       "      <td>Indústria</td>\n",
       "      <td>1098512.64</td>\n",
       "      <td>13</td>\n",
       "      <td>Rio de Janeiro</td>\n",
       "      <td>9</td>\n",
       "      <td>3</td>\n",
       "      <td>0</td>\n",
       "    </tr>\n",
       "  </tbody>\n",
       "</table>\n",
       "</div>"
      ],
      "text/plain": [
       "  atividade_economica  faturamento_mensal  numero_de_funcionarios  \\\n",
       "0            Comércio           713109.95                      12   \n",
       "1            Comércio           790714.38                       9   \n",
       "2            Comércio          1197239.33                      17   \n",
       "3           Indústria           449185.78                      15   \n",
       "4         Agronegócio          1006373.16                      15   \n",
       "5            Serviços          1629562.41                      16   \n",
       "6            Serviços           771179.95                      13   \n",
       "7            Serviços           707837.61                      16   \n",
       "8            Comércio           888983.66                      17   \n",
       "9           Indústria          1098512.64                      13   \n",
       "\n",
       "      localizacao  idade  inovacao  cluster  \n",
       "0  Rio de Janeiro      6         1        1  \n",
       "1       São Paulo     15         0        1  \n",
       "2       São Paulo      4         9        2  \n",
       "3       São Paulo      6         0        1  \n",
       "4       São Paulo     15         8        2  \n",
       "5  Rio de Janeiro     11         4        0  \n",
       "6         Vitória      0         1        1  \n",
       "7       São Paulo     10         6        0  \n",
       "8  Belo Horizonte     10         1        1  \n",
       "9  Rio de Janeiro      9         3        0  "
      ]
     },
     "execution_count": 12,
     "metadata": {},
     "output_type": "execute_result"
    }
   ],
   "source": [
    "df.head(10)"
   ]
  },
  {
   "cell_type": "markdown",
   "metadata": {},
   "source": [
    "## Plotting the results\n"
   ]
  },
  {
   "cell_type": "code",
   "execution_count": 13,
   "metadata": {},
   "outputs": [
    {
     "data": {
      "application/vnd.plotly.v1+json": {
       "config": {
        "plotlyServerURL": "https://plot.ly"
       },
       "data": [
        {
         "hovertemplate": "Idade=%{x}<br>Faturamento Mensal=%{y}<br>cluster=%{marker.color}<extra></extra>",
         "legendgroup": "",
         "marker": {
          "color": [
           1,
           1,
           2,
           1,
           2,
           0,
           1,
           0,
           1,
           0,
           0,
           0,
           0,
           0,
           2,
           2,
           2,
           1,
           2,
           0,
           1,
           1,
           0,
           0,
           1,
           1,
           2,
           0,
           1,
           1,
           1,
           2,
           0,
           0,
           0,
           0,
           0,
           0,
           2,
           2,
           0,
           0,
           0,
           0,
           1,
           2,
           0,
           1,
           2,
           2,
           0,
           1,
           1,
           0,
           1,
           1,
           1,
           1,
           0,
           2,
           2,
           0,
           1,
           2,
           2,
           0,
           0,
           1,
           1,
           1,
           0,
           1,
           1,
           2,
           0,
           1,
           1,
           0,
           0,
           2,
           2,
           1,
           1,
           2,
           0,
           2,
           0,
           1,
           1,
           0,
           1,
           0,
           0,
           1,
           1,
           2,
           2,
           0,
           2,
           0,
           1,
           1,
           0,
           0,
           1,
           0,
           2,
           0,
           0,
           2,
           2,
           2,
           2,
           2,
           1,
           1,
           2,
           1,
           0,
           0,
           1,
           1,
           0,
           0,
           2,
           1,
           2,
           0,
           0,
           2,
           0,
           1,
           1,
           0,
           1,
           1,
           2,
           0,
           1,
           0,
           2,
           1,
           1,
           1,
           2,
           1,
           2,
           1,
           2,
           0,
           1,
           0,
           0,
           2,
           1,
           0,
           2,
           2,
           1,
           1,
           0,
           2,
           2,
           0,
           0,
           0,
           1,
           1,
           2,
           2,
           2,
           0,
           1,
           0,
           0,
           1,
           2,
           2,
           2,
           2,
           1,
           0,
           2,
           2,
           0,
           0,
           2,
           1,
           2,
           2,
           2,
           1,
           0,
           2,
           1,
           2,
           1,
           1,
           0,
           0,
           0,
           2,
           2,
           1,
           1,
           2,
           0,
           1,
           0,
           1,
           1,
           1,
           1,
           1,
           1,
           0,
           0,
           2,
           1,
           1,
           2,
           0,
           0,
           0,
           2,
           2,
           1,
           2,
           1,
           0,
           1,
           0,
           2,
           0,
           1,
           2,
           0,
           0,
           2,
           0,
           2,
           0,
           1,
           1,
           1,
           2,
           0,
           0,
           2,
           0,
           2,
           1,
           1,
           1,
           0,
           0,
           2,
           0,
           2,
           1,
           0,
           2,
           1,
           2,
           1,
           0,
           2,
           2,
           1,
           0,
           2,
           0,
           1,
           2,
           0,
           0,
           0,
           2,
           0,
           0,
           0,
           2,
           1,
           1,
           2,
           2,
           2,
           2,
           0,
           1,
           1,
           2,
           1,
           0,
           2,
           1,
           0,
           0,
           2,
           1,
           0,
           2,
           2,
           1,
           1,
           2,
           2,
           0,
           0,
           1,
           1,
           0,
           1,
           1,
           1,
           1,
           2,
           0,
           2,
           1,
           1,
           0,
           1,
           2,
           2,
           0,
           2,
           0,
           1,
           2,
           2,
           1,
           0,
           2,
           0,
           0,
           1,
           1,
           2,
           2,
           2,
           0,
           0,
           1,
           1,
           2,
           1,
           0,
           0,
           2,
           0,
           1,
           0,
           2,
           0,
           0,
           0,
           0,
           2,
           0,
           2,
           1,
           2,
           2,
           0,
           1,
           1,
           1,
           2,
           0,
           1,
           1,
           0,
           0,
           2,
           2,
           0,
           0,
           1,
           0,
           0,
           2,
           1,
           2,
           2,
           0,
           1,
           2,
           2,
           2,
           0,
           0,
           1,
           0,
           0,
           2,
           1,
           2,
           2,
           0,
           1,
           0,
           2,
           1,
           0,
           2,
           2,
           0,
           1,
           1,
           1,
           0,
           0,
           2,
           0,
           0,
           0,
           0,
           2,
           0,
           2,
           0,
           0,
           0,
           1,
           0,
           0,
           0,
           1,
           2,
           0,
           1,
           1,
           1,
           2,
           0,
           0,
           0,
           1,
           0,
           0,
           2,
           0,
           2,
           0,
           1,
           1,
           0,
           2,
           0,
           1,
           0,
           1,
           0,
           1,
           0,
           2,
           0,
           0,
           2,
           0,
           2,
           0,
           1,
           1,
           1,
           0,
           2,
           1,
           0,
           1,
           1,
           2,
           2,
           0,
           0,
           0,
           2,
           1,
           1,
           0,
           2,
           2,
           1,
           2,
           1,
           1,
           0,
           0,
           1,
           0,
           1,
           1,
           2,
           1,
           1,
           2,
           1,
           0,
           2
          ],
          "coloraxis": "coloraxis",
          "symbol": "circle"
         },
         "mode": "markers",
         "name": "",
         "orientation": "v",
         "showlegend": false,
         "type": "scatter",
         "x": [
          6,
          15,
          4,
          6,
          15,
          11,
          0,
          10,
          10,
          9,
          10,
          9,
          11,
          9,
          8,
          8,
          8,
          12,
          10,
          12,
          6,
          16,
          9,
          13,
          15,
          7,
          7,
          9,
          4,
          12,
          3,
          7,
          12,
          7,
          5,
          12,
          12,
          9,
          11,
          7,
          6,
          9,
          7,
          6,
          14,
          13,
          12,
          8,
          9,
          9,
          13,
          8,
          12,
          12,
          3,
          12,
          8,
          9,
          10,
          7,
          7,
          10,
          6,
          10,
          8,
          9,
          10,
          2,
          10,
          14,
          6,
          13,
          11,
          6,
          13,
          12,
          8,
          10,
          9,
          9,
          9,
          12,
          13,
          4,
          7,
          10,
          7,
          13,
          10,
          11,
          9,
          10,
          9,
          7,
          10,
          12,
          10,
          7,
          15,
          3,
          5,
          8,
          9,
          4,
          11,
          10,
          7,
          7,
          9,
          14,
          9,
          12,
          11,
          14,
          10,
          8,
          14,
          9,
          12,
          11,
          11,
          16,
          3,
          7,
          11,
          7,
          10,
          7,
          11,
          5,
          8,
          11,
          9,
          8,
          12,
          10,
          10,
          7,
          7,
          10,
          10,
          6,
          16,
          12,
          7,
          12,
          7,
          6,
          5,
          7,
          11,
          13,
          10,
          10,
          11,
          7,
          13,
          10,
          13,
          15,
          13,
          2,
          11,
          9,
          9,
          12,
          10,
          5,
          4,
          11,
          16,
          7,
          4,
          8,
          9,
          8,
          7,
          6,
          13,
          8,
          12,
          6,
          9,
          11,
          7,
          5,
          12,
          6,
          10,
          8,
          10,
          10,
          7,
          12,
          6,
          10,
          7,
          8,
          10,
          15,
          5,
          8,
          10,
          12,
          9,
          8,
          8,
          10,
          4,
          13,
          12,
          9,
          7,
          9,
          6,
          14,
          7,
          9,
          10,
          6,
          6,
          12,
          9,
          11,
          10,
          8,
          9,
          2,
          13,
          9,
          7,
          8,
          7,
          12,
          8,
          7,
          5,
          5,
          13,
          7,
          5,
          13,
          6,
          9,
          5,
          11,
          8,
          4,
          11,
          6,
          9,
          13,
          7,
          6,
          9,
          8,
          8,
          10,
          16,
          10,
          9,
          8,
          9,
          7,
          10,
          12,
          10,
          9,
          8,
          5,
          5,
          9,
          11,
          11,
          14,
          13,
          9,
          8,
          9,
          12,
          9,
          10,
          12,
          12,
          12,
          9,
          10,
          5,
          13,
          7,
          13,
          11,
          7,
          7,
          16,
          11,
          12,
          15,
          4,
          7,
          12,
          7,
          11,
          13,
          12,
          11,
          9,
          9,
          6,
          4,
          14,
          11,
          11,
          6,
          7,
          14,
          6,
          11,
          7,
          12,
          9,
          9,
          10,
          7,
          6,
          12,
          10,
          9,
          6,
          8,
          2,
          14,
          5,
          9,
          10,
          3,
          11,
          9,
          10,
          12,
          10,
          13,
          8,
          9,
          6,
          12,
          10,
          6,
          10,
          11,
          8,
          7,
          13,
          11,
          7,
          8,
          10,
          10,
          13,
          9,
          8,
          7,
          9,
          10,
          8,
          8,
          8,
          8,
          9,
          15,
          11,
          15,
          11,
          10,
          13,
          12,
          6,
          12,
          7,
          6,
          4,
          10,
          8,
          8,
          8,
          7,
          8,
          11,
          8,
          12,
          8,
          16,
          12,
          11,
          12,
          10,
          16,
          7,
          11,
          11,
          5,
          10,
          10,
          8,
          8,
          12,
          12,
          7,
          12,
          14,
          10,
          6,
          8,
          8,
          14,
          3,
          11,
          12,
          13,
          6,
          6,
          13,
          9,
          8,
          11,
          11,
          8,
          11,
          11,
          7,
          10,
          13,
          9,
          12,
          9,
          11,
          10,
          15,
          10,
          4,
          13,
          7,
          10,
          10,
          8,
          10,
          5,
          16,
          8,
          7,
          10,
          10,
          5,
          11,
          5,
          10,
          10,
          4,
          6,
          11,
          9,
          15,
          7,
          16,
          11,
          12,
          11,
          10,
          15,
          13,
          7,
          8,
          4,
          11,
          6,
          9,
          11,
          11,
          8,
          6,
          5,
          1,
          13,
          11,
          5,
          12,
          13,
          7,
          13,
          7,
          7,
          8,
          9,
          4,
          10,
          8,
          6,
          10,
          5,
          4
         ],
         "xaxis": "x",
         "y": [
          713109.95,
          790714.38,
          1197239.33,
          449185.78,
          1006373.16,
          1629562.41,
          771179.95,
          707837.61,
          888983.66,
          1098512.64,
          695548.78,
          556632.55,
          800123.32,
          1544423.2,
          1058543.63,
          783081.11,
          566156.05,
          1047680.24,
          836793.37,
          1072955.49,
          1125089.99,
          1424196.41,
          1376884.23,
          1240936.73,
          947515.95,
          1237763.98,
          1181642.63,
          782097.18,
          111926.48,
          489936.94,
          1164187.89,
          1418374.5,
          1325421.71,
          445704.4,
          958656.71,
          1207754.02,
          1258551.12,
          1051870.82,
          1116791.99,
          944040.44,
          878314.15,
          645734.68,
          1197770.02,
          619332.74,
          973809.28,
          1055849.89,
          743078.06,
          853682.38,
          1188462.86,
          1922245.53,
          854257.82,
          296714.92,
          1398126.07,
          1366079.54,
          615848.03,
          95680.54,
          588181.56,
          2263343.91,
          992946.81,
          990270.34,
          899158.38,
          969864.84,
          866778.96,
          1523849.47,
          842146.63,
          431140.66,
          1102025.65,
          837639.72,
          1539172.91,
          662659.12,
          873208.52,
          1191112.82,
          936929.11,
          653645.84,
          914998.87,
          931561.93,
          1489753.71,
          389151.32,
          734331.53,
          1195418.56,
          1077111.04,
          1098366.38,
          1578288.81,
          903521.24,
          1293348.75,
          559870.94,
          1378891.79,
          1124033.51,
          1239188.62,
          241891.6,
          226715.57,
          316147.85,
          983027.55,
          1081112.62,
          1351509.91,
          705494.09,
          1616152.72,
          121410.81,
          1379112.59,
          371592.27,
          1005847.92,
          909973.14,
          717966.54,
          1079558.76,
          348577.69,
          1419109.8,
          785108.04,
          2083352.96,
          705535.84,
          1102257.75,
          184770.26,
          1146243.42,
          1706382.47,
          1932443.78,
          1443795.53,
          1388175.16,
          1033935.28,
          1506130.56,
          971873.18,
          1231155.45,
          856263.52,
          789695.82,
          617845.52,
          997025.99,
          993329.43,
          1439742.37,
          1083390.19,
          763290.3,
          1132167.53,
          1404262.26,
          833741.24,
          833486.37,
          949003.35,
          1383614.28,
          603109.29,
          810709.96,
          735388.51,
          1574289.73,
          1589880.1,
          993467.4,
          863881.59,
          332979.68,
          831586.64,
          18421.22,
          823011.86,
          643092.4,
          958451.91,
          1841715.96,
          1114979.28,
          843237.64,
          853807.58,
          1267527.12,
          722272.13,
          580396.98,
          1153343.69,
          1243667.61,
          1655885.31,
          1563607.42,
          1404873.5,
          723535.75,
          1276078.67,
          810805.33,
          1555042.97,
          1142214.41,
          1272544.7,
          983440.97,
          103994.8,
          1236114.44,
          1565259.29,
          909928.51,
          1518495.54,
          1353384.97,
          1050126.53,
          1094043.53,
          1078181.16,
          1480465.17,
          267812.36,
          1754666.01,
          1070918.51,
          334835.36,
          1290549.96,
          1363863.52,
          834438.57,
          1301428.04,
          148061.36,
          850020.42,
          650241.43,
          494926.48,
          1057767.62,
          627273.65,
          665358.48,
          740201.08,
          991762.16,
          1230575.08,
          174738.56,
          1407737.12,
          1376121.85,
          763143.44,
          1009984.8,
          965508.49,
          1118393.81,
          1094810.2,
          1093585.71,
          1248640.73,
          1475870,
          564348.59,
          768322.67,
          1032819.03,
          816484.64,
          535199.75,
          743926.38,
          852074.86,
          1194723.4,
          849942.63,
          1330082.14,
          861194.33,
          312067.61,
          554967.95,
          608858.82,
          271560.28,
          1171807.82,
          1063111.93,
          726828.81,
          864076.14,
          1134311.38,
          1220385.54,
          988495.51,
          769054.24,
          1027960.98,
          1063262.79,
          910568.59,
          1716130.92,
          1230763.9,
          1014070.01,
          989109.67,
          531384.99,
          84497.94,
          1385339.46,
          1009392.87,
          787481.84,
          679053.92,
          1100001.65,
          2390677.22,
          977980.47,
          598717.71,
          1025701.64,
          788278.22,
          64711.22,
          1570819.07,
          1993908.63,
          785668.64,
          1258737.22,
          1320450.27,
          911615.28,
          533072.17,
          659624.71,
          1367765.95,
          1370699.52,
          757658.35,
          1286670.98,
          1650111.3,
          803823.34,
          1133686.14,
          1016606.48,
          1209830.96,
          768946.51,
          1236870.36,
          1373604.43,
          791201.94,
          470253.72,
          1244020.43,
          323593.53,
          839638.4,
          1460403.03,
          1255764.84,
          915799.22,
          1541762.74,
          429688.53,
          800004.44,
          1017325.17,
          60516.83,
          1207098.74,
          791704.75,
          1655693.05,
          1281521.01,
          1902144.56,
          853723.67,
          1344366.16,
          884940.1,
          625599.74,
          908289.25,
          1032183.53,
          2107306.42,
          481595.99,
          663326.41,
          1588245.25,
          921770.07,
          163682.26,
          1247176.41,
          1212901.4,
          851080.66,
          942883.08,
          1707923.52,
          1177227.98,
          499441.3,
          1395925.1,
          1456142.58,
          693629.48,
          1209549.81,
          1713025.38,
          1292741.18,
          911521.72,
          1094337.38,
          880090.72,
          1015654.17,
          1398871.6,
          1327130.38,
          1129203.5,
          941612.29,
          854382.67,
          1318621.28,
          1458066.67,
          1728544.72,
          1161568.8,
          780121.59,
          1298316.46,
          1337880.08,
          231562.65,
          823374.93,
          356229.62,
          1532181.14,
          1006625.13,
          1104801.34,
          722920.8,
          734238.96,
          805436.7,
          1647453.28,
          898610.61,
          626629.6,
          1794352.93,
          1043981.61,
          665572.04,
          932845.17,
          1569380.97,
          1216938.1,
          1093042.03,
          1348626.67,
          203045.12,
          602393.66,
          1010038.24,
          929711.04,
          1116387.07,
          1683711.93,
          626776.88,
          1219653.63,
          1314583.32,
          1535533.76,
          1936486.41,
          1382271.23,
          1238547.54,
          944765.54,
          1057982.09,
          1046845.34,
          333127.92,
          1189103.92,
          1003981.55,
          629572.6,
          753664.57,
          549149.57,
          1288325.43,
          928727.24,
          1843761.24,
          244825,
          656377.77,
          1574626.03,
          1439950.65,
          721463.53,
          1436673,
          841346.81,
          1485834.15,
          1459878,
          1349860.72,
          1952250.45,
          1027285.87,
          1053130.05,
          990690.47,
          1118793.07,
          1902367.98,
          981440.96,
          506672.67,
          1735063.39,
          686102.63,
          715243.69,
          1193834.4,
          1743573.32,
          1167501.7,
          989883.92,
          1058929.85,
          673865.11,
          591593.3,
          916748.4,
          1694996.88,
          550053.3,
          1195575.01,
          1867234.3,
          1077943.15,
          1228736.22,
          1003381.76,
          603305.03,
          1220941.7,
          545859.25,
          1124754.89,
          1167866.74,
          1362343.3,
          1103149.26,
          743480.47,
          434194.11,
          479869.9,
          1071831.13,
          593531.52,
          1492116.94,
          658580.22,
          869605.13,
          879688.87,
          725022.65,
          1316076.16,
          1056532.62,
          836973.51,
          79015.03,
          1780802.99,
          1328577.86,
          435489.53,
          844782.42,
          1298004.31,
          1662826.01,
          970959.21,
          869638.69,
          1009839.03,
          1021085.99,
          1239494.05,
          1536684.3,
          1068322.53,
          983540.2,
          880695.38,
          119950.58,
          1346978.95,
          1752009.96,
          1061121.78,
          1358513.26,
          254263.2,
          475032.23,
          1330014.86,
          1042344.43,
          429809.37,
          1198949.59,
          1024828.18,
          1878689.05,
          1635893.76,
          1147381.02,
          1155825.73,
          1295183.25,
          654953.48,
          1130027.72,
          25576.28,
          1227045.41,
          805517.39,
          1169132.47,
          1109076.58,
          695368.23,
          1355673.25,
          809933.42,
          1229181.97,
          1693342.51,
          618250.8,
          811781.56,
          745302.32,
          1052598.3,
          1103740.65,
          1810013.45,
          1334308.97,
          1425718.91,
          1662467.08,
          1681458.49,
          1509385.85,
          1533062.06,
          786224.94,
          445571.87,
          505124.91,
          2006688.81,
          416429.3,
          215580.61,
          1050776.57,
          785671.05,
          658330.45,
          1643153.26,
          1581841.42,
          1291309.57,
          2211489.85,
          1460860.46,
          173684.43
         ],
         "yaxis": "y"
        }
       ],
       "layout": {
        "coloraxis": {
         "colorbar": {
          "title": {
           "text": "cluster"
          }
         },
         "colorscale": [
          [
           0,
           "#0d0887"
          ],
          [
           0.1111111111111111,
           "#46039f"
          ],
          [
           0.2222222222222222,
           "#7201a8"
          ],
          [
           0.3333333333333333,
           "#9c179e"
          ],
          [
           0.4444444444444444,
           "#bd3786"
          ],
          [
           0.5555555555555556,
           "#d8576b"
          ],
          [
           0.6666666666666666,
           "#ed7953"
          ],
          [
           0.7777777777777778,
           "#fb9f3a"
          ],
          [
           0.8888888888888888,
           "#fdca26"
          ],
          [
           1,
           "#f0f921"
          ]
         ]
        },
        "legend": {
         "tracegroupgap": 0
        },
        "template": {
         "data": {
          "bar": [
           {
            "error_x": {
             "color": "#2a3f5f"
            },
            "error_y": {
             "color": "#2a3f5f"
            },
            "marker": {
             "line": {
              "color": "#E5ECF6",
              "width": 0.5
             },
             "pattern": {
              "fillmode": "overlay",
              "size": 10,
              "solidity": 0.2
             }
            },
            "type": "bar"
           }
          ],
          "barpolar": [
           {
            "marker": {
             "line": {
              "color": "#E5ECF6",
              "width": 0.5
             },
             "pattern": {
              "fillmode": "overlay",
              "size": 10,
              "solidity": 0.2
             }
            },
            "type": "barpolar"
           }
          ],
          "carpet": [
           {
            "aaxis": {
             "endlinecolor": "#2a3f5f",
             "gridcolor": "white",
             "linecolor": "white",
             "minorgridcolor": "white",
             "startlinecolor": "#2a3f5f"
            },
            "baxis": {
             "endlinecolor": "#2a3f5f",
             "gridcolor": "white",
             "linecolor": "white",
             "minorgridcolor": "white",
             "startlinecolor": "#2a3f5f"
            },
            "type": "carpet"
           }
          ],
          "choropleth": [
           {
            "colorbar": {
             "outlinewidth": 0,
             "ticks": ""
            },
            "type": "choropleth"
           }
          ],
          "contour": [
           {
            "colorbar": {
             "outlinewidth": 0,
             "ticks": ""
            },
            "colorscale": [
             [
              0,
              "#0d0887"
             ],
             [
              0.1111111111111111,
              "#46039f"
             ],
             [
              0.2222222222222222,
              "#7201a8"
             ],
             [
              0.3333333333333333,
              "#9c179e"
             ],
             [
              0.4444444444444444,
              "#bd3786"
             ],
             [
              0.5555555555555556,
              "#d8576b"
             ],
             [
              0.6666666666666666,
              "#ed7953"
             ],
             [
              0.7777777777777778,
              "#fb9f3a"
             ],
             [
              0.8888888888888888,
              "#fdca26"
             ],
             [
              1,
              "#f0f921"
             ]
            ],
            "type": "contour"
           }
          ],
          "contourcarpet": [
           {
            "colorbar": {
             "outlinewidth": 0,
             "ticks": ""
            },
            "type": "contourcarpet"
           }
          ],
          "heatmap": [
           {
            "colorbar": {
             "outlinewidth": 0,
             "ticks": ""
            },
            "colorscale": [
             [
              0,
              "#0d0887"
             ],
             [
              0.1111111111111111,
              "#46039f"
             ],
             [
              0.2222222222222222,
              "#7201a8"
             ],
             [
              0.3333333333333333,
              "#9c179e"
             ],
             [
              0.4444444444444444,
              "#bd3786"
             ],
             [
              0.5555555555555556,
              "#d8576b"
             ],
             [
              0.6666666666666666,
              "#ed7953"
             ],
             [
              0.7777777777777778,
              "#fb9f3a"
             ],
             [
              0.8888888888888888,
              "#fdca26"
             ],
             [
              1,
              "#f0f921"
             ]
            ],
            "type": "heatmap"
           }
          ],
          "heatmapgl": [
           {
            "colorbar": {
             "outlinewidth": 0,
             "ticks": ""
            },
            "colorscale": [
             [
              0,
              "#0d0887"
             ],
             [
              0.1111111111111111,
              "#46039f"
             ],
             [
              0.2222222222222222,
              "#7201a8"
             ],
             [
              0.3333333333333333,
              "#9c179e"
             ],
             [
              0.4444444444444444,
              "#bd3786"
             ],
             [
              0.5555555555555556,
              "#d8576b"
             ],
             [
              0.6666666666666666,
              "#ed7953"
             ],
             [
              0.7777777777777778,
              "#fb9f3a"
             ],
             [
              0.8888888888888888,
              "#fdca26"
             ],
             [
              1,
              "#f0f921"
             ]
            ],
            "type": "heatmapgl"
           }
          ],
          "histogram": [
           {
            "marker": {
             "pattern": {
              "fillmode": "overlay",
              "size": 10,
              "solidity": 0.2
             }
            },
            "type": "histogram"
           }
          ],
          "histogram2d": [
           {
            "colorbar": {
             "outlinewidth": 0,
             "ticks": ""
            },
            "colorscale": [
             [
              0,
              "#0d0887"
             ],
             [
              0.1111111111111111,
              "#46039f"
             ],
             [
              0.2222222222222222,
              "#7201a8"
             ],
             [
              0.3333333333333333,
              "#9c179e"
             ],
             [
              0.4444444444444444,
              "#bd3786"
             ],
             [
              0.5555555555555556,
              "#d8576b"
             ],
             [
              0.6666666666666666,
              "#ed7953"
             ],
             [
              0.7777777777777778,
              "#fb9f3a"
             ],
             [
              0.8888888888888888,
              "#fdca26"
             ],
             [
              1,
              "#f0f921"
             ]
            ],
            "type": "histogram2d"
           }
          ],
          "histogram2dcontour": [
           {
            "colorbar": {
             "outlinewidth": 0,
             "ticks": ""
            },
            "colorscale": [
             [
              0,
              "#0d0887"
             ],
             [
              0.1111111111111111,
              "#46039f"
             ],
             [
              0.2222222222222222,
              "#7201a8"
             ],
             [
              0.3333333333333333,
              "#9c179e"
             ],
             [
              0.4444444444444444,
              "#bd3786"
             ],
             [
              0.5555555555555556,
              "#d8576b"
             ],
             [
              0.6666666666666666,
              "#ed7953"
             ],
             [
              0.7777777777777778,
              "#fb9f3a"
             ],
             [
              0.8888888888888888,
              "#fdca26"
             ],
             [
              1,
              "#f0f921"
             ]
            ],
            "type": "histogram2dcontour"
           }
          ],
          "mesh3d": [
           {
            "colorbar": {
             "outlinewidth": 0,
             "ticks": ""
            },
            "type": "mesh3d"
           }
          ],
          "parcoords": [
           {
            "line": {
             "colorbar": {
              "outlinewidth": 0,
              "ticks": ""
             }
            },
            "type": "parcoords"
           }
          ],
          "pie": [
           {
            "automargin": true,
            "type": "pie"
           }
          ],
          "scatter": [
           {
            "fillpattern": {
             "fillmode": "overlay",
             "size": 10,
             "solidity": 0.2
            },
            "type": "scatter"
           }
          ],
          "scatter3d": [
           {
            "line": {
             "colorbar": {
              "outlinewidth": 0,
              "ticks": ""
             }
            },
            "marker": {
             "colorbar": {
              "outlinewidth": 0,
              "ticks": ""
             }
            },
            "type": "scatter3d"
           }
          ],
          "scattercarpet": [
           {
            "marker": {
             "colorbar": {
              "outlinewidth": 0,
              "ticks": ""
             }
            },
            "type": "scattercarpet"
           }
          ],
          "scattergeo": [
           {
            "marker": {
             "colorbar": {
              "outlinewidth": 0,
              "ticks": ""
             }
            },
            "type": "scattergeo"
           }
          ],
          "scattergl": [
           {
            "marker": {
             "colorbar": {
              "outlinewidth": 0,
              "ticks": ""
             }
            },
            "type": "scattergl"
           }
          ],
          "scattermapbox": [
           {
            "marker": {
             "colorbar": {
              "outlinewidth": 0,
              "ticks": ""
             }
            },
            "type": "scattermapbox"
           }
          ],
          "scatterpolar": [
           {
            "marker": {
             "colorbar": {
              "outlinewidth": 0,
              "ticks": ""
             }
            },
            "type": "scatterpolar"
           }
          ],
          "scatterpolargl": [
           {
            "marker": {
             "colorbar": {
              "outlinewidth": 0,
              "ticks": ""
             }
            },
            "type": "scatterpolargl"
           }
          ],
          "scatterternary": [
           {
            "marker": {
             "colorbar": {
              "outlinewidth": 0,
              "ticks": ""
             }
            },
            "type": "scatterternary"
           }
          ],
          "surface": [
           {
            "colorbar": {
             "outlinewidth": 0,
             "ticks": ""
            },
            "colorscale": [
             [
              0,
              "#0d0887"
             ],
             [
              0.1111111111111111,
              "#46039f"
             ],
             [
              0.2222222222222222,
              "#7201a8"
             ],
             [
              0.3333333333333333,
              "#9c179e"
             ],
             [
              0.4444444444444444,
              "#bd3786"
             ],
             [
              0.5555555555555556,
              "#d8576b"
             ],
             [
              0.6666666666666666,
              "#ed7953"
             ],
             [
              0.7777777777777778,
              "#fb9f3a"
             ],
             [
              0.8888888888888888,
              "#fdca26"
             ],
             [
              1,
              "#f0f921"
             ]
            ],
            "type": "surface"
           }
          ],
          "table": [
           {
            "cells": {
             "fill": {
              "color": "#EBF0F8"
             },
             "line": {
              "color": "white"
             }
            },
            "header": {
             "fill": {
              "color": "#C8D4E3"
             },
             "line": {
              "color": "white"
             }
            },
            "type": "table"
           }
          ]
         },
         "layout": {
          "annotationdefaults": {
           "arrowcolor": "#2a3f5f",
           "arrowhead": 0,
           "arrowwidth": 1
          },
          "autotypenumbers": "strict",
          "coloraxis": {
           "colorbar": {
            "outlinewidth": 0,
            "ticks": ""
           }
          },
          "colorscale": {
           "diverging": [
            [
             0,
             "#8e0152"
            ],
            [
             0.1,
             "#c51b7d"
            ],
            [
             0.2,
             "#de77ae"
            ],
            [
             0.3,
             "#f1b6da"
            ],
            [
             0.4,
             "#fde0ef"
            ],
            [
             0.5,
             "#f7f7f7"
            ],
            [
             0.6,
             "#e6f5d0"
            ],
            [
             0.7,
             "#b8e186"
            ],
            [
             0.8,
             "#7fbc41"
            ],
            [
             0.9,
             "#4d9221"
            ],
            [
             1,
             "#276419"
            ]
           ],
           "sequential": [
            [
             0,
             "#0d0887"
            ],
            [
             0.1111111111111111,
             "#46039f"
            ],
            [
             0.2222222222222222,
             "#7201a8"
            ],
            [
             0.3333333333333333,
             "#9c179e"
            ],
            [
             0.4444444444444444,
             "#bd3786"
            ],
            [
             0.5555555555555556,
             "#d8576b"
            ],
            [
             0.6666666666666666,
             "#ed7953"
            ],
            [
             0.7777777777777778,
             "#fb9f3a"
            ],
            [
             0.8888888888888888,
             "#fdca26"
            ],
            [
             1,
             "#f0f921"
            ]
           ],
           "sequentialminus": [
            [
             0,
             "#0d0887"
            ],
            [
             0.1111111111111111,
             "#46039f"
            ],
            [
             0.2222222222222222,
             "#7201a8"
            ],
            [
             0.3333333333333333,
             "#9c179e"
            ],
            [
             0.4444444444444444,
             "#bd3786"
            ],
            [
             0.5555555555555556,
             "#d8576b"
            ],
            [
             0.6666666666666666,
             "#ed7953"
            ],
            [
             0.7777777777777778,
             "#fb9f3a"
            ],
            [
             0.8888888888888888,
             "#fdca26"
            ],
            [
             1,
             "#f0f921"
            ]
           ]
          },
          "colorway": [
           "#636efa",
           "#EF553B",
           "#00cc96",
           "#ab63fa",
           "#FFA15A",
           "#19d3f3",
           "#FF6692",
           "#B6E880",
           "#FF97FF",
           "#FECB52"
          ],
          "font": {
           "color": "#2a3f5f"
          },
          "geo": {
           "bgcolor": "white",
           "lakecolor": "white",
           "landcolor": "#E5ECF6",
           "showlakes": true,
           "showland": true,
           "subunitcolor": "white"
          },
          "hoverlabel": {
           "align": "left"
          },
          "hovermode": "closest",
          "mapbox": {
           "style": "light"
          },
          "paper_bgcolor": "white",
          "plot_bgcolor": "#E5ECF6",
          "polar": {
           "angularaxis": {
            "gridcolor": "white",
            "linecolor": "white",
            "ticks": ""
           },
           "bgcolor": "#E5ECF6",
           "radialaxis": {
            "gridcolor": "white",
            "linecolor": "white",
            "ticks": ""
           }
          },
          "scene": {
           "xaxis": {
            "backgroundcolor": "#E5ECF6",
            "gridcolor": "white",
            "gridwidth": 2,
            "linecolor": "white",
            "showbackground": true,
            "ticks": "",
            "zerolinecolor": "white"
           },
           "yaxis": {
            "backgroundcolor": "#E5ECF6",
            "gridcolor": "white",
            "gridwidth": 2,
            "linecolor": "white",
            "showbackground": true,
            "ticks": "",
            "zerolinecolor": "white"
           },
           "zaxis": {
            "backgroundcolor": "#E5ECF6",
            "gridcolor": "white",
            "gridwidth": 2,
            "linecolor": "white",
            "showbackground": true,
            "ticks": "",
            "zerolinecolor": "white"
           }
          },
          "shapedefaults": {
           "line": {
            "color": "#2a3f5f"
           }
          },
          "ternary": {
           "aaxis": {
            "gridcolor": "white",
            "linecolor": "white",
            "ticks": ""
           },
           "baxis": {
            "gridcolor": "white",
            "linecolor": "white",
            "ticks": ""
           },
           "bgcolor": "#E5ECF6",
           "caxis": {
            "gridcolor": "white",
            "linecolor": "white",
            "ticks": ""
           }
          },
          "title": {
           "x": 0.05
          },
          "xaxis": {
           "automargin": true,
           "gridcolor": "white",
           "linecolor": "white",
           "ticks": "",
           "title": {
            "standoff": 15
           },
           "zerolinecolor": "white",
           "zerolinewidth": 2
          },
          "yaxis": {
           "automargin": true,
           "gridcolor": "white",
           "linecolor": "white",
           "ticks": "",
           "title": {
            "standoff": 15
           },
           "zerolinecolor": "white",
           "zerolinewidth": 2
          }
         }
        },
        "title": {
         "text": "Idade vs. Faturamento Mensal por Cluster"
        },
        "xaxis": {
         "anchor": "y",
         "domain": [
          0,
          1
         ],
         "title": {
          "text": "Idade"
         }
        },
        "yaxis": {
         "anchor": "x",
         "domain": [
          0,
          1
         ],
         "title": {
          "text": "Faturamento Mensal"
         }
        }
       }
      }
     },
     "metadata": {},
     "output_type": "display_data"
    }
   ],
   "source": [
    "# Plot \"idade\" and \"faturamento_mensal\" by cluster\n",
    "px.scatter(\n",
    "    df,\n",
    "    x=\"idade\",\n",
    "    y=\"faturamento_mensal\",\n",
    "    color=\"cluster\",\n",
    "    title=\"Idade vs. Faturamento Mensal por Cluster\",\n",
    "    labels={\"idade\": \"Idade\", \"faturamento_mensal\": \"Faturamento Mensal\"},\n",
    ")"
   ]
  },
  {
   "cell_type": "code",
   "execution_count": 14,
   "metadata": {},
   "outputs": [
    {
     "data": {
      "application/vnd.plotly.v1+json": {
       "config": {
        "plotlyServerURL": "https://plot.ly"
       },
       "data": [
        {
         "hovertemplate": "Inovação=%{x}<br>Faturamento Mensal=%{y}<br>cluster=%{marker.color}<extra></extra>",
         "legendgroup": "",
         "marker": {
          "color": [
           1,
           1,
           2,
           1,
           2,
           0,
           1,
           0,
           1,
           0,
           0,
           0,
           0,
           0,
           2,
           2,
           2,
           1,
           2,
           0,
           1,
           1,
           0,
           0,
           1,
           1,
           2,
           0,
           1,
           1,
           1,
           2,
           0,
           0,
           0,
           0,
           0,
           0,
           2,
           2,
           0,
           0,
           0,
           0,
           1,
           2,
           0,
           1,
           2,
           2,
           0,
           1,
           1,
           0,
           1,
           1,
           1,
           1,
           0,
           2,
           2,
           0,
           1,
           2,
           2,
           0,
           0,
           1,
           1,
           1,
           0,
           1,
           1,
           2,
           0,
           1,
           1,
           0,
           0,
           2,
           2,
           1,
           1,
           2,
           0,
           2,
           0,
           1,
           1,
           0,
           1,
           0,
           0,
           1,
           1,
           2,
           2,
           0,
           2,
           0,
           1,
           1,
           0,
           0,
           1,
           0,
           2,
           0,
           0,
           2,
           2,
           2,
           2,
           2,
           1,
           1,
           2,
           1,
           0,
           0,
           1,
           1,
           0,
           0,
           2,
           1,
           2,
           0,
           0,
           2,
           0,
           1,
           1,
           0,
           1,
           1,
           2,
           0,
           1,
           0,
           2,
           1,
           1,
           1,
           2,
           1,
           2,
           1,
           2,
           0,
           1,
           0,
           0,
           2,
           1,
           0,
           2,
           2,
           1,
           1,
           0,
           2,
           2,
           0,
           0,
           0,
           1,
           1,
           2,
           2,
           2,
           0,
           1,
           0,
           0,
           1,
           2,
           2,
           2,
           2,
           1,
           0,
           2,
           2,
           0,
           0,
           2,
           1,
           2,
           2,
           2,
           1,
           0,
           2,
           1,
           2,
           1,
           1,
           0,
           0,
           0,
           2,
           2,
           1,
           1,
           2,
           0,
           1,
           0,
           1,
           1,
           1,
           1,
           1,
           1,
           0,
           0,
           2,
           1,
           1,
           2,
           0,
           0,
           0,
           2,
           2,
           1,
           2,
           1,
           0,
           1,
           0,
           2,
           0,
           1,
           2,
           0,
           0,
           2,
           0,
           2,
           0,
           1,
           1,
           1,
           2,
           0,
           0,
           2,
           0,
           2,
           1,
           1,
           1,
           0,
           0,
           2,
           0,
           2,
           1,
           0,
           2,
           1,
           2,
           1,
           0,
           2,
           2,
           1,
           0,
           2,
           0,
           1,
           2,
           0,
           0,
           0,
           2,
           0,
           0,
           0,
           2,
           1,
           1,
           2,
           2,
           2,
           2,
           0,
           1,
           1,
           2,
           1,
           0,
           2,
           1,
           0,
           0,
           2,
           1,
           0,
           2,
           2,
           1,
           1,
           2,
           2,
           0,
           0,
           1,
           1,
           0,
           1,
           1,
           1,
           1,
           2,
           0,
           2,
           1,
           1,
           0,
           1,
           2,
           2,
           0,
           2,
           0,
           1,
           2,
           2,
           1,
           0,
           2,
           0,
           0,
           1,
           1,
           2,
           2,
           2,
           0,
           0,
           1,
           1,
           2,
           1,
           0,
           0,
           2,
           0,
           1,
           0,
           2,
           0,
           0,
           0,
           0,
           2,
           0,
           2,
           1,
           2,
           2,
           0,
           1,
           1,
           1,
           2,
           0,
           1,
           1,
           0,
           0,
           2,
           2,
           0,
           0,
           1,
           0,
           0,
           2,
           1,
           2,
           2,
           0,
           1,
           2,
           2,
           2,
           0,
           0,
           1,
           0,
           0,
           2,
           1,
           2,
           2,
           0,
           1,
           0,
           2,
           1,
           0,
           2,
           2,
           0,
           1,
           1,
           1,
           0,
           0,
           2,
           0,
           0,
           0,
           0,
           2,
           0,
           2,
           0,
           0,
           0,
           1,
           0,
           0,
           0,
           1,
           2,
           0,
           1,
           1,
           1,
           2,
           0,
           0,
           0,
           1,
           0,
           0,
           2,
           0,
           2,
           0,
           1,
           1,
           0,
           2,
           0,
           1,
           0,
           1,
           0,
           1,
           0,
           2,
           0,
           0,
           2,
           0,
           2,
           0,
           1,
           1,
           1,
           0,
           2,
           1,
           0,
           1,
           1,
           2,
           2,
           0,
           0,
           0,
           2,
           1,
           1,
           0,
           2,
           2,
           1,
           2,
           1,
           1,
           0,
           0,
           1,
           0,
           1,
           1,
           2,
           1,
           1,
           2,
           1,
           0,
           2
          ],
          "coloraxis": "coloraxis",
          "symbol": "circle"
         },
         "mode": "markers",
         "name": "",
         "orientation": "v",
         "showlegend": false,
         "type": "scatter",
         "x": [
          1,
          0,
          9,
          0,
          8,
          4,
          1,
          6,
          1,
          3,
          4,
          4,
          6,
          3,
          8,
          7,
          8,
          0,
          7,
          5,
          2,
          2,
          4,
          5,
          2,
          1,
          7,
          6,
          2,
          1,
          2,
          9,
          5,
          6,
          5,
          3,
          5,
          6,
          8,
          7,
          6,
          3,
          3,
          4,
          1,
          9,
          3,
          0,
          8,
          7,
          6,
          1,
          2,
          3,
          0,
          0,
          2,
          1,
          5,
          9,
          9,
          4,
          1,
          7,
          8,
          3,
          5,
          2,
          0,
          1,
          5,
          1,
          1,
          7,
          5,
          2,
          2,
          3,
          5,
          8,
          7,
          2,
          2,
          7,
          3,
          9,
          6,
          1,
          0,
          6,
          0,
          3,
          4,
          1,
          2,
          8,
          7,
          6,
          9,
          4,
          1,
          1,
          4,
          5,
          0,
          3,
          8,
          3,
          5,
          9,
          8,
          7,
          7,
          7,
          0,
          2,
          8,
          0,
          4,
          3,
          0,
          2,
          5,
          4,
          9,
          2,
          9,
          4,
          4,
          9,
          6,
          0,
          1,
          3,
          2,
          2,
          9,
          6,
          0,
          4,
          7,
          0,
          1,
          2,
          9,
          2,
          7,
          0,
          6,
          6,
          2,
          3,
          5,
          7,
          2,
          6,
          7,
          7,
          2,
          2,
          4,
          9,
          8,
          6,
          3,
          5,
          1,
          1,
          9,
          7,
          9,
          6,
          2,
          4,
          6,
          0,
          9,
          9,
          8,
          7,
          0,
          4,
          7,
          9,
          6,
          5,
          8,
          1,
          9,
          8,
          9,
          0,
          3,
          8,
          1,
          8,
          1,
          0,
          4,
          4,
          3,
          8,
          7,
          1,
          0,
          7,
          4,
          1,
          5,
          0,
          0,
          2,
          1,
          0,
          2,
          4,
          3,
          9,
          1,
          0,
          9,
          5,
          6,
          6,
          7,
          8,
          2,
          8,
          0,
          3,
          0,
          3,
          7,
          6,
          2,
          7,
          5,
          4,
          8,
          4,
          7,
          3,
          1,
          2,
          2,
          9,
          3,
          6,
          8,
          6,
          9,
          0,
          0,
          1,
          6,
          5,
          7,
          6,
          7,
          0,
          5,
          9,
          2,
          8,
          2,
          4,
          9,
          7,
          0,
          3,
          7,
          6,
          0,
          8,
          6,
          5,
          4,
          7,
          5,
          6,
          4,
          9,
          2,
          0,
          7,
          7,
          8,
          8,
          4,
          2,
          1,
          8,
          1,
          3,
          9,
          0,
          6,
          4,
          8,
          1,
          5,
          8,
          6,
          1,
          1,
          8,
          8,
          3,
          5,
          2,
          0,
          3,
          1,
          1,
          2,
          0,
          7,
          3,
          9,
          1,
          2,
          6,
          2,
          7,
          7,
          6,
          9,
          6,
          1,
          9,
          6,
          1,
          3,
          8,
          3,
          4,
          2,
          0,
          9,
          9,
          9,
          4,
          6,
          1,
          2,
          7,
          0,
          6,
          3,
          8,
          5,
          0,
          6,
          7,
          5,
          6,
          3,
          5,
          7,
          3,
          7,
          0,
          8,
          8,
          5,
          2,
          1,
          0,
          8,
          4,
          2,
          1,
          4,
          4,
          9,
          7,
          5,
          3,
          2,
          6,
          5,
          9,
          0,
          8,
          9,
          3,
          2,
          7,
          8,
          8,
          6,
          3,
          1,
          5,
          6,
          7,
          1,
          8,
          7,
          6,
          2,
          4,
          9,
          1,
          4,
          9,
          8,
          3,
          1,
          1,
          2,
          6,
          5,
          7,
          6,
          4,
          6,
          3,
          9,
          3,
          7,
          3,
          4,
          3,
          1,
          3,
          5,
          6,
          2,
          7,
          3,
          0,
          1,
          2,
          9,
          5,
          6,
          6,
          1,
          6,
          5,
          9,
          6,
          9,
          4,
          2,
          0,
          4,
          8,
          5,
          1,
          5,
          1,
          6,
          1,
          4,
          7,
          6,
          4,
          7,
          6,
          7,
          5,
          2,
          0,
          1,
          3,
          8,
          2,
          5,
          0,
          0,
          7,
          8,
          4,
          3,
          4,
          8,
          0,
          2,
          5,
          7,
          8,
          0,
          9,
          2,
          1,
          5,
          5,
          1,
          3,
          0,
          2,
          8,
          1,
          2,
          9,
          0,
          3,
          9
         ],
         "xaxis": "x",
         "y": [
          713109.95,
          790714.38,
          1197239.33,
          449185.78,
          1006373.16,
          1629562.41,
          771179.95,
          707837.61,
          888983.66,
          1098512.64,
          695548.78,
          556632.55,
          800123.32,
          1544423.2,
          1058543.63,
          783081.11,
          566156.05,
          1047680.24,
          836793.37,
          1072955.49,
          1125089.99,
          1424196.41,
          1376884.23,
          1240936.73,
          947515.95,
          1237763.98,
          1181642.63,
          782097.18,
          111926.48,
          489936.94,
          1164187.89,
          1418374.5,
          1325421.71,
          445704.4,
          958656.71,
          1207754.02,
          1258551.12,
          1051870.82,
          1116791.99,
          944040.44,
          878314.15,
          645734.68,
          1197770.02,
          619332.74,
          973809.28,
          1055849.89,
          743078.06,
          853682.38,
          1188462.86,
          1922245.53,
          854257.82,
          296714.92,
          1398126.07,
          1366079.54,
          615848.03,
          95680.54,
          588181.56,
          2263343.91,
          992946.81,
          990270.34,
          899158.38,
          969864.84,
          866778.96,
          1523849.47,
          842146.63,
          431140.66,
          1102025.65,
          837639.72,
          1539172.91,
          662659.12,
          873208.52,
          1191112.82,
          936929.11,
          653645.84,
          914998.87,
          931561.93,
          1489753.71,
          389151.32,
          734331.53,
          1195418.56,
          1077111.04,
          1098366.38,
          1578288.81,
          903521.24,
          1293348.75,
          559870.94,
          1378891.79,
          1124033.51,
          1239188.62,
          241891.6,
          226715.57,
          316147.85,
          983027.55,
          1081112.62,
          1351509.91,
          705494.09,
          1616152.72,
          121410.81,
          1379112.59,
          371592.27,
          1005847.92,
          909973.14,
          717966.54,
          1079558.76,
          348577.69,
          1419109.8,
          785108.04,
          2083352.96,
          705535.84,
          1102257.75,
          184770.26,
          1146243.42,
          1706382.47,
          1932443.78,
          1443795.53,
          1388175.16,
          1033935.28,
          1506130.56,
          971873.18,
          1231155.45,
          856263.52,
          789695.82,
          617845.52,
          997025.99,
          993329.43,
          1439742.37,
          1083390.19,
          763290.3,
          1132167.53,
          1404262.26,
          833741.24,
          833486.37,
          949003.35,
          1383614.28,
          603109.29,
          810709.96,
          735388.51,
          1574289.73,
          1589880.1,
          993467.4,
          863881.59,
          332979.68,
          831586.64,
          18421.22,
          823011.86,
          643092.4,
          958451.91,
          1841715.96,
          1114979.28,
          843237.64,
          853807.58,
          1267527.12,
          722272.13,
          580396.98,
          1153343.69,
          1243667.61,
          1655885.31,
          1563607.42,
          1404873.5,
          723535.75,
          1276078.67,
          810805.33,
          1555042.97,
          1142214.41,
          1272544.7,
          983440.97,
          103994.8,
          1236114.44,
          1565259.29,
          909928.51,
          1518495.54,
          1353384.97,
          1050126.53,
          1094043.53,
          1078181.16,
          1480465.17,
          267812.36,
          1754666.01,
          1070918.51,
          334835.36,
          1290549.96,
          1363863.52,
          834438.57,
          1301428.04,
          148061.36,
          850020.42,
          650241.43,
          494926.48,
          1057767.62,
          627273.65,
          665358.48,
          740201.08,
          991762.16,
          1230575.08,
          174738.56,
          1407737.12,
          1376121.85,
          763143.44,
          1009984.8,
          965508.49,
          1118393.81,
          1094810.2,
          1093585.71,
          1248640.73,
          1475870,
          564348.59,
          768322.67,
          1032819.03,
          816484.64,
          535199.75,
          743926.38,
          852074.86,
          1194723.4,
          849942.63,
          1330082.14,
          861194.33,
          312067.61,
          554967.95,
          608858.82,
          271560.28,
          1171807.82,
          1063111.93,
          726828.81,
          864076.14,
          1134311.38,
          1220385.54,
          988495.51,
          769054.24,
          1027960.98,
          1063262.79,
          910568.59,
          1716130.92,
          1230763.9,
          1014070.01,
          989109.67,
          531384.99,
          84497.94,
          1385339.46,
          1009392.87,
          787481.84,
          679053.92,
          1100001.65,
          2390677.22,
          977980.47,
          598717.71,
          1025701.64,
          788278.22,
          64711.22,
          1570819.07,
          1993908.63,
          785668.64,
          1258737.22,
          1320450.27,
          911615.28,
          533072.17,
          659624.71,
          1367765.95,
          1370699.52,
          757658.35,
          1286670.98,
          1650111.3,
          803823.34,
          1133686.14,
          1016606.48,
          1209830.96,
          768946.51,
          1236870.36,
          1373604.43,
          791201.94,
          470253.72,
          1244020.43,
          323593.53,
          839638.4,
          1460403.03,
          1255764.84,
          915799.22,
          1541762.74,
          429688.53,
          800004.44,
          1017325.17,
          60516.83,
          1207098.74,
          791704.75,
          1655693.05,
          1281521.01,
          1902144.56,
          853723.67,
          1344366.16,
          884940.1,
          625599.74,
          908289.25,
          1032183.53,
          2107306.42,
          481595.99,
          663326.41,
          1588245.25,
          921770.07,
          163682.26,
          1247176.41,
          1212901.4,
          851080.66,
          942883.08,
          1707923.52,
          1177227.98,
          499441.3,
          1395925.1,
          1456142.58,
          693629.48,
          1209549.81,
          1713025.38,
          1292741.18,
          911521.72,
          1094337.38,
          880090.72,
          1015654.17,
          1398871.6,
          1327130.38,
          1129203.5,
          941612.29,
          854382.67,
          1318621.28,
          1458066.67,
          1728544.72,
          1161568.8,
          780121.59,
          1298316.46,
          1337880.08,
          231562.65,
          823374.93,
          356229.62,
          1532181.14,
          1006625.13,
          1104801.34,
          722920.8,
          734238.96,
          805436.7,
          1647453.28,
          898610.61,
          626629.6,
          1794352.93,
          1043981.61,
          665572.04,
          932845.17,
          1569380.97,
          1216938.1,
          1093042.03,
          1348626.67,
          203045.12,
          602393.66,
          1010038.24,
          929711.04,
          1116387.07,
          1683711.93,
          626776.88,
          1219653.63,
          1314583.32,
          1535533.76,
          1936486.41,
          1382271.23,
          1238547.54,
          944765.54,
          1057982.09,
          1046845.34,
          333127.92,
          1189103.92,
          1003981.55,
          629572.6,
          753664.57,
          549149.57,
          1288325.43,
          928727.24,
          1843761.24,
          244825,
          656377.77,
          1574626.03,
          1439950.65,
          721463.53,
          1436673,
          841346.81,
          1485834.15,
          1459878,
          1349860.72,
          1952250.45,
          1027285.87,
          1053130.05,
          990690.47,
          1118793.07,
          1902367.98,
          981440.96,
          506672.67,
          1735063.39,
          686102.63,
          715243.69,
          1193834.4,
          1743573.32,
          1167501.7,
          989883.92,
          1058929.85,
          673865.11,
          591593.3,
          916748.4,
          1694996.88,
          550053.3,
          1195575.01,
          1867234.3,
          1077943.15,
          1228736.22,
          1003381.76,
          603305.03,
          1220941.7,
          545859.25,
          1124754.89,
          1167866.74,
          1362343.3,
          1103149.26,
          743480.47,
          434194.11,
          479869.9,
          1071831.13,
          593531.52,
          1492116.94,
          658580.22,
          869605.13,
          879688.87,
          725022.65,
          1316076.16,
          1056532.62,
          836973.51,
          79015.03,
          1780802.99,
          1328577.86,
          435489.53,
          844782.42,
          1298004.31,
          1662826.01,
          970959.21,
          869638.69,
          1009839.03,
          1021085.99,
          1239494.05,
          1536684.3,
          1068322.53,
          983540.2,
          880695.38,
          119950.58,
          1346978.95,
          1752009.96,
          1061121.78,
          1358513.26,
          254263.2,
          475032.23,
          1330014.86,
          1042344.43,
          429809.37,
          1198949.59,
          1024828.18,
          1878689.05,
          1635893.76,
          1147381.02,
          1155825.73,
          1295183.25,
          654953.48,
          1130027.72,
          25576.28,
          1227045.41,
          805517.39,
          1169132.47,
          1109076.58,
          695368.23,
          1355673.25,
          809933.42,
          1229181.97,
          1693342.51,
          618250.8,
          811781.56,
          745302.32,
          1052598.3,
          1103740.65,
          1810013.45,
          1334308.97,
          1425718.91,
          1662467.08,
          1681458.49,
          1509385.85,
          1533062.06,
          786224.94,
          445571.87,
          505124.91,
          2006688.81,
          416429.3,
          215580.61,
          1050776.57,
          785671.05,
          658330.45,
          1643153.26,
          1581841.42,
          1291309.57,
          2211489.85,
          1460860.46,
          173684.43
         ],
         "yaxis": "y"
        }
       ],
       "layout": {
        "coloraxis": {
         "colorbar": {
          "title": {
           "text": "cluster"
          }
         },
         "colorscale": [
          [
           0,
           "#0d0887"
          ],
          [
           0.1111111111111111,
           "#46039f"
          ],
          [
           0.2222222222222222,
           "#7201a8"
          ],
          [
           0.3333333333333333,
           "#9c179e"
          ],
          [
           0.4444444444444444,
           "#bd3786"
          ],
          [
           0.5555555555555556,
           "#d8576b"
          ],
          [
           0.6666666666666666,
           "#ed7953"
          ],
          [
           0.7777777777777778,
           "#fb9f3a"
          ],
          [
           0.8888888888888888,
           "#fdca26"
          ],
          [
           1,
           "#f0f921"
          ]
         ]
        },
        "legend": {
         "tracegroupgap": 0
        },
        "template": {
         "data": {
          "bar": [
           {
            "error_x": {
             "color": "#2a3f5f"
            },
            "error_y": {
             "color": "#2a3f5f"
            },
            "marker": {
             "line": {
              "color": "#E5ECF6",
              "width": 0.5
             },
             "pattern": {
              "fillmode": "overlay",
              "size": 10,
              "solidity": 0.2
             }
            },
            "type": "bar"
           }
          ],
          "barpolar": [
           {
            "marker": {
             "line": {
              "color": "#E5ECF6",
              "width": 0.5
             },
             "pattern": {
              "fillmode": "overlay",
              "size": 10,
              "solidity": 0.2
             }
            },
            "type": "barpolar"
           }
          ],
          "carpet": [
           {
            "aaxis": {
             "endlinecolor": "#2a3f5f",
             "gridcolor": "white",
             "linecolor": "white",
             "minorgridcolor": "white",
             "startlinecolor": "#2a3f5f"
            },
            "baxis": {
             "endlinecolor": "#2a3f5f",
             "gridcolor": "white",
             "linecolor": "white",
             "minorgridcolor": "white",
             "startlinecolor": "#2a3f5f"
            },
            "type": "carpet"
           }
          ],
          "choropleth": [
           {
            "colorbar": {
             "outlinewidth": 0,
             "ticks": ""
            },
            "type": "choropleth"
           }
          ],
          "contour": [
           {
            "colorbar": {
             "outlinewidth": 0,
             "ticks": ""
            },
            "colorscale": [
             [
              0,
              "#0d0887"
             ],
             [
              0.1111111111111111,
              "#46039f"
             ],
             [
              0.2222222222222222,
              "#7201a8"
             ],
             [
              0.3333333333333333,
              "#9c179e"
             ],
             [
              0.4444444444444444,
              "#bd3786"
             ],
             [
              0.5555555555555556,
              "#d8576b"
             ],
             [
              0.6666666666666666,
              "#ed7953"
             ],
             [
              0.7777777777777778,
              "#fb9f3a"
             ],
             [
              0.8888888888888888,
              "#fdca26"
             ],
             [
              1,
              "#f0f921"
             ]
            ],
            "type": "contour"
           }
          ],
          "contourcarpet": [
           {
            "colorbar": {
             "outlinewidth": 0,
             "ticks": ""
            },
            "type": "contourcarpet"
           }
          ],
          "heatmap": [
           {
            "colorbar": {
             "outlinewidth": 0,
             "ticks": ""
            },
            "colorscale": [
             [
              0,
              "#0d0887"
             ],
             [
              0.1111111111111111,
              "#46039f"
             ],
             [
              0.2222222222222222,
              "#7201a8"
             ],
             [
              0.3333333333333333,
              "#9c179e"
             ],
             [
              0.4444444444444444,
              "#bd3786"
             ],
             [
              0.5555555555555556,
              "#d8576b"
             ],
             [
              0.6666666666666666,
              "#ed7953"
             ],
             [
              0.7777777777777778,
              "#fb9f3a"
             ],
             [
              0.8888888888888888,
              "#fdca26"
             ],
             [
              1,
              "#f0f921"
             ]
            ],
            "type": "heatmap"
           }
          ],
          "heatmapgl": [
           {
            "colorbar": {
             "outlinewidth": 0,
             "ticks": ""
            },
            "colorscale": [
             [
              0,
              "#0d0887"
             ],
             [
              0.1111111111111111,
              "#46039f"
             ],
             [
              0.2222222222222222,
              "#7201a8"
             ],
             [
              0.3333333333333333,
              "#9c179e"
             ],
             [
              0.4444444444444444,
              "#bd3786"
             ],
             [
              0.5555555555555556,
              "#d8576b"
             ],
             [
              0.6666666666666666,
              "#ed7953"
             ],
             [
              0.7777777777777778,
              "#fb9f3a"
             ],
             [
              0.8888888888888888,
              "#fdca26"
             ],
             [
              1,
              "#f0f921"
             ]
            ],
            "type": "heatmapgl"
           }
          ],
          "histogram": [
           {
            "marker": {
             "pattern": {
              "fillmode": "overlay",
              "size": 10,
              "solidity": 0.2
             }
            },
            "type": "histogram"
           }
          ],
          "histogram2d": [
           {
            "colorbar": {
             "outlinewidth": 0,
             "ticks": ""
            },
            "colorscale": [
             [
              0,
              "#0d0887"
             ],
             [
              0.1111111111111111,
              "#46039f"
             ],
             [
              0.2222222222222222,
              "#7201a8"
             ],
             [
              0.3333333333333333,
              "#9c179e"
             ],
             [
              0.4444444444444444,
              "#bd3786"
             ],
             [
              0.5555555555555556,
              "#d8576b"
             ],
             [
              0.6666666666666666,
              "#ed7953"
             ],
             [
              0.7777777777777778,
              "#fb9f3a"
             ],
             [
              0.8888888888888888,
              "#fdca26"
             ],
             [
              1,
              "#f0f921"
             ]
            ],
            "type": "histogram2d"
           }
          ],
          "histogram2dcontour": [
           {
            "colorbar": {
             "outlinewidth": 0,
             "ticks": ""
            },
            "colorscale": [
             [
              0,
              "#0d0887"
             ],
             [
              0.1111111111111111,
              "#46039f"
             ],
             [
              0.2222222222222222,
              "#7201a8"
             ],
             [
              0.3333333333333333,
              "#9c179e"
             ],
             [
              0.4444444444444444,
              "#bd3786"
             ],
             [
              0.5555555555555556,
              "#d8576b"
             ],
             [
              0.6666666666666666,
              "#ed7953"
             ],
             [
              0.7777777777777778,
              "#fb9f3a"
             ],
             [
              0.8888888888888888,
              "#fdca26"
             ],
             [
              1,
              "#f0f921"
             ]
            ],
            "type": "histogram2dcontour"
           }
          ],
          "mesh3d": [
           {
            "colorbar": {
             "outlinewidth": 0,
             "ticks": ""
            },
            "type": "mesh3d"
           }
          ],
          "parcoords": [
           {
            "line": {
             "colorbar": {
              "outlinewidth": 0,
              "ticks": ""
             }
            },
            "type": "parcoords"
           }
          ],
          "pie": [
           {
            "automargin": true,
            "type": "pie"
           }
          ],
          "scatter": [
           {
            "fillpattern": {
             "fillmode": "overlay",
             "size": 10,
             "solidity": 0.2
            },
            "type": "scatter"
           }
          ],
          "scatter3d": [
           {
            "line": {
             "colorbar": {
              "outlinewidth": 0,
              "ticks": ""
             }
            },
            "marker": {
             "colorbar": {
              "outlinewidth": 0,
              "ticks": ""
             }
            },
            "type": "scatter3d"
           }
          ],
          "scattercarpet": [
           {
            "marker": {
             "colorbar": {
              "outlinewidth": 0,
              "ticks": ""
             }
            },
            "type": "scattercarpet"
           }
          ],
          "scattergeo": [
           {
            "marker": {
             "colorbar": {
              "outlinewidth": 0,
              "ticks": ""
             }
            },
            "type": "scattergeo"
           }
          ],
          "scattergl": [
           {
            "marker": {
             "colorbar": {
              "outlinewidth": 0,
              "ticks": ""
             }
            },
            "type": "scattergl"
           }
          ],
          "scattermapbox": [
           {
            "marker": {
             "colorbar": {
              "outlinewidth": 0,
              "ticks": ""
             }
            },
            "type": "scattermapbox"
           }
          ],
          "scatterpolar": [
           {
            "marker": {
             "colorbar": {
              "outlinewidth": 0,
              "ticks": ""
             }
            },
            "type": "scatterpolar"
           }
          ],
          "scatterpolargl": [
           {
            "marker": {
             "colorbar": {
              "outlinewidth": 0,
              "ticks": ""
             }
            },
            "type": "scatterpolargl"
           }
          ],
          "scatterternary": [
           {
            "marker": {
             "colorbar": {
              "outlinewidth": 0,
              "ticks": ""
             }
            },
            "type": "scatterternary"
           }
          ],
          "surface": [
           {
            "colorbar": {
             "outlinewidth": 0,
             "ticks": ""
            },
            "colorscale": [
             [
              0,
              "#0d0887"
             ],
             [
              0.1111111111111111,
              "#46039f"
             ],
             [
              0.2222222222222222,
              "#7201a8"
             ],
             [
              0.3333333333333333,
              "#9c179e"
             ],
             [
              0.4444444444444444,
              "#bd3786"
             ],
             [
              0.5555555555555556,
              "#d8576b"
             ],
             [
              0.6666666666666666,
              "#ed7953"
             ],
             [
              0.7777777777777778,
              "#fb9f3a"
             ],
             [
              0.8888888888888888,
              "#fdca26"
             ],
             [
              1,
              "#f0f921"
             ]
            ],
            "type": "surface"
           }
          ],
          "table": [
           {
            "cells": {
             "fill": {
              "color": "#EBF0F8"
             },
             "line": {
              "color": "white"
             }
            },
            "header": {
             "fill": {
              "color": "#C8D4E3"
             },
             "line": {
              "color": "white"
             }
            },
            "type": "table"
           }
          ]
         },
         "layout": {
          "annotationdefaults": {
           "arrowcolor": "#2a3f5f",
           "arrowhead": 0,
           "arrowwidth": 1
          },
          "autotypenumbers": "strict",
          "coloraxis": {
           "colorbar": {
            "outlinewidth": 0,
            "ticks": ""
           }
          },
          "colorscale": {
           "diverging": [
            [
             0,
             "#8e0152"
            ],
            [
             0.1,
             "#c51b7d"
            ],
            [
             0.2,
             "#de77ae"
            ],
            [
             0.3,
             "#f1b6da"
            ],
            [
             0.4,
             "#fde0ef"
            ],
            [
             0.5,
             "#f7f7f7"
            ],
            [
             0.6,
             "#e6f5d0"
            ],
            [
             0.7,
             "#b8e186"
            ],
            [
             0.8,
             "#7fbc41"
            ],
            [
             0.9,
             "#4d9221"
            ],
            [
             1,
             "#276419"
            ]
           ],
           "sequential": [
            [
             0,
             "#0d0887"
            ],
            [
             0.1111111111111111,
             "#46039f"
            ],
            [
             0.2222222222222222,
             "#7201a8"
            ],
            [
             0.3333333333333333,
             "#9c179e"
            ],
            [
             0.4444444444444444,
             "#bd3786"
            ],
            [
             0.5555555555555556,
             "#d8576b"
            ],
            [
             0.6666666666666666,
             "#ed7953"
            ],
            [
             0.7777777777777778,
             "#fb9f3a"
            ],
            [
             0.8888888888888888,
             "#fdca26"
            ],
            [
             1,
             "#f0f921"
            ]
           ],
           "sequentialminus": [
            [
             0,
             "#0d0887"
            ],
            [
             0.1111111111111111,
             "#46039f"
            ],
            [
             0.2222222222222222,
             "#7201a8"
            ],
            [
             0.3333333333333333,
             "#9c179e"
            ],
            [
             0.4444444444444444,
             "#bd3786"
            ],
            [
             0.5555555555555556,
             "#d8576b"
            ],
            [
             0.6666666666666666,
             "#ed7953"
            ],
            [
             0.7777777777777778,
             "#fb9f3a"
            ],
            [
             0.8888888888888888,
             "#fdca26"
            ],
            [
             1,
             "#f0f921"
            ]
           ]
          },
          "colorway": [
           "#636efa",
           "#EF553B",
           "#00cc96",
           "#ab63fa",
           "#FFA15A",
           "#19d3f3",
           "#FF6692",
           "#B6E880",
           "#FF97FF",
           "#FECB52"
          ],
          "font": {
           "color": "#2a3f5f"
          },
          "geo": {
           "bgcolor": "white",
           "lakecolor": "white",
           "landcolor": "#E5ECF6",
           "showlakes": true,
           "showland": true,
           "subunitcolor": "white"
          },
          "hoverlabel": {
           "align": "left"
          },
          "hovermode": "closest",
          "mapbox": {
           "style": "light"
          },
          "paper_bgcolor": "white",
          "plot_bgcolor": "#E5ECF6",
          "polar": {
           "angularaxis": {
            "gridcolor": "white",
            "linecolor": "white",
            "ticks": ""
           },
           "bgcolor": "#E5ECF6",
           "radialaxis": {
            "gridcolor": "white",
            "linecolor": "white",
            "ticks": ""
           }
          },
          "scene": {
           "xaxis": {
            "backgroundcolor": "#E5ECF6",
            "gridcolor": "white",
            "gridwidth": 2,
            "linecolor": "white",
            "showbackground": true,
            "ticks": "",
            "zerolinecolor": "white"
           },
           "yaxis": {
            "backgroundcolor": "#E5ECF6",
            "gridcolor": "white",
            "gridwidth": 2,
            "linecolor": "white",
            "showbackground": true,
            "ticks": "",
            "zerolinecolor": "white"
           },
           "zaxis": {
            "backgroundcolor": "#E5ECF6",
            "gridcolor": "white",
            "gridwidth": 2,
            "linecolor": "white",
            "showbackground": true,
            "ticks": "",
            "zerolinecolor": "white"
           }
          },
          "shapedefaults": {
           "line": {
            "color": "#2a3f5f"
           }
          },
          "ternary": {
           "aaxis": {
            "gridcolor": "white",
            "linecolor": "white",
            "ticks": ""
           },
           "baxis": {
            "gridcolor": "white",
            "linecolor": "white",
            "ticks": ""
           },
           "bgcolor": "#E5ECF6",
           "caxis": {
            "gridcolor": "white",
            "linecolor": "white",
            "ticks": ""
           }
          },
          "title": {
           "x": 0.05
          },
          "xaxis": {
           "automargin": true,
           "gridcolor": "white",
           "linecolor": "white",
           "ticks": "",
           "title": {
            "standoff": 15
           },
           "zerolinecolor": "white",
           "zerolinewidth": 2
          },
          "yaxis": {
           "automargin": true,
           "gridcolor": "white",
           "linecolor": "white",
           "ticks": "",
           "title": {
            "standoff": 15
           },
           "zerolinecolor": "white",
           "zerolinewidth": 2
          }
         }
        },
        "title": {
         "text": "Inovação vs. Faturamento Mensal por Cluster"
        },
        "xaxis": {
         "anchor": "y",
         "domain": [
          0,
          1
         ],
         "title": {
          "text": "Inovação"
         }
        },
        "yaxis": {
         "anchor": "x",
         "domain": [
          0,
          1
         ],
         "title": {
          "text": "Faturamento Mensal"
         }
        }
       }
      }
     },
     "metadata": {},
     "output_type": "display_data"
    }
   ],
   "source": [
    "# Plot \"inovacao\" and \"faturamento_mensal\" by cluster\n",
    "px.scatter(\n",
    "    df,\n",
    "    x=\"inovacao\",\n",
    "    y=\"faturamento_mensal\",\n",
    "    color=\"cluster\",\n",
    "    title=\"Inovação vs. Faturamento Mensal por Cluster\",\n",
    "    labels={\"inovacao\": \"Inovação\", \"faturamento_mensal\": \"Faturamento Mensal\"},\n",
    ")"
   ]
  },
  {
   "cell_type": "code",
   "execution_count": 15,
   "metadata": {},
   "outputs": [
    {
     "data": {
      "application/vnd.plotly.v1+json": {
       "config": {
        "plotlyServerURL": "https://plot.ly"
       },
       "data": [
        {
         "hovertemplate": "Numéro de funcionários=%{x}<br>Faturamento Mensal=%{y}<br>cluster=%{marker.color}<extra></extra>",
         "legendgroup": "",
         "marker": {
          "color": [
           1,
           1,
           2,
           1,
           2,
           0,
           1,
           0,
           1,
           0,
           0,
           0,
           0,
           0,
           2,
           2,
           2,
           1,
           2,
           0,
           1,
           1,
           0,
           0,
           1,
           1,
           2,
           0,
           1,
           1,
           1,
           2,
           0,
           0,
           0,
           0,
           0,
           0,
           2,
           2,
           0,
           0,
           0,
           0,
           1,
           2,
           0,
           1,
           2,
           2,
           0,
           1,
           1,
           0,
           1,
           1,
           1,
           1,
           0,
           2,
           2,
           0,
           1,
           2,
           2,
           0,
           0,
           1,
           1,
           1,
           0,
           1,
           1,
           2,
           0,
           1,
           1,
           0,
           0,
           2,
           2,
           1,
           1,
           2,
           0,
           2,
           0,
           1,
           1,
           0,
           1,
           0,
           0,
           1,
           1,
           2,
           2,
           0,
           2,
           0,
           1,
           1,
           0,
           0,
           1,
           0,
           2,
           0,
           0,
           2,
           2,
           2,
           2,
           2,
           1,
           1,
           2,
           1,
           0,
           0,
           1,
           1,
           0,
           0,
           2,
           1,
           2,
           0,
           0,
           2,
           0,
           1,
           1,
           0,
           1,
           1,
           2,
           0,
           1,
           0,
           2,
           1,
           1,
           1,
           2,
           1,
           2,
           1,
           2,
           0,
           1,
           0,
           0,
           2,
           1,
           0,
           2,
           2,
           1,
           1,
           0,
           2,
           2,
           0,
           0,
           0,
           1,
           1,
           2,
           2,
           2,
           0,
           1,
           0,
           0,
           1,
           2,
           2,
           2,
           2,
           1,
           0,
           2,
           2,
           0,
           0,
           2,
           1,
           2,
           2,
           2,
           1,
           0,
           2,
           1,
           2,
           1,
           1,
           0,
           0,
           0,
           2,
           2,
           1,
           1,
           2,
           0,
           1,
           0,
           1,
           1,
           1,
           1,
           1,
           1,
           0,
           0,
           2,
           1,
           1,
           2,
           0,
           0,
           0,
           2,
           2,
           1,
           2,
           1,
           0,
           1,
           0,
           2,
           0,
           1,
           2,
           0,
           0,
           2,
           0,
           2,
           0,
           1,
           1,
           1,
           2,
           0,
           0,
           2,
           0,
           2,
           1,
           1,
           1,
           0,
           0,
           2,
           0,
           2,
           1,
           0,
           2,
           1,
           2,
           1,
           0,
           2,
           2,
           1,
           0,
           2,
           0,
           1,
           2,
           0,
           0,
           0,
           2,
           0,
           0,
           0,
           2,
           1,
           1,
           2,
           2,
           2,
           2,
           0,
           1,
           1,
           2,
           1,
           0,
           2,
           1,
           0,
           0,
           2,
           1,
           0,
           2,
           2,
           1,
           1,
           2,
           2,
           0,
           0,
           1,
           1,
           0,
           1,
           1,
           1,
           1,
           2,
           0,
           2,
           1,
           1,
           0,
           1,
           2,
           2,
           0,
           2,
           0,
           1,
           2,
           2,
           1,
           0,
           2,
           0,
           0,
           1,
           1,
           2,
           2,
           2,
           0,
           0,
           1,
           1,
           2,
           1,
           0,
           0,
           2,
           0,
           1,
           0,
           2,
           0,
           0,
           0,
           0,
           2,
           0,
           2,
           1,
           2,
           2,
           0,
           1,
           1,
           1,
           2,
           0,
           1,
           1,
           0,
           0,
           2,
           2,
           0,
           0,
           1,
           0,
           0,
           2,
           1,
           2,
           2,
           0,
           1,
           2,
           2,
           2,
           0,
           0,
           1,
           0,
           0,
           2,
           1,
           2,
           2,
           0,
           1,
           0,
           2,
           1,
           0,
           2,
           2,
           0,
           1,
           1,
           1,
           0,
           0,
           2,
           0,
           0,
           0,
           0,
           2,
           0,
           2,
           0,
           0,
           0,
           1,
           0,
           0,
           0,
           1,
           2,
           0,
           1,
           1,
           1,
           2,
           0,
           0,
           0,
           1,
           0,
           0,
           2,
           0,
           2,
           0,
           1,
           1,
           0,
           2,
           0,
           1,
           0,
           1,
           0,
           1,
           0,
           2,
           0,
           0,
           2,
           0,
           2,
           0,
           1,
           1,
           1,
           0,
           2,
           1,
           0,
           1,
           1,
           2,
           2,
           0,
           0,
           0,
           2,
           1,
           1,
           0,
           2,
           2,
           1,
           2,
           1,
           1,
           0,
           0,
           1,
           0,
           1,
           1,
           2,
           1,
           1,
           2,
           1,
           0,
           2
          ],
          "coloraxis": "coloraxis",
          "symbol": "circle"
         },
         "mode": "markers",
         "name": "",
         "orientation": "v",
         "showlegend": false,
         "type": "scatter",
         "x": [
          12,
          9,
          17,
          15,
          15,
          16,
          13,
          16,
          17,
          13,
          11,
          14,
          15,
          15,
          12,
          10,
          15,
          14,
          12,
          14,
          16,
          17,
          17,
          19,
          18,
          18,
          10,
          11,
          13,
          13,
          13,
          16,
          14,
          13,
          4,
          12,
          15,
          16,
          17,
          10,
          9,
          15,
          17,
          17,
          17,
          16,
          12,
          11,
          17,
          10,
          13,
          8,
          12,
          15,
          15,
          12,
          16,
          12,
          16,
          16,
          10,
          17,
          15,
          16,
          12,
          10,
          6,
          14,
          12,
          15,
          13,
          15,
          14,
          10,
          14,
          9,
          11,
          13,
          15,
          14,
          9,
          13,
          13,
          18,
          18,
          17,
          13,
          12,
          16,
          13,
          16,
          15,
          19,
          16,
          16,
          18,
          16,
          3,
          9,
          14,
          13,
          17,
          14,
          12,
          17,
          13,
          14,
          4,
          16,
          12,
          11,
          16,
          15,
          13,
          14,
          13,
          9,
          18,
          13,
          11,
          14,
          14,
          13,
          19,
          18,
          15,
          17,
          11,
          7,
          15,
          12,
          18,
          12,
          14,
          18,
          14,
          17,
          16,
          9,
          9,
          15,
          12,
          13,
          14,
          13,
          7,
          9,
          14,
          2,
          14,
          18,
          14,
          17,
          15,
          13,
          14,
          9,
          11,
          13,
          6,
          13,
          15,
          8,
          16,
          16,
          7,
          13,
          7,
          16,
          13,
          15,
          13,
          12,
          14,
          20,
          19,
          3,
          16,
          15,
          17,
          16,
          11,
          18,
          18,
          19,
          17,
          10,
          16,
          3,
          17,
          16,
          11,
          19,
          16,
          16,
          16,
          14,
          17,
          14,
          18,
          13,
          14,
          14,
          14,
          10,
          15,
          12,
          12,
          17,
          21,
          14,
          16,
          13,
          12,
          17,
          13,
          15,
          13,
          18,
          14,
          15,
          15,
          18,
          17,
          14,
          15,
          13,
          11,
          13,
          8,
          16,
          16,
          15,
          11,
          14,
          17,
          7,
          15,
          11,
          18,
          13,
          19,
          10,
          18,
          13,
          15,
          13,
          17,
          15,
          14,
          15,
          15,
          15,
          15,
          12,
          14,
          14,
          14,
          8,
          14,
          12,
          15,
          10,
          15,
          15,
          14,
          14,
          11,
          12,
          13,
          11,
          16,
          12,
          11,
          17,
          14,
          8,
          13,
          17,
          18,
          14,
          12,
          13,
          13,
          6,
          10,
          8,
          12,
          17,
          15,
          16,
          14,
          11,
          13,
          18,
          10,
          9,
          18,
          10,
          15,
          15,
          15,
          6,
          16,
          13,
          14,
          15,
          15,
          12,
          14,
          11,
          18,
          15,
          13,
          14,
          14,
          14,
          18,
          13,
          15,
          14,
          20,
          18,
          9,
          14,
          16,
          18,
          13,
          10,
          14,
          8,
          12,
          12,
          8,
          15,
          15,
          17,
          11,
          17,
          3,
          11,
          15,
          11,
          10,
          17,
          9,
          12,
          12,
          17,
          14,
          17,
          12,
          16,
          17,
          12,
          14,
          14,
          18,
          15,
          13,
          15,
          17,
          2,
          17,
          16,
          13,
          16,
          14,
          9,
          15,
          10,
          17,
          15,
          10,
          11,
          10,
          16,
          12,
          14,
          14,
          15,
          17,
          12,
          15,
          19,
          16,
          19,
          15,
          14,
          14,
          10,
          12,
          13,
          15,
          17,
          17,
          13,
          11,
          9,
          16,
          19,
          15,
          10,
          16,
          12,
          12,
          14,
          12,
          14,
          16,
          14,
          10,
          17,
          14,
          13,
          11,
          10,
          16,
          14,
          12,
          15,
          18,
          13,
          15,
          13,
          16,
          13,
          17,
          5,
          13,
          14,
          14,
          5,
          15,
          13,
          15,
          18,
          14,
          12,
          14,
          15,
          13,
          13,
          14,
          15,
          14,
          13,
          14,
          17,
          13,
          16,
          12,
          12,
          12,
          15,
          14,
          17,
          18,
          17,
          13,
          17,
          11,
          8,
          12,
          15,
          11,
          15,
          15,
          15,
          15,
          16,
          11,
          14,
          9,
          14,
          13,
          15,
          18,
          12,
          14,
          17,
          8,
          14,
          13,
          18,
          9,
          15,
          14,
          13,
          14,
          11,
          14,
          15,
          20,
          14,
          17,
          9,
          10,
          12,
          13
         ],
         "xaxis": "x",
         "y": [
          713109.95,
          790714.38,
          1197239.33,
          449185.78,
          1006373.16,
          1629562.41,
          771179.95,
          707837.61,
          888983.66,
          1098512.64,
          695548.78,
          556632.55,
          800123.32,
          1544423.2,
          1058543.63,
          783081.11,
          566156.05,
          1047680.24,
          836793.37,
          1072955.49,
          1125089.99,
          1424196.41,
          1376884.23,
          1240936.73,
          947515.95,
          1237763.98,
          1181642.63,
          782097.18,
          111926.48,
          489936.94,
          1164187.89,
          1418374.5,
          1325421.71,
          445704.4,
          958656.71,
          1207754.02,
          1258551.12,
          1051870.82,
          1116791.99,
          944040.44,
          878314.15,
          645734.68,
          1197770.02,
          619332.74,
          973809.28,
          1055849.89,
          743078.06,
          853682.38,
          1188462.86,
          1922245.53,
          854257.82,
          296714.92,
          1398126.07,
          1366079.54,
          615848.03,
          95680.54,
          588181.56,
          2263343.91,
          992946.81,
          990270.34,
          899158.38,
          969864.84,
          866778.96,
          1523849.47,
          842146.63,
          431140.66,
          1102025.65,
          837639.72,
          1539172.91,
          662659.12,
          873208.52,
          1191112.82,
          936929.11,
          653645.84,
          914998.87,
          931561.93,
          1489753.71,
          389151.32,
          734331.53,
          1195418.56,
          1077111.04,
          1098366.38,
          1578288.81,
          903521.24,
          1293348.75,
          559870.94,
          1378891.79,
          1124033.51,
          1239188.62,
          241891.6,
          226715.57,
          316147.85,
          983027.55,
          1081112.62,
          1351509.91,
          705494.09,
          1616152.72,
          121410.81,
          1379112.59,
          371592.27,
          1005847.92,
          909973.14,
          717966.54,
          1079558.76,
          348577.69,
          1419109.8,
          785108.04,
          2083352.96,
          705535.84,
          1102257.75,
          184770.26,
          1146243.42,
          1706382.47,
          1932443.78,
          1443795.53,
          1388175.16,
          1033935.28,
          1506130.56,
          971873.18,
          1231155.45,
          856263.52,
          789695.82,
          617845.52,
          997025.99,
          993329.43,
          1439742.37,
          1083390.19,
          763290.3,
          1132167.53,
          1404262.26,
          833741.24,
          833486.37,
          949003.35,
          1383614.28,
          603109.29,
          810709.96,
          735388.51,
          1574289.73,
          1589880.1,
          993467.4,
          863881.59,
          332979.68,
          831586.64,
          18421.22,
          823011.86,
          643092.4,
          958451.91,
          1841715.96,
          1114979.28,
          843237.64,
          853807.58,
          1267527.12,
          722272.13,
          580396.98,
          1153343.69,
          1243667.61,
          1655885.31,
          1563607.42,
          1404873.5,
          723535.75,
          1276078.67,
          810805.33,
          1555042.97,
          1142214.41,
          1272544.7,
          983440.97,
          103994.8,
          1236114.44,
          1565259.29,
          909928.51,
          1518495.54,
          1353384.97,
          1050126.53,
          1094043.53,
          1078181.16,
          1480465.17,
          267812.36,
          1754666.01,
          1070918.51,
          334835.36,
          1290549.96,
          1363863.52,
          834438.57,
          1301428.04,
          148061.36,
          850020.42,
          650241.43,
          494926.48,
          1057767.62,
          627273.65,
          665358.48,
          740201.08,
          991762.16,
          1230575.08,
          174738.56,
          1407737.12,
          1376121.85,
          763143.44,
          1009984.8,
          965508.49,
          1118393.81,
          1094810.2,
          1093585.71,
          1248640.73,
          1475870,
          564348.59,
          768322.67,
          1032819.03,
          816484.64,
          535199.75,
          743926.38,
          852074.86,
          1194723.4,
          849942.63,
          1330082.14,
          861194.33,
          312067.61,
          554967.95,
          608858.82,
          271560.28,
          1171807.82,
          1063111.93,
          726828.81,
          864076.14,
          1134311.38,
          1220385.54,
          988495.51,
          769054.24,
          1027960.98,
          1063262.79,
          910568.59,
          1716130.92,
          1230763.9,
          1014070.01,
          989109.67,
          531384.99,
          84497.94,
          1385339.46,
          1009392.87,
          787481.84,
          679053.92,
          1100001.65,
          2390677.22,
          977980.47,
          598717.71,
          1025701.64,
          788278.22,
          64711.22,
          1570819.07,
          1993908.63,
          785668.64,
          1258737.22,
          1320450.27,
          911615.28,
          533072.17,
          659624.71,
          1367765.95,
          1370699.52,
          757658.35,
          1286670.98,
          1650111.3,
          803823.34,
          1133686.14,
          1016606.48,
          1209830.96,
          768946.51,
          1236870.36,
          1373604.43,
          791201.94,
          470253.72,
          1244020.43,
          323593.53,
          839638.4,
          1460403.03,
          1255764.84,
          915799.22,
          1541762.74,
          429688.53,
          800004.44,
          1017325.17,
          60516.83,
          1207098.74,
          791704.75,
          1655693.05,
          1281521.01,
          1902144.56,
          853723.67,
          1344366.16,
          884940.1,
          625599.74,
          908289.25,
          1032183.53,
          2107306.42,
          481595.99,
          663326.41,
          1588245.25,
          921770.07,
          163682.26,
          1247176.41,
          1212901.4,
          851080.66,
          942883.08,
          1707923.52,
          1177227.98,
          499441.3,
          1395925.1,
          1456142.58,
          693629.48,
          1209549.81,
          1713025.38,
          1292741.18,
          911521.72,
          1094337.38,
          880090.72,
          1015654.17,
          1398871.6,
          1327130.38,
          1129203.5,
          941612.29,
          854382.67,
          1318621.28,
          1458066.67,
          1728544.72,
          1161568.8,
          780121.59,
          1298316.46,
          1337880.08,
          231562.65,
          823374.93,
          356229.62,
          1532181.14,
          1006625.13,
          1104801.34,
          722920.8,
          734238.96,
          805436.7,
          1647453.28,
          898610.61,
          626629.6,
          1794352.93,
          1043981.61,
          665572.04,
          932845.17,
          1569380.97,
          1216938.1,
          1093042.03,
          1348626.67,
          203045.12,
          602393.66,
          1010038.24,
          929711.04,
          1116387.07,
          1683711.93,
          626776.88,
          1219653.63,
          1314583.32,
          1535533.76,
          1936486.41,
          1382271.23,
          1238547.54,
          944765.54,
          1057982.09,
          1046845.34,
          333127.92,
          1189103.92,
          1003981.55,
          629572.6,
          753664.57,
          549149.57,
          1288325.43,
          928727.24,
          1843761.24,
          244825,
          656377.77,
          1574626.03,
          1439950.65,
          721463.53,
          1436673,
          841346.81,
          1485834.15,
          1459878,
          1349860.72,
          1952250.45,
          1027285.87,
          1053130.05,
          990690.47,
          1118793.07,
          1902367.98,
          981440.96,
          506672.67,
          1735063.39,
          686102.63,
          715243.69,
          1193834.4,
          1743573.32,
          1167501.7,
          989883.92,
          1058929.85,
          673865.11,
          591593.3,
          916748.4,
          1694996.88,
          550053.3,
          1195575.01,
          1867234.3,
          1077943.15,
          1228736.22,
          1003381.76,
          603305.03,
          1220941.7,
          545859.25,
          1124754.89,
          1167866.74,
          1362343.3,
          1103149.26,
          743480.47,
          434194.11,
          479869.9,
          1071831.13,
          593531.52,
          1492116.94,
          658580.22,
          869605.13,
          879688.87,
          725022.65,
          1316076.16,
          1056532.62,
          836973.51,
          79015.03,
          1780802.99,
          1328577.86,
          435489.53,
          844782.42,
          1298004.31,
          1662826.01,
          970959.21,
          869638.69,
          1009839.03,
          1021085.99,
          1239494.05,
          1536684.3,
          1068322.53,
          983540.2,
          880695.38,
          119950.58,
          1346978.95,
          1752009.96,
          1061121.78,
          1358513.26,
          254263.2,
          475032.23,
          1330014.86,
          1042344.43,
          429809.37,
          1198949.59,
          1024828.18,
          1878689.05,
          1635893.76,
          1147381.02,
          1155825.73,
          1295183.25,
          654953.48,
          1130027.72,
          25576.28,
          1227045.41,
          805517.39,
          1169132.47,
          1109076.58,
          695368.23,
          1355673.25,
          809933.42,
          1229181.97,
          1693342.51,
          618250.8,
          811781.56,
          745302.32,
          1052598.3,
          1103740.65,
          1810013.45,
          1334308.97,
          1425718.91,
          1662467.08,
          1681458.49,
          1509385.85,
          1533062.06,
          786224.94,
          445571.87,
          505124.91,
          2006688.81,
          416429.3,
          215580.61,
          1050776.57,
          785671.05,
          658330.45,
          1643153.26,
          1581841.42,
          1291309.57,
          2211489.85,
          1460860.46,
          173684.43
         ],
         "yaxis": "y"
        }
       ],
       "layout": {
        "coloraxis": {
         "colorbar": {
          "title": {
           "text": "cluster"
          }
         },
         "colorscale": [
          [
           0,
           "#0d0887"
          ],
          [
           0.1111111111111111,
           "#46039f"
          ],
          [
           0.2222222222222222,
           "#7201a8"
          ],
          [
           0.3333333333333333,
           "#9c179e"
          ],
          [
           0.4444444444444444,
           "#bd3786"
          ],
          [
           0.5555555555555556,
           "#d8576b"
          ],
          [
           0.6666666666666666,
           "#ed7953"
          ],
          [
           0.7777777777777778,
           "#fb9f3a"
          ],
          [
           0.8888888888888888,
           "#fdca26"
          ],
          [
           1,
           "#f0f921"
          ]
         ]
        },
        "legend": {
         "tracegroupgap": 0
        },
        "template": {
         "data": {
          "bar": [
           {
            "error_x": {
             "color": "#2a3f5f"
            },
            "error_y": {
             "color": "#2a3f5f"
            },
            "marker": {
             "line": {
              "color": "#E5ECF6",
              "width": 0.5
             },
             "pattern": {
              "fillmode": "overlay",
              "size": 10,
              "solidity": 0.2
             }
            },
            "type": "bar"
           }
          ],
          "barpolar": [
           {
            "marker": {
             "line": {
              "color": "#E5ECF6",
              "width": 0.5
             },
             "pattern": {
              "fillmode": "overlay",
              "size": 10,
              "solidity": 0.2
             }
            },
            "type": "barpolar"
           }
          ],
          "carpet": [
           {
            "aaxis": {
             "endlinecolor": "#2a3f5f",
             "gridcolor": "white",
             "linecolor": "white",
             "minorgridcolor": "white",
             "startlinecolor": "#2a3f5f"
            },
            "baxis": {
             "endlinecolor": "#2a3f5f",
             "gridcolor": "white",
             "linecolor": "white",
             "minorgridcolor": "white",
             "startlinecolor": "#2a3f5f"
            },
            "type": "carpet"
           }
          ],
          "choropleth": [
           {
            "colorbar": {
             "outlinewidth": 0,
             "ticks": ""
            },
            "type": "choropleth"
           }
          ],
          "contour": [
           {
            "colorbar": {
             "outlinewidth": 0,
             "ticks": ""
            },
            "colorscale": [
             [
              0,
              "#0d0887"
             ],
             [
              0.1111111111111111,
              "#46039f"
             ],
             [
              0.2222222222222222,
              "#7201a8"
             ],
             [
              0.3333333333333333,
              "#9c179e"
             ],
             [
              0.4444444444444444,
              "#bd3786"
             ],
             [
              0.5555555555555556,
              "#d8576b"
             ],
             [
              0.6666666666666666,
              "#ed7953"
             ],
             [
              0.7777777777777778,
              "#fb9f3a"
             ],
             [
              0.8888888888888888,
              "#fdca26"
             ],
             [
              1,
              "#f0f921"
             ]
            ],
            "type": "contour"
           }
          ],
          "contourcarpet": [
           {
            "colorbar": {
             "outlinewidth": 0,
             "ticks": ""
            },
            "type": "contourcarpet"
           }
          ],
          "heatmap": [
           {
            "colorbar": {
             "outlinewidth": 0,
             "ticks": ""
            },
            "colorscale": [
             [
              0,
              "#0d0887"
             ],
             [
              0.1111111111111111,
              "#46039f"
             ],
             [
              0.2222222222222222,
              "#7201a8"
             ],
             [
              0.3333333333333333,
              "#9c179e"
             ],
             [
              0.4444444444444444,
              "#bd3786"
             ],
             [
              0.5555555555555556,
              "#d8576b"
             ],
             [
              0.6666666666666666,
              "#ed7953"
             ],
             [
              0.7777777777777778,
              "#fb9f3a"
             ],
             [
              0.8888888888888888,
              "#fdca26"
             ],
             [
              1,
              "#f0f921"
             ]
            ],
            "type": "heatmap"
           }
          ],
          "heatmapgl": [
           {
            "colorbar": {
             "outlinewidth": 0,
             "ticks": ""
            },
            "colorscale": [
             [
              0,
              "#0d0887"
             ],
             [
              0.1111111111111111,
              "#46039f"
             ],
             [
              0.2222222222222222,
              "#7201a8"
             ],
             [
              0.3333333333333333,
              "#9c179e"
             ],
             [
              0.4444444444444444,
              "#bd3786"
             ],
             [
              0.5555555555555556,
              "#d8576b"
             ],
             [
              0.6666666666666666,
              "#ed7953"
             ],
             [
              0.7777777777777778,
              "#fb9f3a"
             ],
             [
              0.8888888888888888,
              "#fdca26"
             ],
             [
              1,
              "#f0f921"
             ]
            ],
            "type": "heatmapgl"
           }
          ],
          "histogram": [
           {
            "marker": {
             "pattern": {
              "fillmode": "overlay",
              "size": 10,
              "solidity": 0.2
             }
            },
            "type": "histogram"
           }
          ],
          "histogram2d": [
           {
            "colorbar": {
             "outlinewidth": 0,
             "ticks": ""
            },
            "colorscale": [
             [
              0,
              "#0d0887"
             ],
             [
              0.1111111111111111,
              "#46039f"
             ],
             [
              0.2222222222222222,
              "#7201a8"
             ],
             [
              0.3333333333333333,
              "#9c179e"
             ],
             [
              0.4444444444444444,
              "#bd3786"
             ],
             [
              0.5555555555555556,
              "#d8576b"
             ],
             [
              0.6666666666666666,
              "#ed7953"
             ],
             [
              0.7777777777777778,
              "#fb9f3a"
             ],
             [
              0.8888888888888888,
              "#fdca26"
             ],
             [
              1,
              "#f0f921"
             ]
            ],
            "type": "histogram2d"
           }
          ],
          "histogram2dcontour": [
           {
            "colorbar": {
             "outlinewidth": 0,
             "ticks": ""
            },
            "colorscale": [
             [
              0,
              "#0d0887"
             ],
             [
              0.1111111111111111,
              "#46039f"
             ],
             [
              0.2222222222222222,
              "#7201a8"
             ],
             [
              0.3333333333333333,
              "#9c179e"
             ],
             [
              0.4444444444444444,
              "#bd3786"
             ],
             [
              0.5555555555555556,
              "#d8576b"
             ],
             [
              0.6666666666666666,
              "#ed7953"
             ],
             [
              0.7777777777777778,
              "#fb9f3a"
             ],
             [
              0.8888888888888888,
              "#fdca26"
             ],
             [
              1,
              "#f0f921"
             ]
            ],
            "type": "histogram2dcontour"
           }
          ],
          "mesh3d": [
           {
            "colorbar": {
             "outlinewidth": 0,
             "ticks": ""
            },
            "type": "mesh3d"
           }
          ],
          "parcoords": [
           {
            "line": {
             "colorbar": {
              "outlinewidth": 0,
              "ticks": ""
             }
            },
            "type": "parcoords"
           }
          ],
          "pie": [
           {
            "automargin": true,
            "type": "pie"
           }
          ],
          "scatter": [
           {
            "fillpattern": {
             "fillmode": "overlay",
             "size": 10,
             "solidity": 0.2
            },
            "type": "scatter"
           }
          ],
          "scatter3d": [
           {
            "line": {
             "colorbar": {
              "outlinewidth": 0,
              "ticks": ""
             }
            },
            "marker": {
             "colorbar": {
              "outlinewidth": 0,
              "ticks": ""
             }
            },
            "type": "scatter3d"
           }
          ],
          "scattercarpet": [
           {
            "marker": {
             "colorbar": {
              "outlinewidth": 0,
              "ticks": ""
             }
            },
            "type": "scattercarpet"
           }
          ],
          "scattergeo": [
           {
            "marker": {
             "colorbar": {
              "outlinewidth": 0,
              "ticks": ""
             }
            },
            "type": "scattergeo"
           }
          ],
          "scattergl": [
           {
            "marker": {
             "colorbar": {
              "outlinewidth": 0,
              "ticks": ""
             }
            },
            "type": "scattergl"
           }
          ],
          "scattermapbox": [
           {
            "marker": {
             "colorbar": {
              "outlinewidth": 0,
              "ticks": ""
             }
            },
            "type": "scattermapbox"
           }
          ],
          "scatterpolar": [
           {
            "marker": {
             "colorbar": {
              "outlinewidth": 0,
              "ticks": ""
             }
            },
            "type": "scatterpolar"
           }
          ],
          "scatterpolargl": [
           {
            "marker": {
             "colorbar": {
              "outlinewidth": 0,
              "ticks": ""
             }
            },
            "type": "scatterpolargl"
           }
          ],
          "scatterternary": [
           {
            "marker": {
             "colorbar": {
              "outlinewidth": 0,
              "ticks": ""
             }
            },
            "type": "scatterternary"
           }
          ],
          "surface": [
           {
            "colorbar": {
             "outlinewidth": 0,
             "ticks": ""
            },
            "colorscale": [
             [
              0,
              "#0d0887"
             ],
             [
              0.1111111111111111,
              "#46039f"
             ],
             [
              0.2222222222222222,
              "#7201a8"
             ],
             [
              0.3333333333333333,
              "#9c179e"
             ],
             [
              0.4444444444444444,
              "#bd3786"
             ],
             [
              0.5555555555555556,
              "#d8576b"
             ],
             [
              0.6666666666666666,
              "#ed7953"
             ],
             [
              0.7777777777777778,
              "#fb9f3a"
             ],
             [
              0.8888888888888888,
              "#fdca26"
             ],
             [
              1,
              "#f0f921"
             ]
            ],
            "type": "surface"
           }
          ],
          "table": [
           {
            "cells": {
             "fill": {
              "color": "#EBF0F8"
             },
             "line": {
              "color": "white"
             }
            },
            "header": {
             "fill": {
              "color": "#C8D4E3"
             },
             "line": {
              "color": "white"
             }
            },
            "type": "table"
           }
          ]
         },
         "layout": {
          "annotationdefaults": {
           "arrowcolor": "#2a3f5f",
           "arrowhead": 0,
           "arrowwidth": 1
          },
          "autotypenumbers": "strict",
          "coloraxis": {
           "colorbar": {
            "outlinewidth": 0,
            "ticks": ""
           }
          },
          "colorscale": {
           "diverging": [
            [
             0,
             "#8e0152"
            ],
            [
             0.1,
             "#c51b7d"
            ],
            [
             0.2,
             "#de77ae"
            ],
            [
             0.3,
             "#f1b6da"
            ],
            [
             0.4,
             "#fde0ef"
            ],
            [
             0.5,
             "#f7f7f7"
            ],
            [
             0.6,
             "#e6f5d0"
            ],
            [
             0.7,
             "#b8e186"
            ],
            [
             0.8,
             "#7fbc41"
            ],
            [
             0.9,
             "#4d9221"
            ],
            [
             1,
             "#276419"
            ]
           ],
           "sequential": [
            [
             0,
             "#0d0887"
            ],
            [
             0.1111111111111111,
             "#46039f"
            ],
            [
             0.2222222222222222,
             "#7201a8"
            ],
            [
             0.3333333333333333,
             "#9c179e"
            ],
            [
             0.4444444444444444,
             "#bd3786"
            ],
            [
             0.5555555555555556,
             "#d8576b"
            ],
            [
             0.6666666666666666,
             "#ed7953"
            ],
            [
             0.7777777777777778,
             "#fb9f3a"
            ],
            [
             0.8888888888888888,
             "#fdca26"
            ],
            [
             1,
             "#f0f921"
            ]
           ],
           "sequentialminus": [
            [
             0,
             "#0d0887"
            ],
            [
             0.1111111111111111,
             "#46039f"
            ],
            [
             0.2222222222222222,
             "#7201a8"
            ],
            [
             0.3333333333333333,
             "#9c179e"
            ],
            [
             0.4444444444444444,
             "#bd3786"
            ],
            [
             0.5555555555555556,
             "#d8576b"
            ],
            [
             0.6666666666666666,
             "#ed7953"
            ],
            [
             0.7777777777777778,
             "#fb9f3a"
            ],
            [
             0.8888888888888888,
             "#fdca26"
            ],
            [
             1,
             "#f0f921"
            ]
           ]
          },
          "colorway": [
           "#636efa",
           "#EF553B",
           "#00cc96",
           "#ab63fa",
           "#FFA15A",
           "#19d3f3",
           "#FF6692",
           "#B6E880",
           "#FF97FF",
           "#FECB52"
          ],
          "font": {
           "color": "#2a3f5f"
          },
          "geo": {
           "bgcolor": "white",
           "lakecolor": "white",
           "landcolor": "#E5ECF6",
           "showlakes": true,
           "showland": true,
           "subunitcolor": "white"
          },
          "hoverlabel": {
           "align": "left"
          },
          "hovermode": "closest",
          "mapbox": {
           "style": "light"
          },
          "paper_bgcolor": "white",
          "plot_bgcolor": "#E5ECF6",
          "polar": {
           "angularaxis": {
            "gridcolor": "white",
            "linecolor": "white",
            "ticks": ""
           },
           "bgcolor": "#E5ECF6",
           "radialaxis": {
            "gridcolor": "white",
            "linecolor": "white",
            "ticks": ""
           }
          },
          "scene": {
           "xaxis": {
            "backgroundcolor": "#E5ECF6",
            "gridcolor": "white",
            "gridwidth": 2,
            "linecolor": "white",
            "showbackground": true,
            "ticks": "",
            "zerolinecolor": "white"
           },
           "yaxis": {
            "backgroundcolor": "#E5ECF6",
            "gridcolor": "white",
            "gridwidth": 2,
            "linecolor": "white",
            "showbackground": true,
            "ticks": "",
            "zerolinecolor": "white"
           },
           "zaxis": {
            "backgroundcolor": "#E5ECF6",
            "gridcolor": "white",
            "gridwidth": 2,
            "linecolor": "white",
            "showbackground": true,
            "ticks": "",
            "zerolinecolor": "white"
           }
          },
          "shapedefaults": {
           "line": {
            "color": "#2a3f5f"
           }
          },
          "ternary": {
           "aaxis": {
            "gridcolor": "white",
            "linecolor": "white",
            "ticks": ""
           },
           "baxis": {
            "gridcolor": "white",
            "linecolor": "white",
            "ticks": ""
           },
           "bgcolor": "#E5ECF6",
           "caxis": {
            "gridcolor": "white",
            "linecolor": "white",
            "ticks": ""
           }
          },
          "title": {
           "x": 0.05
          },
          "xaxis": {
           "automargin": true,
           "gridcolor": "white",
           "linecolor": "white",
           "ticks": "",
           "title": {
            "standoff": 15
           },
           "zerolinecolor": "white",
           "zerolinewidth": 2
          },
          "yaxis": {
           "automargin": true,
           "gridcolor": "white",
           "linecolor": "white",
           "ticks": "",
           "title": {
            "standoff": 15
           },
           "zerolinecolor": "white",
           "zerolinewidth": 2
          }
         }
        },
        "title": {
         "text": "Numéro de funcionários vs. Faturamento Mensal por Cluster"
        },
        "xaxis": {
         "anchor": "y",
         "domain": [
          0,
          1
         ],
         "title": {
          "text": "Numéro de funcionários"
         }
        },
        "yaxis": {
         "anchor": "x",
         "domain": [
          0,
          1
         ],
         "title": {
          "text": "Faturamento Mensal"
         }
        }
       }
      }
     },
     "metadata": {},
     "output_type": "display_data"
    }
   ],
   "source": [
    "# Plot \"inovacao\" and \"faturamento_mensal\" by cluster\n",
    "px.scatter(\n",
    "    df,\n",
    "    x=\"numero_de_funcionarios\",\n",
    "    y=\"faturamento_mensal\",\n",
    "    color=\"cluster\",\n",
    "    title=\"Numéro de funcionários vs. Faturamento Mensal por Cluster\",\n",
    "    labels={\n",
    "        \"numero_de_funcionarios\": \"Numéro de funcionários\",\n",
    "        \"faturamento_mensal\": \"Faturamento Mensal\",\n",
    "    },\n",
    ")"
   ]
  },
  {
   "cell_type": "markdown",
   "metadata": {},
   "source": [
    "## Saving the model\n"
   ]
  },
  {
   "cell_type": "code",
   "execution_count": 16,
   "metadata": {},
   "outputs": [
    {
     "data": {
      "text/plain": [
       "['models/clients_clustering_pipeline.pkl']"
      ]
     },
     "execution_count": 16,
     "metadata": {},
     "output_type": "execute_result"
    }
   ],
   "source": [
    "import joblib\n",
    "import os\n",
    "\n",
    "os.makedirs(\"models\", exist_ok=True)\n",
    "joblib.dump(model, \"models/clients_clustering_model.pkl\")\n",
    "joblib.dump(preprocessor, \"models/clients_clustering_pipeline.pkl\")"
   ]
  },
  {
   "cell_type": "markdown",
   "metadata": {},
   "source": [
    "## Batch application with Gradio\n"
   ]
  },
  {
   "cell_type": "code",
   "execution_count": 17,
   "metadata": {},
   "outputs": [],
   "source": [
    "import gradio as gr\n",
    "\n",
    "model = joblib.load(\"models/clients_clustering_model.pkl\")\n",
    "preprocessor = joblib.load(\"models/clients_clustering_pipeline.pkl\")\n",
    "\n",
    "\n",
    "def predict_cluster(file):\n",
    "    df = pd.read_csv(file.name)\n",
    "\n",
    "    # Apply transformations to the data\n",
    "    X_transformed = preprocessor.transform(df)\n",
    "\n",
    "    # Predict the clusters\n",
    "    df[\"cluster\"] = model.predict(X_transformed)\n",
    "    df.to_csv(\"./clusters.csv\", index=False)\n",
    "\n",
    "    return \"./clusters.csv\""
   ]
  },
  {
   "cell_type": "code",
   "execution_count": 18,
   "metadata": {},
   "outputs": [
    {
     "name": "stdout",
     "output_type": "stream",
     "text": [
      "Running on local URL:  http://127.0.0.1:7860\n",
      "\n",
      "To create a public link, set `share=True` in `launch()`.\n"
     ]
    },
    {
     "data": {
      "text/html": [
       "<div><iframe src=\"http://127.0.0.1:7860/\" width=\"100%\" height=\"500\" allow=\"autoplay; camera; microphone; clipboard-read; clipboard-write;\" frameborder=\"0\" allowfullscreen></iframe></div>"
      ],
      "text/plain": [
       "<IPython.core.display.HTML object>"
      ]
     },
     "metadata": {},
     "output_type": "display_data"
    },
    {
     "data": {
      "text/plain": []
     },
     "execution_count": 18,
     "metadata": {},
     "output_type": "execute_result"
    }
   ],
   "source": [
    "app = gr.Interface(\n",
    "    fn=predict_cluster,\n",
    "    inputs=\"file\",\n",
    "    outputs=\"file\",\n",
    "    title=\"Client Clustering\",\n",
    "    description=\"This app predicts the cluster of clients based on their features.\",\n",
    ")\n",
    "\n",
    "app.launch()"
   ]
  }
 ],
 "metadata": {
  "kernelspec": {
   "display_name": "Python 3",
   "language": "python",
   "name": "python3"
  },
  "language_info": {
   "codemirror_mode": {
    "name": "ipython",
    "version": 3
   },
   "file_extension": ".py",
   "mimetype": "text/x-python",
   "name": "python",
   "nbconvert_exporter": "python",
   "pygments_lexer": "ipython3",
   "version": "3.11.9"
  }
 },
 "nbformat": 4,
 "nbformat_minor": 2
}
